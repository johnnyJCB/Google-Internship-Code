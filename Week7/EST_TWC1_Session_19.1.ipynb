{
  "nbformat": 4,
  "nbformat_minor": 0,
  "metadata": {
    "colab": {
      "provenance": []
    },
    "kernelspec": {
      "name": "python3",
      "display_name": "Python 3"
    },
    "language_info": {
      "name": "python"
    }
  },
  "cells": [
    {
      "cell_type": "markdown",
      "source": [
        "**Objective**\n",
        "\n",
        "At the end of this session sucessful students will be able to:\n",
        "\n",
        "    * understand lambda functions, list comprehensions\n",
        "\n",
        "**Coverage**\n",
        "\n",
        "    * lambda functions\n",
        "    * list comprehensions\n",
        "    * Euler 01\n",
        "    "
      ],
      "metadata": {
        "id": "hTxA6LqzyBQw"
      }
    },
    {
      "cell_type": "code",
      "source": [
        "list(enumerate(\"hello\"))"
      ],
      "metadata": {
        "id": "rpt6Vc5HGfGr",
        "colab": {
          "base_uri": "https://localhost:8080/"
        },
        "outputId": "d61817b7-a2ab-4275-bab4-66e78f30b86c"
      },
      "execution_count": null,
      "outputs": [
        {
          "output_type": "execute_result",
          "data": {
            "text/plain": [
              "[(0, 'h'), (1, 'e'), (2, 'l'), (3, 'l'), (4, 'o')]"
            ]
          },
          "metadata": {},
          "execution_count": 2
        }
      ]
    },
    {
      "cell_type": "code",
      "source": [
        "nums = [1, 2, 3, 4, 5]\n",
        "print(list(map(lambda x: x ** 3, nums)))"
      ],
      "metadata": {
        "colab": {
          "base_uri": "https://localhost:8080/"
        },
        "id": "VcsvV12Db1SM",
        "outputId": "47367b4b-3e6a-47aa-fb4b-9262f91194a3"
      },
      "execution_count": null,
      "outputs": [
        {
          "output_type": "stream",
          "name": "stdout",
          "text": [
            "[1, 8, 27, 64, 125]\n"
          ]
        }
      ]
    },
    {
      "cell_type": "code",
      "source": [
        "nums = [1, 2, 3, 4, 5]\n",
        "\n",
        "def cubed(x: int) -> int:\n",
        "    return x ** 3\n",
        "\n",
        "print(list(map(cubed, nums)))"
      ],
      "metadata": {
        "id": "NlISkD_ycGKd"
      },
      "execution_count": null,
      "outputs": []
    },
    {
      "cell_type": "code",
      "source": [
        "# What is the output?\n",
        "my_list = [18, -3, 5, 0, -1, 12]\n",
        "new_list = list(filter(lambda x: x > 0, my_list))\n",
        "print(new_list)"
      ],
      "metadata": {
        "colab": {
          "base_uri": "https://localhost:8080/"
        },
        "id": "Z3asTv0mcc3Q",
        "outputId": "aba496a4-a015-440b-fe1e-6aa25fc520b5"
      },
      "execution_count": null,
      "outputs": [
        {
          "output_type": "stream",
          "name": "stdout",
          "text": [
            "[18, 5, 12]\n"
          ]
        }
      ]
    },
    {
      "cell_type": "code",
      "source": [
        "my_list = [18, -3, 5, 0, -1, 12]\n",
        "\n",
        "def is_positive(x: int) -> bool:\n",
        "    return x > 0\n",
        "\n",
        "new_list = list(filter(is_positive, my_list))\n",
        "print(new_list)"
      ],
      "metadata": {
        "id": "KQ85t41RcskI"
      },
      "execution_count": null,
      "outputs": []
    },
    {
      "cell_type": "markdown",
      "source": [
        "**Lambda functions** also known as anonymous functions\n",
        "\n",
        "            lambda arguments: expression\n",
        "               "
      ],
      "metadata": {
        "id": "-FPxS8nC2UgS"
      }
    },
    {
      "cell_type": "code",
      "source": [],
      "metadata": {
        "id": "EV8kW7ACGfph"
      },
      "execution_count": null,
      "outputs": []
    },
    {
      "cell_type": "markdown",
      "source": [
        "**List Comprehension**\n",
        "\n",
        "    - newlist = [expression for item in iterable if condition == True]"
      ],
      "metadata": {
        "id": "6u_EUB5MybIg"
      }
    },
    {
      "cell_type": "code",
      "source": [
        "nums = [1, 2, 3]\n",
        "\n",
        "def get_cubes(nums: list[int]) -> list[int]:\n",
        "    cube_nums = []\n",
        "    for num in nums:\n",
        "        cube_nums.append(num ** 3)\n",
        "    return cube_nums\n",
        "\n",
        "cubed_nums = get_cubes(nums)\n",
        "\n",
        "print(cubed_nums)"
      ],
      "metadata": {
        "id": "pEAqx607GgNc",
        "colab": {
          "base_uri": "https://localhost:8080/"
        },
        "outputId": "e95c0ef4-260b-415f-bccb-fe872d3131c4"
      },
      "execution_count": null,
      "outputs": [
        {
          "output_type": "stream",
          "name": "stdout",
          "text": [
            "[1, 8, 27]\n"
          ]
        }
      ]
    },
    {
      "cell_type": "code",
      "source": [
        "nums = [1, 2, 3]\n",
        "cubed_nums = [num ** 3 for num in nums]\n",
        "\n",
        "print(cubed_nums)"
      ],
      "metadata": {
        "colab": {
          "base_uri": "https://localhost:8080/"
        },
        "id": "sP4CPVDJepZI",
        "outputId": "ebbd0fee-fb6d-4561-cea2-118e15eef104"
      },
      "execution_count": null,
      "outputs": [
        {
          "output_type": "stream",
          "name": "stdout",
          "text": [
            "[1, 8, 27]\n"
          ]
        }
      ]
    },
    {
      "cell_type": "code",
      "source": [
        "# you can also make generators\n",
        "# DON'T NEED TO WORRY ABOUT THIS YET\n",
        "\n",
        "cubed_tuple = (num ** 3 for num in nums)\n",
        "print(tuple(cubed_tuple))"
      ],
      "metadata": {
        "colab": {
          "base_uri": "https://localhost:8080/"
        },
        "id": "JW9qhugNfGLZ",
        "outputId": "40a9f6f1-8c69-4062-8ba9-c786d13c6df2"
      },
      "execution_count": null,
      "outputs": [
        {
          "output_type": "stream",
          "name": "stdout",
          "text": [
            "(1, 8, 27)\n"
          ]
        }
      ]
    },
    {
      "cell_type": "code",
      "source": [
        "my_string = \"TechWise is super cool\"\n",
        "my_list = [char for char in my_string if char in \"aeiouAEIOU\"]\n",
        "print(my_list)"
      ],
      "metadata": {
        "colab": {
          "base_uri": "https://localhost:8080/"
        },
        "id": "bMjl56LCgjAx",
        "outputId": "f086f3dc-5126-4e58-a8d2-c24653300eba"
      },
      "execution_count": null,
      "outputs": [
        {
          "output_type": "stream",
          "name": "stdout",
          "text": [
            "['e', 'i', 'e', 'i', 'u', 'e', 'o', 'o']\n"
          ]
        }
      ]
    },
    {
      "cell_type": "code",
      "source": [
        "my_string = \"TechWise is super cool\"\n",
        "my_vowels_capitalized = [char.upper().lower for char in my_string if char in \"aeiouAEIOU\"]\n",
        "print(my_vowels_capitalized)"
      ],
      "metadata": {
        "colab": {
          "base_uri": "https://localhost:8080/"
        },
        "id": "7HhsCkQUhcU-",
        "outputId": "8bef40cd-90a5-4334-ef1b-618d2e7abd69"
      },
      "execution_count": null,
      "outputs": [
        {
          "output_type": "stream",
          "name": "stdout",
          "text": [
            "['e', 'i', 'e', 'i', 'u', 'e', 'o', 'o']\n"
          ]
        }
      ]
    },
    {
      "cell_type": "code",
      "source": [
        "my_string = \"TechWise is super cool\"\n",
        "my_vowels_count = len([char.upper().lower for char in my_string if char in \"aeiouAEIOU\"])\n",
        "print(my_vowels_count)"
      ],
      "metadata": {
        "colab": {
          "base_uri": "https://localhost:8080/"
        },
        "id": "lpXu77t1iKIn",
        "outputId": "44ecd522-b2f7-4bcd-8c35-4a07d64d4420"
      },
      "execution_count": null,
      "outputs": [
        {
          "output_type": "stream",
          "name": "stdout",
          "text": [
            "8\n"
          ]
        }
      ]
    },
    {
      "cell_type": "code",
      "source": [
        "#Guess the output\n",
        "numbers = [1, 4, 9, 16, 25, 36, 49, 64, 81, 100]\n",
        "[num for num in numbers if num % 2 == 0]"
      ],
      "metadata": {
        "colab": {
          "base_uri": "https://localhost:8080/"
        },
        "id": "hIs_m-reicqw",
        "outputId": "0ee12189-e1c1-493c-c409-04e3b6c7ac94"
      },
      "execution_count": null,
      "outputs": [
        {
          "output_type": "execute_result",
          "data": {
            "text/plain": [
              "[4, 16, 36, 64, 100]"
            ]
          },
          "metadata": {},
          "execution_count": 16
        }
      ]
    },
    {
      "cell_type": "code",
      "source": [
        "#Guess the output\n",
        "l=[[1 ,2, 3], [4, 5, 6], [7, 8, 9]]\n",
        "[[row[i] for row in l] for i in range(3)]"
      ],
      "metadata": {
        "colab": {
          "base_uri": "https://localhost:8080/"
        },
        "id": "8CgD4LpXik-Z",
        "outputId": "a340d6c5-37ee-4e27-b134-48a07f4e6aa0"
      },
      "execution_count": null,
      "outputs": [
        {
          "output_type": "execute_result",
          "data": {
            "text/plain": [
              "[[1, 4, 7], [2, 5, 8], [3, 6, 9]]"
            ]
          },
          "metadata": {},
          "execution_count": 17
        }
      ]
    },
    {
      "cell_type": "markdown",
      "source": [
        "#Problem Statement 01\n",
        "\n",
        "Euler 01\n",
        "\n",
        "If we list all the natural numbers below 10 that are multiples of 3 or 5, we get 3, 5, 6 and 9. The sum of these multiples is 23.\n",
        "Write a program that finds the sum of all the multiples of 3 or 5 below 1000."
      ],
      "metadata": {
        "id": "D9YzkEyWsdJ9"
      }
    },
    {
      "cell_type": "code",
      "source": [
        "### Using filter with lambda\n",
        "LIMIT = 1000\n",
        "sum(filter(lambda x: x % 3 == 0 or x % 5 == 0, range(LIMIT)))"
      ],
      "metadata": {
        "colab": {
          "base_uri": "https://localhost:8080/"
        },
        "id": "Hb4_ylfCkffq",
        "outputId": "7a968b08-5c08-4307-9710-1db540a7b82b"
      },
      "execution_count": null,
      "outputs": [
        {
          "output_type": "execute_result",
          "data": {
            "text/plain": [
              "233168"
            ]
          },
          "metadata": {},
          "execution_count": 18
        }
      ]
    },
    {
      "cell_type": "code",
      "source": [
        "### Using list comprehensions\n",
        "LIMIT = 1000\n",
        "sum([x for x in range(LIMIT) if x % 3 == 0 or x % 5 == 0])"
      ],
      "metadata": {
        "colab": {
          "base_uri": "https://localhost:8080/"
        },
        "id": "mjiub4yOqf-M",
        "outputId": "2e7c9562-d7cc-4ee0-caa1-5616ebea9497"
      },
      "execution_count": null,
      "outputs": [
        {
          "output_type": "execute_result",
          "data": {
            "text/plain": [
              "233168"
            ]
          },
          "metadata": {},
          "execution_count": 19
        }
      ]
    },
    {
      "cell_type": "markdown",
      "source": [
        "#Problem Statement 02\n",
        "\n",
        "**Special Lists**\n",
        "\n",
        "A list is special if every even index contains an even number and every odd index contains an odd number. Create a function that returns True if an array is special, and False otherwise.\n",
        "\n",
        "Examples:\n",
        "\n",
        "is_special_array([2, 7, 4, 9, 6, 1, 6, 3]) ➞ True\n",
        "\n",
        "- Even indices: [2, 4, 6, 6]; Odd indices: [7, 9, 1, 3]\n",
        "\n",
        "is_special_array([2, 7, 9, 1, 6, 1, 6, 3]) ➞ False\n",
        "\n",
        "- Index 2 has an odd number 9.\n",
        "\n",
        "is_special_array([2, 7, 8, 8, 6, 1, 6, 3]) ➞ False\n",
        "\n",
        "- Index 3 has an even number 8.\n"
      ],
      "metadata": {
        "id": "Mb21zlv972yG"
      }
    },
    {
      "cell_type": "code",
      "source": [
        "def is_special_array(nums: list[int]) -> bool:\n",
        "\tfor i in range(len(nums)):\n",
        "\t\tif i % 2 != nums[i] % 2:\n",
        "\t\t\treturn False\n",
        "\treturn True"
      ],
      "metadata": {
        "id": "bMQAHcGQGdts"
      },
      "execution_count": null,
      "outputs": []
    },
    {
      "cell_type": "code",
      "source": [
        "def is_special_array(nums: list[int]) -> bool:\n",
        "\tfor i, num in enumerate(nums):\n",
        "\t\tif i % 2 != num % 2:\n",
        "\t\t\treturn False\n",
        "\treturn True"
      ],
      "metadata": {
        "id": "bSvmWLpcvcI5"
      },
      "execution_count": null,
      "outputs": []
    },
    {
      "cell_type": "code",
      "source": [
        "#Using List comprehenssions\n",
        "def is_special_array(lst):\n",
        "  return all([(i + v) % 2 == 0 for i, v in enumerate(lst)])"
      ],
      "metadata": {
        "id": "huj-YNk6vlHz"
      },
      "execution_count": null,
      "outputs": []
    },
    {
      "cell_type": "code",
      "source": [
        "def is_special_list(nums: list[int]) -> bool:\n",
        "    return nums == [nums[i] for i in range(len(nums)) if nums[i] % 2 == i % 2]"
      ],
      "metadata": {
        "id": "55BjWqXSv72z"
      },
      "execution_count": null,
      "outputs": []
    },
    {
      "cell_type": "code",
      "source": [
        "is_special_array([2, 8, 4, 9, 6, 1, 6, 3])"
      ],
      "metadata": {
        "colab": {
          "base_uri": "https://localhost:8080/"
        },
        "id": "akr_0ZeUvzm3",
        "outputId": "f82ffc12-baf5-4ce0-e260-08c8bf8f21a7"
      },
      "execution_count": null,
      "outputs": [
        {
          "output_type": "execute_result",
          "data": {
            "text/plain": [
              "False"
            ]
          },
          "metadata": {},
          "execution_count": 25
        }
      ]
    },
    {
      "cell_type": "code",
      "source": [
        "is_special_array([2, 0, 9, 9, 6, 1, 6, 3])"
      ],
      "metadata": {
        "colab": {
          "base_uri": "https://localhost:8080/"
        },
        "id": "6Uyl_HXYv3Gq",
        "outputId": "83713625-f1d9-4bf1-9711-ba3a30f56377"
      },
      "execution_count": null,
      "outputs": [
        {
          "output_type": "execute_result",
          "data": {
            "text/plain": [
              "False"
            ]
          },
          "metadata": {},
          "execution_count": 26
        }
      ]
    },
    {
      "cell_type": "code",
      "source": [
        "is_special_array([2, 3, 4, 9, 6, 1, 6, 3])"
      ],
      "metadata": {
        "colab": {
          "base_uri": "https://localhost:8080/"
        },
        "id": "7hWaVZ2rv5C4",
        "outputId": "14150978-3c4e-4234-b834-9e5a01237614"
      },
      "execution_count": null,
      "outputs": [
        {
          "output_type": "execute_result",
          "data": {
            "text/plain": [
              "True"
            ]
          },
          "metadata": {},
          "execution_count": 27
        }
      ]
    },
    {
      "cell_type": "markdown",
      "source": [
        "# Problem Statement 03\n",
        "\n",
        "Primitive Pythagorean Triples\n",
        "\n",
        "A Pythagorean triple is a set of three integer numbers that form a right triangle. The sum of the squares of the two smaller numbers should equal the square of the largest number. Given three numbers a, b and c (c being the largest):\n",
        "\n",
        "> a^2 + b^2 = c^2\n",
        "\n",
        "Furthermore, a Pythagorean triple is said to be primitive if the three numbers are pairwise coprime - that is, the greatest common prime factor between any two numbers is 1.\n",
        "\n",
        "Create a function that takes a list of three numbers (unordered) and returns True if the numbers constitute a primitive Pythagorean triple, False otherwise.\n",
        "\n",
        "Examples\n",
        "\n",
        "is_prim_pyth_triple([4, 5, 3]) ➞ True\n",
        "\n",
        "is_prim_pyth_triple([7, 12, 13]) ➞ False\n",
        "\n",
        "is_prim_pyth_triple([39, 15, 36]) ➞ False\n",
        "\n",
        "    Pythagorean triple, but not primitive.\n",
        "\n",
        "is_prim_pyth_triple([77, 36, 85]) ➞ True"
      ],
      "metadata": {
        "id": "YNuXuZnL_riF"
      }
    },
    {
      "cell_type": "code",
      "source": [
        "import math\n",
        "\n",
        "def is_prim_pyth_triple(nums: list[int]) -> bool:\n",
        "    a, b, c = sorted(nums)\n",
        "    return (a * a + b * b == c * c) and math.gcd(a, b) == 1"
      ],
      "metadata": {
        "id": "11aoYncrGc87"
      },
      "execution_count": null,
      "outputs": []
    },
    {
      "cell_type": "markdown",
      "source": [
        "# Problem Statements 04\n",
        "\n",
        "**Bigrams**\n",
        "\n",
        "You are given an input array of bigrams, and an array of words.\n",
        "\n",
        "Write a function that returns True if every single bigram from this array can be found at least once in an array of words.\n",
        "\n",
        "Examples:\n",
        "\n",
        "can_find([\"at\", \"be\", \"th\", \"au\"], [\"beautiful\", \"the\", \"hat\"]) ➞ True\n",
        "\n",
        "can_find([\"ay\", \"be\", \"ta\", \"cu\"], [\"maybe\", \"beta\", \"abet\", \"course\"]) ➞ False\n",
        "\n",
        "* \"cu\" does not exist in any of the words.\n",
        "\n",
        "can_find([\"th\", \"fo\", \"ma\", \"or\"], [\"the\", \"many\", \"for\", \"forest\"]) ➞ True\n",
        "\n",
        "can_find([\"oo\", \"mi\", \"ki\", \"la\"], [\"milk\", \"chocolate\", \"cooks\"]) ➞ False\n",
        "\n",
        "\n",
        "Note:\n",
        "\n",
        "* A bigram is string of two consecutive characters in the same word.\n",
        "\n",
        "* If the list of words is empty, return False."
      ],
      "metadata": {
        "id": "HMkwas8nCJfl"
      }
    },
    {
      "cell_type": "code",
      "source": [
        "def can_find(bigrams, words):\n",
        "  return all([any([bigram in word for word in words]) for bigram in bigrams])"
      ],
      "metadata": {
        "id": "V51deNnHGix3"
      },
      "execution_count": null,
      "outputs": []
    },
    {
      "cell_type": "code",
      "source": [
        "can_find([\"at\", \"be\", \"th\", \"au\"], [\"beautiful\", \"the\", \"hat\"])"
      ],
      "metadata": {
        "id": "Tbw1PVUNx2KP",
        "outputId": "3cba4c7e-b6cb-4425-bb47-0f9594fa376c",
        "colab": {
          "base_uri": "https://localhost:8080/"
        }
      },
      "execution_count": null,
      "outputs": [
        {
          "output_type": "execute_result",
          "data": {
            "text/plain": [
              "True"
            ]
          },
          "metadata": {},
          "execution_count": 29
        }
      ]
    },
    {
      "cell_type": "code",
      "source": [
        "can_find([\"oo\", \"mi\", \"ki\", \"la\"], [\"milk\", \"chocolate\", \"cooks\"])"
      ],
      "metadata": {
        "id": "dCeK_wLxx3vk"
      },
      "execution_count": null,
      "outputs": []
    },
    {
      "cell_type": "markdown",
      "source": [
        "#Assignment - 22 - 01\n",
        "\n",
        "## Euler Problem-2\n",
        "Each new term in the Fibonacci sequence is generated by adding the previous two terms. By starting with 1 and 2, the first 10 terms will be:\n",
        "\n",
        "1, 2, 3, 5, 8, 13, 21, 34, 55, 89, ...\n",
        "\n",
        "By considering the terms in the Fibonacci sequence whose values do not exceed four million, find the sum of the even-valued terms."
      ],
      "metadata": {
        "id": "0SICU6qeedLv"
      }
    },
    {
      "cell_type": "code",
      "execution_count": null,
      "metadata": {
        "id": "87omkhdEQ2hC"
      },
      "outputs": [],
      "source": [
        "def euler2(limit: int)-> int:\n",
        "    #Write your code here\n",
        "    return"
      ]
    },
    {
      "cell_type": "markdown",
      "source": [
        "#Assignment - 22 - 02\n",
        "\n",
        "Generate the Amstrong numbers between two given numbers.\n",
        "\n",
        "Example:\n",
        "\n",
        "make_armstrong(100, 1000) => [153, 370, 371, 407]"
      ],
      "metadata": {
        "id": "_mrroqFHhb6O"
      }
    },
    {
      "cell_type": "code",
      "source": [
        "def make_armstrong(start: int, limit: int)-> list[int]:\n",
        "    #Write your code here\n",
        "    return"
      ],
      "metadata": {
        "id": "PrUj0C28jye8"
      },
      "execution_count": null,
      "outputs": []
    },
    {
      "cell_type": "markdown",
      "source": [
        "#Assignment - 22- 03\n",
        "\n",
        "Write a function that classifies given list of numbers into **Even** and **Odd** Sublists."
      ],
      "metadata": {
        "id": "gZvq2FyGG-cy"
      }
    },
    {
      "cell_type": "code",
      "source": [
        "def split_even_odd_sublist(num_list: list[int]) -> tuple[list[int], list[int]]:\n",
        "    #Write your code here\n",
        "    return"
      ],
      "metadata": {
        "id": "J6XOY6TS1O36"
      },
      "execution_count": null,
      "outputs": []
    }
  ]
}