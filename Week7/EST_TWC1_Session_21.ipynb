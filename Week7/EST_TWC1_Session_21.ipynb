{
  "nbformat": 4,
  "nbformat_minor": 0,
  "metadata": {
    "colab": {
      "provenance": []
    },
    "kernelspec": {
      "name": "python3",
      "display_name": "Python 3"
    },
    "language_info": {
      "name": "python"
    }
  },
  "cells": [
    {
      "cell_type": "markdown",
      "source": [
        "# Objective\n",
        "At the end of this session successful students will be able to:\n",
        "\n",
        " * understand the idea of higher order functions\n",
        "\n",
        "## Coverage\n",
        "\n",
        " * is_square() family\n",
        " * First class functions\n",
        " * Higher order functions\n",
        " * **map**, **filter**\n",
        "    "
      ],
      "metadata": {
        "id": "LhjhnnCZLC_1"
      }
    },
    {
      "cell_type": "code",
      "source": [
        "def name_me(n: int) -> bool:\n",
        "    r = 0\n",
        "    while r * r < n:\n",
        "        r += 1\n",
        "    return r * r == n"
      ],
      "metadata": {
        "id": "4CW_dnWf7Qk9"
      },
      "execution_count": null,
      "outputs": []
    },
    {
      "cell_type": "code",
      "source": [
        "print(name_me(9))\n",
        "print(name_me(25))\n",
        "print(name_me(7))"
      ],
      "metadata": {
        "colab": {
          "base_uri": "https://localhost:8080/"
        },
        "id": "c1t7NU38E2L5",
        "outputId": "cad9cc11-b7d4-4500-eab5-3edea0d2f358"
      },
      "execution_count": null,
      "outputs": [
        {
          "output_type": "stream",
          "name": "stdout",
          "text": [
            "True\n",
            "True\n",
            "False\n"
          ]
        }
      ]
    },
    {
      "cell_type": "code",
      "source": [
        "def is_perfect_square(n: int) -> bool:\n",
        "    r = 0\n",
        "    while r * r < n:\n",
        "        r += 1\n",
        "    return r * r == n"
      ],
      "metadata": {
        "id": "byC-iLpIFXBe"
      },
      "execution_count": null,
      "outputs": []
    },
    {
      "cell_type": "code",
      "source": [
        "def wall_e(n: int) -> bool:\n",
        "    r = 0\n",
        "    while r * r * r < n:\n",
        "        r += 1\n",
        "    return r * r * r == n"
      ],
      "metadata": {
        "id": "aJ9afR5vFaNC"
      },
      "execution_count": null,
      "outputs": []
    },
    {
      "cell_type": "code",
      "source": [
        "def is_perfect_cube(n: int) -> bool:\n",
        "    r = 0\n",
        "    while r * r * r < n:\n",
        "        r += 1\n",
        "    return r * r * r == n\n",
        "\n",
        "print(is_perfect_cube(8))\n",
        "print(is_perfect_cube(27))"
      ],
      "metadata": {
        "colab": {
          "base_uri": "https://localhost:8080/"
        },
        "id": "NiR-j27CFmhV",
        "outputId": "b868ef25-49ab-41a4-e64e-c0b2703f4ca0"
      },
      "execution_count": null,
      "outputs": [
        {
          "output_type": "stream",
          "name": "stdout",
          "text": [
            "True\n",
            "True\n"
          ]
        }
      ]
    },
    {
      "cell_type": "code",
      "source": [
        "def eve(n: int) -> bool:\n",
        "    r = 0\n",
        "    while 3 ** r < n:\n",
        "        r += 1\n",
        "    return 3 ** r == n\n"
      ],
      "metadata": {
        "id": "a4P9bRoIFw2w"
      },
      "execution_count": null,
      "outputs": []
    },
    {
      "cell_type": "code",
      "source": [
        "def is_power_of_3(n: int) -> bool:\n",
        "    r = 0\n",
        "    while 3 ** r < n:\n",
        "        r += 1\n",
        "    return 3 ** r == n\n"
      ],
      "metadata": {
        "id": "2meV-ZDrGF6s"
      },
      "execution_count": null,
      "outputs": []
    },
    {
      "cell_type": "code",
      "source": [
        "def cedric(n: int) -> bool:\n",
        "    r = 0\n",
        "    while r * (r + 1) < n * 2:\n",
        "        r += 1\n",
        "    return r * (r + 1) == n * 2"
      ],
      "metadata": {
        "id": "I4YfsADrGI5-"
      },
      "execution_count": null,
      "outputs": []
    },
    {
      "cell_type": "code",
      "source": [
        "def is_triangular_num(n: int) -> int:\n",
        "    r = 0\n",
        "    while r * (r + 1) < n * 2:\n",
        "        r += 1\n",
        "    return (r * (r + 1)) // 2 == n"
      ],
      "metadata": {
        "id": "oL-l-ZjfGW3A"
      },
      "execution_count": null,
      "outputs": []
    },
    {
      "cell_type": "code",
      "source": [
        "from collections.abc import Callable\n",
        "\n",
        "def is_function(func: Callable, n: int) -> bool:\n",
        "    r = 0\n",
        "    while func(r) < n:\n",
        "        r += 1\n",
        "    return func(r) == n"
      ],
      "metadata": {
        "id": "0xTylopFG6FF"
      },
      "execution_count": null,
      "outputs": []
    },
    {
      "cell_type": "code",
      "source": [
        "def triangular(r: int) -> int:\n",
        "    return (r * (r + 1)) // 2\n",
        "\n",
        "def is_triangular(n: int) -> bool:\n",
        "    return is_function(triangular, n)"
      ],
      "metadata": {
        "id": "vy2XFC4mIVuu"
      },
      "execution_count": null,
      "outputs": []
    },
    {
      "cell_type": "code",
      "source": [
        "def square(k: int) -> int:\n",
        "    return k * k\n",
        "\n",
        "def is_perfect_square(n: int) -> bool:\n",
        "    return is_function(square, n)\n"
      ],
      "metadata": {
        "id": "UN6g64x1JyxD"
      },
      "execution_count": null,
      "outputs": []
    },
    {
      "cell_type": "code",
      "source": [
        "is_perfect_square(16)"
      ],
      "metadata": {
        "colab": {
          "base_uri": "https://localhost:8080/"
        },
        "id": "eRVdHV8UKF3i",
        "outputId": "072b4c4b-360b-4b3c-8acd-be372b7a7d1d"
      },
      "execution_count": null,
      "outputs": [
        {
          "output_type": "execute_result",
          "data": {
            "text/plain": [
              "True"
            ]
          },
          "metadata": {},
          "execution_count": 16
        }
      ]
    },
    {
      "cell_type": "code",
      "source": [
        "my_function = triangular\n",
        "my_function"
      ],
      "metadata": {
        "colab": {
          "base_uri": "https://localhost:8080/",
          "height": 103
        },
        "id": "AkoL8oQxKmcW",
        "outputId": "56e61678-03e5-43f2-8bd5-01adcad42460"
      },
      "execution_count": null,
      "outputs": [
        {
          "output_type": "execute_result",
          "data": {
            "text/plain": [
              "<function __main__.triangular(r: int) -> int>"
            ],
            "text/html": [
              "<div style=\"max-width:800px; border: 1px solid var(--colab-border-color);\"><style>\n",
              "      pre.function-repr-contents {\n",
              "        overflow-x: auto;\n",
              "        padding: 8px 12px;\n",
              "        max-height: 500px;\n",
              "      }\n",
              "\n",
              "      pre.function-repr-contents.function-repr-contents-collapsed {\n",
              "        cursor: pointer;\n",
              "        max-height: 100px;\n",
              "      }\n",
              "    </style>\n",
              "    <pre style=\"white-space: initial; background:\n",
              "         var(--colab-secondary-surface-color); padding: 8px 12px;\n",
              "         border-bottom: 1px solid var(--colab-border-color);\"><b>triangular</b><br/>def triangular(r: int) -&gt; int</pre><pre class=\"function-repr-contents function-repr-contents-collapsed\" style=\"\"><a class=\"filepath\" style=\"display:none\" href=\"#\">/content/&lt;ipython-input-18-26580f60619c&gt;</a>&lt;no docstring&gt;</pre></div>"
            ]
          },
          "metadata": {},
          "execution_count": 19
        }
      ]
    },
    {
      "cell_type": "markdown",
      "source": [
        "#Higher Order Functions\n",
        "\n",
        "Passing function as an argumen\n",
        "\n",
        "return function as the result\n",
        "\n",
        "or both!\n",
        "\n",
        "There are two very useful higher order functions in the built-ins\n",
        "   * map\n",
        "   * filter\n"
      ],
      "metadata": {
        "id": "HL240XZ0tR-v"
      }
    },
    {
      "cell_type": "markdown",
      "source": [
        "# How to add certain value to each item in any iterator\n",
        "\n",
        "* Say marks of students are available in an iterator (say list) and want to add 3 as grace marks to all"
      ],
      "metadata": {
        "id": "9ND45vxAt8qZ"
      }
    },
    {
      "cell_type": "code",
      "source": [
        "marks = [70, 60, 65, 80, 55]\n",
        "updated_marks = []\n",
        "for mark in marks:\n",
        "    updated_marks.append(mark + 3)\n",
        "print(updated_marks)\n",
        "\n",
        "updated_marks_comprehsion = [mark + 3 for mark in marks]\n",
        "print(updated_marks_comprehsion)"
      ],
      "metadata": {
        "id": "y7dqbIhi6mCQ",
        "colab": {
          "base_uri": "https://localhost:8080/"
        },
        "outputId": "9ce9e77a-f0b5-4574-f56f-57185a720dd5"
      },
      "execution_count": null,
      "outputs": [
        {
          "output_type": "stream",
          "name": "stdout",
          "text": [
            "[73, 63, 68, 83, 58]\n",
            "[73, 63, 68, 83, 58]\n"
          ]
        }
      ]
    },
    {
      "cell_type": "markdown",
      "source": [
        "**Use Higher Order Function: map**\n",
        "\n",
        "* map(f, l) -> f(l[0]), f(l[1]), .... f(l[-1])\n",
        "\n",
        "* Applying the same rule for all elements\n",
        "\n",
        "* Returns same size as input size\n",
        "\n",
        "* Return data type is same as return type of function\n",
        "\n",
        "* Map returns map object, need to type cast to say list to view\n"
      ],
      "metadata": {
        "id": "pEWG5pROulDX"
      }
    },
    {
      "cell_type": "code",
      "source": [
        "def grace_3_points(x: int) -> int:\n",
        "    return x + 3\n",
        "\n",
        "updated_marks = map(grace_3_points, marks)\n",
        "\n",
        "print(updated_marks)\n",
        "print(list(updated_marks))"
      ],
      "metadata": {
        "id": "PoVEeuQg6nyv",
        "colab": {
          "base_uri": "https://localhost:8080/"
        },
        "outputId": "d50caf6b-107e-4258-9ff3-88d3b7fe1b55"
      },
      "execution_count": null,
      "outputs": [
        {
          "output_type": "stream",
          "name": "stdout",
          "text": [
            "<map object at 0x7c178e8290f0>\n",
            "[73, 63, 68, 83, 58]\n"
          ]
        }
      ]
    },
    {
      "cell_type": "code",
      "source": [
        "updated_marks_lambda = map(lambda x: x + 3, marks)\n",
        "print(updated_marks_lambda)\n",
        "print(list(updated_marks_lambda))"
      ],
      "metadata": {
        "colab": {
          "base_uri": "https://localhost:8080/"
        },
        "id": "K7Fn47HhNK9N",
        "outputId": "db69e9a3-6b3f-416b-fe19-0188b977979d"
      },
      "execution_count": null,
      "outputs": [
        {
          "output_type": "stream",
          "name": "stdout",
          "text": [
            "<map object at 0x7c178e8284c0>\n",
            "[73, 63, 68, 83, 58]\n"
          ]
        }
      ]
    },
    {
      "cell_type": "markdown",
      "source": [
        "**How to remove certain items?**\n",
        "\n",
        "How to remove items from an iterator\n",
        "\n",
        "which does not satisfy given condition?\n",
        "\n",
        "Say we have list of marks in a list and want to have only more than pass marks,say 40"
      ],
      "metadata": {
        "id": "pt_HWSC7vcMK"
      }
    },
    {
      "cell_type": "code",
      "source": [
        "\n",
        "marks = [50, 60, 35, 39, 70, 75, 85, 30]\n",
        "updated_marks = []\n",
        "for mark in marks:\n",
        "    if mark > 40:\n",
        "        updated_marks.append(mark)\n",
        "\n",
        "updated_marks_lc = [mark for mark in marks if mark > 40]\n",
        "\n",
        "print(updated_marks)\n",
        "print(updated_marks_lc)"
      ],
      "metadata": {
        "id": "sFhJr9Bl6rdO",
        "colab": {
          "base_uri": "https://localhost:8080/"
        },
        "outputId": "133e1799-7b2b-435d-8759-92d19350e102"
      },
      "execution_count": null,
      "outputs": [
        {
          "output_type": "stream",
          "name": "stdout",
          "text": [
            "[50, 60, 70, 75, 85]\n",
            "[50, 60, 70, 75, 85]\n"
          ]
        }
      ]
    },
    {
      "cell_type": "code",
      "source": [
        "filter_with_grace3 = filter(grace_3_points, marks)\n",
        "\n",
        "print(filter_with_grace3)\n",
        "print(list(filter_with_grace3))"
      ],
      "metadata": {
        "colab": {
          "base_uri": "https://localhost:8080/"
        },
        "id": "zlo4g2axO-i2",
        "outputId": "12cac02e-0e9f-4b5e-c792-160a7504421b"
      },
      "execution_count": null,
      "outputs": [
        {
          "output_type": "stream",
          "name": "stdout",
          "text": [
            "<filter object at 0x7c178e82ae00>\n",
            "[50, 60, 35, 39, 70, 75, 85, 30]\n"
          ]
        }
      ]
    },
    {
      "cell_type": "code",
      "source": [
        "bool(0)"
      ],
      "metadata": {
        "colab": {
          "base_uri": "https://localhost:8080/"
        },
        "id": "b6lyo2LVR_pK",
        "outputId": "cda68abd-f791-48b5-84f1-fb0fe0b0c839"
      },
      "execution_count": null,
      "outputs": [
        {
          "output_type": "execute_result",
          "data": {
            "text/plain": [
              "False"
            ]
          },
          "metadata": {},
          "execution_count": 32
        }
      ]
    },
    {
      "cell_type": "code",
      "source": [
        "bool(63)"
      ],
      "metadata": {
        "colab": {
          "base_uri": "https://localhost:8080/"
        },
        "id": "_utbqBViSDuZ",
        "outputId": "61011979-7db9-4afc-b7f9-518ab7df6f43"
      },
      "execution_count": null,
      "outputs": [
        {
          "output_type": "execute_result",
          "data": {
            "text/plain": [
              "True"
            ]
          },
          "metadata": {},
          "execution_count": 36
        }
      ]
    },
    {
      "cell_type": "markdown",
      "source": [
        "**Use Higher Order Function: filter**\n",
        "\n",
        "filter(f, l) -> f(l[x]), say, item x, which satisfies given condition\n",
        "\n",
        "Returns subset or part of provided iterator or container\n",
        "\n",
        "Filter returns filter object, need to type cast to required data type (say list) to\n",
        "view\n"
      ],
      "metadata": {
        "id": "DehgdvaBv6jN"
      }
    },
    {
      "cell_type": "code",
      "source": [
        "def passed(x: int) -> bool:\n",
        "    return x > 40\n",
        "\n",
        "marks = [50, 60, 35, 39, 70, 75, 85, 30]\n",
        "updated_marks = filter(passed, marks)\n",
        "\n",
        "updated_marks_lambda = filter(lambda x: x > 40, marks)\n",
        "\n",
        "print(updated_marks)\n",
        "print(list(updated_marks))\n",
        "\n",
        "print(updated_marks_lambda)\n",
        "print(list(updated_marks_lambda))\n",
        "\n",
        "\n",
        "map_of_passed = map(passed, marks)\n",
        "print(map_of_passed)\n",
        "print(list(map_of_passed))"
      ],
      "metadata": {
        "id": "JFOQaOkW6sjt",
        "colab": {
          "base_uri": "https://localhost:8080/"
        },
        "outputId": "7b12337b-078e-4619-db6c-82e7e06c7bd2"
      },
      "execution_count": null,
      "outputs": [
        {
          "output_type": "stream",
          "name": "stdout",
          "text": [
            "<filter object at 0x7c178e829300>\n",
            "[50, 60, 70, 75, 85]\n",
            "<filter object at 0x7c178e829c00>\n",
            "[50, 60, 70, 75, 85]\n",
            "<map object at 0x7c178e828fa0>\n",
            "[True, True, False, False, True, True, True, False]\n"
          ]
        }
      ]
    },
    {
      "cell_type": "markdown",
      "source": [
        "# Problem 01:\n",
        "\n",
        "Put the digits of a number into a list"
      ],
      "metadata": {
        "id": "dc5mxOASw3Qo"
      }
    },
    {
      "cell_type": "code",
      "source": [
        "# num_to_digits(1729) # -> [1, 7, 2, 9]\n",
        "def num_to_digits(n: int) -> list[int]:\n",
        "    digits = []\n",
        "    for str_num in str(n):\n",
        "        digits.append(int(str_num))\n",
        "    return digits\n",
        "\n",
        "def num_2_digits(n: int) -> list[int]:\n",
        "    return list(map(int, str(n)))\n",
        "\n",
        "print(num_to_digits(179))\n",
        "print(num_2_digits(179))"
      ],
      "metadata": {
        "id": "KQuLMMwc627Q",
        "colab": {
          "base_uri": "https://localhost:8080/"
        },
        "outputId": "f73e1ef4-d686-4bb7-9935-683a62303be5"
      },
      "execution_count": null,
      "outputs": [
        {
          "output_type": "stream",
          "name": "stdout",
          "text": [
            "[1, 7, 9]\n",
            "[1, 7, 9]\n"
          ]
        }
      ]
    },
    {
      "cell_type": "markdown",
      "source": [
        "# Problem 02\n",
        "\n",
        "Take a list of numbers format them to all take up 3 characters and print them as a string"
      ],
      "metadata": {
        "id": "yYXwwAkQUSd1"
      }
    },
    {
      "cell_type": "code",
      "source": [
        "def format_num(n: int) -> str:\n",
        "    return f'{n:3d}'\n",
        "\n",
        "format_num(3)\n",
        "\n",
        "''.join(map(format_num, range(1, 7)))"
      ],
      "metadata": {
        "id": "XxWAswiA63X7",
        "colab": {
          "base_uri": "https://localhost:8080/",
          "height": 35
        },
        "outputId": "32bf3c3b-b3bb-4a9a-f5da-483778630b1d"
      },
      "execution_count": null,
      "outputs": [
        {
          "output_type": "execute_result",
          "data": {
            "text/plain": [
              "'  1  2  3  4  5  6'"
            ],
            "application/vnd.google.colaboratory.intrinsic+json": {
              "type": "string"
            }
          },
          "metadata": {},
          "execution_count": 45
        }
      ]
    },
    {
      "cell_type": "markdown",
      "source": [
        "# Problem 03\n",
        "\n",
        "Count vowels, consonants and special characters\n"
      ],
      "metadata": {
        "id": "6sl1-e5ZU3Dt"
      }
    },
    {
      "cell_type": "code",
      "source": [
        "def is_vowel(char: str) -> bool:\n",
        "    return char in set(\"aeiouAEIOU\")\n",
        "\n",
        "def is_cons(char: str) -> bool:\n",
        "    return char.isalpha() and (not is_vowel(char))\n",
        "\n",
        "def is_special(char: str) -> bool:\n",
        "    return (not char.isalnum()) and (not char.isspace())\n",
        "\n",
        "def how_many_chars(s: str) -> tuple[int, int, int]:\n",
        "    return len(list(filter(is_vowel, s))),  len(list(filter(is_cons, s))), len(list(filter(is_special, s)))"
      ],
      "metadata": {
        "id": "3zXkA9Tt63wp"
      },
      "execution_count": null,
      "outputs": []
    },
    {
      "cell_type": "code",
      "source": [],
      "metadata": {
        "id": "0CW-sqsIeCnh"
      },
      "execution_count": null,
      "outputs": []
    },
    {
      "cell_type": "code",
      "source": [
        "how_many_chars(\"I wish, really wish, map & filter are taught earlier!\")"
      ],
      "metadata": {
        "colab": {
          "base_uri": "https://localhost:8080/"
        },
        "id": "2qxhVQ0tdplV",
        "outputId": "b1af1090-0d28-4404-c593-ea6cd8e0d94c"
      },
      "execution_count": null,
      "outputs": [
        {
          "output_type": "execute_result",
          "data": {
            "text/plain": [
              "(16, 24, 4)"
            ]
          },
          "metadata": {},
          "execution_count": 48
        }
      ]
    },
    {
      "cell_type": "markdown",
      "source": [
        "##Assignment - 21-01\n",
        "\n",
        "###FizzBuzz Problem\n",
        "\n",
        "\n",
        "Write a function that prints the numbers in the given range but for multiples of **3** print **Fizz** and for multiples of **5** print **Buzz** and for multipes of **3 and 5** print **FizzBuzz**"
      ],
      "metadata": {
        "id": "S-g3skzqeDao"
      }
    },
    {
      "cell_type": "markdown",
      "source": [
        "##Assignment - 21-02\n",
        "\n",
        "Write a Python program to listout the prime numbers in a given range.\n",
        "\n",
        "For Example:\n",
        "\n",
        "prime_sequence(20) => [2, 3, 5, 7, 11, 13, 17, 19]\n",
        "\n",
        "prime_sequence(30) => [2, 3, 5, 7, 11, 13, 17, 19, 23, 29]"
      ],
      "metadata": {
        "id": "fgCgpN8FeLIp"
      }
    },
    {
      "cell_type": "markdown",
      "source": [
        "#Assignment - 21-03\n",
        "\n",
        "#Repeat Sequence Problem\n",
        "\n",
        "Implement a function to repeat the sequence as per the given order.\n",
        "\n",
        "**Example**\n",
        " - repeat_sequence('ab') => A->Bb\n",
        " - repeat_sequence('UVWX') => U->Vv->Www->Xxxx\n",
        "\n",
        "The first item in the sequence is repeated once, the second item is repeated twice, and so on\n",
        "\n",
        "You start the sequence with a Capital letter and all following are lower case\n",
        "\n",
        "Inbetween each sequence is an arrow `->`\n",
        "\n",
        "Examples:\n",
        "- `repeat_sequence('abc') # => 'A->Bb->Ccc'`\n",
        "- `repeat_sequence('ABC') # => 'A->Bb->Ccc'`\n",
        "- `repeat_sequence('Austin') # => 'A->Uu->Sss->Tttt->Iiiii->Nnnnnn'`"
      ],
      "metadata": {
        "id": "qRebIGmqeWGp"
      }
    },
    {
      "cell_type": "markdown",
      "source": [],
      "metadata": {
        "id": "Eksh3zQwdlPB"
      }
    }
  ]
}