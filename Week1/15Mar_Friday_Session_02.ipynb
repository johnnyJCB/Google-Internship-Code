{
  "cells": [
    {
      "cell_type": "markdown",
      "id": "faa5c4bf",
      "metadata": {
        "id": "faa5c4bf"
      },
      "source": [
        "# Session 02\n",
        "## Problem set\n",
        "\n",
        " * Generating palindromic numbers\n",
        " * Finding the aliquot of a number\n",
        " * Finding the square root of a number -- Heron's algorithm\n",
        " * Calculating e"
      ]
    },
    {
      "cell_type": "code",
      "source": [],
      "metadata": {
        "id": "oyFyHlLUd43-"
      },
      "id": "oyFyHlLUd43-",
      "execution_count": null,
      "outputs": []
    },
    {
      "cell_type": "markdown",
      "id": "c24613a6",
      "metadata": {
        "id": "c24613a6"
      },
      "source": [
        "## Problem 1\n",
        "\n",
        "Take a number, reverse it and add it to the original number. Repeating this recipe almost always produces a palindrome\n",
        "\n",
        "Write a function that takes an integer and produces a palindrome as per the above recipe\n",
        "\n",
        "After explaining the problem, ask if the specification is complete. Point out that we need specific directions of what to do if the input is itself a palindrome"
      ]
    },
    {
      "cell_type": "code",
      "source": [],
      "metadata": {
        "id": "D1cHb0ElgVfi"
      },
      "id": "D1cHb0ElgVfi",
      "execution_count": null,
      "outputs": []
    },
    {
      "cell_type": "code",
      "source": [
        "def reverse_int(n: int) -> int:\n",
        "    if type(n) != int or n < 0:\n",
        "        return -1\n",
        "    reversed = 0\n",
        "    while n > 0:\n",
        "        reversed = reversed * 10 + n % 10\n",
        "        n = n // 10\n",
        "    return reversed\n",
        "\n",
        "def is_palindrome(n: int) -> bool:\n",
        "    return n == reverse_int(n)\n",
        "\n",
        "def make_palindrome(n: int) -> int:\n",
        "    # while number is not a palindrome\n",
        "    while not is_palindrome(n):\n",
        "      # take number and reverse\n",
        "      # add that to the original number\n",
        "      n += reverse_int(n)\n",
        "      # return this new palindrome\n",
        "\n",
        "    return n\n"
      ],
      "metadata": {
        "id": "CcoM_YBxd5tK"
      },
      "id": "CcoM_YBxd5tK",
      "execution_count": null,
      "outputs": []
    },
    {
      "cell_type": "code",
      "source": [
        "make_palindrome(912)"
      ],
      "metadata": {
        "colab": {
          "base_uri": "https://localhost:8080/"
        },
        "id": "qZs0-4WbjScU",
        "outputId": "9b77495d-db5f-4010-cf63-5250bc0b0cf4"
      },
      "id": "qZs0-4WbjScU",
      "execution_count": null,
      "outputs": [
        {
          "output_type": "stream",
          "name": "stdout",
          "text": [
            "1131 1311\n",
            "2442 2442\n"
          ]
        },
        {
          "output_type": "execute_result",
          "data": {
            "text/plain": [
              "2442"
            ]
          },
          "metadata": {},
          "execution_count": 44
        }
      ]
    },
    {
      "cell_type": "markdown",
      "source": [
        "Discuss variants:\n",
        "  * How to know how many additions it takes to produce a palindrome?\n",
        "  * Is it possible to get all intermediate results: hint about lists\n",
        "  * Discuss the naming of functions\n"
      ],
      "metadata": {
        "id": "L9vWs6DBoTQZ"
      },
      "id": "L9vWs6DBoTQZ"
    },
    {
      "cell_type": "markdown",
      "source": [],
      "metadata": {
        "id": "IwOBpEqoxvOU"
      },
      "id": "IwOBpEqoxvOU"
    },
    {
      "cell_type": "markdown",
      "id": "0b8c63ed",
      "metadata": {
        "id": "0b8c63ed"
      },
      "source": [
        "## Problem 2\n",
        "The aliquot of a number is defined as the sum of the *proper* divisors of a number\n",
        "\n",
        "For example aliquot of $15 = 1 + 3 + 5 = 9$\n",
        "\n",
        "\n",
        "aliquot of $30 = 1 + 2 + 3 + 5 + 6 + 10 + 15 = 42$\n",
        "\n",
        "Of course aliquot of any prime is 1.\n",
        "\n",
        "Write a function that determines the aliquot of a given number"
      ]
    },
    {
      "cell_type": "code",
      "source": [
        "def aliquot(n: int) -> int:\n",
        "    aliq = 1\n",
        "    divisor = 2\n",
        "    while divisor < n:\n",
        "        if n % divisor == 0:\n",
        "            aliq += divisor\n",
        "        divisor += 1\n",
        "    return aliq"
      ],
      "metadata": {
        "id": "qwxPQBMGqUrt"
      },
      "id": "qwxPQBMGqUrt",
      "execution_count": null,
      "outputs": []
    },
    {
      "cell_type": "code",
      "source": [
        "print(aliquot(0))\n",
        "print(aliquot(1))\n",
        "print(aliquot(36))"
      ],
      "metadata": {
        "colab": {
          "base_uri": "https://localhost:8080/"
        },
        "id": "Qj7Y2Cdpq4pI",
        "outputId": "6e073ea9-6ecf-45b6-dcca-a37e0dcd3161"
      },
      "id": "Qj7Y2Cdpq4pI",
      "execution_count": null,
      "outputs": [
        {
          "output_type": "stream",
          "name": "stdout",
          "text": [
            "1\n",
            "1\n",
            "55\n"
          ]
        }
      ]
    },
    {
      "cell_type": "code",
      "source": [],
      "metadata": {
        "id": "HXMRGtOstM1H"
      },
      "id": "HXMRGtOstM1H",
      "execution_count": null,
      "outputs": []
    },
    {
      "cell_type": "code",
      "source": [
        "def aliquot2(n: int) -> int:\n",
        "    aliq = 1\n",
        "    divisor = 2\n",
        "    while divisor * divisor < n:\n",
        "        if n % divisor == 0:\n",
        "            aliq += divisor + (n // divisor)\n",
        "        divisor += 1\n",
        "    return aliq"
      ],
      "metadata": {
        "id": "Y5a8SLvjsJQl"
      },
      "id": "Y5a8SLvjsJQl",
      "execution_count": null,
      "outputs": []
    },
    {
      "cell_type": "code",
      "source": [
        "def aliquot3(n: int) -> int:\n",
        "    aliq = 1\n",
        "    divisor = 2\n",
        "    while divisor * divisor < n:\n",
        "        if n % divisor == 0:\n",
        "            aliq += divisor + (n // divisor)\n",
        "        divisor += 1\n",
        "    if n == divisor * divisor:\n",
        "        aliq += divisor\n",
        "    return aliq"
      ],
      "metadata": {
        "id": "SVci5Vqvs0AZ"
      },
      "id": "SVci5Vqvs0AZ",
      "execution_count": null,
      "outputs": []
    },
    {
      "cell_type": "code",
      "source": [
        "print(aliquot3(30))\n",
        "print(aliquot3(36))"
      ],
      "metadata": {
        "colab": {
          "base_uri": "https://localhost:8080/"
        },
        "id": "bDQdeln8tCRG",
        "outputId": "c35b0ac5-bccf-45e9-9b2e-0040c8224d11"
      },
      "id": "bDQdeln8tCRG",
      "execution_count": null,
      "outputs": [
        {
          "output_type": "stream",
          "name": "stdout",
          "text": [
            "42\n",
            "55\n"
          ]
        }
      ]
    },
    {
      "cell_type": "code",
      "source": [
        "print(aliquot(25))\n",
        "print(aliquot2(25))\n",
        "print(aliquot3(25))"
      ],
      "metadata": {
        "colab": {
          "base_uri": "https://localhost:8080/"
        },
        "id": "ujYyeMyPtNji",
        "outputId": "10977c0c-4212-47c0-e308-47308abd19a7"
      },
      "id": "ujYyeMyPtNji",
      "execution_count": null,
      "outputs": [
        {
          "output_type": "stream",
          "name": "stdout",
          "text": [
            "6\n",
            "1\n",
            "6\n"
          ]
        }
      ]
    },
    {
      "cell_type": "markdown",
      "id": "fd6e30a8",
      "metadata": {
        "id": "fd6e30a8"
      },
      "source": [
        "An alternative and faster way; but has a bug"
      ]
    },
    {
      "cell_type": "markdown",
      "source": [],
      "metadata": {
        "id": "w0E4wCFfoSp2"
      },
      "id": "w0E4wCFfoSp2"
    },
    {
      "cell_type": "markdown",
      "id": "928a2fc7",
      "metadata": {
        "id": "928a2fc7"
      },
      "source": [
        "## Problem 3\n",
        "Perhaps the first algorithm used for approximating $\\sqrt {N}$ is known as the Babylonian method, despite there being no direct evidence beyond informed conjecture that the eponymous Babylonian mathematicians employed this method. The method is also known as Heron's method, after the first-century Greek mathematician Hero of Alexandria who gave the first explicit description of the method in his AD 60 work Metrica. The basic idea is that if x is an overestimate to the square root of a non-negative real number S then S/x will be an underestimate, or vice versa, and so the average of these two numbers may reasonably be expected to provide a better approximation.\n",
        "\n",
        "-- from the wikipedia"
      ]
    },
    {
      "cell_type": "markdown",
      "id": "24fa1d14",
      "metadata": {
        "id": "24fa1d14"
      },
      "source": [
        "Work it out on board/screen by hand (or by using a calculator)\n",
        "\n",
        "$\\sqrt{16}$\n",
        "\n",
        "First guess $10$\n",
        "\n",
        "next guess = average of $10$ and $16/10$ = $11.6/2 = 5.8$\n",
        "\n",
        "next guess = average of $5.8$ and $16/5.8$ = $(5.8 + 2.7586)/2$ = $4.2793$\n",
        "\n",
        "next guess = $4.00911528$\n",
        "\n",
        "next guess = $4.000001$"
      ]
    },
    {
      "cell_type": "code",
      "source": [
        "def heron(n: float) -> float:\n",
        "    EPSILON = 0.000000001\n",
        "    root = 0.5 * n\n",
        "    while abs(root * root - n) >  EPSILON:\n",
        "        print(root)\n",
        "        root = 0.5 * (root + n/root)\n",
        "    return root"
      ],
      "metadata": {
        "id": "loMAWHQkvqRV"
      },
      "id": "loMAWHQkvqRV",
      "execution_count": null,
      "outputs": []
    },
    {
      "cell_type": "code",
      "source": [
        "3 * .1"
      ],
      "metadata": {
        "colab": {
          "base_uri": "https://localhost:8080/"
        },
        "id": "Wdnz2mA5vxKM",
        "outputId": "0724467d-b46b-4b2e-be31-21ed450b7f7b"
      },
      "id": "Wdnz2mA5vxKM",
      "execution_count": null,
      "outputs": [
        {
          "output_type": "execute_result",
          "data": {
            "text/plain": [
              "0.30000000000000004"
            ]
          },
          "metadata": {},
          "execution_count": 56
        }
      ]
    },
    {
      "cell_type": "markdown",
      "id": "59635269",
      "metadata": {
        "id": "59635269"
      },
      "source": [
        "# Assignments\n",
        "##  Assignment 02-01\n",
        "\n",
        "If the sum of the proper divisors of a number is equal to the number itself, it is called a **perfect** number. Examples: 6 and 28\n",
        "\n",
        "If the sum of the proper divisors of the number is greater than the number itself, we call the number an **abundant** number. Example: 12\n",
        "\n",
        "If the sum of the proper divisors of the number is less than the number itself, we call the number a **deficient** number. Example: all primes, all powers of 2\n",
        "\n",
        "Write a function that classifies a number as above. It should return 0 if the argument is perfect, -1 if deficient and +1 if abundant\n",
        "\n",
        "\n",
        "\n"
      ]
    },
    {
      "cell_type": "code",
      "execution_count": null,
      "id": "44f9e0f4",
      "metadata": {
        "id": "44f9e0f4"
      },
      "outputs": [],
      "source": [
        "def classify(k: int) -> int:\n",
        "    # Write code here\n",
        "    return"
      ]
    },
    {
      "cell_type": "markdown",
      "id": "00c9c940",
      "metadata": {
        "id": "00c9c940"
      },
      "source": [
        "## Assignment 02-02\n",
        "\n",
        "Write a function that determines the number of digits in an integer"
      ]
    },
    {
      "cell_type": "code",
      "execution_count": null,
      "id": "32025d40",
      "metadata": {
        "id": "32025d40"
      },
      "outputs": [],
      "source": [
        "def num_digits(p: int) -> int:\n",
        "    # Write code here\n",
        "    return"
      ]
    },
    {
      "cell_type": "markdown",
      "id": "da3c5615",
      "metadata": {
        "id": "da3c5615"
      },
      "source": [
        "## Assignment 02-03\n",
        "\n",
        "A three digit number is called Armstrong, if it is equual to the sum of the cubes of its digits:\n",
        "\n",
        "Example: $156 = 1^3 + 5^3 + 6^3 = 1 + 125 + 216 = 342 \\ne 156$ is **NOT** an Armstrong number\n",
        "\n",
        "But $153 = 1^3 + 5^3 + 3^3 = 1 + 125 + 27 = 153$ is an Armstrong number.\n",
        "\n",
        "Write a function to check if a given three digit number is Armstrong"
      ]
    },
    {
      "cell_type": "code",
      "execution_count": null,
      "id": "0268346c",
      "metadata": {
        "id": "0268346c"
      },
      "outputs": [],
      "source": [
        "def is_armstrong(n: int) -> bool:\n",
        "    # Write code here\n",
        "    return"
      ]
    },
    {
      "cell_type": "code",
      "execution_count": null,
      "id": "ebd5de09",
      "metadata": {
        "id": "ebd5de09"
      },
      "outputs": [],
      "source": []
    }
  ],
  "metadata": {
    "kernelspec": {
      "display_name": "Python 3 (ipykernel)",
      "language": "python",
      "name": "python3"
    },
    "language_info": {
      "codemirror_mode": {
        "name": "ipython",
        "version": 3
      },
      "file_extension": ".py",
      "mimetype": "text/x-python",
      "name": "python",
      "nbconvert_exporter": "python",
      "pygments_lexer": "ipython3",
      "version": "3.9.10"
    },
    "colab": {
      "provenance": []
    }
  },
  "nbformat": 4,
  "nbformat_minor": 5
}