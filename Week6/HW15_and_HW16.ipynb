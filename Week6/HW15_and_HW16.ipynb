{
  "nbformat": 4,
  "nbformat_minor": 0,
  "metadata": {
    "colab": {
      "provenance": []
    },
    "kernelspec": {
      "name": "python3",
      "display_name": "Python 3"
    },
    "language_info": {
      "name": "python"
    }
  },
  "cells": [
    {
      "cell_type": "markdown",
      "source": [
        "##Assignment - 19-01\n",
        "\n",
        "###calculate the perimeter\n",
        "\n",
        "Write one function to calculate the perimeter of triangle, rectangle, pentagone, hexagone."
      ],
      "metadata": {
        "id": "_a-vCCl-hvCs"
      }
    },
    {
      "cell_type": "code",
      "source": [
        "def perimeter_of_shape(*side)->int:\n",
        "  return sum(side)"
      ],
      "metadata": {
        "id": "IsvCKUB5ikoi"
      },
      "execution_count": null,
      "outputs": []
    },
    {
      "cell_type": "markdown",
      "source": [
        "#Assignment - 19 - 02\n",
        "\n",
        "###Concatenate the strings in the reverse order\n",
        "\n",
        "Write a function which take multiple strings as input. Concatenate the strings in the reverse order after reversing the strings."
      ],
      "metadata": {
        "id": "nToFfB6qBxEI"
      }
    },
    {
      "cell_type": "code",
      "source": [],
      "metadata": {
        "id": "t5Tkb_jdr1sO"
      },
      "execution_count": null,
      "outputs": []
    },
    {
      "cell_type": "code",
      "source": [
        "def display_in_reverse_order(*strings) -> str:\n",
        "    reversed_strings = [string[::-1] for string in strings]\n",
        "    concatenated_string = ''.join(reversed(reversed_strings))\n",
        "    return concatenated_string\n",
        "\n",
        "print(display_in_reverse_order(\"hello\", \"world\"))"
      ],
      "metadata": {
        "id": "2i-CKYj9CQf6",
        "outputId": "15edc797-1dd8-4057-8606-8d77717b1b4b",
        "colab": {
          "base_uri": "https://localhost:8080/"
        }
      },
      "execution_count": 2,
      "outputs": [
        {
          "output_type": "stream",
          "name": "stdout",
          "text": [
            "dlrowolleh\n"
          ]
        }
      ]
    },
    {
      "cell_type": "code",
      "source": [
        "def display_in_reverse_order(*strings) -> str:\n",
        "    reversed_strings = []\n",
        "    for string in strings:\n",
        "        reversed_string = string[::-1]\n",
        "        reversed_strings.append(reversed_string)\n",
        "    concatenated_string = ''.join(reversed(reversed_strings))\n",
        "    return concatenated_string\n",
        "\n",
        "print(display_in_reverse_order(\"hello\", \"world\"))"
      ],
      "metadata": {
        "id": "yaPaB9FqxkNA",
        "outputId": "64d26810-f8bc-4659-8af8-5151f60040df",
        "colab": {
          "base_uri": "https://localhost:8080/"
        }
      },
      "execution_count": 4,
      "outputs": [
        {
          "output_type": "stream",
          "name": "stdout",
          "text": [
            "dlrowolleh\n"
          ]
        }
      ]
    },
    {
      "cell_type": "code",
      "source": [],
      "metadata": {
        "id": "ZmGFYipRsguQ"
      },
      "execution_count": null,
      "outputs": []
    },
    {
      "cell_type": "markdown",
      "source": [
        "##Assignment - 20 - 01\n",
        "\n",
        "##Count vowels and consonants\n",
        "\n",
        "Write a program to read the content from the \"Content.txt\" file and return the count of vowels and consonants.\n",
        "\n",
        "Content.txt\n",
        "https://drive.google.com/file/d/1h60E9b3r9ecFLPxnd5lYzDzLiza0NsK3/view?usp=sharing\n",
        "\n",
        "\n"
      ],
      "metadata": {
        "id": "Gj7UFbBH8WiD"
      }
    },
    {
      "cell_type": "markdown",
      "source": [
        "##Assignment - 20 - 02\n",
        "\n",
        "##Add Rank to the students\n",
        "\n",
        "Implement a program to rank the students according to their marks.\n",
        "\n",
        "Note: The ranking system:\n",
        "\n",
        "If two students of the class get equal marks, they are given the same rank but students with different marks are given the rank as the (number of students above them + 1). See the example for more clarity.\n",
        "\n",
        "There are five students in a class. Their marks distribution is:\n",
        "98 68 74 21 74\n",
        "\n",
        "That is first student gets marks 98, second gets 68, and so on.\n",
        "Now , the highest marks is 98. So, the first student gets rank 1.\n",
        "Next higher marks is 74. So student 3 and 5 gets rank 2.\n",
        "Next higher marks is 68 and there are three students (1,3,5) who have got marks higher than him. So he gets rank 4.\n",
        "Similarly , student with marks 21 gets rank 5.\n",
        "\n",
        "\n",
        "Sample data in the file\n",
        "\n",
        "    John, 84\n",
        "    Micheal, 90\n",
        "    Peter, 65\n",
        "    Jenny, 90\n",
        "    Ryan, 77\n",
        "    Ashaa, 84\n",
        "    Kerry, 52\n",
        "    Kingsley, 17\n",
        "    Wincy, 95\n",
        "    Princy, 95\n",
        "    Johnright, 65\n",
        "    Mike, 76\n",
        "    Peterpot, 64\n",
        "    Mark, 98\n",
        "    Raj, 76\n",
        "    Ashaa, 85\n",
        "    Perrt, 53\n",
        "    Queen, 15\n",
        "    Anshu, 90\n",
        "    Amar, 92\n",
        "\n",
        "\n",
        "\n",
        "\n",
        "**Expected Output:**\n",
        "\n",
        "    1  Mark           98    \n",
        "    2  Wincy          95    \n",
        "    2  Princy         95    \n",
        "    4  Amar           92    \n",
        "    5  Micheal        90    \n",
        "    5  Jenny          90    \n",
        "    5  Anshu          90    \n",
        "    8  Ashaa          85    \n",
        "    9  John           84    \n",
        "    9  Ashaa          84    \n",
        "    11  Ryan           77    \n",
        "    12  Mike           76    \n",
        "    12  Raj            76    \n",
        "    14  Peter          65    \n",
        "    14  Johnright      65    \n",
        "    16  Peterpot       64    \n",
        "    17  Perrt          53    \n",
        "    18  Kerry          52    \n",
        "    19  Kingsley       17    \n",
        "    20  Queen          15    \n",
        "\n",
        "\n",
        "Sample file: StudentData.txt\n",
        "https://drive.google.com/file/d/1dNAPtIZ6McDx9hbXQjPXghjOQ2RoDf9Y/view?usp=sharing"
      ],
      "metadata": {
        "id": "Z_C5qmCTBpsp"
      }
    },
    {
      "cell_type": "code",
      "source": [
        "def rank_student(filename: str) -> str:\n",
        "    ranked_students = ''\n",
        "    counter = 1\n",
        "\n",
        "    for key, value in read_file(filename):\n",
        "      for item in value:\n",
        "\n",
        "        ranked_students += f'{counter} {item} {key}\\n'\n",
        "\n",
        "      counter += len(value)\n",
        "\n",
        "    return ranked_students\n",
        "\n",
        "def read_file(filename: str) -> dict:\n",
        "    name_dict = {}\n",
        "\n",
        "    with open(filename, 'r') as data:\n",
        "      for line in data:\n",
        "\n",
        "        (val, key) = line.strip(\"\\n\").strip().split(\", \")\n",
        "\n",
        "        name_list = name_dict.get(int(key), []) + [val]\n",
        "\n",
        "        name_dict[int(key)] = name_list\n",
        "\n",
        "\n",
        "    return sorted(name_dict.items(), reverse=True)\n",
        "\n",
        "\n",
        "\n",
        "print(rank_student(\"StudentData.txt\"))\n",
        "\n"
      ],
      "metadata": {
        "id": "rqdiHPXd0Ppu",
        "outputId": "fe771f44-7e65-4ca0-97d3-6e635a8d6ef6",
        "colab": {
          "base_uri": "https://localhost:8080/"
        }
      },
      "execution_count": 9,
      "outputs": [
        {
          "output_type": "stream",
          "name": "stdout",
          "text": [
            "1 Mark 98\n",
            "2 Wincy 95\n",
            "2 Princy 95\n",
            "4 Amar 92\n",
            "5 Micheal 90\n",
            "5 Jenny 90\n",
            "5 Anshu 90\n",
            "8 Ashaa 85\n",
            "9 John 84\n",
            "9 Ashaa 84\n",
            "11 Ryan 77\n",
            "12 Mike 76\n",
            "12 Raj 76\n",
            "14 Peter 65\n",
            "14 Johnright 65\n",
            "16 Peterpot 64\n",
            "17 Perrt 53\n",
            "18 Kerry 52\n",
            "19 Kingsley 17\n",
            "20 Queen 15\n",
            "\n"
          ]
        }
      ]
    },
    {
      "cell_type": "code",
      "source": [
        "from google.colab import drive\n",
        "drive.mount('/content/drive')"
      ],
      "metadata": {
        "id": "nxMtyD1M0A1G"
      },
      "execution_count": null,
      "outputs": []
    }
  ]
}