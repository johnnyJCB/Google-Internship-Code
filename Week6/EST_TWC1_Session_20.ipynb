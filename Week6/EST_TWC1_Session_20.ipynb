{
  "nbformat": 4,
  "nbformat_minor": 0,
  "metadata": {
    "colab": {
      "provenance": []
    },
    "kernelspec": {
      "name": "python3",
      "display_name": "Python 3"
    },
    "language_info": {
      "name": "python"
    }
  },
  "cells": [
    {
      "cell_type": "markdown",
      "source": [
        "#Session 16\n",
        "\n",
        "* File Handling\n",
        "    - Open a file\n",
        "    - Read operation\n",
        "    - Write operation\n",
        "    - Close the file\n",
        "\n",
        "* Assignments:\n",
        "     - Add Rank to the students\n",
        "     - Count vowels and consonants"
      ],
      "metadata": {
        "id": "BabCSk0iXgPI"
      }
    },
    {
      "cell_type": "markdown",
      "source": [
        "### Opening Files in Python\n",
        "\n",
        "- **https://docs.python.org/3/tutorial/inputoutput.html#reading-and-writing-files**\n",
        "- **https://docs.python.org/3/library/functions.html#open**\n",
        "\n",
        "* Python has a built-in open() function to open a file.\n",
        "* We can specify the mode('r', 'w', 'a') while opening a file.\n",
        "* We can specify whether we want to read (r), write (w) or append (a) to the file."
      ],
      "metadata": {
        "id": "QIQFZtRBYhym"
      }
    },
    {
      "cell_type": "code",
      "source": [
        "fopen = open('puzzle.txt')\n",
        "fopen"
      ],
      "metadata": {
        "id": "C5XvdilcQPv2",
        "colab": {
          "base_uri": "https://localhost:8080/"
        },
        "outputId": "2dc1cdec-a64a-431f-b0c0-8a7eac139169"
      },
      "execution_count": null,
      "outputs": [
        {
          "output_type": "execute_result",
          "data": {
            "text/plain": [
              "<_io.TextIOWrapper name='puzzle.txt' mode='r' encoding='UTF-8'>"
            ]
          },
          "metadata": {},
          "execution_count": 3
        }
      ]
    },
    {
      "cell_type": "code",
      "source": [
        "fopen = open('text1.txt', 'r')\n",
        "fopen"
      ],
      "metadata": {
        "colab": {
          "base_uri": "https://localhost:8080/"
        },
        "id": "OwwE0RHhdcRA",
        "outputId": "0391bd33-cb71-4da3-9941-6b8bdda62e64"
      },
      "execution_count": null,
      "outputs": [
        {
          "output_type": "execute_result",
          "data": {
            "text/plain": [
              "<_io.TextIOWrapper name='text1.txt' mode='r' encoding='UTF-8'>"
            ]
          },
          "metadata": {},
          "execution_count": 5
        }
      ]
    },
    {
      "cell_type": "code",
      "source": [
        "fopen = open('text1.txt', 'w')\n",
        "fopen"
      ],
      "metadata": {
        "colab": {
          "base_uri": "https://localhost:8080/"
        },
        "id": "LF2ETSM0dj-E",
        "outputId": "6678ca82-00c8-4a23-8f30-a3fa07852266"
      },
      "execution_count": null,
      "outputs": [
        {
          "output_type": "execute_result",
          "data": {
            "text/plain": [
              "<_io.TextIOWrapper name='text1.txt' mode='w' encoding='UTF-8'>"
            ]
          },
          "metadata": {},
          "execution_count": 6
        }
      ]
    },
    {
      "cell_type": "code",
      "source": [
        "fopen.closed"
      ],
      "metadata": {
        "colab": {
          "base_uri": "https://localhost:8080/"
        },
        "id": "LsZMtCbUd3iW",
        "outputId": "cae4713f-ad07-4ee8-b80a-776431be45e7"
      },
      "execution_count": null,
      "outputs": [
        {
          "output_type": "execute_result",
          "data": {
            "text/plain": [
              "False"
            ]
          },
          "metadata": {},
          "execution_count": 11
        }
      ]
    },
    {
      "cell_type": "markdown",
      "source": [
        "###Closing Files in Python\n",
        "\n",
        "* Closing a file will free up the resources that were tied with the file.\n",
        "* It is done using the close() method."
      ],
      "metadata": {
        "id": "7oPzjfBraLXz"
      }
    },
    {
      "cell_type": "code",
      "source": [
        "f = open('puzzle.txt')\n",
        "# operations on file\n",
        "f.close()\n",
        "f.closed"
      ],
      "metadata": {
        "id": "vY4MDTyyQRwg",
        "colab": {
          "base_uri": "https://localhost:8080/"
        },
        "outputId": "616b2f24-3fa6-4907-939e-ef4809948881"
      },
      "execution_count": null,
      "outputs": [
        {
          "output_type": "execute_result",
          "data": {
            "text/plain": [
              "True"
            ]
          },
          "metadata": {},
          "execution_count": 10
        }
      ]
    },
    {
      "cell_type": "markdown",
      "source": [
        "###Reading Files in Python"
      ],
      "metadata": {
        "id": "SEe8Gq5_f-5e"
      }
    },
    {
      "cell_type": "code",
      "source": [
        "def read_file(filename: str) -> list[str]:\n",
        "    file = open(filename, 'r')\n",
        "    return file.read(4)\n",
        "\n",
        "read_file('puzzle.txt')"
      ],
      "metadata": {
        "id": "tRKlj4kmQVSZ",
        "colab": {
          "base_uri": "https://localhost:8080/",
          "height": 35
        },
        "outputId": "dad6e421-f500-4312-cd32-54fd94539e70"
      },
      "execution_count": null,
      "outputs": [
        {
          "output_type": "execute_result",
          "data": {
            "text/plain": [
              "'A ch'"
            ],
            "application/vnd.google.colaboratory.intrinsic+json": {
              "type": "string"
            }
          },
          "metadata": {},
          "execution_count": 12
        }
      ]
    },
    {
      "cell_type": "code",
      "source": [
        "def read_file(filename: str) -> list[str]:\n",
        "    file = open(filename, 'r')\n",
        "    return file.read()\n",
        "\n",
        "print(read_file('puzzle.txt'))"
      ],
      "metadata": {
        "colab": {
          "base_uri": "https://localhost:8080/"
        },
        "id": "x6mR4k37fEAP",
        "outputId": "0b4ce34d-ebdc-4e00-b130-228c85ff1929"
      },
      "execution_count": null,
      "outputs": [
        {
          "output_type": "stream",
          "name": "stdout",
          "text": [
            "A childrens puzzle that was popular 30 years ago consisted of a 5×5 frame which contained 24 small squares of equal size. A unique letter of the alphabet was printed on each small square. Since there were only 24 squares within the frame, the frame also contained an empty position which was the same size as a small square. A square could be moved into that empty position if it were immediately to the right, to the left, above, or below the empty position. The object of the puzzle was to slide squares into the empty position so that the frame displayed the letters in alphabetical order.\n",
            "\n",
            "The illustration below represents a puzzle in its original configuration and in its configuration after the following sequence of 6 moves:\n",
            "\n",
            "The square above the empty position moves.\n",
            "The square to the right of the empty position moves.\n",
            "The square to the right of the empty position moves.\n",
            "The square below the empty position moves.\n",
            "The square below the empty position moves.\n",
            "The square to the left of the empty position moves.\n",
            "\n"
          ]
        }
      ]
    },
    {
      "cell_type": "code",
      "source": [
        "def read_file(filename: str, chars: int | None = None) -> list[str]:\n",
        "  file = open(filename, 'r')\n",
        "  return file.read(chars)\n",
        "read_file('puzzle.txt', 3)"
      ],
      "metadata": {
        "colab": {
          "base_uri": "https://localhost:8080/",
          "height": 35
        },
        "id": "FtNJ6j4ffyxi",
        "outputId": "866ea90a-4bb5-4a0b-d05e-87449d011a41"
      },
      "execution_count": null,
      "outputs": [
        {
          "output_type": "execute_result",
          "data": {
            "text/plain": [
              "'A c'"
            ],
            "application/vnd.google.colaboratory.intrinsic+json": {
              "type": "string"
            }
          },
          "metadata": {},
          "execution_count": 18
        }
      ]
    },
    {
      "cell_type": "code",
      "source": [
        "def read_file(filename: str) -> [str]:\n",
        "    file = open(filename , \"r\")\n",
        "    return file.readlines(3)\n",
        "\n",
        "read_file('puzzle.txt')"
      ],
      "metadata": {
        "colab": {
          "base_uri": "https://localhost:8080/"
        },
        "id": "Fjntij2mgMKR",
        "outputId": "d7b87b7b-cc57-4342-e458-44a5de81a39c"
      },
      "execution_count": null,
      "outputs": [
        {
          "output_type": "execute_result",
          "data": {
            "text/plain": [
              "['A childrens puzzle that was popular 30 years ago consisted of a 5×5 frame which contained 24 small squares of equal size. A unique letter of the alphabet was printed on each small square. Since there were only 24 squares within the frame, the frame also contained an empty position which was the same size as a small square. A square could be moved into that empty position if it were immediately to the right, to the left, above, or below the empty position. The object of the puzzle was to slide squares into the empty position so that the frame displayed the letters in alphabetical order.\\n']"
            ]
          },
          "metadata": {},
          "execution_count": 22
        }
      ]
    },
    {
      "cell_type": "code",
      "source": [
        "def read_file(filename: str) -> [str]:\n",
        "    file = open(filename , \"r\")\n",
        "    return file.readlines()\n",
        "\n",
        "read_file('puzzle.txt')"
      ],
      "metadata": {
        "colab": {
          "base_uri": "https://localhost:8080/"
        },
        "id": "p-uLqoi1gkRe",
        "outputId": "13841a1d-efed-496e-b8a3-f6518d51c57c"
      },
      "execution_count": null,
      "outputs": [
        {
          "output_type": "execute_result",
          "data": {
            "text/plain": [
              "['A childrens puzzle that was popular 30 years ago consisted of a 5×5 frame which contained 24 small squares of equal size. A unique letter of the alphabet was printed on each small square. Since there were only 24 squares within the frame, the frame also contained an empty position which was the same size as a small square. A square could be moved into that empty position if it were immediately to the right, to the left, above, or below the empty position. The object of the puzzle was to slide squares into the empty position so that the frame displayed the letters in alphabetical order.\\n',\n",
              " '\\n',\n",
              " 'The illustration below represents a puzzle in its original configuration and in its configuration after the following sequence of 6 moves:\\n',\n",
              " '\\n',\n",
              " 'The square above the empty position moves.\\n',\n",
              " 'The square to the right of the empty position moves.\\n',\n",
              " 'The square to the right of the empty position moves.\\n',\n",
              " 'The square below the empty position moves.\\n',\n",
              " 'The square below the empty position moves.\\n',\n",
              " 'The square to the left of the empty position moves.\\n']"
            ]
          },
          "metadata": {},
          "execution_count": 29
        }
      ]
    },
    {
      "cell_type": "code",
      "source": [
        "def read_file(filename: str) -> list[str]:\n",
        "    file = open(filename , \"r\")\n",
        "    return file.readline()\n",
        "\n",
        "read_file('text1.txt')"
      ],
      "metadata": {
        "colab": {
          "base_uri": "https://localhost:8080/",
          "height": 35
        },
        "id": "dQLUiHtag6DH",
        "outputId": "33a999f0-d709-4fbb-e471-365be54197cd"
      },
      "execution_count": null,
      "outputs": [
        {
          "output_type": "execute_result",
          "data": {
            "text/plain": [
              "'Happy New\\n'"
            ],
            "application/vnd.google.colaboratory.intrinsic+json": {
              "type": "string"
            }
          },
          "metadata": {},
          "execution_count": 30
        }
      ]
    },
    {
      "cell_type": "code",
      "source": [
        "def read_file(filename: str) -> list[str]:\n",
        "    file = open(filename , \"r\")\n",
        "    return file.readlines()\n",
        "\n",
        "read_file('text1.txt')"
      ],
      "metadata": {
        "colab": {
          "base_uri": "https://localhost:8080/"
        },
        "id": "AQRgAuxqh18M",
        "outputId": "62d1a458-a879-4024-9f60-8f3faafaf0dd"
      },
      "execution_count": null,
      "outputs": [
        {
          "output_type": "execute_result",
          "data": {
            "text/plain": [
              "['Happy New\\n', 'Year-2022\\n', '@Good\\n', 'Morning\\n']"
            ]
          },
          "metadata": {},
          "execution_count": 31
        }
      ]
    },
    {
      "cell_type": "code",
      "source": [
        "def read_file(filename: str) -> list[str]:\n",
        "    text = []\n",
        "\n",
        "    for line in open(filename, 'r'):\n",
        "        text.append(line.strip('\\n'))\n",
        "    return text\n",
        "\n",
        "read_file('puzzle.txt')"
      ],
      "metadata": {
        "colab": {
          "base_uri": "https://localhost:8080/"
        },
        "id": "jvaGN8MpiGjc",
        "outputId": "8b9e2178-dc6d-402f-f529-c3452fd3ba87"
      },
      "execution_count": null,
      "outputs": [
        {
          "output_type": "execute_result",
          "data": {
            "text/plain": [
              "['A childrens puzzle that was popular 30 years ago consisted of a 5×5 frame which contained 24 small squares of equal size. A unique letter of the alphabet was printed on each small square. Since there were only 24 squares within the frame, the frame also contained an empty position which was the same size as a small square. A square could be moved into that empty position if it were immediately to the right, to the left, above, or below the empty position. The object of the puzzle was to slide squares into the empty position so that the frame displayed the letters in alphabetical order.',\n",
              " '',\n",
              " 'The illustration below represents a puzzle in its original configuration and in its configuration after the following sequence of 6 moves:',\n",
              " '',\n",
              " 'The square above the empty position moves.',\n",
              " 'The square to the right of the empty position moves.',\n",
              " 'The square to the right of the empty position moves.',\n",
              " 'The square below the empty position moves.',\n",
              " 'The square below the empty position moves.',\n",
              " 'The square to the left of the empty position moves.']"
            ]
          },
          "metadata": {},
          "execution_count": 32
        }
      ]
    },
    {
      "cell_type": "code",
      "source": [
        "def read_file(filename: str) -> list[str]:\n",
        "    file = open(filename , \"r\")\n",
        "    return [line.strip('\\n') for line in file.readlines()]\n",
        "\n",
        "print(read_file('text1.txt'))"
      ],
      "metadata": {
        "colab": {
          "base_uri": "https://localhost:8080/"
        },
        "id": "_icMUInzjXbF",
        "outputId": "993bed24-d198-4e34-8504-901a57ae790a"
      },
      "execution_count": null,
      "outputs": [
        {
          "output_type": "stream",
          "name": "stdout",
          "text": [
            "['Happy New', 'Year-2022', '@Good', 'Morning']\n"
          ]
        }
      ]
    },
    {
      "cell_type": "code",
      "source": [
        "def read_file(filename: str) -> list[str]:\n",
        "    text = []\n",
        "    f = open(filename, 'r')\n",
        "    try:\n",
        "        for line in f:\n",
        "            text.append(line.strip('\\n'))\n",
        "        return text\n",
        "    #except <some error>:\n",
        "    finally:\n",
        "        f.close()\n",
        "\n",
        "read_file('puzzle.txt')"
      ],
      "metadata": {
        "id": "x1gy_vlVkb8t"
      },
      "execution_count": null,
      "outputs": []
    },
    {
      "cell_type": "code",
      "source": [
        "## THIS IS THE ONE TO LEARN\n",
        "## PLEASE LEARN THE `with` keyword\n",
        "\n",
        "def read_file(filename: str) -> list[str]:\n",
        "    text = []\n",
        "    file = open(filenane, 'r')\n",
        "    with file:\n",
        "        for line in file:\n",
        "            text.append(line.strip('\\n'))\n",
        "        return text"
      ],
      "metadata": {
        "id": "mJdVL-JKk8ml"
      },
      "execution_count": null,
      "outputs": []
    },
    {
      "cell_type": "code",
      "source": [
        "def read_file(filename: str) -> list[str]:\n",
        "    text = []\n",
        "    with open(filename, 'r') as file:\n",
        "        for line in file:\n",
        "            text.append(line.strip('\\n'))\n",
        "        return text"
      ],
      "metadata": {
        "id": "Ehxo4v0blk7c"
      },
      "execution_count": null,
      "outputs": []
    },
    {
      "cell_type": "code",
      "source": [
        "def read_file(filename: str) -> list[str]:\n",
        "    with open(filename, 'r') as file:\n",
        "        return [line.strip('\\n') for line in file.readlines()]\n",
        "\n",
        "read_file('puzzle.txt')"
      ],
      "metadata": {
        "colab": {
          "base_uri": "https://localhost:8080/"
        },
        "id": "wmFCrsJ_l0y-",
        "outputId": "fec956a6-2599-419e-db8a-1766b476ce4f"
      },
      "execution_count": null,
      "outputs": [
        {
          "output_type": "execute_result",
          "data": {
            "text/plain": [
              "['A childrens puzzle that was popular 30 years ago consisted of a 5×5 frame which contained 24 small squares of equal size. A unique letter of the alphabet was printed on each small square. Since there were only 24 squares within the frame, the frame also contained an empty position which was the same size as a small square. A square could be moved into that empty position if it were immediately to the right, to the left, above, or below the empty position. The object of the puzzle was to slide squares into the empty position so that the frame displayed the letters in alphabetical order.',\n",
              " '',\n",
              " 'The illustration below represents a puzzle in its original configuration and in its configuration after the following sequence of 6 moves:',\n",
              " '',\n",
              " 'The square above the empty position moves.',\n",
              " 'The square to the right of the empty position moves.',\n",
              " 'The square to the right of the empty position moves.',\n",
              " 'The square below the empty position moves.',\n",
              " 'The square below the empty position moves.',\n",
              " 'The square to the left of the empty position moves.']"
            ]
          },
          "metadata": {},
          "execution_count": 37
        }
      ]
    },
    {
      "cell_type": "markdown",
      "source": [
        "###Writing Files in Python\n",
        "\n",
        "* In order to write into a file in Python, we need to open it in write `w` or append `a` mode.\n",
        "* We need to be careful with the `w` mode, as it will overwrite into the file if it already exists."
      ],
      "metadata": {
        "id": "aZZZ1xxWhn4_"
      }
    },
    {
      "cell_type": "code",
      "source": [
        "def write_file(filename: str) -> None:\n",
        "    file = open(filename, 'w')\n",
        "    file.write(\"Hello\\n\")\n",
        "    file.write(\"World\\n\")\n",
        "    file.write(\"!\\n\")\n",
        "    file.close()\n",
        "\n",
        "write_file('text3.txt')"
      ],
      "metadata": {
        "id": "VmS8LF7yQWkK"
      },
      "execution_count": null,
      "outputs": []
    },
    {
      "cell_type": "markdown",
      "source": [
        "This program will create a new file named text3.txt in the current directory if it does not exist. If it does exist, it is overwritten."
      ],
      "metadata": {
        "id": "Vt_VQe3qzphY"
      }
    },
    {
      "cell_type": "code",
      "source": [
        "def read_file(filename: str) -> list[str]:\n",
        "    file = open(filename , \"r\")\n",
        "    return file.readlines()\n",
        "\n",
        "read_file('text3.txt')"
      ],
      "metadata": {
        "id": "zWAYi607QdWc",
        "colab": {
          "base_uri": "https://localhost:8080/"
        },
        "outputId": "ffb019d9-6d92-432a-b7e2-090e1378a293"
      },
      "execution_count": null,
      "outputs": [
        {
          "output_type": "execute_result",
          "data": {
            "text/plain": [
              "['Hello\\n', 'World\\n', '!\\n']"
            ]
          },
          "metadata": {},
          "execution_count": 42
        }
      ]
    },
    {
      "cell_type": "code",
      "source": [
        "def write_file_lines(filename: str) -> None:\n",
        "    file = open(filename, 'w')\n",
        "    file.writelines('welcome\\nto\\n\\nTechWise\\nProgram\\n')\n",
        "    file.close()\n",
        "\n",
        "write_file_lines('text4.txt')"
      ],
      "metadata": {
        "id": "VcsfZGQqoQAT"
      },
      "execution_count": null,
      "outputs": []
    },
    {
      "cell_type": "code",
      "source": [
        "def read_file(filename: str) -> list[str]:\n",
        "    file = open(filename , \"r\")\n",
        "    return file.readlines()\n",
        "\n",
        "read_file('text4.txt')"
      ],
      "metadata": {
        "colab": {
          "base_uri": "https://localhost:8080/"
        },
        "id": "u1RCSm10pJr-",
        "outputId": "e2a48958-f10a-4091-a84f-714e3737646f"
      },
      "execution_count": null,
      "outputs": [
        {
          "output_type": "execute_result",
          "data": {
            "text/plain": [
              "['welcome\\n', 'to\\n', '\\n', 'TechWise\\n', 'Program\\n']"
            ]
          },
          "metadata": {},
          "execution_count": 44
        }
      ]
    },
    {
      "cell_type": "code",
      "source": [
        "## THIS CODE IS BETTER BECAUSE IT CLOSES THE FILE\n",
        "\n",
        "def write_file_lines(filename: str) -> None:\n",
        "    with open(filename, 'w') as file:\n",
        "        # FILE IS OPEN HERE\n",
        "        file.writelines(['welcome\\n','to\\n','\\n','TechWise\\n','Program\\n'])\n",
        "    # FILE IS CLOSED HERE\n",
        "\n",
        "write_file_lines('text4.txt')\n",
        "\n",
        "def read_file(filename: str) -> list[str]:\n",
        "    with open(filename, 'r') as file:\n",
        "        return file.readlines()\n",
        "\n",
        "read_file('text4.txt')\n",
        "\n"
      ],
      "metadata": {
        "colab": {
          "base_uri": "https://localhost:8080/"
        },
        "id": "u9kCGc9-pNrr",
        "outputId": "83accd6b-635d-46b2-b92c-d1b29e8d4aa1"
      },
      "execution_count": null,
      "outputs": [
        {
          "output_type": "execute_result",
          "data": {
            "text/plain": [
              "['welcome\\n', 'to\\n', '\\n', 'TechWise\\n', 'Program\\n']"
            ]
          },
          "metadata": {},
          "execution_count": 49
        }
      ]
    },
    {
      "cell_type": "markdown",
      "source": [
        "##PROBLEM - 1\n",
        "\n",
        "Write a program to count the alphabets, digits and symbols present in a file."
      ],
      "metadata": {
        "id": "2KtGKS8bwSAn"
      }
    },
    {
      "cell_type": "code",
      "source": [
        "def count_alphabets_digits(filename: str) -> tuple[int, int, int]:\n",
        "    alpha_count, digit_count, symbol_count = 0, 0, 0\n",
        "    with open(filename, 'r') as text:\n",
        "        for line in text:\n",
        "            for char in line:\n",
        "                if char.isalpha():\n",
        "                    alpha_count += 1\n",
        "                elif char.isnumeric():\n",
        "                    digit_count += 1\n",
        "                else:\n",
        "                    symbol_count += 1\n",
        "        return alpha_count, digit_count, symbol_count\n",
        "\n",
        "count_alphabets_digits('text1.txt')\n"
      ],
      "metadata": {
        "id": "vS5qk5PkQfYu",
        "colab": {
          "base_uri": "https://localhost:8080/"
        },
        "outputId": "4a30f1f2-0634-4fb2-aa9c-300e25cfce19"
      },
      "execution_count": null,
      "outputs": [
        {
          "output_type": "execute_result",
          "data": {
            "text/plain": [
              "(23, 4, 7)"
            ]
          },
          "metadata": {},
          "execution_count": 51
        }
      ]
    },
    {
      "cell_type": "markdown",
      "source": [
        "##PROBLEM - 2\n",
        "\n",
        "Write a program to create a file, write numbers into the file and calculate the average of the numbers present in a file."
      ],
      "metadata": {
        "id": "MQBm6UaLz3rY"
      }
    },
    {
      "cell_type": "code",
      "source": [
        "def write_file(filename: str, num_list: list[int]) -> None:\n",
        "    with open(filename, 'w') as file:\n",
        "        for item in num_list:\n",
        "            file.write(f'{item}\\n')\n",
        "            # file.write(str(item) + '\\n')\n",
        "\n",
        "write_file('puzzle1.txt', [10, 20, 30, 40, 50])"
      ],
      "metadata": {
        "id": "0Zeawyf7QmaV"
      },
      "execution_count": null,
      "outputs": []
    },
    {
      "cell_type": "code",
      "source": [
        "def read_file(filename: str) -> list[str]:\n",
        "    with open(filename, 'r') as file:\n",
        "        return file.readlines()\n",
        "\n",
        "read_file('puzzle1.txt')"
      ],
      "metadata": {
        "colab": {
          "base_uri": "https://localhost:8080/"
        },
        "id": "V3mGQT69siwC",
        "outputId": "a905e849-dcb9-4267-fae6-ca523acdb500"
      },
      "execution_count": null,
      "outputs": [
        {
          "output_type": "execute_result",
          "data": {
            "text/plain": [
              "['10\\n', '20\\n', '30\\n', '40\\n', '50\\n']"
            ]
          },
          "metadata": {},
          "execution_count": 59
        }
      ]
    },
    {
      "cell_type": "code",
      "source": [
        "def calculate_avg(filename: str) -> float:\n",
        "    lines = read_file(filename)\n",
        "    total, count = 0, 0\n",
        "    for item in lines:\n",
        "        total += int(item)\n",
        "        count += 1\n",
        "    return total / count\n",
        "\n",
        "calculate_avg('puzzle1.txt')"
      ],
      "metadata": {
        "colab": {
          "base_uri": "https://localhost:8080/"
        },
        "id": "aeCcAD_ns4xA",
        "outputId": "cb4c7ba7-b9dd-4c54-ba23-0630504813c3"
      },
      "execution_count": null,
      "outputs": [
        {
          "output_type": "execute_result",
          "data": {
            "text/plain": [
              "30.0"
            ]
          },
          "metadata": {},
          "execution_count": 58
        }
      ]
    },
    {
      "cell_type": "code",
      "source": [
        "def count_alphabets_digits(filename: str)->(int, int, int):\n",
        "    text = read_file(filename)\n",
        "    alpha_count, digit_count, symbol_count = 0, 0, 0\n",
        "    for line in text:\n",
        "        for char in line:\n",
        "            if char.isalpha():\n",
        "                alpha_count += 1\n",
        "            elif char.isnumeric():\n",
        "                digit_count += 1\n",
        "            else:\n",
        "                symbol_count += 1\n",
        "    return alpha_count, digit_count, symbol_count\n",
        "\n",
        "count_alphabets_digits('text5.txt')"
      ],
      "metadata": {
        "colab": {
          "base_uri": "https://localhost:8080/"
        },
        "id": "6ceHFaQmu-9Y",
        "outputId": "e2ce6012-258d-4d72-c9b6-f6f8b13a8359"
      },
      "execution_count": null,
      "outputs": [
        {
          "output_type": "execute_result",
          "data": {
            "text/plain": [
              "(10, 5, 4)"
            ]
          },
          "metadata": {},
          "execution_count": 64
        }
      ]
    },
    {
      "cell_type": "markdown",
      "source": [
        "##Assignment - 20 - 01\n",
        "\n",
        "##Count vowels and consonants\n",
        "\n",
        "Write a program to read the content from the \"Content.txt\" file and return the count of vowels and consonants.\n",
        "\n",
        "Content.txt\n",
        "https://drive.google.com/file/d/1h60E9b3r9ecFLPxnd5lYzDzLiza0NsK3/view?usp=sharing\n",
        "\n",
        "\n"
      ],
      "metadata": {
        "id": "Gj7UFbBH8WiD"
      }
    },
    {
      "cell_type": "code",
      "source": [
        "def count_vowel_and_cons(filename: str)-> tuple[int, int]:\n",
        "    #Write your code here\n",
        "    return\n"
      ],
      "metadata": {
        "id": "nkmQ-aYcJGG5"
      },
      "execution_count": null,
      "outputs": []
    },
    {
      "cell_type": "markdown",
      "source": [
        "##Assignment - 20 - 02\n",
        "\n",
        "##Add Rank to the students\n",
        "\n",
        "Implement a program to rank the students according to their marks.\n",
        "\n",
        "Note: The ranking system:\n",
        "\n",
        "If two students of the class get equal marks, they are given the same rank but students with different marks are given the rank as the (number of students above them + 1). See the example for more clarity.\n",
        "\n",
        "There are five students in a class. Their marks distribution is:\n",
        "98 68 74 21 74\n",
        "\n",
        "That is first student gets marks 98, second gets 68, and so on.\n",
        "Now , the highest marks is 98. So, the first student gets rank 1.\n",
        "Next higher marks is 74. So student 3 and 5 gets rank 2.\n",
        "Next higher marks is 68 and there are three students (1,3,5) who have got marks higher than him. So he gets rank 4.\n",
        "Similarly , student with marks 21 gets rank 5.\n",
        "\n",
        "\n",
        "Sample data in the file\n",
        "\n",
        "    John, 84\n",
        "    Micheal, 90\n",
        "    Peter, 65\n",
        "    Jenny, 90\n",
        "    Ryan, 77\n",
        "    Ashaa, 84\n",
        "    Kerry, 52\n",
        "    Kingsley, 17\n",
        "    Wincy, 95\n",
        "    Princy, 95\n",
        "    Johnright, 65\n",
        "    Mike, 76\n",
        "    Peterpot, 64\n",
        "    Mark, 98\n",
        "    Raj, 76\n",
        "    Ashaa, 85\n",
        "    Perrt, 53\n",
        "    Queen, 15\n",
        "    Anshu, 90\n",
        "    Amar, 92\n",
        "\n",
        "\n",
        "\n",
        "\n",
        "**Expected Output:**\n",
        "\n",
        "    1  Mark           98    \n",
        "    2  Wincy          95    \n",
        "    2  Princy         95    \n",
        "    4  Amar           92    \n",
        "    5  Micheal        90    \n",
        "    5  Jenny          90    \n",
        "    5  Anshu          90    \n",
        "    8  Ashaa          85    \n",
        "    9  John           84    \n",
        "    9  Ashaa          84    \n",
        "    11  Ryan           77    \n",
        "    12  Mike           76    \n",
        "    12  Raj            76    \n",
        "    14  Peter          65    \n",
        "    14  Johnright      65    \n",
        "    16  Peterpot       64    \n",
        "    17  Perrt          53    \n",
        "    18  Kerry          52    \n",
        "    19  Kingsley       17    \n",
        "    20  Queen          15    \n",
        "\n",
        "\n",
        "Sample file: StudentData.txt\n",
        "https://drive.google.com/file/d/1dNAPtIZ6McDx9hbXQjPXghjOQ2RoDf9Y/view?usp=sharing"
      ],
      "metadata": {
        "id": "Z_C5qmCTBpsp"
      }
    },
    {
      "cell_type": "code",
      "source": [
        "def arrange_rank(filename: str):\n",
        "    #Write your code here\n",
        "    return\n"
      ],
      "metadata": {
        "id": "ZpHrqYfAOaL4"
      },
      "execution_count": null,
      "outputs": []
    }
  ]
}