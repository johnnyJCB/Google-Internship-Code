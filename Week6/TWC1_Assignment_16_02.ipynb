{
  "cells": [
    {
      "cell_type": "markdown",
      "metadata": {
        "id": "Na0j6cv7D83_"
      },
      "source": [
        "# This is Assignment_20-02 workbook for TechWise Program\n",
        "\n",
        "\n",
        "\n",
        "\n",
        "\n",
        "\n"
      ]
    },
    {
      "cell_type": "markdown",
      "metadata": {
        "id": "BNLA8HiKxQhc"
      },
      "source": [
        "### Setup Steps:"
      ]
    },
    {
      "cell_type": "code",
      "execution_count": 4,
      "metadata": {
        "id": "2YzfoPvJDiTX"
      },
      "outputs": [],
      "source": [
        "#@title Please enter your registration id to start: { run: \"auto\", display-mode: \"form\" }\n",
        "Id = \"2304983\" #@param {type:\"string\"}"
      ]
    },
    {
      "cell_type": "code",
      "execution_count": 5,
      "metadata": {
        "cellView": "form",
        "colab": {
          "base_uri": "https://localhost:8080/",
          "height": 34
        },
        "id": "WBPPuGmBlDIN",
        "outputId": "c1800037-c11e-47d8-c740-c03f7d3763f7"
      },
      "outputs": [
        {
          "data": {
            "text/html": [
              "<script src=\"https://dashboard.talentsprint.com/aiml/record_ip.html?traineeId=2304983&recordId=8740\"></script>"
            ],
            "text/plain": [
              "<IPython.core.display.HTML object>"
            ]
          },
          "metadata": {},
          "output_type": "display_data"
        },
        {
          "name": "stdout",
          "output_type": "stream",
          "text": [
            "Setup completed successfully\n"
          ]
        }
      ],
      "source": [
        "#@title Run this cell to complete the setup for this Notebook\n",
        "from IPython import get_ipython\n",
        "\n",
        "ipython = get_ipython()\n",
        "\n",
        "notebook= \"TWC1_Assignment_20-02\" #name of the notebook\n",
        "\n",
        "def setup():\n",
        "#  ipython.magic(\"sx pip3 install torch\")\n",
        "    from IPython.display import HTML, display\n",
        "    display(HTML('<script src=\"https://dashboard.talentsprint.com/aiml/record_ip.html?traineeId={0}&recordId={1}\"></script>'.format(getId(),submission_id)))\n",
        "    print(\"Setup completed successfully\")\n",
        "    return\n",
        "\n",
        "def submit_notebook():\n",
        "    ipython.magic(\"notebook -e \"+ notebook + \".ipynb\")\n",
        "\n",
        "    import requests, json, base64, datetime\n",
        "\n",
        "    url = \"https://dashboard.talentsprint.com/xp/app/save_notebook_attempts\"\n",
        "    if not submission_id:\n",
        "      data = {\"id\" : getId(), \"notebook\" : notebook}\n",
        "      r = requests.post(url, data = data)\n",
        "      r = json.loads(r.text)\n",
        "\n",
        "      if r[\"status\"] == \"Success\":\n",
        "\n",
        "          return r[\"record_id\"]\n",
        "      elif \"err\" in r:\n",
        "        print(r[\"err\"])\n",
        "        return None\n",
        "      else:\n",
        "        print (\"Something is wrong, the notebook will not be submitted for grading\")\n",
        "        return None\n",
        "\n",
        "    elif getComplexity() and getTimeTaken() and getStatus():\n",
        "      f = open(notebook + \".ipynb\", \"rb\")\n",
        "      file_hash = base64.b64encode(f.read())\n",
        "      data = {\"complexity\" : Complexity,\n",
        "              \"record_id\" : submission_id,\n",
        "              \"id\" : Id, \"file_hash\" : file_hash,\n",
        "              \"notebook\" : notebook, \"timetaken\" : TimeTaken, \"experiment_status\" : Status}\n",
        "      r = requests.post(url, data = data)\n",
        "      r = json.loads(r.text)\n",
        "      if \"err\" in r:\n",
        "        print(r[\"err\"])\n",
        "        return None\n",
        "      else:\n",
        "        print(\"Your submission is successful.\")\n",
        "        print(\"Ref Id:\", submission_id)\n",
        "        print(\"Date of submission: \", r[\"date\"])\n",
        "        print(\"Time of submission: \", r[\"time\"])\n",
        "        print(\"View your submissions: https://learn.techwise.talentsprint.com/notebook_submissions\")\n",
        "        #print(\"For any queries/discrepancies, please connect with mentors through the chat icon in LMS dashboard.\")\n",
        "        return submission_id\n",
        "    else: submission_id\n",
        "\n",
        "\n",
        "def getStatus():\n",
        "  try:\n",
        "    if not Status:\n",
        "      raise NameError\n",
        "    else:\n",
        "      return Status\n",
        "  except NameError:\n",
        "    print (\"Please answer Status Question\")\n",
        "    return None\n",
        "\n",
        "def getTimeTaken():\n",
        "  try:\n",
        "    if not TimeTaken:\n",
        "      raise NameError\n",
        "    else:\n",
        "      return TimeTaken\n",
        "  except NameError:\n",
        "    print (\"Please answer TimeTaken Question\")\n",
        "    return None\n",
        "\n",
        "def getComplexity():\n",
        "  try:\n",
        "    if not Complexity:\n",
        "      raise NameError\n",
        "    else:\n",
        "      return Complexity\n",
        "  except NameError:\n",
        "    print (\"Please answer Complexity Question\")\n",
        "    return None\n",
        "\n",
        "\n",
        "def getId():\n",
        "  try:\n",
        "    return Id if Id else None\n",
        "  except NameError:\n",
        "    return None\n",
        "\n",
        "\n",
        "submission_id = None\n",
        "### Setup\n",
        "if  getId():\n",
        "  submission_id = submit_notebook()\n",
        "  if submission_id:\n",
        "    setup()\n",
        "else:\n",
        "  print (\"Please complete Id cell before running setup\")\n",
        "\n"
      ]
    },
    {
      "cell_type": "markdown",
      "metadata": {
        "id": "8kU1SMdbaGPP"
      },
      "source": [
        "##Assignment - 20 - 02\n",
        "\n",
        "##Add Rank to the students\n",
        "\n",
        "Implement a program to rank the students according to their marks.\n",
        "\n",
        "Note: The ranking system:\n",
        "\n",
        "If two students of the class get equal marks, they are given the same rank but students with different marks are given the rank as the (number of students above them + 1). See the example for more clarity.\n",
        "\n",
        "There are five students in a class. Their marks distribution is: 98 68 74 21 74\n",
        "\n",
        "That is first student gets marks 98, second gets 68, and so on. Now , the highest marks is 98. So, the first student gets rank 1. Next higher marks is 74. So student 3 and 5 gets rank 2. Next higher marks is 68 and there are three students (1,3,5) who have got marks higher than him. So he gets rank 4. Similarly , student with marks 21 gets rank 5.\n",
        "\n",
        "Sample data in the file\n",
        "\n",
        "    John, 84\n",
        "    Micheal, 90\n",
        "    Peter, 65\n",
        "    Jenny, 90\n",
        "    Ryan, 77\n",
        "    Ashaa, 84\n",
        "    Kerry, 52\n",
        "    Kingsley, 17\n",
        "    Wincy, 95\n",
        "    Princy, 95\n",
        "    Johnright, 65\n",
        "    Mike, 76\n",
        "    Peterpot, 64\n",
        "    Mark, 98\n",
        "    Raj, 76\n",
        "    Ashaa, 85\n",
        "    Perrt, 53\n",
        "    Queen, 15\n",
        "    Anshu, 90\n",
        "    Amar, 92\n",
        "\n",
        "\n",
        "\n",
        "\n",
        "**Expected Output:**\n",
        "\n",
        "    1  Mark           98    \n",
        "    2  Wincy          95    \n",
        "    2  Princy         95    \n",
        "    4  Amar           92    \n",
        "    5  Micheal        90    \n",
        "    5  Jenny          90    \n",
        "    5  Anshu          90    \n",
        "    8  Ashaa          85    \n",
        "    9  John           84    \n",
        "    9  Ashaa          84    \n",
        "    11  Ryan          77    \n",
        "    12  Mike          76    \n",
        "    12  Raj           76    \n",
        "    14  Peter         65    \n",
        "    14  Johnright     65    \n",
        "    16  Peterpot      64    \n",
        "    17  Perrt         53    \n",
        "    18  Kerry         52    \n",
        "    19  Kingsley      17    \n",
        "    20  Queen         15    \n",
        "\n",
        "\n",
        "Sample file: StudentData.txt\n",
        "https://drive.google.com/file/d/1dNAPtIZ6McDx9hbXQjPXghjOQ2RoDf9Y/view?usp=sharing"
      ]
    },
    {
      "cell_type": "code",
      "execution_count": 6,
      "metadata": {
        "id": "-kgm-uzFaF01"
      },
      "outputs": [],
      "source": [
        "def rank_student(filename: str) -> str:\n",
        "    ranked_students = ''\n",
        "    counter = 1\n",
        "\n",
        "    for key, value in read_file(filename):\n",
        "      for item in value:\n",
        "\n",
        "        ranked_students += f'{counter} {item} {key}\\n'\n",
        "\n",
        "      counter += len(value)\n",
        "\n",
        "    return ranked_students\n",
        "\n",
        "def read_file(filename: str) -> dict:\n",
        "    name_dict = {}\n",
        "\n",
        "    with open(filename, 'r') as data:\n",
        "      for line in data:\n",
        "\n",
        "        (val, key) = line.strip(\"\\n\").strip().split(\", \")\n",
        "\n",
        "        name_list = name_dict.get(int(key), []) + [val]\n",
        "\n",
        "        name_dict[int(key)] = name_list\n",
        "\n",
        "\n",
        "    return sorted(name_dict.items(), reverse=True)\n"
      ]
    },
    {
      "cell_type": "code",
      "execution_count": null,
      "metadata": {},
      "outputs": [],
      "source": []
    },
    {
      "cell_type": "markdown",
      "metadata": {
        "id": "VHfHdGCP_n6Y"
      },
      "source": [
        "### Please answer the questions below to complete the experiment:\n",
        "\n",
        "\n"
      ]
    },
    {
      "cell_type": "code",
      "execution_count": 7,
      "metadata": {
        "id": "NMzKSbLIgFzQ"
      },
      "outputs": [],
      "source": [
        "#@title How was the experiment? { run: \"auto\", form-width: \"500px\", display-mode: \"form\" }\n",
        "Complexity = \"Too Difficult for me\" #@param [\"\",\"Too Simple, I am wasting time\", \"Good, But Not Challenging for me\", \"Good and Challenging for me\", \"Was Tough, but I did it\", \"Too Difficult for me\"]\n"
      ]
    },
    {
      "cell_type": "code",
      "execution_count": 8,
      "metadata": {
        "id": "ukxderAFFkAy"
      },
      "outputs": [],
      "source": [
        "#@title How much time did you take? { run: \"auto\", form-width: \"500px\", display-mode: \"form\" }\n",
        "TimeTaken = \"More Than 2 Hour\" #@param [\"\",\"Below 1 Hour\", \"1 Hour\", \"2 Hour\", \"More Than 2 Hour\"]\n"
      ]
    },
    {
      "cell_type": "code",
      "execution_count": 9,
      "metadata": {
        "id": "O2eotYAjGiKh"
      },
      "outputs": [],
      "source": [
        "#@title Could you complete the experiment without seeing the Video? { run: \"auto\", form-width: \"500px\", display-mode: \"form\" }\n",
        "Status = \"No\" #@param [\"\",\"Yes\", \"No\"]\n"
      ]
    },
    {
      "cell_type": "code",
      "execution_count": 10,
      "metadata": {
        "cellView": "form",
        "colab": {
          "base_uri": "https://localhost:8080/"
        },
        "id": "FzAZHt1zw-Y-",
        "outputId": "f6cae1aa-7530-46b7-9f34-875afa3ce36c"
      },
      "outputs": [
        {
          "name": "stdout",
          "output_type": "stream",
          "text": [
            "Your submission is successful.\n",
            "Ref Id: 8740\n",
            "Date of submission:  25 Apr 2024 (UTC)\n",
            "Time of submission:  11:38:47 (UTC)\n",
            "View your submissions: https://learn.techwise.talentsprint.com/notebook_submissions\n"
          ]
        }
      ],
      "source": [
        "#@title Run this cell to submit your notebook for grading { vertical-output: true }\n",
        "try:\n",
        "  if submission_id:\n",
        "      return_id = submit_notebook()\n",
        "      if return_id : submission_id = return_id\n",
        "  else:\n",
        "      print(\"Please complete the setup first.\")\n",
        "except NameError as err:\n",
        "  print(err)\n",
        "  print (\"Please complete the setup first.\")"
      ]
    }
  ],
  "metadata": {
    "colab": {
      "provenance": []
    },
    "kernelspec": {
      "display_name": "Python 3",
      "name": "python3"
    }
  },
  "nbformat": 4,
  "nbformat_minor": 0
}
