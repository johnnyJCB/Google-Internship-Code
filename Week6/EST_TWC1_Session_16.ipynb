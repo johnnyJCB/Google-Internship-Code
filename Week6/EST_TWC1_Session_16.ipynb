{
  "nbformat": 4,
  "nbformat_minor": 0,
  "metadata": {
    "colab": {
      "provenance": []
    },
    "kernelspec": {
      "name": "python3",
      "display_name": "Python 3"
    },
    "language_info": {
      "name": "python"
    }
  },
  "cells": [
    {
      "cell_type": "markdown",
      "source": [
        "\n",
        "#Session 19\n",
        "\n",
        "* Types of Arguments\n",
        "    - Required Arguments\n",
        "    - Default Arguments\n",
        "    - Variable-length Arguments\n",
        "    - Keyword Arguments\n",
        "\n",
        "* Assignments:\n",
        "     - Calculate Perimeter Problem\n",
        "     - Concatenate the strings in the reverse order Problem"
      ],
      "metadata": {
        "id": "OmVtKrcMYbH7"
      }
    },
    {
      "cell_type": "markdown",
      "source": [
        "https://docs.python.org/3/glossary.html#term-parameter"
      ],
      "metadata": {
        "id": "hCSP6fwnmfnf"
      }
    },
    {
      "cell_type": "markdown",
      "source": [],
      "metadata": {
        "id": "VKoKaClTfMOq"
      }
    },
    {
      "cell_type": "markdown",
      "source": [
        "#TYPE OF ARGUMENTS"
      ],
      "metadata": {
        "id": "Ws8Wkw9FtmgG"
      }
    },
    {
      "cell_type": "markdown",
      "source": [
        "##Required Arguments\n",
        "\n",
        "##Problem - 1\n",
        "\n",
        "Implement a function which calculate the sum of digits of a number."
      ],
      "metadata": {
        "id": "LlCyxjPJszwk"
      }
    },
    {
      "cell_type": "code",
      "source": [
        "def sum_of_digits(num: int)-> int:\n",
        "    total = 0\n",
        "    while num > 0:\n",
        "        total += num % 10\n",
        "        num //= 10\n",
        "    return total\n",
        "\n",
        "sum_of_digits(1234)"
      ],
      "metadata": {
        "colab": {
          "base_uri": "https://localhost:8080/"
        },
        "id": "_26JeNR-GOFb",
        "outputId": "636946f2-fcef-4853-c468-7c7b255c2eb3"
      },
      "execution_count": null,
      "outputs": [
        {
          "output_type": "execute_result",
          "data": {
            "text/plain": [
              "10"
            ]
          },
          "metadata": {},
          "execution_count": 8
        }
      ]
    },
    {
      "cell_type": "code",
      "source": [
        "sum_of_digits()"
      ],
      "metadata": {
        "colab": {
          "base_uri": "https://localhost:8080/",
          "height": 141
        },
        "id": "xbBR_A61GXgK",
        "outputId": "ac50a664-502b-4097-efeb-6c88d3eb387b"
      },
      "execution_count": null,
      "outputs": [
        {
          "output_type": "error",
          "ename": "TypeError",
          "evalue": "sum_of_digits() missing 1 required positional argument: 'num'",
          "traceback": [
            "\u001b[0;31m---------------------------------------------------------------------------\u001b[0m",
            "\u001b[0;31mTypeError\u001b[0m                                 Traceback (most recent call last)",
            "\u001b[0;32m<ipython-input-9-b70250223123>\u001b[0m in \u001b[0;36m<cell line: 1>\u001b[0;34m()\u001b[0m\n\u001b[0;32m----> 1\u001b[0;31m \u001b[0msum_of_digits\u001b[0m\u001b[0;34m(\u001b[0m\u001b[0;34m)\u001b[0m\u001b[0;34m\u001b[0m\u001b[0;34m\u001b[0m\u001b[0m\n\u001b[0m",
            "\u001b[0;31mTypeError\u001b[0m: sum_of_digits() missing 1 required positional argument: 'num'"
          ]
        }
      ]
    },
    {
      "cell_type": "markdown",
      "source": [
        "## Default Arguments\n",
        "\n",
        "\n",
        "* Function arguments can have default values in Python.\n",
        "\n",
        "* We can provide a default value to an argument by using the assignment operator ( = ).\n"
      ],
      "metadata": {
        "id": "YtbzMs_8tSrJ"
      }
    },
    {
      "cell_type": "code",
      "source": [
        "def sum_of_digits(num: int=0)-> int:\n",
        "    total = 0\n",
        "    while num > 0:\n",
        "        total += num % 10\n",
        "        num //= 10\n",
        "    return total\n",
        "\n",
        "print(sum_of_digits(1234))\n",
        "print(sum_of_digits())"
      ],
      "metadata": {
        "colab": {
          "base_uri": "https://localhost:8080/"
        },
        "id": "R1oACsv7G38M",
        "outputId": "f6100cdb-f80a-49cb-acb7-21648238c303"
      },
      "execution_count": null,
      "outputs": [
        {
          "output_type": "stream",
          "name": "stdout",
          "text": [
            "10\n",
            "0\n"
          ]
        }
      ]
    },
    {
      "cell_type": "markdown",
      "source": [
        "##Problem - 2\n",
        "\n",
        "Implement a function to calculate the gross salary of an employee for the month of March. He is expecting 10% of HRA and 12% of TA on his basic salary. This month every employee will receive a $500 as a bonus."
      ],
      "metadata": {
        "id": "3waz3N-AEHTk"
      }
    },
    {
      "cell_type": "code",
      "source": [
        "def calculate_gross(salary:int)->int:\n",
        "    Total = 0\n",
        "    Total += salary\n",
        "    Total += salary * .1\n",
        "    Total += salary * .12\n",
        "    Total += 500\n",
        "    return Total\n",
        "\n",
        "calculate_gross(3000)"
      ],
      "metadata": {
        "id": "9QGGIjh6PLSv"
      },
      "execution_count": null,
      "outputs": []
    },
    {
      "cell_type": "code",
      "source": [
        "def calculate_gross(basic_salary: float, bonus: float = 500)-> float:\n",
        "    hra = basic_salary * 0.1\n",
        "    ta = basic_salary * 0.12\n",
        "    return basic_salary + ta + hra + bonus\n",
        "\n",
        "calculate_gross(3000)"
      ],
      "metadata": {
        "colab": {
          "base_uri": "https://localhost:8080/"
        },
        "id": "m76D6tc0POxO",
        "outputId": "18e6fc81-1e8f-4c14-f602-f0f196d2d511"
      },
      "execution_count": null,
      "outputs": [
        {
          "output_type": "execute_result",
          "data": {
            "text/plain": [
              "4160.0"
            ]
          },
          "metadata": {},
          "execution_count": 14
        }
      ]
    },
    {
      "cell_type": "markdown",
      "source": [
        "##Variable-length Arguments ( *args )\n",
        "\n",
        "\n",
        "##Problem - 3\n",
        "\n",
        "Calculate the sum of given numbers."
      ],
      "metadata": {
        "id": "FVbm_L3-wNhM"
      }
    },
    {
      "cell_type": "code",
      "source": [
        "calc_sum(2, 3, 4) # this would return 9\n",
        "#calc_sum(2)\n",
        "#calc_sum(2, 3)\n",
        "calc_sum(1,2,3,4,6)"
      ],
      "metadata": {
        "colab": {
          "base_uri": "https://localhost:8080/",
          "height": 176
        },
        "id": "8kgkYG0GQGAo",
        "outputId": "7912b24f-c19e-4f68-c67e-b495c34b31b4"
      },
      "execution_count": null,
      "outputs": [
        {
          "output_type": "error",
          "ename": "TypeError",
          "evalue": "calc_sum() takes 3 positional arguments but 5 were given",
          "traceback": [
            "\u001b[0;31m---------------------------------------------------------------------------\u001b[0m",
            "\u001b[0;31mTypeError\u001b[0m                                 Traceback (most recent call last)",
            "\u001b[0;32m<ipython-input-22-bb68aa49aca1>\u001b[0m in \u001b[0;36m<cell line: 4>\u001b[0;34m()\u001b[0m\n\u001b[1;32m      2\u001b[0m \u001b[0;31m#calc_sum(2)\u001b[0m\u001b[0;34m\u001b[0m\u001b[0;34m\u001b[0m\u001b[0m\n\u001b[1;32m      3\u001b[0m \u001b[0;31m#calc_sum(2, 3)\u001b[0m\u001b[0;34m\u001b[0m\u001b[0;34m\u001b[0m\u001b[0m\n\u001b[0;32m----> 4\u001b[0;31m \u001b[0mcalc_sum\u001b[0m\u001b[0;34m(\u001b[0m\u001b[0;36m1\u001b[0m\u001b[0;34m,\u001b[0m\u001b[0;36m2\u001b[0m\u001b[0;34m,\u001b[0m\u001b[0;36m3\u001b[0m\u001b[0;34m,\u001b[0m\u001b[0;36m4\u001b[0m\u001b[0;34m,\u001b[0m\u001b[0;36m6\u001b[0m\u001b[0;34m)\u001b[0m\u001b[0;34m\u001b[0m\u001b[0;34m\u001b[0m\u001b[0m\n\u001b[0m",
            "\u001b[0;31mTypeError\u001b[0m: calc_sum() takes 3 positional arguments but 5 were given"
          ]
        }
      ]
    },
    {
      "cell_type": "code",
      "source": [
        "def calc_sum(num1 : int, num2: int, num3: int) -> int:\n",
        "    return num1 + num2 + num3\n",
        "\n",
        "calculate_sum(32, 87, 90)"
      ],
      "metadata": {
        "colab": {
          "base_uri": "https://localhost:8080/"
        },
        "id": "n-MOedr8Ukpw",
        "outputId": "60ea8fcb-638d-4dd4-e29e-085eeb3c2d1b"
      },
      "execution_count": null,
      "outputs": [
        {
          "output_type": "execute_result",
          "data": {
            "text/plain": [
              "209"
            ]
          },
          "metadata": {},
          "execution_count": 19
        }
      ]
    },
    {
      "cell_type": "code",
      "source": [
        "def calculate_sum(*nums: int):\n",
        "  total = 0\n",
        "  print(type(nums))\n",
        "  for item in nums:\n",
        "    total += item\n",
        "  return total\n",
        "\n",
        "print(calculate_sum(12, 10, 14, 56, 90))\n",
        "print(calculate_sum(10, 20, 30))\n",
        "print(calculate_sum(1, 2, 3, 4, 5, 6, 7, 8, 9))\n",
        "print(calculate_sum())\n",
        "print(calculate_sum(1))"
      ],
      "metadata": {
        "colab": {
          "base_uri": "https://localhost:8080/"
        },
        "id": "PGk-da45U4TB",
        "outputId": "06b01275-5208-4b70-ea0b-9f2ef05fb9f7"
      },
      "execution_count": null,
      "outputs": [
        {
          "output_type": "stream",
          "name": "stdout",
          "text": [
            "<class 'tuple'>\n",
            "182\n",
            "<class 'tuple'>\n",
            "60\n",
            "<class 'tuple'>\n",
            "45\n",
            "<class 'tuple'>\n",
            "0\n",
            "<class 'tuple'>\n",
            "1\n"
          ]
        }
      ]
    },
    {
      "cell_type": "code",
      "source": [
        "def calc_sum(*args) -> int:\n",
        "    return sum(args)\n",
        "\n",
        "print(calc_sum(*[1, 2, 3, 4, 5], 6, 7))\n",
        "print(calc_sum(1, 2, 3, 4, 5, 6, 7))"
      ],
      "metadata": {
        "colab": {
          "base_uri": "https://localhost:8080/"
        },
        "id": "GEVWO2JrV05c",
        "outputId": "513724bc-5149-4fb8-8491-c9089ce71a60"
      },
      "execution_count": null,
      "outputs": [
        {
          "output_type": "stream",
          "name": "stdout",
          "text": [
            "28\n",
            "28\n"
          ]
        }
      ]
    },
    {
      "cell_type": "markdown",
      "source": [
        "##Problem - 4\n",
        "\n",
        "Write a function which take multiple strings as input. If the length of the string is less than 3 change it to upper case otherwise convert it to lower case and finally concatenate these converted strings."
      ],
      "metadata": {
        "id": "q0r75Gj9FQbQ"
      }
    },
    {
      "cell_type": "code",
      "source": [
        "def convert_strings(*words: str) -> str:\n",
        "    result = \"\"\n",
        "    for word in words:\n",
        "        if len(word) < 3:\n",
        "            result += word.upper()\n",
        "        else:\n",
        "            result += word.lower()\n",
        "    return result\n",
        "\n",
        "print(convert_strings(\"Welcome\" , \"to\", \"Talentsprint\", \"Program.\"))\n",
        "\n",
        "list_of_words = ['hello', 'world', 'how ', 'are', 'you']\n",
        "print(convert_strings(*list_of_words))\n",
        "\n",
        "tup_of_words = ('hello', 'world', 'how ', 'are', 'you')\n",
        "print(convert_strings(*tup_of_words))"
      ],
      "metadata": {
        "colab": {
          "base_uri": "https://localhost:8080/"
        },
        "id": "CxHS5jHWWo7F",
        "outputId": "87cc6e6c-d6bb-4c6c-e0b0-f7493d3470d5"
      },
      "execution_count": null,
      "outputs": [
        {
          "output_type": "stream",
          "name": "stdout",
          "text": [
            "welcomeTOtalentsprintprogram.\n",
            "helloworldhow areyou\n",
            "helloworldhow areyou\n"
          ]
        }
      ]
    },
    {
      "cell_type": "markdown",
      "source": [
        "#Keyword arguments(**kwargs)\n",
        "\n",
        "* How to Use **kwargs in Python\n",
        "   \n",
        "   $**$kwargs allows us to pass a variable number of keyword arguments to a Python function. In the function, we use the double-asterisk (**) before the parameter name to denote this type of argument.\n",
        "\n",
        "* Keyword arguments can be likened to dictionaries in that they map a value to a keyword.\n",
        "\n",
        "* Thus we see that the arguments, in this case, are passed as a dictionary and these arguments make a dictionary inside the function with name same as the parameter excluding **."
      ],
      "metadata": {
        "id": "rshO98Ocy4Jz"
      }
    },
    {
      "cell_type": "markdown",
      "source": [],
      "metadata": {
        "id": "LsRxHAS7YCEQ"
      }
    },
    {
      "cell_type": "code",
      "source": [
        "def capitals(**kwargs):\n",
        "    print(type(kwargs))\n",
        "    return kwargs\n",
        "\n",
        "\n",
        "capitals(India= \"New Delhi\", China= \"Beijing\", Bangladesh= \"Dhaka\", England= \"London\")"
      ],
      "metadata": {
        "colab": {
          "base_uri": "https://localhost:8080/"
        },
        "id": "28gKvdzjzAWV",
        "outputId": "f1529e47-ea53-4a3f-9d6d-872568f9ec76"
      },
      "execution_count": null,
      "outputs": [
        {
          "output_type": "stream",
          "name": "stdout",
          "text": [
            "<class 'dict'>\n"
          ]
        },
        {
          "output_type": "execute_result",
          "data": {
            "text/plain": [
              "{'India': 'New Delhi',\n",
              " 'China': 'Beijing',\n",
              " 'Bangladesh': 'Dhaka',\n",
              " 'England': 'London'}"
            ]
          },
          "metadata": {},
          "execution_count": 38
        }
      ]
    },
    {
      "cell_type": "markdown",
      "source": [
        "Note that the name of the argument need not necessarily be kwargs – again, it can be anything. In this case, it's fruits. But it's generally a standard way to use **kwargs as the name."
      ],
      "metadata": {
        "id": "wsRU43MDtFw8"
      }
    },
    {
      "cell_type": "code",
      "source": [
        "def total_fruits(**fruits):\n",
        "    total = 0\n",
        "    print(type(fruits))\n",
        "    for amount in fruits.values():\n",
        "        total += amount\n",
        "    return total\n",
        "\n",
        "\n",
        "print(total_fruits(banana=5, mango=7, apple=8))\n",
        "print(total_fruits(banana=5, mango=7, apple=8, oranges=10))\n",
        "print(total_fruits(banana=5, mango=7))\n",
        "\n",
        "dict_of_fruits = {'banana': 5, 'mango': 7}\n",
        "print(total_fruits(**dict_of_fruits))"
      ],
      "metadata": {
        "colab": {
          "base_uri": "https://localhost:8080/"
        },
        "id": "8tc2Ni7NJ4TK",
        "outputId": "076838b4-a6e4-46ed-be31-8d6b334913af"
      },
      "execution_count": null,
      "outputs": [
        {
          "output_type": "stream",
          "name": "stdout",
          "text": [
            "<class 'dict'>\n",
            "20\n",
            "<class 'dict'>\n",
            "30\n",
            "<class 'dict'>\n",
            "12\n",
            "<class 'dict'>\n",
            "12\n"
          ]
        }
      ]
    },
    {
      "cell_type": "markdown",
      "source": [
        "#Problem - 5\n",
        "\n",
        "Write a function to average of the marks scored from the given arguments."
      ],
      "metadata": {
        "id": "OCaAkbvQOaXU"
      }
    },
    {
      "cell_type": "code",
      "source": [
        "def average_marks_scored(**marks):\n",
        "    total, count = 0, 0\n",
        "    for arg in marks.values():\n",
        "        total += arg\n",
        "        count += 1\n",
        "    return total / count\n",
        "\n",
        "print(average_marks_scored(math = 65, science = 77, english = 81))\n",
        "print(average_marks_scored(math = 65, science = 77, english = 81, GK = 70))"
      ],
      "metadata": {
        "colab": {
          "base_uri": "https://localhost:8080/"
        },
        "id": "3UWllHD-Yt9l",
        "outputId": "66a7c91b-d7d5-4d78-eacb-c564c093e57a"
      },
      "execution_count": null,
      "outputs": [
        {
          "output_type": "stream",
          "name": "stdout",
          "text": [
            "74.33333333333333\n",
            "73.25\n"
          ]
        }
      ]
    },
    {
      "cell_type": "code",
      "source": [
        "def calc_sum(num1 : int=0, num2: int=0, num3: int=0) -> int:\n",
        "    print(num1)\n",
        "    print(num2)\n",
        "    print(num3)\n",
        "    return num1 + num2 + num3\n",
        "\n",
        "calc_sum(32, 90)"
      ],
      "metadata": {
        "colab": {
          "base_uri": "https://localhost:8080/"
        },
        "id": "vksG1RqjZacQ",
        "outputId": "965fb7b7-0b8b-4a91-eaf6-6adb6f5be013"
      },
      "execution_count": null,
      "outputs": [
        {
          "output_type": "stream",
          "name": "stdout",
          "text": [
            "32\n",
            "90\n",
            "0\n"
          ]
        },
        {
          "output_type": "execute_result",
          "data": {
            "text/plain": [
              "122"
            ]
          },
          "metadata": {},
          "execution_count": 47
        }
      ]
    },
    {
      "cell_type": "markdown",
      "source": [
        "##Assignment - 19-01\n",
        "\n",
        "###calculate the perimeter\n",
        "\n",
        "Write one function to calculate the perimeter of triangle, rectangle, pentagone, hexagone."
      ],
      "metadata": {
        "id": "_a-vCCl-hvCs"
      }
    },
    {
      "cell_type": "code",
      "source": [
        "def perimeter_of_shape(*side)->int:\n",
        "  #write your code here\n",
        "  return"
      ],
      "metadata": {
        "id": "IsvCKUB5ikoi"
      },
      "execution_count": null,
      "outputs": []
    },
    {
      "cell_type": "markdown",
      "source": [
        "#Assignment - 19 - 02\n",
        "\n",
        "###Concatenate the strings in the reverse order\n",
        "\n",
        "Write a function which take multiple strings as input. Concatenate the strings in the reverse order after reversing the strings."
      ],
      "metadata": {
        "id": "nToFfB6qBxEI"
      }
    },
    {
      "cell_type": "code",
      "source": [
        "def display_in_reverse_order(*strings)->str:\n",
        "    #Write your code here\n",
        "    return"
      ],
      "metadata": {
        "id": "2i-CKYj9CQf6"
      },
      "execution_count": null,
      "outputs": []
    },
    {
      "cell_type": "code",
      "source": [],
      "metadata": {
        "id": "ZmGFYipRsguQ"
      },
      "execution_count": null,
      "outputs": []
    }
  ]
}