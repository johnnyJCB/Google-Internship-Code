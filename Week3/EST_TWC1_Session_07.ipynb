{
  "cells": [
    {
      "cell_type": "markdown",
      "metadata": {
        "id": "nJlL-cpkdhDy"
      },
      "source": [
        "# Session 07\n",
        "\n",
        "## Problem set\n",
        "\n",
        "* Find if two strings are anagrams of each other.\n",
        "* Convert \"hh:mm:ss\" to seconds and vice versa.\n",
        "* Convert Figures to Words."
      ]
    },
    {
      "cell_type": "markdown",
      "metadata": {
        "id": "ydjLJCg7elTi"
      },
      "source": [
        "##Problem 1\n",
        "Write a function to find if two strings are anagrams of each other. An anagram of a string is another string that contains the same characters, only the order of characters can be different. For example, **“silent”** and **“listen”** are an anagram of each other."
      ]
    },
    {
      "cell_type": "code",
      "execution_count": null,
      "metadata": {
        "colab": {
          "base_uri": "https://localhost:8080/"
        },
        "id": "rLpaoV70Idhg",
        "outputId": "7d1cfe78-ea11-4157-fb18-b9f6ff828014"
      },
      "outputs": [
        {
          "data": {
            "text/plain": [
              "True"
            ]
          },
          "execution_count": 12,
          "metadata": {},
          "output_type": "execute_result"
        }
      ],
      "source": [
        "def is_anagram(str1,str2):\n",
        "    return sorted(str1.lower()) == sorted(str2.lower())\n",
        "\n",
        "listen = \"Liisten\"\n",
        "silent = \"Sileint\"\n",
        "is_anagram(listen, silent)"
      ]
    },
    {
      "cell_type": "code",
      "execution_count": null,
      "metadata": {
        "colab": {
          "base_uri": "https://localhost:8080/",
          "height": 35
        },
        "id": "4B6jymdTb-ah",
        "outputId": "e2d101ff-c480-49b6-d2e2-03b2d95f9538"
      },
      "outputs": [
        {
          "data": {
            "application/vnd.google.colaboratory.intrinsic+json": {
              "type": "string"
            },
            "text/plain": [
              "'Silent'"
            ]
          },
          "execution_count": 10,
          "metadata": {},
          "output_type": "execute_result"
        }
      ],
      "source": [
        "silent"
      ]
    },
    {
      "cell_type": "markdown",
      "metadata": {
        "id": "TXMsohO_f1my"
      },
      "source": [
        "##Problem 2\n",
        "Convert \"hh:mm:ss\" to seconds and vice versa ."
      ]
    },
    {
      "cell_type": "code",
      "execution_count": null,
      "metadata": {
        "colab": {
          "base_uri": "https://localhost:8080/"
        },
        "id": "lEDocAwuIeRI",
        "outputId": "0871d08b-ba5c-4088-897d-ed999236f7f9"
      },
      "outputs": [
        {
          "data": {
            "text/plain": [
              "4343"
            ]
          },
          "execution_count": 19,
          "metadata": {},
          "output_type": "execute_result"
        }
      ],
      "source": [
        "def hhmmss_to_sec(time: str)->int:\n",
        "    t = time.split(':')\n",
        "    return int(t[0]) * 3600 + int(t[1]) * 60 + int(t[2])\n",
        "\n",
        "hhmmss_to_sec('1:12:23')"
      ]
    },
    {
      "cell_type": "code",
      "execution_count": null,
      "metadata": {
        "colab": {
          "base_uri": "https://localhost:8080/"
        },
        "id": "7dT5gem5gr_E",
        "outputId": "de62467c-b977-41b2-d65a-de28082cc851"
      },
      "outputs": [
        {
          "data": {
            "text/plain": [
              "['1', '12', '23']"
            ]
          },
          "execution_count": 22,
          "metadata": {},
          "output_type": "execute_result"
        }
      ],
      "source": [
        "'1:12:23'.split(':')"
      ]
    },
    {
      "cell_type": "code",
      "execution_count": null,
      "metadata": {
        "colab": {
          "base_uri": "https://localhost:8080/"
        },
        "id": "Sk29xI75e3lk",
        "outputId": "66d6c8f1-d045-4a1c-c8b5-2351f1970c15"
      },
      "outputs": [
        {
          "data": {
            "text/plain": [
              "4343"
            ]
          },
          "execution_count": 17,
          "metadata": {},
          "output_type": "execute_result"
        }
      ],
      "source": [
        "def hhmmss_to_sec(time: str)->int:\n",
        "    hh, mm, ss = time.split(':')\n",
        "    return int(hh) * 3600 + int(mm) * 60 + int(ss)\n",
        "\n",
        "hhmmss_to_sec('1:12:23')"
      ]
    },
    {
      "cell_type": "code",
      "execution_count": null,
      "metadata": {
        "colab": {
          "base_uri": "https://localhost:8080/"
        },
        "id": "sIt5fgE8hRC3",
        "outputId": "8fd5fa15-7d09-425b-b2b5-bc01b0275804"
      },
      "outputs": [
        {
          "name": "stdout",
          "output_type": "stream",
          "text": [
            "00:16:40\n",
            "13:53:20\n"
          ]
        }
      ],
      "source": [
        "def sec_to_hhmmss(seconds: int) -> str:\n",
        "    hh = seconds // 3600\n",
        "    mm = (seconds % 3600) // 60\n",
        "    ss = seconds % 60\n",
        "    return f\"{hh:02d}:{mm:02d}:{ss:02d}\"\n",
        "\n",
        "print(sec_to_hhmmss(1000))\n",
        "print(sec_to_hhmmss(50000))"
      ]
    },
    {
      "cell_type": "markdown",
      "metadata": {
        "id": "ERM9uh29N8PV"
      },
      "source": [
        "# Problem 3\n",
        "\n",
        "Convert figures to words:\n",
        "\n",
        "1367 -> \"One thousand three hundred and sixty seven\"\n",
        "\n",
        "18934345 -> \"Eighteen million nine hundred and thirty four thousand three hundred and forty five\"\n",
        "\n",
        "You can assume that the numbers are below 1 trillion"
      ]
    },
    {
      "cell_type": "code",
      "execution_count": null,
      "metadata": {
        "id": "FP_glFxTIe34"
      },
      "outputs": [],
      "source": [
        "def is_single_word(n: int) -> bool:\n",
        "    return n < 20\n",
        "\n",
        "def convert2digits(n: int) ->  str:\n",
        "    single_word = [\"\", \"One \", \"Two \", \"Three \", \"Four \", \"Five \", \"Six \", \"Seven \", \"Eight \",\n",
        "                   \"Nine \", \"Ten \", \"Eleven \", \"Twelve \", \"Thirteen \", \"Fourteen \", \"Fifteen \",\n",
        "                   \"Sixteen \", \"Seventeen \", \"Eighteen \", \"Ninteen \"]\n",
        "    tens = [\"\", \"\", \"Twenty \", \"Thirty \", \"Forty \", \"Fifty \", \"Sixty \", \"Seventy \", \"Eighty \",\n",
        "            \"Ninety \"]\n",
        "    if is_single_word(n):\n",
        "        return single_word[n]\n",
        "    else:\n",
        "        return tens[n // 10] + single_word[n % 10]\n",
        "\n",
        "def convert3digits(n: int) -> str:\n",
        "    if n < 100:\n",
        "        return convert2digits(n)\n",
        "    if n % 100 == 0:\n",
        "        return convert2digits(n // 100) + \"Hundred \"\n",
        "    else:\n",
        "        return convert2digits(n // 100) + \"Hundred and \" + convert2digits(n % 100)\n",
        "\n",
        "def fig2words(n: int) -> str:\n",
        "    denoms = {10 ** 9: \"Billion \", 10 ** 6 : \"Million \", 1000: \"Thousand \", 1: \"\"}\n",
        "    denom_values = sorted(denoms.keys(), reverse=True)\n",
        "\n",
        "    in_words = \"\"\n",
        "\n",
        "    for denom in denom_values:\n",
        "        d = n // denom\n",
        "        if d > 0:\n",
        "            in_words += convert3digits(d) + denoms[denom]\n",
        "        n %= denom\n",
        "    return in_words\n"
      ]
    }
  ],
  "metadata": {
    "colab": {
      "provenance": []
    },
    "kernelspec": {
      "display_name": "Python 3",
      "name": "python3"
    },
    "language_info": {
      "name": "python",
      "version": "3.12.1"
    }
  },
  "nbformat": 4,
  "nbformat_minor": 0
}
