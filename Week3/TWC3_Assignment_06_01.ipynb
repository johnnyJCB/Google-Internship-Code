{
  "nbformat": 4,
  "nbformat_minor": 0,
  "metadata": {
    "colab": {
      "provenance": []
    },
    "kernelspec": {
      "name": "python3",
      "display_name": "Python 3"
    }
  },
  "cells": [
    {
      "cell_type": "markdown",
      "metadata": {
        "id": "Na0j6cv7D83_"
      },
      "source": [
        "# This is Assignment_06-01 workbook for TechWise Program"
      ]
    },
    {
      "cell_type": "markdown",
      "metadata": {
        "id": "BNLA8HiKxQhc"
      },
      "source": [
        "### Setup Steps:"
      ]
    },
    {
      "cell_type": "code",
      "metadata": {
        "id": "2YzfoPvJDiTX"
      },
      "source": [
        "#@title Please enter your registration id to start: { run: \"auto\", display-mode: \"form\" }\n",
        "Id = \"2304983\" #@param {type:\"string\"}"
      ],
      "execution_count": 3,
      "outputs": []
    },
    {
      "cell_type": "code",
      "metadata": {
        "id": "WBPPuGmBlDIN",
        "colab": {
          "base_uri": "https://localhost:8080/",
          "height": 34
        },
        "outputId": "0e9a50d2-7550-4026-cbc5-e37bad8b55b9"
      },
      "source": [
        "#@title Run this cell to complete the setup for this Notebook\n",
        "from IPython import get_ipython\n",
        "\n",
        "ipython = get_ipython()\n",
        "\n",
        "notebook= \"TWC3_Assignment_06-01\" #name of the notebook\n",
        "\n",
        "def setup():\n",
        "#  ipython.magic(\"sx pip3 install torch\")\n",
        "    from IPython.display import HTML, display\n",
        "    display(HTML('<script src=\"https://dashboard.talentsprint.com/aiml/record_ip.html?traineeId={0}&recordId={1}\"></script>'.format(getId(),submission_id)))\n",
        "    print(\"Setup completed successfully\")\n",
        "    return\n",
        "\n",
        "def submit_notebook():\n",
        "    ipython.magic(\"notebook -e \"+ notebook + \".ipynb\")\n",
        "\n",
        "    import requests, json, base64, datetime\n",
        "\n",
        "    url = \"https://dashboard.talentsprint.com/xp/app/save_notebook_attempts\"\n",
        "    if not submission_id:\n",
        "      data = {\"id\" : getId(), \"notebook\" : notebook}\n",
        "      r = requests.post(url, data = data)\n",
        "      r = json.loads(r.text)\n",
        "\n",
        "      if r[\"status\"] == \"Success\":\n",
        "\n",
        "          return r[\"record_id\"]\n",
        "      elif \"err\" in r:\n",
        "        print(r[\"err\"])\n",
        "        return None\n",
        "      else:\n",
        "        print (\"Something is wrong, the notebook will not be submitted for grading\")\n",
        "        return None\n",
        "\n",
        "    elif getComplexity() and getTimeTaken() and getStatus():\n",
        "      f = open(notebook + \".ipynb\", \"rb\")\n",
        "      file_hash = base64.b64encode(f.read())\n",
        "      data = {\"complexity\" : Complexity,\n",
        "              \"record_id\" : submission_id,\n",
        "              \"id\" : Id, \"file_hash\" : file_hash,\n",
        "              \"notebook\" : notebook, \"timetaken\" : TimeTaken, \"experiment_status\" : Status}\n",
        "      r = requests.post(url, data = data)\n",
        "      r = json.loads(r.text)\n",
        "      if \"err\" in r:\n",
        "        print(r[\"err\"])\n",
        "        return None\n",
        "      else:\n",
        "        print(\"Your submission is successful.\")\n",
        "        print(\"Ref Id:\", submission_id)\n",
        "        print(\"Date of submission: \", r[\"date\"])\n",
        "        print(\"Time of submission: \", r[\"time\"])\n",
        "        print(\"View your submissions: https://learn-techwise.talentsprint.com/notebook_submissions\")\n",
        "        #print(\"For any queries/discrepancies, please connect with mentors through the chat icon in LMS dashboard.\")\n",
        "        return submission_id\n",
        "    else: submission_id\n",
        "\n",
        "\n",
        "def getStatus():\n",
        "  try:\n",
        "    if not Status:\n",
        "      raise NameError\n",
        "    else:\n",
        "      return Status\n",
        "  except NameError:\n",
        "    print (\"Please answer Status Question\")\n",
        "    return None\n",
        "\n",
        "def getTimeTaken():\n",
        "  try:\n",
        "    if not TimeTaken:\n",
        "      raise NameError\n",
        "    else:\n",
        "      return TimeTaken\n",
        "  except NameError:\n",
        "    print (\"Please answer TimeTaken Question\")\n",
        "    return None\n",
        "\n",
        "def getComplexity():\n",
        "  try:\n",
        "    if not Complexity:\n",
        "      raise NameError\n",
        "    else:\n",
        "      return Complexity\n",
        "  except NameError:\n",
        "    print (\"Please answer Complexity Question\")\n",
        "    return None\n",
        "\n",
        "\n",
        "def getId():\n",
        "  try:\n",
        "    return Id if Id else None\n",
        "  except NameError:\n",
        "    return None\n",
        "\n",
        "\n",
        "submission_id = None\n",
        "### Setup\n",
        "if  getId():\n",
        "  submission_id = submit_notebook()\n",
        "  if submission_id:\n",
        "    setup()\n",
        "else:\n",
        "  print (\"Please complete Id cell before running setup\")\n",
        "\n"
      ],
      "execution_count": 4,
      "outputs": [
        {
          "output_type": "display_data",
          "data": {
            "text/plain": [
              "<IPython.core.display.HTML object>"
            ],
            "text/html": [
              "<script src=\"https://dashboard.talentsprint.com/aiml/record_ip.html?traineeId=2304983&recordId=8266\"></script>"
            ]
          },
          "metadata": {}
        },
        {
          "output_type": "stream",
          "name": "stdout",
          "text": [
            "Setup completed successfully\n"
          ]
        }
      ]
    },
    {
      "cell_type": "markdown",
      "source": [
        "# Assignment-06-01\n",
        "## ##Assignment - 06-01\n",
        "\n",
        "### Built-in Function **len()**\n",
        "\n",
        "> *Return the length (the number of items) of an object. The argument may be a sequence (such as a string, bytes, tuple, list, or range) or a collection *\n",
        "\n",
        "\n",
        "\n",
        "\n",
        "\n",
        "## Problem Statement\n",
        "\n",
        "Implement a function which accepts a sequence as an argument and  returns the length of the sequence or a collection.\n",
        "\n",
        "\n",
        "\n",
        "*   Example:\n",
        "\n",
        "\n",
        "    > length(\"Hello\") --> 5\n",
        "\n",
        "    > length([]) --> 0\n",
        "    \n",
        "    > length((1, 2, 3, 4, 5)) --> 5\n"
      ],
      "metadata": {
        "id": "8kU1SMdbaGPP"
      }
    },
    {
      "cell_type": "code",
      "source": [
        "def length(seq) -> int:\n",
        "    return len(seq)"
      ],
      "metadata": {
        "id": "-kgm-uzFaF01"
      },
      "execution_count": 5,
      "outputs": []
    },
    {
      "cell_type": "markdown",
      "metadata": {
        "id": "VHfHdGCP_n6Y"
      },
      "source": [
        "### Please answer the questions below to complete the experiment:\n",
        "\n",
        "\n"
      ]
    },
    {
      "cell_type": "code",
      "metadata": {
        "id": "NMzKSbLIgFzQ"
      },
      "source": [
        "#@title How was the experiment? { run: \"auto\", form-width: \"500px\", display-mode: \"form\" }\n",
        "Complexity = \"Good and Challenging for me\" #@param [\"\",\"Too Simple, I am wasting time\", \"Good, But Not Challenging for me\", \"Good and Challenging for me\", \"Was Tough, but I did it\", \"Too Difficult for me\"]\n"
      ],
      "execution_count": 6,
      "outputs": []
    },
    {
      "cell_type": "code",
      "metadata": {
        "id": "ukxderAFFkAy"
      },
      "source": [
        "#@title How much time did you take? { run: \"auto\", form-width: \"500px\", display-mode: \"form\" }\n",
        "TimeTaken = \"1 Hour\" #@param [\"\",\"Below 1 Hour\", \"1 Hour\", \"2 Hour\", \"More Than 2 Hour\"]\n"
      ],
      "execution_count": 7,
      "outputs": []
    },
    {
      "cell_type": "code",
      "metadata": {
        "id": "O2eotYAjGiKh"
      },
      "source": [
        "#@title Could you complete the experiment without seeing the Video? { run: \"auto\", form-width: \"500px\", display-mode: \"form\" }\n",
        "Status = \"Yes\" #@param [\"\",\"Yes\", \"No\"]\n"
      ],
      "execution_count": 8,
      "outputs": []
    },
    {
      "cell_type": "code",
      "metadata": {
        "id": "FzAZHt1zw-Y-",
        "colab": {
          "base_uri": "https://localhost:8080/"
        },
        "outputId": "f9009c8b-288a-465b-c4cb-6af53ebe40cc",
        "cellView": "form"
      },
      "source": [
        "#@title Run this cell to submit your notebook for grading { vertical-output: true }\n",
        "try:\n",
        "  if submission_id:\n",
        "      return_id = submit_notebook()\n",
        "      if return_id : submission_id = return_id\n",
        "  else:\n",
        "      print(\"Please complete the setup first.\")\n",
        "except NameError as err:\n",
        "  print(err)\n",
        "  print (\"Please complete the setup first.\")"
      ],
      "execution_count": 9,
      "outputs": [
        {
          "output_type": "stream",
          "name": "stdout",
          "text": [
            "Your submission is successful.\n",
            "Ref Id: 8266\n",
            "Date of submission:  11 Apr 2024 (UTC)\n",
            "Time of submission:  17:55:00 (UTC)\n",
            "View your submissions: https://learn-techwise.talentsprint.com/notebook_submissions\n"
          ]
        }
      ]
    }
  ]
}