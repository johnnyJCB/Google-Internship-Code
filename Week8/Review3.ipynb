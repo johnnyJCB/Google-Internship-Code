{
  "nbformat": 4,
  "nbformat_minor": 0,
  "metadata": {
    "colab": {
      "provenance": []
    },
    "kernelspec": {
      "name": "python3",
      "display_name": "Python 3"
    },
    "language_info": {
      "name": "python"
    }
  },
  "cells": [
    {
      "cell_type": "markdown",
      "source": [
        "# Assignment 08-01\n",
        "\n",
        "## Pascal's triangle\n",
        "\n",
        "\n",
        "              1\n",
        "           1     1\n",
        "         1    2    1\n",
        "       1   3     3   1\n",
        "    1   4     6    4   1"
      ],
      "metadata": {
        "id": "WTcVcWEYSAk6"
      }
    },
    {
      "cell_type": "markdown",
      "source": [
        "The triangle can be constructed by first placing a 1 along the left and right edges. Then the triangle can be filled out from the top by adding together the two numbers just above to the left and right of each position in the triangle. Thus, the third row, in Hindu-Arabic numerals, is 1 2 1, the fourth row is 1 4 6 4 1, the fifth row is 1 5 10 10 5 1, and so forth. The first row, or just 1, gives the coefficient for the expansion of $(x + y)^0 = 1$; the second row, or $1~1$, gives the coefficients for $(x + y)^1 = x + y$; the third row, or 1 2 1, gives the coefficients for $(x + y)^2 = x^2 + 2xy + y^2$; and so forth."
      ],
      "metadata": {
        "id": "yBmM4shzSHmW"
      }
    },
    {
      "cell_type": "markdown",
      "source": [
        "It is possible to use the formula for $^nC_r$ and calculate each element and then format them. But a simpler method is to consider the following:\n",
        "\n",
        "* Let us think of each row as a list: first row is $[1]$, second is $[1, 1]$; third is $[1, 2, 1]$\n",
        "* so how do we go from $[1] -> [1, 1] -> [1, 2, 1]$\n"
      ],
      "metadata": {
        "id": "I9hfmW_TSOiM"
      }
    },
    {
      "cell_type": "code",
      "source": [
        "def next_pascal_row(row: list[int]) -> list[int]:\n",
        "    new_length = len(row) + 1\n",
        "    new_row = []\n",
        "    for i in range(new_length):\n",
        "        if i == 0 or i == new_length - 1:\n",
        "            new_row.append(1)\n",
        "        else:\n",
        "            new_row.append(row[i] + row[i-1])\n",
        "    return new_row\n"
      ],
      "metadata": {
        "id": "ndpjjtFASPfI"
      },
      "execution_count": null,
      "outputs": []
    },
    {
      "cell_type": "code",
      "source": [
        "def next_pascal_row(row: list[int]) -> list[int]:\n",
        "    new_row = []\n",
        "    for i in range(len(row) + 1):\n",
        "        if i == 0 or i == len(row):\n",
        "            new_row.append(1)\n",
        "        else:\n",
        "            new_row.append(row[i] + row[i-1])\n",
        "    return new_row\n"
      ],
      "metadata": {
        "id": "xDWJo9LfxTz9"
      },
      "execution_count": null,
      "outputs": []
    },
    {
      "cell_type": "code",
      "source": [
        "next_pascal_row([1, 2, 1])"
      ],
      "metadata": {
        "colab": {
          "base_uri": "https://localhost:8080/"
        },
        "id": "Buj4uaUnx-pw",
        "outputId": "7f3c87ab-21f9-4e08-d950-d07e74f70011"
      },
      "execution_count": null,
      "outputs": [
        {
          "output_type": "execute_result",
          "data": {
            "text/plain": [
              "[1, 3, 3, 1]"
            ]
          },
          "metadata": {},
          "execution_count": 2
        }
      ]
    },
    {
      "cell_type": "code",
      "source": [
        "def pascal(size: int) -> list[list[int]]:\n",
        "    rows, row = [], [1]\n",
        "    for r in range(size):\n",
        "        rows.append(row)\n",
        "        row = next_pascal_row(row)\n",
        "    return rows"
      ],
      "metadata": {
        "id": "MWnJPAZNyCpb"
      },
      "execution_count": null,
      "outputs": []
    },
    {
      "cell_type": "code",
      "source": [
        "pascal(5)"
      ],
      "metadata": {
        "colab": {
          "base_uri": "https://localhost:8080/"
        },
        "id": "2PZF4VnLzgHX",
        "outputId": "5448e28e-2113-4753-d85b-da57bf380dc9"
      },
      "execution_count": null,
      "outputs": [
        {
          "output_type": "execute_result",
          "data": {
            "text/plain": [
              "[[1], [1, 1], [1, 2, 1], [1, 3, 3, 1], [1, 4, 6, 4, 1]]"
            ]
          },
          "metadata": {},
          "execution_count": 101
        }
      ]
    },
    {
      "cell_type": "code",
      "source": [
        "def next_row(row: list[int]) -> list[int]:\n",
        "    pre = [0] + row\n",
        "    post = row + [0]\n",
        "    new_row = []\n",
        "    for a, b in zip(pre, post):\n",
        "        new_row.append(a + b)\n",
        "    return new_row"
      ],
      "metadata": {
        "id": "ovZOqjqvzi5a"
      },
      "execution_count": null,
      "outputs": []
    },
    {
      "cell_type": "code",
      "source": [
        "next_row([1])"
      ],
      "metadata": {
        "colab": {
          "base_uri": "https://localhost:8080/"
        },
        "id": "PuutDzDW0qRZ",
        "outputId": "8abef917-f3a1-4309-99bc-ccf9eb2bb387"
      },
      "execution_count": null,
      "outputs": [
        {
          "output_type": "execute_result",
          "data": {
            "text/plain": [
              "[1, 1]"
            ]
          },
          "metadata": {},
          "execution_count": 5
        }
      ]
    },
    {
      "cell_type": "code",
      "source": [
        "def pascal(size: int) -> list[list[int]]:\n",
        "    rows, row = [], [1]\n",
        "    for r in range(size):\n",
        "        rows.append(row)\n",
        "        row = next_row(row)\n",
        "    return rows\n",
        "\n",
        "pascal(6)"
      ],
      "metadata": {
        "colab": {
          "base_uri": "https://localhost:8080/"
        },
        "id": "RJMqkzC23CLY",
        "outputId": "1486ecf2-0109-4dfc-b725-6d338b838037"
      },
      "execution_count": null,
      "outputs": [
        {
          "output_type": "execute_result",
          "data": {
            "text/plain": [
              "[[1], [1, 1], [1, 2, 1], [1, 3, 3, 1], [1, 4, 6, 4, 1], [1, 5, 10, 10, 5, 1]]"
            ]
          },
          "metadata": {},
          "execution_count": 6
        }
      ]
    },
    {
      "cell_type": "code",
      "source": [
        "next_row([1, 1])"
      ],
      "metadata": {
        "colab": {
          "base_uri": "https://localhost:8080/"
        },
        "id": "oPP9dMNm0ron",
        "outputId": "388efb25-814d-43fc-d2df-30ccb71144ea"
      },
      "execution_count": null,
      "outputs": [
        {
          "output_type": "execute_result",
          "data": {
            "text/plain": [
              "[1, 2, 1]"
            ]
          },
          "metadata": {},
          "execution_count": 104
        }
      ]
    },
    {
      "cell_type": "code",
      "source": [
        "next_row([1, 2, 1])"
      ],
      "metadata": {
        "colab": {
          "base_uri": "https://localhost:8080/"
        },
        "id": "j8UMjOcX0s-O",
        "outputId": "520f689c-09ca-459d-f3ed-4286cf8cb412"
      },
      "execution_count": null,
      "outputs": [
        {
          "output_type": "execute_result",
          "data": {
            "text/plain": [
              "[1, 3, 3, 1]"
            ]
          },
          "metadata": {},
          "execution_count": 105
        }
      ]
    },
    {
      "cell_type": "code",
      "source": [
        "row = [1, 2, 1]\n",
        "pre = [0] + row\n",
        "print(f\"{pre=}\")\n",
        "post = row + [0]\n",
        "print(f\"{post=}\")\n",
        "print(f\"{list(zip(pre, post))=}\")"
      ],
      "metadata": {
        "colab": {
          "base_uri": "https://localhost:8080/"
        },
        "id": "u0mqcqcG0uio",
        "outputId": "a4e3e445-a3a5-4669-95ea-9befa4ed5a76"
      },
      "execution_count": null,
      "outputs": [
        {
          "output_type": "stream",
          "name": "stdout",
          "text": [
            "pre=[0, 1, 2, 1]\n",
            "post=[1, 2, 1, 0]\n",
            "list(zip(pre, post))=[(0, 1), (1, 2), (2, 1), (1, 0)]\n"
          ]
        }
      ]
    },
    {
      "cell_type": "markdown",
      "source": [
        "https://docs.python.org/3/library/functions.html#zip"
      ],
      "metadata": {
        "id": "gNsrT-WT1qXV"
      }
    },
    {
      "cell_type": "markdown",
      "source": [
        "https://docs.python.org/3/library/math.html#math.comb"
      ],
      "metadata": {
        "id": "UKZvVmrO5BIu"
      }
    },
    {
      "cell_type": "code",
      "source": [
        "from math import comb\n",
        "\n",
        "def pascal_row(n: int) -> list[int]:\n",
        "    row = []\n",
        "    for i in range(n+1):\n",
        "        row.append(comb(n, i))\n",
        "    return row\n",
        "\n",
        "pascal_row(3)"
      ],
      "metadata": {
        "id": "4q2gW7GW0989",
        "colab": {
          "base_uri": "https://localhost:8080/"
        },
        "outputId": "1c02a6f7-5d18-4103-dfb9-753bec78c264"
      },
      "execution_count": null,
      "outputs": [
        {
          "output_type": "execute_result",
          "data": {
            "text/plain": [
              "[1, 3, 3, 1]"
            ]
          },
          "metadata": {},
          "execution_count": 14
        }
      ]
    },
    {
      "cell_type": "code",
      "source": [
        "import math\n",
        "\n",
        "# math.\n",
        "\n",
        "def pascal_row(n: int) -> list[int]:\n",
        "    row = []\n",
        "    for i in range(n+1):\n",
        "        row.append(math.comb(n, i))\n",
        "    return row\n",
        "\n",
        "pascal_row(3)"
      ],
      "metadata": {
        "colab": {
          "base_uri": "https://localhost:8080/"
        },
        "id": "NzyNfZZ856L6",
        "outputId": "43bea62f-cb8a-4024-e358-737b3ab18a32"
      },
      "execution_count": null,
      "outputs": [
        {
          "output_type": "execute_result",
          "data": {
            "text/plain": [
              "[1, 3, 3, 1]"
            ]
          },
          "metadata": {},
          "execution_count": 15
        }
      ]
    },
    {
      "cell_type": "code",
      "source": [
        "from math import comb\n",
        "\n",
        "def pascal_row(n: int) -> list[int]:\n",
        "    return [comb(n, i) for i in range(n+1)]\n",
        "\n",
        "def pascal_row_hof(n: int) -> list[int]:\n",
        "    return list(map(lambda x: comb(n, x), range(n+1)))\n",
        "\n",
        "print(pascal_row(1))\n",
        "print(pascal_row(2))\n",
        "print(pascal_row(3))\n",
        "\n",
        "print(pascal_row_hof(1))\n",
        "print(pascal_row_hof(2))\n",
        "print(pascal_row_hof(3))"
      ],
      "metadata": {
        "colab": {
          "base_uri": "https://localhost:8080/"
        },
        "id": "cNSGGNSl796o",
        "outputId": "6885ba3f-911d-4805-8f22-87a45120f00d"
      },
      "execution_count": null,
      "outputs": [
        {
          "output_type": "stream",
          "name": "stdout",
          "text": [
            "[1, 1]\n",
            "[1, 2, 1]\n",
            "[1, 3, 3, 1]\n",
            "[1, 1]\n",
            "[1, 2, 1]\n",
            "[1, 3, 3, 1]\n"
          ]
        }
      ]
    },
    {
      "cell_type": "markdown",
      "source": [
        "## Assignments_09-02:\n",
        "\n",
        "* How to produce an upside down triangle?\n",
        "\n",
        "* How to produce a right_angled triangle?\n",
        "\n",
        "* How to produce a right_angled triangle, facing the other way?\n",
        "\n",
        "* How to produce a diamond?\n",
        "\n",
        "We start by noting that we have done all the ground work by decoupling the pattern generation from formatting\n",
        "\n",
        "\n",
        "\n"
      ],
      "metadata": {
        "id": "oURf3G3isfwp"
      }
    },
    {
      "cell_type": "code",
      "source": [
        "STAR, SPACE, CRLF = '*', ' ', '\\n'\n",
        "\n",
        "START, REPEAT, END = STAR, SPACE + STAR, ''\n",
        "\n",
        "WIDTH = 60\n",
        "\n",
        "def line(line_num: int) -> str:\n",
        "    return start_line() + repeat_middle(line_num) + end_line()\n",
        "\n",
        "def start_line() -> str:\n",
        "    return START\n",
        "\n",
        "def repeat_middle(line_num: int) -> str:\n",
        "    return line_num * REPEAT\n",
        "\n",
        "def end_line() -> str:\n",
        "    return END\n",
        "\n",
        "def make_triangle(size: int) -> list[str]:\n",
        "    pyramid = []\n",
        "    for line_num in range(size):\n",
        "        pyramid.append(line(line_num))\n",
        "    return pyramid\n",
        "\n"
      ],
      "metadata": {
        "id": "RQg3NQkvsg3q"
      },
      "execution_count": null,
      "outputs": []
    },
    {
      "cell_type": "code",
      "source": [
        "start_line()"
      ],
      "metadata": {
        "colab": {
          "base_uri": "https://localhost:8080/",
          "height": 35
        },
        "id": "_YBIjERN95MX",
        "outputId": "87ebef1d-8715-4b48-f049-97ca21cacb51"
      },
      "execution_count": null,
      "outputs": [
        {
          "output_type": "execute_result",
          "data": {
            "text/plain": [
              "'*'"
            ],
            "application/vnd.google.colaboratory.intrinsic+json": {
              "type": "string"
            }
          },
          "metadata": {},
          "execution_count": 21
        }
      ]
    },
    {
      "cell_type": "code",
      "source": [
        "repeat_middle(3)"
      ],
      "metadata": {
        "colab": {
          "base_uri": "https://localhost:8080/",
          "height": 35
        },
        "id": "hRSDDvlY97Fl",
        "outputId": "b81d00a3-b36d-4a7a-f4d2-c068e8662aa6"
      },
      "execution_count": null,
      "outputs": [
        {
          "output_type": "execute_result",
          "data": {
            "text/plain": [
              "' * * *'"
            ],
            "application/vnd.google.colaboratory.intrinsic+json": {
              "type": "string"
            }
          },
          "metadata": {},
          "execution_count": 22
        }
      ]
    },
    {
      "cell_type": "code",
      "source": [
        "end_line()"
      ],
      "metadata": {
        "colab": {
          "base_uri": "https://localhost:8080/",
          "height": 35
        },
        "id": "y9F1G1769-EX",
        "outputId": "e20efeea-d003-4e22-98dd-f2f54a055ec5"
      },
      "execution_count": null,
      "outputs": [
        {
          "output_type": "execute_result",
          "data": {
            "text/plain": [
              "''"
            ],
            "application/vnd.google.colaboratory.intrinsic+json": {
              "type": "string"
            }
          },
          "metadata": {},
          "execution_count": 23
        }
      ]
    },
    {
      "cell_type": "code",
      "source": [
        "line(4)"
      ],
      "metadata": {
        "colab": {
          "base_uri": "https://localhost:8080/",
          "height": 35
        },
        "id": "tbt_JQG59_hD",
        "outputId": "a2f2d635-20f6-429a-81c1-c600075e65f0"
      },
      "execution_count": null,
      "outputs": [
        {
          "output_type": "execute_result",
          "data": {
            "text/plain": [
              "'* * * * *'"
            ],
            "application/vnd.google.colaboratory.intrinsic+json": {
              "type": "string"
            }
          },
          "metadata": {},
          "execution_count": 24
        }
      ]
    },
    {
      "cell_type": "code",
      "source": [
        "make_triangle(5)"
      ],
      "metadata": {
        "colab": {
          "base_uri": "https://localhost:8080/"
        },
        "id": "p3Of8hRR-BJ3",
        "outputId": "2c0aa342-f830-4036-de57-285bc0a8e5e5"
      },
      "execution_count": null,
      "outputs": [
        {
          "output_type": "execute_result",
          "data": {
            "text/plain": [
              "['*', '* *', '* * *', '* * * *', '* * * * *']"
            ]
          },
          "metadata": {},
          "execution_count": 40
        }
      ]
    },
    {
      "cell_type": "code",
      "source": [
        "def format_pyramid(pyramid: list[int], fillchar=' ') -> str:\n",
        "    result = []\n",
        "    for row in pyramid:\n",
        "        result.append(row.center(WIDTH, fillchar))\n",
        "    return CRLF.join(result)"
      ],
      "metadata": {
        "id": "F37MBow_-EXj"
      },
      "execution_count": null,
      "outputs": []
    },
    {
      "cell_type": "code",
      "source": [
        "print(format_pyramid(make_triangle(5)))"
      ],
      "metadata": {
        "colab": {
          "base_uri": "https://localhost:8080/"
        },
        "id": "_MbmBVlf-l2f",
        "outputId": "7d1ea628-e1ac-4192-e07b-854404b3de9f"
      },
      "execution_count": null,
      "outputs": [
        {
          "output_type": "stream",
          "name": "stdout",
          "text": [
            "                             *                              \n",
            "                            * *                             \n",
            "                           * * *                            \n",
            "                          * * * *                           \n",
            "                         * * * * *                          \n"
          ]
        }
      ]
    },
    {
      "cell_type": "code",
      "source": [
        "def format_pyramid(pyramid: list[int], fillchar=' ') -> str:\n",
        "    return CRLF.join([row.center(WIDTH, fillchar) for row in pyramid])"
      ],
      "metadata": {
        "id": "MkiDRr12-otQ"
      },
      "execution_count": null,
      "outputs": []
    },
    {
      "cell_type": "code",
      "source": [
        "print(format_pyramid(make_triangle(5)))"
      ],
      "metadata": {
        "colab": {
          "base_uri": "https://localhost:8080/"
        },
        "id": "hfJJnM6CCVzR",
        "outputId": "5d4113e9-d28f-4186-bb48-830b59b7250f"
      },
      "execution_count": null,
      "outputs": [
        {
          "output_type": "stream",
          "name": "stdout",
          "text": [
            "                             *                              \n",
            "                            * *                             \n",
            "                           * * *                            \n",
            "                          * * * *                           \n",
            "                         * * * * *                          \n"
          ]
        }
      ]
    },
    {
      "cell_type": "code",
      "source": [
        "def format_reverse_pyramid(pyramid: list[int], fillchar=' ') -> str:\n",
        "    result = []\n",
        "    for row in pyramid[::-1]:\n",
        "        result.append(row.center(WIDTH, fillchar))\n",
        "    return CRLF.join(result)\n",
        "\n",
        "print(format_reverse_pyramid(make_triangle(5)))"
      ],
      "metadata": {
        "colab": {
          "base_uri": "https://localhost:8080/"
        },
        "id": "xNJN9GSMCYNP",
        "outputId": "415377ba-7f4f-45da-babe-e6ac1c3ed5fb"
      },
      "execution_count": null,
      "outputs": [
        {
          "output_type": "stream",
          "name": "stdout",
          "text": [
            "                         * * * * *                          \n",
            "                          * * * *                           \n",
            "                           * * *                            \n",
            "                            * *                             \n",
            "                             *                              \n"
          ]
        }
      ]
    },
    {
      "cell_type": "code",
      "source": [
        "def format_reverse_pyramid(pyramid: list[int], fillchar=' ') -> str:\n",
        "    return CRLF.join([row.center(WIDTH, fillchar) for row in pyramid[::-1]])\n",
        "\n",
        "print(format_reverse_pyramid(make_triangle(5), fillchar='_'))"
      ],
      "metadata": {
        "colab": {
          "base_uri": "https://localhost:8080/"
        },
        "id": "Hfc9J1vgF_b4",
        "outputId": "7da1d93e-6551-49d0-f082-2df2d1d9ee2c"
      },
      "execution_count": null,
      "outputs": [
        {
          "output_type": "stream",
          "name": "stdout",
          "text": [
            "_________________________* * * * *__________________________\n",
            "__________________________* * * *___________________________\n",
            "___________________________* * *____________________________\n",
            "____________________________* *_____________________________\n",
            "_____________________________*______________________________\n"
          ]
        }
      ]
    },
    {
      "cell_type": "code",
      "source": [
        "def format_right_triangle(triangle: list[int], fillchar=' ') -> str:\n",
        "    return CRLF.join([row.rjust(WIDTH, fillchar) for row in triangle])\n",
        "\n",
        "print(format_right_triangle(make_triangle(5), fillchar='_'))"
      ],
      "metadata": {
        "colab": {
          "base_uri": "https://localhost:8080/"
        },
        "id": "0LEUu-VKGMkI",
        "outputId": "b6f561ff-e387-421f-f8ac-7b6be770ad59"
      },
      "execution_count": null,
      "outputs": [
        {
          "output_type": "stream",
          "name": "stdout",
          "text": [
            "___________________________________________________________*\n",
            "_________________________________________________________* *\n",
            "_______________________________________________________* * *\n",
            "_____________________________________________________* * * *\n",
            "___________________________________________________* * * * *\n"
          ]
        }
      ]
    },
    {
      "cell_type": "code",
      "source": [
        "def format_left_triangle(triangle: list[int], fillchar=' ') -> str:\n",
        "    return CRLF.join([row.ljust(WIDTH, fillchar) for row in triangle])\n",
        "\n",
        "print(format_left_triangle(make_triangle(5), fillchar='_'))"
      ],
      "metadata": {
        "colab": {
          "base_uri": "https://localhost:8080/"
        },
        "id": "EcvozFXAGWNx",
        "outputId": "0df100da-1b3b-4a5c-e88c-05a635191d4d"
      },
      "execution_count": null,
      "outputs": [
        {
          "output_type": "stream",
          "name": "stdout",
          "text": [
            "*___________________________________________________________\n",
            "* *_________________________________________________________\n",
            "* * *_______________________________________________________\n",
            "* * * *_____________________________________________________\n",
            "* * * * *___________________________________________________\n"
          ]
        }
      ]
    },
    {
      "cell_type": "code",
      "source": [
        "def format_diamond(size: int) -> list[int]:\n",
        "    return format_pyramid(make_triangle(size)) + '\\n' + format_reverse_pyramid(make_triangle(size-1))\n",
        "\n",
        "print(format_diamond(4))"
      ],
      "metadata": {
        "colab": {
          "base_uri": "https://localhost:8080/"
        },
        "id": "SqgxVKUNGe6N",
        "outputId": "9e03991e-56e5-4220-977a-847a54f9b17e"
      },
      "execution_count": null,
      "outputs": [
        {
          "output_type": "stream",
          "name": "stdout",
          "text": [
            "                             *                              \n",
            "                            * *                             \n",
            "                           * * *                            \n",
            "                          * * * *                           \n",
            "                           * * *                            \n",
            "                            * *                             \n",
            "                             *                              \n"
          ]
        }
      ]
    },
    {
      "cell_type": "code",
      "source": [],
      "metadata": {
        "id": "8_0OJZVEHXCZ"
      },
      "execution_count": null,
      "outputs": []
    }
  ]
}