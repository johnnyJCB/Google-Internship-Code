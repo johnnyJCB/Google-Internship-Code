{
  "nbformat": 4,
  "nbformat_minor": 0,
  "metadata": {
    "colab": {
      "provenance": []
    },
    "kernelspec": {
      "name": "python3",
      "display_name": "Python 3"
    },
    "language_info": {
      "name": "python"
    }
  },
  "cells": [
    {
      "cell_type": "markdown",
      "source": [
        "OH\n",
        "\n",
        "Fib:"
      ],
      "metadata": {
        "id": "1fYkDCuUB3ZC"
      }
    },
    {
      "cell_type": "markdown",
      "source": [
        "1, 1, 2, 3, 5, 8, 13, 21"
      ],
      "metadata": {
        "id": "VALghh61B7Nq"
      }
    },
    {
      "cell_type": "markdown",
      "source": [
        "100"
      ],
      "metadata": {
        "id": "BH3WKo54CZEZ"
      }
    },
    {
      "cell_type": "code",
      "execution_count": null,
      "metadata": {
        "id": "ba8GrVgmBtGR"
      },
      "outputs": [],
      "source": [
        "def fib(limit: int=100) -> list[int]:\n",
        "    fibs = [0,1]\n",
        "    for _ in range(2, limit):\n",
        "        fibs.append(fibs[-1] + fibs[-2])\n",
        "    return fibs"
      ]
    },
    {
      "cell_type": "code",
      "source": [
        "fib()"
      ],
      "metadata": {
        "colab": {
          "base_uri": "https://localhost:8080/"
        },
        "id": "l8pwYpZEC4iH",
        "outputId": "9fe52c83-dba1-4153-d809-6ca39efafc91"
      },
      "execution_count": null,
      "outputs": [
        {
          "output_type": "execute_result",
          "data": {
            "text/plain": [
              "[0,\n",
              " 1,\n",
              " 1,\n",
              " 2,\n",
              " 3,\n",
              " 5,\n",
              " 8,\n",
              " 13,\n",
              " 21,\n",
              " 34,\n",
              " 55,\n",
              " 89,\n",
              " 144,\n",
              " 233,\n",
              " 377,\n",
              " 610,\n",
              " 987,\n",
              " 1597,\n",
              " 2584,\n",
              " 4181,\n",
              " 6765,\n",
              " 10946,\n",
              " 17711,\n",
              " 28657,\n",
              " 46368,\n",
              " 75025,\n",
              " 121393,\n",
              " 196418,\n",
              " 317811,\n",
              " 514229,\n",
              " 832040,\n",
              " 1346269,\n",
              " 2178309,\n",
              " 3524578,\n",
              " 5702887,\n",
              " 9227465,\n",
              " 14930352,\n",
              " 24157817,\n",
              " 39088169,\n",
              " 63245986,\n",
              " 102334155,\n",
              " 165580141,\n",
              " 267914296,\n",
              " 433494437,\n",
              " 701408733,\n",
              " 1134903170,\n",
              " 1836311903,\n",
              " 2971215073,\n",
              " 4807526976,\n",
              " 7778742049,\n",
              " 12586269025,\n",
              " 20365011074,\n",
              " 32951280099,\n",
              " 53316291173,\n",
              " 86267571272,\n",
              " 139583862445,\n",
              " 225851433717,\n",
              " 365435296162,\n",
              " 591286729879,\n",
              " 956722026041,\n",
              " 1548008755920,\n",
              " 2504730781961,\n",
              " 4052739537881,\n",
              " 6557470319842,\n",
              " 10610209857723,\n",
              " 17167680177565,\n",
              " 27777890035288,\n",
              " 44945570212853,\n",
              " 72723460248141,\n",
              " 117669030460994,\n",
              " 190392490709135,\n",
              " 308061521170129,\n",
              " 498454011879264,\n",
              " 806515533049393,\n",
              " 1304969544928657,\n",
              " 2111485077978050,\n",
              " 3416454622906707,\n",
              " 5527939700884757,\n",
              " 8944394323791464,\n",
              " 14472334024676221,\n",
              " 23416728348467685,\n",
              " 37889062373143906,\n",
              " 61305790721611591,\n",
              " 99194853094755497,\n",
              " 160500643816367088,\n",
              " 259695496911122585,\n",
              " 420196140727489673,\n",
              " 679891637638612258,\n",
              " 1100087778366101931,\n",
              " 1779979416004714189,\n",
              " 2880067194370816120,\n",
              " 4660046610375530309,\n",
              " 7540113804746346429,\n",
              " 12200160415121876738,\n",
              " 19740274219868223167,\n",
              " 31940434634990099905,\n",
              " 51680708854858323072,\n",
              " 83621143489848422977,\n",
              " 135301852344706746049,\n",
              " 218922995834555169026]"
            ]
          },
          "metadata": {},
          "execution_count": 2
        }
      ]
    },
    {
      "cell_type": "code",
      "source": [],
      "metadata": {
        "id": "xxcLiiPVEl-n"
      },
      "execution_count": null,
      "outputs": []
    },
    {
      "cell_type": "markdown",
      "source": [
        "# Assignment-03-03\n",
        "## Triangle Inequality Theorem\n",
        "\n",
        "\n",
        "The sum of the lengths of any two sides of a triangle is greater than the length of the third side.\n",
        "\n",
        "![triangle-inequality-theorem-image001.gif](data:image/gif;base64,R0lGODdhkQBkAIQAAP///z8/P5+fn39/fwAAAO/v78/Pz7+/vy8vL19fXx8fH9/f329vb6+vr4+Pj09PT////wAAAAAAAAAAAAAAAAAAAAAAAAAAAAAAAAAAAAAAAAAAAAAAAAAAAAAAAAAAACH5BAUIABAALAAAAACRAGQAQAX+ICCOZGmeaKqubOu+cCzPdG3feD4ixHIuvIFuSCzGGgRhbUBQ+IzQ6EyhkI4OCoLDyp0JEItFtcRsdF0JQuB5IhxECPMZulDPdUiC/G58EAx8ZwsBBAmBMAcEDIeMJw5Nb4c8bI2VLQZZSkOPW5aeOgwEYJ+kpaY1BwECAAirp6+wsY1UAFgErrK5M6F7Kwt+D5S6uQYED0UCkMOefsKCPIsvqsskDggiDpEiSNGxjwqA1DC04iiYWuUAnOk1oWukddfsUra9UWnh842/hTbFx/qGJVOgTd8DM3UCKlzIsCGsOsacOVxGbgSTURNz+cmHYmDBjJbWxbCFC+SdRN3+bABRZNJKPClpgrXUMekOE3AxFgwYkxGfJSQEWSRj0ACBJl1YUog0ZasTiQQBRCT4OO/fskEsQVZkl+ZdwJoOv3HUxWvmNgJ6YiE5apbEOaeVrLZtgdVQoK1zY4TCGKVZXh3fqC5J+xcKSRrcCs8Rk8QFAwSQI0ueTLmy5cuYM2vezLnz5pT6GgxoIFhxJQSL6rA1zbq169ewY8ueDWNASdqHQqXBiZuPyLq9zyQukcde8CHF7KLoKvE4jToAV7x1jkNUjMDUp/DMSUh5dhZgUaE1/p3ExiHumlMPVdpfpvLYblnBTj0ZXCn8vNMefjILeRUO6NeQXIzspV4JejDaANoyDTRwGwAveXLOaiU80ImC4rghAlV4eeLRCUiIIIY4Awi4AwGx8BPdhgo6cCAsCSCQgDCEvOjJYS2dR42BGZWVzkoUsrPUPB+GltVCKtp4SnIg4TgMdGZdpGQl1s210oKkdNhWkaSEZxowU0qh42tOBsIebjeNxcUjD8p25Rn2fQdUezjwV15MYbpAIHwbZnFfDRHyaUKaN2gp6AhYYdkCD4e2kAedJtTY6AvMseCHAp5lqummnHaaaRboTCrqqDfMWAykpLbgwBgORJXqDQHEwSaqr9ZqawgAOw==)\n",
        "\n",
        "In the figure, the following inequalities hold.\n",
        "\n",
        "a + b > c\n",
        "\n",
        "a + c > b\n",
        "\n",
        "b + c > a\n",
        "\n",
        "\n",
        "* Example 01:\n",
        "\n",
        "Check whether it is possible to have a triangle with the given side lengths.\n",
        "\n",
        "7,9,13\n",
        "\n",
        "\n",
        "* Explanation:\n",
        "\n",
        "Add any two sides and see if it is greater than the other side.\n",
        "\n",
        "The sum of 7 and 9 is 16 and 16 is greater than 13 .\n",
        "\n",
        "The sum of 9 and 13 is 21 and 21 is greater than 7 .\n",
        "\n",
        "The sum of 7 and 13 is 20 and 20 is greater than 9 .\n",
        "\n",
        "This set of side lengths satisfies the Triangle Inequality Theorem.\n",
        "\n",
        "These lengths do form a triangle.\n",
        "\n",
        "\n",
        "* Example 02:\n",
        "\n",
        "Check whether the given side lengths form a triangle.\n",
        "\n",
        "4,8,15\n",
        "\n",
        "* Explanation:\n",
        "\n",
        "Add any two sides and see if it is greater than the other side.\n",
        "\n",
        "The sum of 4 and 8 is 12 and 12 is less than 15 .\n",
        "\n",
        "This set of side lengths does not satisfy Triangle Inequality Theorem.\n",
        "\n",
        "These lengths do not form a triangle\n"
      ],
      "metadata": {
        "id": "efYaCStcMUjJ"
      }
    },
    {
      "cell_type": "code",
      "source": [
        "# NOT READABLE\n",
        "\n",
        "def is_valid_triangle(side_a: int, side_b: int, side_c: int) -> bool:\n",
        "    check_1 = side_a + side_b > side_c\n",
        "    check_2 = side_b + side_c > side_a\n",
        "    check_3 = side_a + side_c > side_b\n",
        "    if check_1 and check_2 and check_3:\n",
        "        return True\n",
        "    else:\n",
        "        return False"
      ],
      "metadata": {
        "id": "pp9k0VEoOBcA"
      },
      "execution_count": null,
      "outputs": []
    },
    {
      "cell_type": "code",
      "source": [
        "# MUCH BETTER\n",
        "\n",
        "def is_valid_triangle(a: int, b: int, c: int) -> bool:\n",
        "    return a + b > c and b + c > a and a + c > b"
      ],
      "metadata": {
        "id": "eaVOAC1rPnTo"
      },
      "execution_count": null,
      "outputs": []
    },
    {
      "cell_type": "code",
      "source": [
        "print(is_valid_triangle(7, 9, 13))\n",
        "print(is_valid_triangle(0, 2, 3))"
      ],
      "metadata": {
        "colab": {
          "base_uri": "https://localhost:8080/"
        },
        "id": "A82vHCsRPC0U",
        "outputId": "b594ca7d-4bf3-4105-d6fe-d64fe7552740"
      },
      "execution_count": null,
      "outputs": [
        {
          "output_type": "stream",
          "name": "stdout",
          "text": [
            "True\n",
            "False\n"
          ]
        }
      ]
    },
    {
      "cell_type": "code",
      "source": [
        "# 7, 9, 13\n",
        "7 + 9 > 13\n"
      ],
      "metadata": {
        "colab": {
          "base_uri": "https://localhost:8080/"
        },
        "id": "15ePyCFTOSZ0",
        "outputId": "4d40417f-61a8-4124-c6e1-1181d12776fb"
      },
      "execution_count": null,
      "outputs": [
        {
          "output_type": "execute_result",
          "data": {
            "text/plain": [
              "True"
            ]
          },
          "metadata": {},
          "execution_count": 1
        }
      ]
    },
    {
      "cell_type": "code",
      "source": [
        "9 + 13 > 7\n"
      ],
      "metadata": {
        "colab": {
          "base_uri": "https://localhost:8080/"
        },
        "id": "XtXH0q3iOhJd",
        "outputId": "593e32f4-48b7-4d8a-f6b6-56af8fc390c3"
      },
      "execution_count": null,
      "outputs": [
        {
          "output_type": "execute_result",
          "data": {
            "text/plain": [
              "True"
            ]
          },
          "metadata": {},
          "execution_count": 2
        }
      ]
    },
    {
      "cell_type": "code",
      "source": [
        "7 + 13 > 9"
      ],
      "metadata": {
        "colab": {
          "base_uri": "https://localhost:8080/"
        },
        "id": "wNFuIpmHOiVl",
        "outputId": "bfb49d51-f2d1-4209-9d1f-27e6aa32551d"
      },
      "execution_count": null,
      "outputs": [
        {
          "output_type": "execute_result",
          "data": {
            "text/plain": [
              "True"
            ]
          },
          "metadata": {},
          "execution_count": 3
        }
      ]
    },
    {
      "cell_type": "code",
      "source": [
        "True and True and True"
      ],
      "metadata": {
        "colab": {
          "base_uri": "https://localhost:8080/"
        },
        "id": "V1z_bSrYOoZj",
        "outputId": "51cd72dd-f8cf-4632-a1fc-477977c37e05"
      },
      "execution_count": null,
      "outputs": [
        {
          "output_type": "execute_result",
          "data": {
            "text/plain": [
              "True"
            ]
          },
          "metadata": {},
          "execution_count": 4
        }
      ]
    },
    {
      "cell_type": "code",
      "source": [
        "True and False and True"
      ],
      "metadata": {
        "colab": {
          "base_uri": "https://localhost:8080/"
        },
        "id": "8RczlEqYOs8r",
        "outputId": "80c31bc9-5ea5-4761-bf08-58f952112d61"
      },
      "execution_count": null,
      "outputs": [
        {
          "output_type": "execute_result",
          "data": {
            "text/plain": [
              "False"
            ]
          },
          "metadata": {},
          "execution_count": 5
        }
      ]
    },
    {
      "cell_type": "code",
      "source": [],
      "metadata": {
        "id": "qn3ljwDwOu3P"
      },
      "execution_count": null,
      "outputs": []
    },
    {
      "cell_type": "markdown",
      "source": [
        "## Assignment 04-02\n",
        "\n",
        "1. Start with any number. (For practice try small numbers) say 7\n",
        "2. if it is even divide by 2, if it is odd multiply by 3 and add 1\n",
        "3. Repeat\n",
        "\n",
        "4. This process reaches at ...4, 2, 1 and then starts repeating\n",
        "\n",
        "Write a function that generates the sequence ending in 4, 2, 1 for the given starting number\n",
        "\n",
        "For example $7$ should generate $[7, 22, 11, 34, 17, 52, 26, 13, 40, 20, 10, 5, 16, 8, 4, 2, 1]$"
      ],
      "metadata": {
        "id": "UZFimAJQQ5SU"
      }
    },
    {
      "cell_type": "code",
      "source": [
        "def collatz_sequence(k: int) -> list[int]:\n",
        "    seq = []\n",
        "    while k != 4:\n",
        "        seq.append(k)\n",
        "        k = next_collatz(k)\n",
        "    seq.extend([4, 2, 1])\n",
        "    return seq\n"
      ],
      "metadata": {
        "id": "WAHq6hFTR5jP"
      },
      "execution_count": null,
      "outputs": []
    },
    {
      "cell_type": "code",
      "source": [
        "# THIS WORKS\n",
        "def next_collatz(n: int) -> int:\n",
        "    if n % 2 == 0:\n",
        "        return n // 2\n",
        "    else:\n",
        "        return (n * 3) + 1"
      ],
      "metadata": {
        "id": "prlVrfkATRdx"
      },
      "execution_count": null,
      "outputs": []
    },
    {
      "cell_type": "code",
      "source": [
        "# THIS IS CLEANER / MORE PYTHONIC\n",
        "def next_collatz(n: int) -> int:\n",
        "    return n // 2 if n%2 == 0 else (n * 3) + 1"
      ],
      "metadata": {
        "id": "W83uIRk0TnbU"
      },
      "execution_count": null,
      "outputs": []
    },
    {
      "cell_type": "code",
      "source": [
        "collatz_sequence(3)"
      ],
      "metadata": {
        "colab": {
          "base_uri": "https://localhost:8080/"
        },
        "id": "T4a2WY64UgAM",
        "outputId": "760ebed3-b66b-4907-c7b1-fc94734cf32b"
      },
      "execution_count": null,
      "outputs": [
        {
          "output_type": "execute_result",
          "data": {
            "text/plain": [
              "[3, 10, 5, 16, 8, 4, 2, 1]"
            ]
          },
          "metadata": {},
          "execution_count": 21
        }
      ]
    },
    {
      "cell_type": "code",
      "source": [
        "collatz_sequence(7)"
      ],
      "metadata": {
        "colab": {
          "base_uri": "https://localhost:8080/"
        },
        "id": "m7eWmssSUi80",
        "outputId": "c181d599-4cdc-444b-8dfe-8d0da71cdb30"
      },
      "execution_count": null,
      "outputs": [
        {
          "output_type": "execute_result",
          "data": {
            "text/plain": [
              "[7, 22, 11, 34, 17, 52, 26, 13, 40, 20, 10, 5, 16, 8, 4, 2, 1]"
            ]
          },
          "metadata": {},
          "execution_count": 22
        }
      ]
    },
    {
      "cell_type": "code",
      "source": [],
      "metadata": {
        "id": "DbhHlR-1Umnv"
      },
      "execution_count": null,
      "outputs": []
    },
    {
      "cell_type": "markdown",
      "source": [
        "##Assignment 05-03\n",
        "\n",
        "Write a function that classifies given list of numbers into **Even** and **Odd** Sublists."
      ],
      "metadata": {
        "id": "VJwvBGFrWPIC"
      }
    },
    {
      "cell_type": "code",
      "source": [
        "def split_Even_Odd_Sublists(nums: list[int]) -> tuple[list[int]]:\n",
        "    evens = []\n",
        "    odds = []\n",
        "    for num in nums:\n",
        "        if num % 2 == 0:\n",
        "            evens.append(num)\n",
        "        else:\n",
        "            odds.append(num)\n",
        "    return evens, odds"
      ],
      "metadata": {
        "id": "Ug8LWGIRW_lH"
      },
      "execution_count": null,
      "outputs": []
    },
    {
      "cell_type": "code",
      "source": [
        "print(split_Even_Odd_Sublists([1, 2, 3, 4, 5, 6]))"
      ],
      "metadata": {
        "colab": {
          "base_uri": "https://localhost:8080/"
        },
        "id": "sC98Lg1XYFKW",
        "outputId": "9e73d30f-30c4-4a6d-d136-d6f3f85ffc47"
      },
      "execution_count": null,
      "outputs": [
        {
          "output_type": "stream",
          "name": "stdout",
          "text": [
            "([2, 4, 6], [1, 3, 5])\n"
          ]
        }
      ]
    },
    {
      "cell_type": "code",
      "source": [
        "num_array = [2,4,6,8,1,3,5,7,9,11,12,14,15,21]\n",
        "print(split_Even_Odd_Sublists(num_array))"
      ],
      "metadata": {
        "colab": {
          "base_uri": "https://localhost:8080/"
        },
        "id": "SDrPlplOYKxV",
        "outputId": "65d72e35-7b7d-48c2-cd57-7c2a1a93014f"
      },
      "execution_count": null,
      "outputs": [
        {
          "output_type": "stream",
          "name": "stdout",
          "text": [
            "([2, 4, 6, 8, 12, 14], [1, 3, 5, 7, 9, 11, 15, 21])\n"
          ]
        }
      ]
    },
    {
      "cell_type": "code",
      "source": [
        "# MAYBE DONKEY VARIABLES?\n",
        "\n",
        "def split_Even_Odd_Sublists(nums: list[int]) -> tuple[list[int]]:\n",
        "    evens = list(filter(lambda x: x%2 == 0, nums))\n",
        "    odds = list(filter(lambda x: x%2 != 0, nums))\n",
        "    return evens, odds"
      ],
      "metadata": {
        "id": "SnxwJ_59YWf6"
      },
      "execution_count": null,
      "outputs": []
    },
    {
      "cell_type": "code",
      "source": [
        "# BETTER?\n",
        "\n",
        "def split_Even_Odd_Sublists(nums: list[int]) -> tuple[list[int]]:\n",
        "    return list(filter(lambda x: x%2 == 0, nums)), list(filter(lambda x: x%2 != 0, nums))"
      ],
      "metadata": {
        "id": "sqmLoP5YdoXp"
      },
      "execution_count": null,
      "outputs": []
    },
    {
      "cell_type": "code",
      "source": [
        "def split_Even_Odd_Sublists(nums: list[int]) -> tuple[list[int]]:\n",
        "    is_even = lambda x: x % 2 == 0\n",
        "    is_odd = lambda x: not is_even(x)\n",
        "    return list(filter(is_even, nums)), list(filter(is_odd, nums))"
      ],
      "metadata": {
        "id": "SQUEO7g7dyjJ"
      },
      "execution_count": null,
      "outputs": []
    },
    {
      "cell_type": "code",
      "source": [
        "from itertools import filterfalse\n",
        "def split_Even_Odd_Sublists(nums: list[int]) -> tuple[list[int]]:\n",
        "    is_even = lambda x: x % 2 == 0\n",
        "    return list(filter(is_even, nums)), list(filterfalse(is_even, nums))"
      ],
      "metadata": {
        "id": "tASH-_8HfC9M"
      },
      "execution_count": null,
      "outputs": []
    },
    {
      "cell_type": "code",
      "source": [
        "print(split_Even_Odd_Sublists([1, 2, 3, 4, 5, 6]))"
      ],
      "metadata": {
        "colab": {
          "base_uri": "https://localhost:8080/"
        },
        "id": "YVCz2lG6dMpO",
        "outputId": "2b1b641f-1b26-45c5-c3ad-c0200e677094"
      },
      "execution_count": null,
      "outputs": [
        {
          "output_type": "stream",
          "name": "stdout",
          "text": [
            "([2, 4, 6], [1, 3, 5])\n"
          ]
        }
      ]
    },
    {
      "cell_type": "code",
      "source": [
        "num_array = [2,4,6,8,1,3,5,7,9,11,12,14,15,21]\n",
        "print(split_Even_Odd_Sublists(num_array))"
      ],
      "metadata": {
        "colab": {
          "base_uri": "https://localhost:8080/"
        },
        "id": "9FXLnEw3dOS1",
        "outputId": "9998c94a-9b34-4b22-d0b4-d18b4a282e8f"
      },
      "execution_count": null,
      "outputs": [
        {
          "output_type": "stream",
          "name": "stdout",
          "text": [
            "([2, 4, 6, 8, 12, 14], [1, 3, 5, 7, 9, 11, 15, 21])\n"
          ]
        }
      ]
    },
    {
      "cell_type": "code",
      "source": [
        "def split_Even_Odd_Sublists(nums: list[int]) -> tuple[list[int]]:\n",
        "    return [num for num in nums if num%2 == 0], [num for num in nums if num%2 == 1]"
      ],
      "metadata": {
        "id": "bTByss-0fjOq"
      },
      "execution_count": null,
      "outputs": []
    },
    {
      "cell_type": "code",
      "source": [
        "# I WOULD NOT SAY THIS IS BETTER THAN THE ABOV\n",
        "\n",
        "def split_Even_Odd_Sublists(nums: list[int]) -> tuple[list[int]]:\n",
        "    is_even = lambda x: x % 2 == 0\n",
        "    return [num for num in nums if is_even(num)], [num for num in nums if not is_even(num)]"
      ],
      "metadata": {
        "id": "6-UrlPMif6Kz"
      },
      "execution_count": null,
      "outputs": []
    },
    {
      "cell_type": "code",
      "source": [],
      "metadata": {
        "id": "OaABdrDVf6KR"
      },
      "execution_count": null,
      "outputs": []
    },
    {
      "cell_type": "code",
      "source": [
        "print(split_Even_Odd_Sublists([1, 2, 3, 4, 5, 6]))"
      ],
      "metadata": {
        "colab": {
          "base_uri": "https://localhost:8080/"
        },
        "id": "C8echbjffxcK",
        "outputId": "dc7f7918-bff5-49e9-a0e4-e7a4c8d7487e"
      },
      "execution_count": null,
      "outputs": [
        {
          "output_type": "stream",
          "name": "stdout",
          "text": [
            "([2, 4, 6], [1, 3, 5])\n"
          ]
        }
      ]
    },
    {
      "cell_type": "code",
      "source": [
        "num_array = [2,4,6,8,1,3,5,7,9,11,12,14,15,21]\n",
        "print(split_Even_Odd_Sublists(num_array))"
      ],
      "metadata": {
        "colab": {
          "base_uri": "https://localhost:8080/"
        },
        "id": "eKFjsH2afyps",
        "outputId": "dbc3dfcd-21bf-4a7f-f7ef-c92fe9d9d88f"
      },
      "execution_count": null,
      "outputs": [
        {
          "output_type": "stream",
          "name": "stdout",
          "text": [
            "([2, 4, 6, 8, 12, 14], [1, 3, 5, 7, 9, 11, 15, 21])\n"
          ]
        }
      ]
    }
  ]
}