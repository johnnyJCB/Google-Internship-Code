{
  "nbformat": 4,
  "nbformat_minor": 0,
  "metadata": {
    "colab": {
      "provenance": []
    },
    "kernelspec": {
      "name": "python3",
      "display_name": "Python 3"
    },
    "language_info": {
      "name": "python"
    }
  },
  "cells": [
    {
      "cell_type": "markdown",
      "source": [
        "##Assignment - 06-01\n",
        "\n",
        "### Built-in Function **len()**\n",
        "\n",
        "> *Return the length (the number of items) of an object. The argument may be a sequence (such as a string, bytes, tuple, list, or range) or a collection *\n",
        "\n",
        "\n",
        "\n",
        "\n",
        "\n",
        "## Problem Statement\n",
        "\n",
        "Implement a function which accepts a sequence as an argument and  returns the length of the sequence or a collection.\n",
        "\n",
        "\n",
        "\n",
        "*   Example:\n",
        "\n",
        "\n",
        "    > length(\"Hello\") --> 5\n",
        "\n",
        "    > length([]) --> 0\n",
        "    \n",
        "    > length((1, 2, 3, 4, 5)) --> 5\n",
        "\n",
        "\n",
        "\n",
        "\n",
        "\n",
        "\n",
        "\n",
        "\n"
      ],
      "metadata": {
        "id": "DRYZ9ffxRxFS"
      }
    },
    {
      "cell_type": "code",
      "source": [
        "from typing import Any\n",
        "\n",
        "def length(seq: Any) -> int:\n",
        "    if seq == \"\":\n",
        "        return 0\n",
        "    else:\n",
        "        return 1 + length(seq[1:])"
      ],
      "metadata": {
        "id": "ES0Y4ZWZiFtQ"
      },
      "execution_count": null,
      "outputs": []
    },
    {
      "cell_type": "code",
      "source": [
        "def length(seq) -> int:\n",
        "    print(seq)\n",
        "    if seq == \"\":\n",
        "        return 0\n",
        "    else:\n",
        "        return 1 + length(seq[1:])"
      ],
      "metadata": {
        "id": "9tk5yTAQR0LO"
      },
      "execution_count": null,
      "outputs": []
    },
    {
      "cell_type": "code",
      "source": [
        "length(\"Hello\") # -> 5"
      ],
      "metadata": {
        "colab": {
          "base_uri": "https://localhost:8080/"
        },
        "id": "Ho4khYT9gnOD",
        "outputId": "ec79f05f-1ea7-4a3e-9a56-b470a7aa11b1"
      },
      "execution_count": null,
      "outputs": [
        {
          "output_type": "stream",
          "name": "stdout",
          "text": [
            "Hello\n",
            "ello\n",
            "llo\n",
            "lo\n",
            "o\n",
            "\n"
          ]
        },
        {
          "output_type": "execute_result",
          "data": {
            "text/plain": [
              "5"
            ]
          },
          "metadata": {},
          "execution_count": 4
        }
      ]
    },
    {
      "cell_type": "code",
      "source": [
        "def length(seq) -> int:\n",
        "    print(repr(seq))\n",
        "    if not seq:\n",
        "        return 0\n",
        "    else:\n",
        "        return 1 + length(seq[1:])"
      ],
      "metadata": {
        "id": "7H-fBCs3ieDF"
      },
      "execution_count": null,
      "outputs": []
    },
    {
      "cell_type": "code",
      "source": [
        "length(\"Hello\")"
      ],
      "metadata": {
        "colab": {
          "base_uri": "https://localhost:8080/"
        },
        "id": "QtSqDKBIi-iW",
        "outputId": "61d91691-61cc-4295-f5bd-2de0a6fdfae4"
      },
      "execution_count": null,
      "outputs": [
        {
          "output_type": "stream",
          "name": "stdout",
          "text": [
            "'Hello'\n",
            "'ello'\n",
            "'llo'\n",
            "'lo'\n",
            "'o'\n",
            "''\n"
          ]
        },
        {
          "output_type": "execute_result",
          "data": {
            "text/plain": [
              "5"
            ]
          },
          "metadata": {},
          "execution_count": 31
        }
      ]
    },
    {
      "cell_type": "code",
      "source": [
        "length([1, 2, 3, 4])"
      ],
      "metadata": {
        "colab": {
          "base_uri": "https://localhost:8080/"
        },
        "id": "Qty-hfvUjADv",
        "outputId": "1ccaf65f-03a5-410d-ff54-cefb99429c1a"
      },
      "execution_count": null,
      "outputs": [
        {
          "output_type": "stream",
          "name": "stdout",
          "text": [
            "[1, 2, 3, 4]\n",
            "[2, 3, 4]\n",
            "[3, 4]\n",
            "[4]\n",
            "[]\n"
          ]
        },
        {
          "output_type": "execute_result",
          "data": {
            "text/plain": [
              "4"
            ]
          },
          "metadata": {},
          "execution_count": 32
        }
      ]
    },
    {
      "cell_type": "code",
      "source": [
        "length((4, 5, 6))"
      ],
      "metadata": {
        "colab": {
          "base_uri": "https://localhost:8080/"
        },
        "id": "0sYYrMmTkO3B",
        "outputId": "cf550f5d-6d86-480d-c03d-73450428413d"
      },
      "execution_count": null,
      "outputs": [
        {
          "output_type": "stream",
          "name": "stdout",
          "text": [
            "(4, 5, 6)\n",
            "(5, 6)\n",
            "(6,)\n",
            "()\n"
          ]
        },
        {
          "output_type": "execute_result",
          "data": {
            "text/plain": [
              "3"
            ]
          },
          "metadata": {},
          "execution_count": 29
        }
      ]
    },
    {
      "cell_type": "code",
      "source": [
        "bool([])"
      ],
      "metadata": {
        "colab": {
          "base_uri": "https://localhost:8080/"
        },
        "id": "nOnluI8djUDu",
        "outputId": "11f8cf2a-0a75-4748-fa57-8a869879b272"
      },
      "execution_count": null,
      "outputs": [
        {
          "output_type": "execute_result",
          "data": {
            "text/plain": [
              "False"
            ]
          },
          "metadata": {},
          "execution_count": 14
        }
      ]
    },
    {
      "cell_type": "code",
      "source": [
        "bool(\"\")"
      ],
      "metadata": {
        "colab": {
          "base_uri": "https://localhost:8080/"
        },
        "id": "VvrESym3jYT-",
        "outputId": "53caa6b6-b587-4c4b-b3e8-ec24f8ed8413"
      },
      "execution_count": null,
      "outputs": [
        {
          "output_type": "execute_result",
          "data": {
            "text/plain": [
              "False"
            ]
          },
          "metadata": {},
          "execution_count": 15
        }
      ]
    },
    {
      "cell_type": "code",
      "source": [
        "bool(())"
      ],
      "metadata": {
        "colab": {
          "base_uri": "https://localhost:8080/"
        },
        "id": "DD-f_3Qajaam",
        "outputId": "16cf2e23-0f8b-493a-fa22-cb472acde234"
      },
      "execution_count": null,
      "outputs": [
        {
          "output_type": "execute_result",
          "data": {
            "text/plain": [
              "False"
            ]
          },
          "metadata": {},
          "execution_count": 16
        }
      ]
    },
    {
      "cell_type": "code",
      "source": [
        "bool({})"
      ],
      "metadata": {
        "colab": {
          "base_uri": "https://localhost:8080/"
        },
        "id": "GEmjKXtfjcPq",
        "outputId": "196629d5-1ad0-49f0-a3c2-5ea8fd971060"
      },
      "execution_count": null,
      "outputs": [
        {
          "output_type": "execute_result",
          "data": {
            "text/plain": [
              "False"
            ]
          },
          "metadata": {},
          "execution_count": 17
        }
      ]
    },
    {
      "cell_type": "code",
      "source": [
        "bool(1)"
      ],
      "metadata": {
        "colab": {
          "base_uri": "https://localhost:8080/"
        },
        "id": "gvWWFw3_jeNR",
        "outputId": "3752e285-5ebd-42e3-a7de-37d67958d369"
      },
      "execution_count": null,
      "outputs": [
        {
          "output_type": "execute_result",
          "data": {
            "text/plain": [
              "True"
            ]
          },
          "metadata": {},
          "execution_count": 18
        }
      ]
    },
    {
      "cell_type": "code",
      "source": [
        "bool(0)"
      ],
      "metadata": {
        "colab": {
          "base_uri": "https://localhost:8080/"
        },
        "id": "4A15KpF1jkTq",
        "outputId": "705bcb54-a5a7-42ca-c831-4290f053fce0"
      },
      "execution_count": null,
      "outputs": [
        {
          "output_type": "execute_result",
          "data": {
            "text/plain": [
              "False"
            ]
          },
          "metadata": {},
          "execution_count": 19
        }
      ]
    },
    {
      "cell_type": "code",
      "source": [
        "bool(-2)"
      ],
      "metadata": {
        "colab": {
          "base_uri": "https://localhost:8080/"
        },
        "id": "j4FnNLVgjlyO",
        "outputId": "fa635ea4-6595-439e-8543-7fe0978c8780"
      },
      "execution_count": null,
      "outputs": [
        {
          "output_type": "execute_result",
          "data": {
            "text/plain": [
              "True"
            ]
          },
          "metadata": {},
          "execution_count": 20
        }
      ]
    },
    {
      "cell_type": "code",
      "source": [
        "bool(4)"
      ],
      "metadata": {
        "colab": {
          "base_uri": "https://localhost:8080/"
        },
        "id": "erut5PdSjnui",
        "outputId": "8e6637af-b913-4e86-ca83-2011d83f94ce"
      },
      "execution_count": null,
      "outputs": [
        {
          "output_type": "execute_result",
          "data": {
            "text/plain": [
              "True"
            ]
          },
          "metadata": {},
          "execution_count": 21
        }
      ]
    },
    {
      "cell_type": "code",
      "source": [
        "bool(4.5)"
      ],
      "metadata": {
        "colab": {
          "base_uri": "https://localhost:8080/"
        },
        "id": "ieROLaZ1jpQE",
        "outputId": "96ef000f-06c6-434f-e476-cd53160cf0aa"
      },
      "execution_count": null,
      "outputs": [
        {
          "output_type": "execute_result",
          "data": {
            "text/plain": [
              "True"
            ]
          },
          "metadata": {},
          "execution_count": 22
        }
      ]
    },
    {
      "cell_type": "markdown",
      "source": [
        "# Assignment 06-03\n",
        "Take any four-digit number, using at least two different digits (leading zeros are allowed).\n",
        "Arrange the digits in descending and then in ascending order to get two four-digit numbers, adding leading zeros if necessary.\n",
        "Subtract the smaller number from the bigger number.\n",
        "Go back to step 2 and repeat.\n",
        "This process stops after a few steps, that is step 3 produces the same number. DO this with paper and pen to understand the same Start with  $1945$\n",
        "\n",
        "$9541–1459=8082 $\n",
        "\n",
        "$8820–0288=8532$\n",
        "\n",
        "$8532–2358=6174$\n",
        "\n",
        "$7641–1467=6174$\n",
        "\n",
        "Given a suitable starting number generate the sequence. It should not repeat; that is it should stop before the repetition.\n",
        "\n",
        "For example if  1945  is input it should return  [1945,8082,8532,6174]\n"
      ],
      "metadata": {
        "id": "HTKqg2_YRfLj"
      }
    },
    {
      "cell_type": "code",
      "source": [
        "def num_to_digits(n: int) -> list[int]:\n",
        "    if n < 10:\n",
        "        return [n]\n",
        "    else:\n",
        "        return num_to_digits(n // 10) + [n % 10]"
      ],
      "metadata": {
        "id": "aAytsr5QjlZH"
      },
      "execution_count": null,
      "outputs": []
    },
    {
      "cell_type": "code",
      "source": [
        "num_to_digits(9514)"
      ],
      "metadata": {
        "colab": {
          "base_uri": "https://localhost:8080/"
        },
        "id": "r4-OV6i_jZpD",
        "outputId": "2ff7ea9f-0268-4a03-8043-73427fc9a8c2"
      },
      "execution_count": null,
      "outputs": [
        {
          "output_type": "execute_result",
          "data": {
            "text/plain": [
              "[9, 5, 1, 4]"
            ]
          },
          "metadata": {},
          "execution_count": 34
        }
      ]
    },
    {
      "cell_type": "code",
      "execution_count": null,
      "metadata": {
        "id": "zSh4q-CKQ_FO"
      },
      "outputs": [],
      "source": [
        "def digits_to_num(digits: list[int]) -> int:\n",
        "    if len(digits) == 0:\n",
        "        return 0\n",
        "    else:\n",
        "        return (digits_to_num(digits[:-1]) * 10) + digits[-1]"
      ]
    },
    {
      "cell_type": "code",
      "source": [
        "digits_to_num([9, 5, 1, 4])"
      ],
      "metadata": {
        "colab": {
          "base_uri": "https://localhost:8080/"
        },
        "id": "naxFQi18m5_r",
        "outputId": "24fe9d71-b61d-4a9b-aa39-c7d54a16a887"
      },
      "execution_count": null,
      "outputs": [
        {
          "output_type": "execute_result",
          "data": {
            "text/plain": [
              "9514"
            ]
          },
          "metadata": {},
          "execution_count": 54
        }
      ]
    },
    {
      "cell_type": "code",
      "source": [
        "def biggest_num(n: int) -> int:\n",
        "    return digits_to_num(sorted(num_to_digits(n), reverse=True))"
      ],
      "metadata": {
        "id": "MedQ9LhpnwLY"
      },
      "execution_count": null,
      "outputs": []
    },
    {
      "cell_type": "code",
      "source": [
        "biggest_num(9514)"
      ],
      "metadata": {
        "colab": {
          "base_uri": "https://localhost:8080/"
        },
        "id": "HYwucfJdn7nw",
        "outputId": "485f42c1-ad92-414b-ab80-b88f282d4a65"
      },
      "execution_count": null,
      "outputs": [
        {
          "output_type": "execute_result",
          "data": {
            "text/plain": [
              "9541"
            ]
          },
          "metadata": {},
          "execution_count": 56
        }
      ]
    },
    {
      "cell_type": "code",
      "source": [
        "def smallest_num(n: int) -> int:\n",
        "    return digits_to_num(sorted(num_to_digits(n)))"
      ],
      "metadata": {
        "id": "3yqlMi9AoRlu"
      },
      "execution_count": null,
      "outputs": []
    },
    {
      "cell_type": "code",
      "source": [
        "smallest_num(9514)"
      ],
      "metadata": {
        "colab": {
          "base_uri": "https://localhost:8080/"
        },
        "id": "qzdQHZWtoaRr",
        "outputId": "a93e899d-6904-4311-9103-59ae91422e74"
      },
      "execution_count": null,
      "outputs": [
        {
          "output_type": "execute_result",
          "data": {
            "text/plain": [
              "1459"
            ]
          },
          "metadata": {},
          "execution_count": 58
        }
      ]
    },
    {
      "cell_type": "code",
      "source": [
        "def next_kaprekar(n: int) -> int:\n",
        "    return biggest_num(n) - smallest_num(n)"
      ],
      "metadata": {
        "id": "aQYRtsA8olRY"
      },
      "execution_count": null,
      "outputs": []
    },
    {
      "cell_type": "code",
      "source": [
        "next_kaprekar(1945)"
      ],
      "metadata": {
        "colab": {
          "base_uri": "https://localhost:8080/"
        },
        "id": "2OMSliYuot3m",
        "outputId": "6ee6b918-fca5-4e99-b197-e3761a5d53fc"
      },
      "execution_count": null,
      "outputs": [
        {
          "output_type": "execute_result",
          "data": {
            "text/plain": [
              "8082"
            ]
          },
          "metadata": {},
          "execution_count": 61
        }
      ]
    },
    {
      "cell_type": "code",
      "source": [
        "def kaprekar_seq(n: int) -> list[int]:\n",
        "    k = next_kaprekar(n)\n",
        "    if n == k:\n",
        "        return [n]\n",
        "    else:\n",
        "        return [n] + kaprekar_seq(k)"
      ],
      "metadata": {
        "id": "-gVbplXvo5tv"
      },
      "execution_count": null,
      "outputs": []
    },
    {
      "cell_type": "code",
      "source": [
        "kaprekar_seq(1945)"
      ],
      "metadata": {
        "colab": {
          "base_uri": "https://localhost:8080/"
        },
        "id": "AdADl3w_pj4q",
        "outputId": "42fe3a57-fedb-40c8-b523-5e72b53b68c5"
      },
      "execution_count": null,
      "outputs": [
        {
          "output_type": "execute_result",
          "data": {
            "text/plain": [
              "[1945, 8082, 8532, 6174]"
            ]
          },
          "metadata": {},
          "execution_count": 65
        }
      ]
    },
    {
      "cell_type": "code",
      "source": [
        "next_kaprekar(6174)"
      ],
      "metadata": {
        "colab": {
          "base_uri": "https://localhost:8080/"
        },
        "id": "087ZfDt3qEBt",
        "outputId": "b524755e-13a7-4b17-bce8-89ad1509afa8"
      },
      "execution_count": null,
      "outputs": [
        {
          "output_type": "execute_result",
          "data": {
            "text/plain": [
              "6174"
            ]
          },
          "metadata": {},
          "execution_count": 66
        }
      ]
    },
    {
      "cell_type": "markdown",
      "source": [
        "\n",
        "# Assignment 07-01\n",
        "Camel case is often used as a naming convention in computer programming, but is an ambiguous definition due to the optional capitalization of the first letter. Some programming styles prefer camel case with the first letter capitalised, others not. For clarity, this article calls the two alternatives upper camel case (initial uppercase letter, also known as Initial Capitals, Initial Caps, InitCaps or Pascal case) and lower camel case (initial lowercase letter, also known as dromedary case). Some people and organizations, notably Microsoft, use the term camel case only for lower camel case, designating Pascal case for the upper camel case.\n",
        "\n",
        "-- from the wikipedia\n",
        "\n",
        "We will also use the convention that the term camel case stands for first letter lower and the term pascal case stands for first letter also capitals\n",
        "\n",
        "We will first address two situations:\n",
        "\n",
        "  1. converting a variable name which has underscores separating the parts to  camel case\n",
        "\n",
        "  2. Converting a string whiich has spaces punctuation etc to a camel case variable name\n",
        "\n",
        "## Convert a variable name to camel case.\n",
        "\n",
        "variable_to_camel_case(\"basic_salary_in_dollar\") => basicSalaryInDollar\n"
      ],
      "metadata": {
        "id": "caLVxFx-R0y_"
      }
    },
    {
      "cell_type": "code",
      "source": [
        "'basic_salary_in_dollar'.split('_')"
      ],
      "metadata": {
        "colab": {
          "base_uri": "https://localhost:8080/"
        },
        "id": "7_ZzWMHwR6PD",
        "outputId": "e3536655-ad95-4fe1-cf2b-b69c201fff9a"
      },
      "execution_count": null,
      "outputs": [
        {
          "output_type": "execute_result",
          "data": {
            "text/plain": [
              "['basic', 'salary', 'in', 'dollar']"
            ]
          },
          "metadata": {},
          "execution_count": 67
        }
      ]
    },
    {
      "cell_type": "code",
      "source": [
        "def variable_to_camel_case(text: str) -> str:\n",
        "    words = text.split('_')\n",
        "    camel_case = words[0].lower()\n",
        "    for word in words[1:]:\n",
        "        camel_case += word.capitalize()\n",
        "    return camel_case"
      ],
      "metadata": {
        "id": "BJzDmsNirCQe"
      },
      "execution_count": null,
      "outputs": []
    },
    {
      "cell_type": "code",
      "source": [
        "variable_to_camel_case('basic_salary_in_dollar')"
      ],
      "metadata": {
        "colab": {
          "base_uri": "https://localhost:8080/",
          "height": 35
        },
        "id": "-GjWP8jVrutl",
        "outputId": "065247ce-01fa-4251-836e-005ea7c24e77"
      },
      "execution_count": null,
      "outputs": [
        {
          "output_type": "execute_result",
          "data": {
            "text/plain": [
              "'basicSalaryInDollar'"
            ],
            "application/vnd.google.colaboratory.intrinsic+json": {
              "type": "string"
            }
          },
          "metadata": {},
          "execution_count": 74
        }
      ]
    },
    {
      "cell_type": "code",
      "source": [
        "'basic_salary_in_dollar'.split('_')"
      ],
      "metadata": {
        "colab": {
          "base_uri": "https://localhost:8080/"
        },
        "id": "yZxh5oClsQOQ",
        "outputId": "b9fa4552-1b95-4b16-a15c-7401537e59e4"
      },
      "execution_count": null,
      "outputs": [
        {
          "output_type": "execute_result",
          "data": {
            "text/plain": [
              "['basic', 'salary', 'in', 'dollar']"
            ]
          },
          "metadata": {},
          "execution_count": 75
        }
      ]
    },
    {
      "cell_type": "code",
      "source": [
        "list(map(str.capitalize,'basic_salary_in_dollar'.split('_')))"
      ],
      "metadata": {
        "colab": {
          "base_uri": "https://localhost:8080/"
        },
        "id": "eVeh0sejseEN",
        "outputId": "b6181d1d-fb48-42be-ac2d-57d601f960f1"
      },
      "execution_count": null,
      "outputs": [
        {
          "output_type": "execute_result",
          "data": {
            "text/plain": [
              "['Basic', 'Salary', 'In', 'Dollar']"
            ]
          },
          "metadata": {},
          "execution_count": 80
        }
      ]
    },
    {
      "cell_type": "code",
      "source": [
        "def variable_to_camel_case(text: str) -> str:\n",
        "    words = text.split('_')\n",
        "    return words[0].lower() + ''.join(map(str.capitalize, words[1:]))"
      ],
      "metadata": {
        "id": "-Tb3lyhqs2lb"
      },
      "execution_count": null,
      "outputs": []
    },
    {
      "cell_type": "code",
      "source": [
        "variable_to_camel_case('basic_salary_in_dollar')"
      ],
      "metadata": {
        "id": "qccIeejvvIHG"
      },
      "execution_count": null,
      "outputs": []
    },
    {
      "cell_type": "code",
      "source": [
        "def variable_to_camel_case(text: str) -> str:\n",
        "    words = text.split('_')\n",
        "    return words[0].lower() + ''.join([word.capitalize() for word in words[1:]])"
      ],
      "metadata": {
        "id": "00xXMNwvvK4h"
      },
      "execution_count": null,
      "outputs": []
    },
    {
      "cell_type": "code",
      "source": [
        "variable_to_camel_case('basic_salary_in_dollar')"
      ],
      "metadata": {
        "colab": {
          "base_uri": "https://localhost:8080/",
          "height": 35
        },
        "id": "3TYpNWZVtfRf",
        "outputId": "69f4e525-76a3-47e2-b4ff-b4bbbae18b63"
      },
      "execution_count": null,
      "outputs": [
        {
          "output_type": "execute_result",
          "data": {
            "text/plain": [
              "'basicSalaryInDollar'"
            ],
            "application/vnd.google.colaboratory.intrinsic+json": {
              "type": "string"
            }
          },
          "metadata": {},
          "execution_count": 88
        }
      ]
    },
    {
      "cell_type": "markdown",
      "source": [
        "##Assignment 07-02\n",
        "\n",
        "Convert a variable name from camel case"
      ],
      "metadata": {
        "id": "3pJ_uf70R6zv"
      }
    },
    {
      "cell_type": "code",
      "source": [],
      "metadata": {
        "id": "61NuU0PCSAS3"
      },
      "execution_count": null,
      "outputs": []
    },
    {
      "cell_type": "markdown",
      "source": [
        "# Assignment 08-01\n",
        "\n",
        "## Pascal's triangle\n",
        "\n",
        "\n",
        "              1\n",
        "           1     1\n",
        "         1    2    1\n",
        "       1   3     3   1\n",
        "    1   4     6    4   1"
      ],
      "metadata": {
        "id": "WTcVcWEYSAk6"
      }
    },
    {
      "cell_type": "markdown",
      "source": [
        "The triangle can be constructed by first placing a 1 along the left and right edges. Then the triangle can be filled out from the top by adding together the two numbers just above to the left and right of each position in the triangle. Thus, the third row, in Hindu-Arabic numerals, is 1 2 1, the fourth row is 1 4 6 4 1, the fifth row is 1 5 10 10 5 1, and so forth. The first row, or just 1, gives the coefficient for the expansion of $(x + y)^0 = 1$; the second row, or $1~1$, gives the coefficients for $(x + y)^1 = x + y$; the third row, or 1 2 1, gives the coefficients for $(x + y)^2 = x^2 + 2xy + y^2$; and so forth."
      ],
      "metadata": {
        "id": "yBmM4shzSHmW"
      }
    },
    {
      "cell_type": "markdown",
      "source": [
        "It is possible to use the formula for $^nC_r$ and calculate each element and then format them. But a simpler method is to consider the following:\n",
        "\n",
        "* Let us think of each row as a list: first row is $[1]$, second is $[1, 1]$; third is $[1, 2, 1]$\n",
        "* so how do we go from $[1] -> [1, 1] -> [1, 2, 1]$\n"
      ],
      "metadata": {
        "id": "I9hfmW_TSOiM"
      }
    },
    {
      "cell_type": "code",
      "source": [
        "def next_pascal_row(row: list[int]) -> list[int]:\n",
        "    new_length = len(row) + 1\n",
        "    new_row = []\n",
        "    for i in range(new_length):\n",
        "        if i == 0 or i == new_length - 1:\n",
        "            new_row.append(1)\n",
        "        else:\n",
        "            new_row.append(row[i] + row[i-1])\n",
        "    return new_row\n"
      ],
      "metadata": {
        "id": "ndpjjtFASPfI"
      },
      "execution_count": null,
      "outputs": []
    },
    {
      "cell_type": "code",
      "source": [
        "next_pascal_row([1, 2, 1])"
      ],
      "metadata": {
        "colab": {
          "base_uri": "https://localhost:8080/"
        },
        "id": "Buj4uaUnx-pw",
        "outputId": "71ee876d-a98a-4138-d091-3da4cb5b6805"
      },
      "execution_count": null,
      "outputs": [
        {
          "output_type": "execute_result",
          "data": {
            "text/plain": [
              "[1, 3, 3, 1]"
            ]
          },
          "metadata": {},
          "execution_count": 99
        }
      ]
    },
    {
      "cell_type": "code",
      "source": [
        "def pascal(size: int) -> list[list[int]]:\n",
        "    rows, row = [], [1]\n",
        "    for r in range(size):\n",
        "        rows.append(row)\n",
        "        row = next_pascal_row(row)\n",
        "    return rows"
      ],
      "metadata": {
        "id": "MWnJPAZNyCpb"
      },
      "execution_count": null,
      "outputs": []
    },
    {
      "cell_type": "code",
      "source": [
        "pascal(5)"
      ],
      "metadata": {
        "colab": {
          "base_uri": "https://localhost:8080/"
        },
        "id": "2PZF4VnLzgHX",
        "outputId": "5448e28e-2113-4753-d85b-da57bf380dc9"
      },
      "execution_count": null,
      "outputs": [
        {
          "output_type": "execute_result",
          "data": {
            "text/plain": [
              "[[1], [1, 1], [1, 2, 1], [1, 3, 3, 1], [1, 4, 6, 4, 1]]"
            ]
          },
          "metadata": {},
          "execution_count": 101
        }
      ]
    },
    {
      "cell_type": "code",
      "source": [
        "def next_row(row: list[int]) -> list[int]:\n",
        "    pre = [0] + row\n",
        "    post = row + [0]\n",
        "    new_row = []\n",
        "    for a, b in zip(pre, post):\n",
        "        new_row.append(a + b)\n",
        "    return new_row"
      ],
      "metadata": {
        "id": "ovZOqjqvzi5a"
      },
      "execution_count": null,
      "outputs": []
    },
    {
      "cell_type": "code",
      "source": [
        "next_row([1])"
      ],
      "metadata": {
        "colab": {
          "base_uri": "https://localhost:8080/"
        },
        "id": "PuutDzDW0qRZ",
        "outputId": "198d1a09-da36-463c-ba4a-e46fac014b0f"
      },
      "execution_count": null,
      "outputs": [
        {
          "output_type": "execute_result",
          "data": {
            "text/plain": [
              "[1, 1]"
            ]
          },
          "metadata": {},
          "execution_count": 103
        }
      ]
    },
    {
      "cell_type": "code",
      "source": [
        "next_row([1, 1])"
      ],
      "metadata": {
        "colab": {
          "base_uri": "https://localhost:8080/"
        },
        "id": "oPP9dMNm0ron",
        "outputId": "388efb25-814d-43fc-d2df-30ccb71144ea"
      },
      "execution_count": null,
      "outputs": [
        {
          "output_type": "execute_result",
          "data": {
            "text/plain": [
              "[1, 2, 1]"
            ]
          },
          "metadata": {},
          "execution_count": 104
        }
      ]
    },
    {
      "cell_type": "code",
      "source": [
        "next_row([1, 2, 1])"
      ],
      "metadata": {
        "colab": {
          "base_uri": "https://localhost:8080/"
        },
        "id": "j8UMjOcX0s-O",
        "outputId": "520f689c-09ca-459d-f3ed-4286cf8cb412"
      },
      "execution_count": null,
      "outputs": [
        {
          "output_type": "execute_result",
          "data": {
            "text/plain": [
              "[1, 3, 3, 1]"
            ]
          },
          "metadata": {},
          "execution_count": 105
        }
      ]
    },
    {
      "cell_type": "code",
      "source": [
        "row = [1, 2, 1]\n",
        "pre = [0] + row\n",
        "print(f\"{pre=}\")\n",
        "post = row + [0]\n",
        "print(f\"{post=}\")\n",
        "print(f\"{list(zip(pre, post))=}\")"
      ],
      "metadata": {
        "colab": {
          "base_uri": "https://localhost:8080/"
        },
        "id": "u0mqcqcG0uio",
        "outputId": "a4e3e445-a3a5-4669-95ea-9befa4ed5a76"
      },
      "execution_count": null,
      "outputs": [
        {
          "output_type": "stream",
          "name": "stdout",
          "text": [
            "pre=[0, 1, 2, 1]\n",
            "post=[1, 2, 1, 0]\n",
            "list(zip(pre, post))=[(0, 1), (1, 2), (2, 1), (1, 0)]\n"
          ]
        }
      ]
    },
    {
      "cell_type": "code",
      "source": [],
      "metadata": {
        "id": "4q2gW7GW0989"
      },
      "execution_count": null,
      "outputs": []
    }
  ]
}