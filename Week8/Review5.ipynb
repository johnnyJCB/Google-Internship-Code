{
  "nbformat": 4,
  "nbformat_minor": 0,
  "metadata": {
    "colab": {
      "provenance": []
    },
    "kernelspec": {
      "name": "python3",
      "display_name": "Python 3"
    },
    "language_info": {
      "name": "python"
    }
  },
  "cells": [
    {
      "cell_type": "markdown",
      "source": [
        "##Assignment - 19-01\n",
        "\n",
        "Write one function to calculate the perimeter of triangle, rectangle, pentagone, hexagone."
      ],
      "metadata": {
        "id": "_a-vCCl-hvCs"
      }
    },
    {
      "cell_type": "code",
      "source": [
        "def perimeter_of_shape(*side_lengths: tuple[int]) -> int:\n",
        "    permiter = 0\n",
        "    for side_length in side_lengths:\n",
        "        permiter += side_length\n",
        "    return permiter"
      ],
      "metadata": {
        "id": "wb4_bgxPXHp5"
      },
      "execution_count": null,
      "outputs": []
    },
    {
      "cell_type": "code",
      "source": [
        "def perimeter_of_shape(*side_lengths: tuple[int]) -> int:\n",
        "    return sum(side_lengths)"
      ],
      "metadata": {
        "id": "4XnmvpNWk2IX"
      },
      "execution_count": null,
      "outputs": []
    },
    {
      "cell_type": "code",
      "source": [
        "from functools import reduce\n",
        "\n",
        "def perimeter_of_shape(*side_lengths: tuple[int]) -> int:\n",
        "    return reduce(lambda a, b: a + b, side_lengths)"
      ],
      "metadata": {
        "id": "uroQbfdTlY4o"
      },
      "execution_count": null,
      "outputs": []
    },
    {
      "cell_type": "code",
      "source": [
        "print(perimeter_of_shape(12, 34, 56))\n",
        "print(perimeter_of_shape(12, 34, 56, 11))\n",
        "print(perimeter_of_shape(12, 34, 56,10, 7))\n",
        "print(perimeter_of_shape(12, 34, 56, 13, 10, 22))"
      ],
      "metadata": {
        "colab": {
          "base_uri": "https://localhost:8080/"
        },
        "id": "JbPZSD95kriv",
        "outputId": "d1d028ca-3fa7-4e38-b959-0442cc5e99a7"
      },
      "execution_count": null,
      "outputs": [
        {
          "output_type": "stream",
          "name": "stdout",
          "text": [
            "102\n",
            "113\n",
            "119\n",
            "147\n"
          ]
        }
      ]
    },
    {
      "cell_type": "markdown",
      "source": [
        "#Assignment - 19 - 02\n",
        "\n",
        "Write a function which take multiple strings as input. Concatenate the strings in the reverse order after reversing the strings."
      ],
      "metadata": {
        "id": "nToFfB6qBxEI"
      }
    },
    {
      "cell_type": "code",
      "source": [
        "def display_in_reverse_order(*strings):\n",
        "    result = []\n",
        "    for string in strings:\n",
        "        result.insert(0, string[::-1])\n",
        "    return ''.join(result)\n",
        "\n",
        "display_in_reverse_order(\"Hello\", \"Welcome\", \"to\", \"TechWise\")"
      ],
      "metadata": {
        "colab": {
          "base_uri": "https://localhost:8080/",
          "height": 35
        },
        "id": "gx0ZT_dtrZIN",
        "outputId": "6a89e956-0f82-4e94-e3d5-0c4ae226f9a5"
      },
      "execution_count": null,
      "outputs": [
        {
          "output_type": "execute_result",
          "data": {
            "text/plain": [
              "'esiWhceTotemocleWolleH'"
            ],
            "application/vnd.google.colaboratory.intrinsic+json": {
              "type": "string"
            }
          },
          "metadata": {},
          "execution_count": 10
        }
      ]
    },
    {
      "cell_type": "code",
      "source": [
        "def display_in_reverse_order(*strings):\n",
        "    result = []\n",
        "    for string in strings:\n",
        "        result.append(string[::-1])\n",
        "    return ''.join(result[::-1])\n",
        "\n",
        "display_in_reverse_order(\"Hello\", \"Welcome\", \"to\", \"TechWise\")"
      ],
      "metadata": {
        "colab": {
          "base_uri": "https://localhost:8080/",
          "height": 35
        },
        "id": "aFCenuIErfII",
        "outputId": "f237f06a-07b3-4459-8a47-fa35428f5fe4"
      },
      "execution_count": null,
      "outputs": [
        {
          "output_type": "execute_result",
          "data": {
            "text/plain": [
              "'esiWhceTotemocleWolleH'"
            ],
            "application/vnd.google.colaboratory.intrinsic+json": {
              "type": "string"
            }
          },
          "metadata": {},
          "execution_count": 11
        }
      ]
    },
    {
      "cell_type": "code",
      "source": [
        "def display_in_reverse_order(*strings):\n",
        "    return ''.join([string[::-1] for string in strings][::-1])\n",
        "\n",
        "display_in_reverse_order(\"Hello\", \"Welcome\", \"to\", \"TechWise\")"
      ],
      "metadata": {
        "colab": {
          "base_uri": "https://localhost:8080/",
          "height": 35
        },
        "id": "lQQp-ljKrmzv",
        "outputId": "8e72f89e-fd27-495e-d45d-f6c16a2d4964"
      },
      "execution_count": null,
      "outputs": [
        {
          "output_type": "execute_result",
          "data": {
            "text/plain": [
              "'esiWhceTotemocleWolleH'"
            ],
            "application/vnd.google.colaboratory.intrinsic+json": {
              "type": "string"
            }
          },
          "metadata": {},
          "execution_count": 12
        }
      ]
    },
    {
      "cell_type": "code",
      "source": [
        "def display_in_reverse_order(*strings):\n",
        "    return ''.join(reversed(list(map(lambda word: word[::-1], strings))))\n",
        "\n",
        "display_in_reverse_order(\"Hello\", \"Welcome\", \"to\", \"TechWise\")"
      ],
      "metadata": {
        "colab": {
          "base_uri": "https://localhost:8080/",
          "height": 35
        },
        "id": "rFWNXYZUr2EI",
        "outputId": "f5390aae-1925-4ab5-8864-6147186c15d7"
      },
      "execution_count": null,
      "outputs": [
        {
          "output_type": "execute_result",
          "data": {
            "text/plain": [
              "'esiWhceTotemocleWolleH'"
            ],
            "application/vnd.google.colaboratory.intrinsic+json": {
              "type": "string"
            }
          },
          "metadata": {},
          "execution_count": 15
        }
      ]
    },
    {
      "cell_type": "code",
      "source": [
        "def display_in_reverse_order(*strings):\n",
        "    return ''.join(strings)[::-1]\n",
        "\n",
        "display_in_reverse_order(\"Hello\", \"Welcome\", \"to\", \"TechWise\")"
      ],
      "metadata": {
        "colab": {
          "base_uri": "https://localhost:8080/",
          "height": 35
        },
        "id": "GMhTXKGusHG8",
        "outputId": "40c6a4d2-a24a-4ff5-97ba-3e754a1c1a21"
      },
      "execution_count": null,
      "outputs": [
        {
          "output_type": "execute_result",
          "data": {
            "text/plain": [
              "'esiWhceTotemocleWolleH'"
            ],
            "application/vnd.google.colaboratory.intrinsic+json": {
              "type": "string"
            }
          },
          "metadata": {},
          "execution_count": 20
        }
      ]
    },
    {
      "cell_type": "code",
      "source": [
        "''.join((\"Hello\", \"Welcome\", \"to\", \"TechWise\"))[::-1]"
      ],
      "metadata": {
        "colab": {
          "base_uri": "https://localhost:8080/",
          "height": 35
        },
        "id": "n0yK8O6xtZCp",
        "outputId": "b84d7aec-43af-4ef5-edab-cdf0fe631d1c"
      },
      "execution_count": null,
      "outputs": [
        {
          "output_type": "execute_result",
          "data": {
            "text/plain": [
              "'esiWhceTotemocleWolleH'"
            ],
            "application/vnd.google.colaboratory.intrinsic+json": {
              "type": "string"
            }
          },
          "metadata": {},
          "execution_count": 23
        }
      ]
    },
    {
      "cell_type": "code",
      "source": [
        "display_in_reverse_order(\"Hello\", \"Welcome\", \"to\", \"TechWise\") # -> `esiWhceTotemocleWolleH`"
      ],
      "metadata": {
        "id": "pd9Hz1vOSk2E"
      },
      "execution_count": null,
      "outputs": []
    },
    {
      "cell_type": "markdown",
      "source": [
        "##Assignment - 20 - 01\n",
        "\n",
        "###Count vowels and consonants\n",
        "\n",
        "Write a program to read the content from the \"Content.txt\" file and return the count of vowels and consonants.\n",
        "\n",
        "* Content.txt\n",
        "\n",
        "https://drive.google.com/file/d/1h60E9b3r9ecFLPxnd5lYzDzLiza0NsK3/view?usp=sharing"
      ],
      "metadata": {
        "id": "Z_C5qmCTBpsp"
      }
    },
    {
      "cell_type": "code",
      "source": [],
      "metadata": {
        "id": "jrbbIHkxXPuO"
      },
      "execution_count": null,
      "outputs": []
    },
    {
      "cell_type": "markdown",
      "source": [
        "##Assignment - 20 - 02\n",
        "\n",
        "##Add Rank to the students\n",
        "\n",
        "Implement a program to rank the students according to their marks.\n",
        "\n",
        "Note: The ranking system:\n",
        "\n",
        "If two students of the class get equal marks, they are given the same rank but students with different marks are given the rank as the (number of students above them + 1). See the example for more clarity.\n",
        "\n",
        "There are five students in a class. Their marks distribution is:\n",
        "98 68 74 21 74\n",
        "\n",
        "That is first student gets marks 98, second gets 68, and so on.\n",
        "Now , the highest marks is 98. So, the first student gets rank 1.\n",
        "Next higher marks is 74. So student 3 and 5 gets rank 2.\n",
        "Next higher marks is 68 and there are three students (1,3,5) who have got marks higher than him. So he gets rank 4.\n",
        "Similarly , student with marks 21 gets rank 5.\n",
        "\n",
        "\n",
        "Sample data in the file\n",
        "\n",
        "    John, 84\n",
        "    Micheal, 90\n",
        "    Peter, 65\n",
        "    Jenny, 90\n",
        "    Ryan, 77\n",
        "    Ashaa, 84\n",
        "    Kerry, 52\n",
        "    Kingsley, 17\n",
        "    Wincy, 95\n",
        "    Princy, 95\n",
        "    Johnright, 65\n",
        "    Mike, 76\n",
        "    Peterpot, 64\n",
        "    Mark, 98\n",
        "    Raj, 76\n",
        "    Ashaa, 85\n",
        "    Perrt, 53\n",
        "    Queen, 15\n",
        "    Anshu, 90\n",
        "    Amar, 92\n",
        "\n",
        "\n",
        "\n",
        "\n",
        "**Expected Output:**\n",
        "\n",
        "    1  Mark           98    \n",
        "    2  Wincy          95    \n",
        "    2  Princy         95    \n",
        "    4  Amar           92    \n",
        "    5  Micheal        90    \n",
        "    5  Jenny          90    \n",
        "    5  Anshu          90    \n",
        "    8  Ashaa          85    \n",
        "    9  John           84    \n",
        "    9  Ashaa          84    \n",
        "    11  Ryan           77    \n",
        "    12  Mike           76    \n",
        "    12  Raj            76    \n",
        "    14  Peter          65    \n",
        "    14  Johnright      65    \n",
        "    16  Peterpot       64    \n",
        "    17  Perrt          53    \n",
        "    18  Kerry          52    \n",
        "    19  Kingsley       17    \n",
        "    20  Queen          15    \n",
        "\n",
        "\n",
        "Sample file: StudentData.txt\n",
        "https://drive.google.com/file/d/1dNAPtIZ6McDx9hbXQjPXghjOQ2RoDf9Y/view?usp=sharing"
      ],
      "metadata": {
        "id": "Wva5pvh2tgYp"
      }
    },
    {
      "cell_type": "code",
      "source": [
        "with open('StudentData.txt', 'r') as lines:\n",
        "    print(lines)"
      ],
      "metadata": {
        "id": "GUJJmWvIS4t8",
        "colab": {
          "base_uri": "https://localhost:8080/"
        },
        "outputId": "b8488cf9-e73a-468e-8acc-d30d94ab0704"
      },
      "execution_count": null,
      "outputs": [
        {
          "output_type": "stream",
          "name": "stdout",
          "text": [
            "<_io.TextIOWrapper name='StudentData.txt' mode='r' encoding='UTF-8'>\n"
          ]
        }
      ]
    },
    {
      "cell_type": "code",
      "source": [
        "def read_file(filename: str) -> dict[list[str]]:\n",
        "    result_dict = dict()\n",
        "    with open(filename, 'r') as lines:\n",
        "        for line in lines.readlines():\n",
        "            name, mark = line.strip().split(', ')\n",
        "            if int(mark) not in result_dict:\n",
        "                result_dict[int(mark)] = [name]\n",
        "            else:\n",
        "                result_dict[int(mark)].append(name)\n",
        "\n",
        "    return result_dict\n",
        "\n",
        "read_file('StudentData.txt')"
      ],
      "metadata": {
        "id": "oLDwMPf2vT0v",
        "colab": {
          "base_uri": "https://localhost:8080/"
        },
        "outputId": "e4fc4999-0987-4772-e64b-107edb617f7d"
      },
      "execution_count": null,
      "outputs": [
        {
          "output_type": "execute_result",
          "data": {
            "text/plain": [
              "{84: ['John', 'Ashaa'],\n",
              " 90: ['Micheal', 'Jenny', 'Anshu'],\n",
              " 65: ['Peter', 'Johnright'],\n",
              " 77: ['Ryan'],\n",
              " 52: ['Kerry'],\n",
              " 17: ['Kingsley'],\n",
              " 95: ['Wincy', 'Princy'],\n",
              " 76: ['Mike', 'Raj'],\n",
              " 64: ['Peterpot'],\n",
              " 98: ['Mark'],\n",
              " 85: ['Ashaa'],\n",
              " 53: ['Perrt'],\n",
              " 15: ['Queen'],\n",
              " 92: ['Amar']}"
            ]
          },
          "metadata": {},
          "execution_count": 55
        }
      ]
    },
    {
      "cell_type": "code",
      "source": [
        "# MORE PYTHONIC\n",
        "\n",
        "def read_file(filename: str) -> dict[list[str]]:\n",
        "    result_dict = dict()\n",
        "    with open(filename, 'r') as lines:\n",
        "        for line in lines.readlines():\n",
        "            name, mark = line.strip().split(', ')\n",
        "            result_dict[int(mark)] = result_dict.get(int(mark), []) + [name]\n",
        "\n",
        "    return result_dict\n",
        "\n",
        "read_file('StudentData.txt')"
      ],
      "metadata": {
        "colab": {
          "base_uri": "https://localhost:8080/"
        },
        "id": "NKKhyAR1wHZ9",
        "outputId": "8927bbe1-5410-4359-abbb-b068579e9011"
      },
      "execution_count": null,
      "outputs": [
        {
          "output_type": "execute_result",
          "data": {
            "text/plain": [
              "{84: ['John', 'Ashaa'],\n",
              " 90: ['Micheal', 'Jenny', 'Anshu'],\n",
              " 65: ['Peter', 'Johnright'],\n",
              " 77: ['Ryan'],\n",
              " 52: ['Kerry'],\n",
              " 17: ['Kingsley'],\n",
              " 95: ['Wincy', 'Princy'],\n",
              " 76: ['Mike', 'Raj'],\n",
              " 64: ['Peterpot'],\n",
              " 98: ['Mark'],\n",
              " 85: ['Ashaa'],\n",
              " 53: ['Perrt'],\n",
              " 15: ['Queen'],\n",
              " 92: ['Amar']}"
            ]
          },
          "metadata": {},
          "execution_count": 56
        }
      ]
    },
    {
      "cell_type": "code",
      "source": [
        "def assign_rank(filename: str) -> str:\n",
        "    data = read_file(filename)\n",
        "    rank, output = 1, ''\n",
        "    for mark, names in sorted(data.items(), reverse=True):\n",
        "        for name in names:\n",
        "            output += f\"{rank:4d} {name:15} {mark:4d}\\n\"\n",
        "        rank += len(names)\n",
        "    return output\n",
        "\n",
        "print(assign_rank(\"StudentData.txt\"))"
      ],
      "metadata": {
        "colab": {
          "base_uri": "https://localhost:8080/"
        },
        "id": "1qo2l82i0zth",
        "outputId": "1db1167c-0313-4084-90e6-e728b1d8732e"
      },
      "execution_count": null,
      "outputs": [
        {
          "output_type": "stream",
          "name": "stdout",
          "text": [
            "   1 Mark              98\n",
            "   2 Wincy             95\n",
            "   2 Princy            95\n",
            "   4 Amar              92\n",
            "   5 Micheal           90\n",
            "   5 Jenny             90\n",
            "   5 Anshu             90\n",
            "   8 Ashaa             85\n",
            "   9 John              84\n",
            "   9 Ashaa             84\n",
            "  11 Ryan              77\n",
            "  12 Mike              76\n",
            "  12 Raj               76\n",
            "  14 Peter             65\n",
            "  14 Johnright         65\n",
            "  16 Peterpot          64\n",
            "  17 Perrt             53\n",
            "  18 Kerry             52\n",
            "  19 Kingsley          17\n",
            "  20 Queen             15\n",
            "\n"
          ]
        }
      ]
    },
    {
      "cell_type": "code",
      "source": [
        "for key, val in sorted(read_file('StudentData.txt').items()):\n",
        "    print(key, val)"
      ],
      "metadata": {
        "colab": {
          "base_uri": "https://localhost:8080/"
        },
        "id": "EAakBFZ01hAR",
        "outputId": "8d0d0973-ac7a-43de-f2cc-ed449162bea0"
      },
      "execution_count": null,
      "outputs": [
        {
          "output_type": "stream",
          "name": "stdout",
          "text": [
            "15 ['Queen']\n",
            "17 ['Kingsley']\n",
            "52 ['Kerry']\n",
            "53 ['Perrt']\n",
            "64 ['Peterpot']\n",
            "65 ['Peter', 'Johnright']\n",
            "76 ['Mike', 'Raj']\n",
            "77 ['Ryan']\n",
            "84 ['John', 'Ashaa']\n",
            "85 ['Ashaa']\n",
            "90 ['Micheal', 'Jenny', 'Anshu']\n",
            "92 ['Amar']\n",
            "95 ['Wincy', 'Princy']\n",
            "98 ['Mark']\n"
          ]
        }
      ]
    },
    {
      "cell_type": "code",
      "source": [
        "def read_file(filename: str) -> [str]:\n",
        "    data = []\n",
        "    with open(filename, 'r') as studentdata:\n",
        "        for line in studentdata.readlines():\n",
        "            data.append(line.strip().strip('\\n').split(', '))\n",
        "    return data\n",
        "read_file(\"StudentData.txt\")"
      ],
      "metadata": {
        "colab": {
          "base_uri": "https://localhost:8080/"
        },
        "id": "ZZkUBLo01p_V",
        "outputId": "25b5c473-8fd8-4f09-aa52-ab114df4a399"
      },
      "execution_count": null,
      "outputs": [
        {
          "output_type": "execute_result",
          "data": {
            "text/plain": [
              "[['John', '84'],\n",
              " ['Micheal', '90'],\n",
              " ['Peter', '65'],\n",
              " ['Jenny', '90'],\n",
              " ['Ryan', '77'],\n",
              " ['Ashaa', '84'],\n",
              " ['Kerry', '52'],\n",
              " ['Kingsley', '17'],\n",
              " ['Wincy', '95'],\n",
              " ['Princy', '95'],\n",
              " ['Johnright', '65'],\n",
              " ['Mike', '76'],\n",
              " ['Peterpot', '64'],\n",
              " ['Mark', '98'],\n",
              " ['Raj', '76'],\n",
              " ['Ashaa', '85'],\n",
              " ['Perrt', '53'],\n",
              " ['Queen', '15'],\n",
              " ['Anshu', '90'],\n",
              " ['Amar', '92']]"
            ]
          },
          "metadata": {},
          "execution_count": 63
        }
      ]
    },
    {
      "cell_type": "code",
      "source": [
        "def get_mark(record: list[int]) -> int:\n",
        "    return int(record[1])"
      ],
      "metadata": {
        "id": "jLRXkR9L3K3N"
      },
      "execution_count": null,
      "outputs": []
    },
    {
      "cell_type": "code",
      "source": [
        "def assign_rank(result: list) -> str:\n",
        "    rank = 1\n",
        "    output = \"\"\n",
        "    sorted_list = sorted(result, key = get_mark, reverse = True)\n",
        "    name, prev_mark = sorted_list[0]\n",
        "    output += f\"{rank:5} {name:10} {prev_mark:5} \\n\"\n",
        "    for idx, items in enumerate(sorted_list[1:]):\n",
        "        name, current_mark = items\n",
        "        if current_mark == prev_mark:\n",
        "            output += f\"{rank:5} {name:10} {current_mark:5}\\n\"\n",
        "        else:\n",
        "            rank = idx + 2\n",
        "            output += f\"{rank:5} {name:10} {current_mark:5}\\n\"\n",
        "        prev_mark = current_mark\n",
        "    return output"
      ],
      "metadata": {
        "id": "Vi2EsMPD3M0L"
      },
      "execution_count": null,
      "outputs": []
    },
    {
      "cell_type": "code",
      "source": [
        "print(assign_rank(read_file(\"StudentData.txt\")))"
      ],
      "metadata": {
        "id": "ZNFQ2Cr93Ovo",
        "outputId": "be96fca1-e1d9-413e-c79f-9ee0d766a595",
        "colab": {
          "base_uri": "https://localhost:8080/"
        }
      },
      "execution_count": null,
      "outputs": [
        {
          "output_type": "stream",
          "name": "stdout",
          "text": [
            "    1 Mark       98    \n",
            "    2 Wincy      95   \n",
            "    2 Princy     95   \n",
            "    4 Amar       92   \n",
            "    5 Micheal    90   \n",
            "    5 Jenny      90   \n",
            "    5 Anshu      90   \n",
            "    8 Ashaa      85   \n",
            "    9 John       84   \n",
            "    9 Ashaa      84   \n",
            "   11 Ryan       77   \n",
            "   12 Mike       76   \n",
            "   12 Raj        76   \n",
            "   14 Peter      65   \n",
            "   14 Johnright  65   \n",
            "   16 Peterpot   64   \n",
            "   17 Perrt      53   \n",
            "   18 Kerry      52   \n",
            "   19 Kingsley   17   \n",
            "   20 Queen      15   \n",
            "\n"
          ]
        }
      ]
    }
  ]
}