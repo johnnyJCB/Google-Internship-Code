{
  "cells": [
    {
      "cell_type": "markdown",
      "metadata": {
        "id": "CT41qO_ZoHwx"
      },
      "source": [
        "## Pythonic Iterating"
      ]
    },
    {
      "cell_type": "code",
      "execution_count": null,
      "metadata": {
        "colab": {
          "base_uri": "https://localhost:8080/"
        },
        "id": "mK4kapp8i_sv",
        "outputId": "a3afd70b-dcdb-4852-d397-5ac967fdddd2"
      },
      "outputs": [
        {
          "name": "stdout",
          "output_type": "stream",
          "text": [
            "2\n",
            "4\n",
            "6\n",
            "8\n",
            "10\n"
          ]
        }
      ],
      "source": [
        "evens = [2,4,6,8,10]\n",
        "# NOT pythonic\n",
        "for index in range(5):\n",
        "    print(evens[index])"
      ]
    },
    {
      "cell_type": "code",
      "execution_count": null,
      "metadata": {
        "id": "8lxvwV10qALT"
      },
      "outputs": [],
      "source": [
        "enumerate?"
      ]
    },
    {
      "cell_type": "code",
      "execution_count": null,
      "metadata": {
        "colab": {
          "base_uri": "https://localhost:8080/"
        },
        "id": "P3QpOoPfp37C",
        "outputId": "524bc652-b7e2-45e4-eb03-430c3e940028"
      },
      "outputs": [
        {
          "name": "stdout",
          "output_type": "stream",
          "text": [
            "2 is the 1th even\n",
            "4 is the 2th even\n",
            "6 is the 3th even\n",
            "8 is the 4th even\n",
            "10 is the 5th even\n"
          ]
        }
      ],
      "source": [
        "for index ,value in enumerate(evens):\n",
        "    print(f'{v} is the {i+1}th even')\n"
      ]
    },
    {
      "cell_type": "code",
      "execution_count": null,
      "metadata": {
        "colab": {
          "base_uri": "https://localhost:8080/"
        },
        "id": "Cfrx-iu1ofCQ",
        "outputId": "4dcca8c1-1e94-4d90-d5fb-487b5da49e3a"
      },
      "outputs": [
        {
          "name": "stdout",
          "output_type": "stream",
          "text": [
            "2\n",
            "4\n",
            "6\n",
            "8\n",
            "10\n"
          ]
        }
      ],
      "source": [
        "for even in evens:\n",
        "    print(even)"
      ]
    },
    {
      "cell_type": "code",
      "execution_count": null,
      "metadata": {
        "id": "cxvlC5JXou1o"
      },
      "outputs": [],
      "source": [
        "listy = [1,\"a\",True]"
      ]
    },
    {
      "cell_type": "code",
      "execution_count": null,
      "metadata": {
        "colab": {
          "base_uri": "https://localhost:8080/"
        },
        "id": "SCA1xmGBpXIe",
        "outputId": "24a41394-35c1-4c6d-fb2e-e88ac891ce3a"
      },
      "outputs": [
        {
          "data": {
            "text/plain": [
              "135075262905664"
            ]
          },
          "execution_count": 4,
          "metadata": {},
          "output_type": "execute_result"
        }
      ],
      "source": [
        "id(listy)"
      ]
    },
    {
      "cell_type": "code",
      "execution_count": null,
      "metadata": {
        "colab": {
          "base_uri": "https://localhost:8080/"
        },
        "id": "eATGg90epYAU",
        "outputId": "bb6fe1c7-77b4-400e-bad7-2dc2b9888de2"
      },
      "outputs": [
        {
          "name": "stdout",
          "output_type": "stream",
          "text": [
            "Python 3.10.12\n"
          ]
        }
      ],
      "source": [
        "! python --version"
      ]
    },
    {
      "cell_type": "code",
      "execution_count": null,
      "metadata": {
        "id": "oYJrkrxyr5ST"
      },
      "outputs": [],
      "source": [
        "r = range(5)"
      ]
    },
    {
      "cell_type": "code",
      "execution_count": null,
      "metadata": {
        "colab": {
          "base_uri": "https://localhost:8080/"
        },
        "id": "IP88KBT3r91I",
        "outputId": "77180ba2-8f42-4faf-d3da-60c2bd00b58f"
      },
      "outputs": [
        {
          "data": {
            "text/plain": [
              "range(0, 5)"
            ]
          },
          "execution_count": 14,
          "metadata": {},
          "output_type": "execute_result"
        }
      ],
      "source": [
        "r"
      ]
    },
    {
      "cell_type": "code",
      "execution_count": null,
      "metadata": {
        "id": "d09jfGDFr-83"
      },
      "outputs": [],
      "source": [
        "i = iter(r)"
      ]
    },
    {
      "cell_type": "code",
      "execution_count": null,
      "metadata": {
        "colab": {
          "base_uri": "https://localhost:8080/"
        },
        "id": "48fm90JXsAMx",
        "outputId": "4d76f5e4-8662-4f40-ec65-52e7865cd35d"
      },
      "outputs": [
        {
          "data": {
            "text/plain": [
              "<range_iterator at 0x7ad99364be10>"
            ]
          },
          "execution_count": 17,
          "metadata": {},
          "output_type": "execute_result"
        }
      ],
      "source": [
        "i"
      ]
    },
    {
      "cell_type": "code",
      "execution_count": null,
      "metadata": {
        "colab": {
          "base_uri": "https://localhost:8080/"
        },
        "id": "ljddV2o5sHrX",
        "outputId": "30b3f24d-2a45-48c7-9469-195291131ba4"
      },
      "outputs": [
        {
          "data": {
            "text/plain": [
              "0"
            ]
          },
          "execution_count": 18,
          "metadata": {},
          "output_type": "execute_result"
        }
      ],
      "source": [
        "next(i)"
      ]
    },
    {
      "cell_type": "code",
      "execution_count": null,
      "metadata": {
        "colab": {
          "base_uri": "https://localhost:8080/"
        },
        "id": "DK9lXGmMsI2l",
        "outputId": "f485f0ae-4b8d-4ea6-997f-c023ccc1d6de"
      },
      "outputs": [
        {
          "data": {
            "text/plain": [
              "1"
            ]
          },
          "execution_count": 19,
          "metadata": {},
          "output_type": "execute_result"
        }
      ],
      "source": [
        "next(i)"
      ]
    },
    {
      "cell_type": "markdown",
      "metadata": {
        "id": "T8gUosjowks1"
      },
      "source": [
        "#Higher Order Functions"
      ]
    },
    {
      "cell_type": "markdown",
      "metadata": {
        "id": "IKEUi-9rwsZj"
      },
      "source": [
        "## When a function takes another function as a paramater"
      ]
    },
    {
      "cell_type": "code",
      "execution_count": null,
      "metadata": {
        "id": "Xan32gX5sKnG"
      },
      "outputs": [],
      "source": [
        "map?"
      ]
    },
    {
      "cell_type": "code",
      "execution_count": null,
      "metadata": {
        "id": "mR7dWx2hyDtA"
      },
      "outputs": [],
      "source": [
        "def double(n):\n",
        "    return n * 2"
      ]
    },
    {
      "cell_type": "code",
      "execution_count": null,
      "metadata": {
        "id": "9o0Cx2LqyMQp"
      },
      "outputs": [],
      "source": [
        "m = map(double, [1,2,3])"
      ]
    },
    {
      "cell_type": "code",
      "execution_count": null,
      "metadata": {
        "colab": {
          "base_uri": "https://localhost:8080/"
        },
        "id": "4VpO3K7kyOry",
        "outputId": "b4dbc880-d1c6-4d9a-8039-25303fc32c24"
      },
      "outputs": [
        {
          "name": "stdout",
          "output_type": "stream",
          "text": [
            "2\n",
            "4\n",
            "6\n"
          ]
        }
      ],
      "source": [
        "for double in m:\n",
        "    print(double)"
      ]
    },
    {
      "cell_type": "code",
      "execution_count": null,
      "metadata": {
        "colab": {
          "base_uri": "https://localhost:8080/"
        },
        "id": "t2DOEcLCyW_W",
        "outputId": "79c09472-69cb-4581-9f4b-48983ee9bb54"
      },
      "outputs": [
        {
          "data": {
            "text/plain": [
              "[2, 4, 6]"
            ]
          },
          "execution_count": 27,
          "metadata": {},
          "output_type": "execute_result"
        }
      ],
      "source": [
        "list(map(lambda n: n * 2,[1,2,3]))"
      ]
    },
    {
      "cell_type": "code",
      "execution_count": null,
      "metadata": {
        "colab": {
          "base_uri": "https://localhost:8080/"
        },
        "id": "8pBCjCJzyq7G",
        "outputId": "55bbd369-8d01-4bfc-c5f5-1ab737949221"
      },
      "outputs": [
        {
          "data": {
            "text/plain": [
              "[0, 2, 4]"
            ]
          },
          "execution_count": 28,
          "metadata": {},
          "output_type": "execute_result"
        }
      ],
      "source": [
        "list(filter(lambda n: n % 2 == 0,range(5)))"
      ]
    },
    {
      "cell_type": "markdown",
      "metadata": {
        "id": "RHW5NETN0dtM"
      },
      "source": [
        "### Fizzbuzz"
      ]
    },
    {
      "cell_type": "code",
      "execution_count": null,
      "metadata": {
        "id": "py_-Iv84zo0j"
      },
      "outputs": [],
      "source": [
        "def fb(n: int)-> str:\n",
        "    buzzworthy = n % 5 == 0\n",
        "    fizzworthy = n % 3 == 0\n",
        "    if buzzworthy and fizzworthy:\n",
        "        return \"FizzBuzz\"\n",
        "    elif fizzworthy:\n",
        "        return \"Fizz\"\n",
        "    elif buzzworthy:\n",
        "        return \"Buzz\"\n",
        "    else:\n",
        "        return str(n)\n",
        "\n",
        "def fizz_buzz(l: int)-> list[str]:\n",
        "    return list(map(fb, range(1, l +1)))"
      ]
    },
    {
      "cell_type": "code",
      "execution_count": null,
      "metadata": {
        "colab": {
          "base_uri": "https://localhost:8080/"
        },
        "id": "MDWt1agO2ClY",
        "outputId": "f71c95a3-6eea-4e60-ff63-9c523defee14"
      },
      "outputs": [
        {
          "data": {
            "text/plain": [
              "['1',\n",
              " '2',\n",
              " 'Fizz',\n",
              " '4',\n",
              " 'Buzz',\n",
              " 'Fizz',\n",
              " '7',\n",
              " '8',\n",
              " 'Fizz',\n",
              " 'Buzz',\n",
              " '11',\n",
              " 'Fizz',\n",
              " '13',\n",
              " '14',\n",
              " 'FizzBuzz',\n",
              " '16']"
            ]
          },
          "execution_count": 34,
          "metadata": {},
          "output_type": "execute_result"
        }
      ],
      "source": [
        "fizz_buzz(16)"
      ]
    },
    {
      "cell_type": "markdown",
      "metadata": {
        "id": "vJi40IwZ2j06"
      },
      "source": [
        "###Repeat Sequence Problem\n",
        "\n",
        "Implement a function to repeat the sequence as per the given order.\n",
        "\n",
        "#### Example\n",
        "\n",
        "repeat_sequence('ab') => A->Bb\n",
        "repeat_sequence('UVWX') => U->Vv->Www->Xxxx"
      ]
    },
    {
      "cell_type": "code",
      "execution_count": null,
      "metadata": {
        "id": "7SiG9GIB2EVv"
      },
      "outputs": [],
      "source": [
        "def repeat_sequence(s: str)-> str:\n",
        "    accum = []\n",
        "    for char in list(s):\n",
        "        accum.append(char.upper() + char.lower() * s.index(char))\n",
        "    return \"->\".join(accum)\n"
      ]
    },
    {
      "cell_type": "code",
      "execution_count": null,
      "metadata": {
        "colab": {
          "base_uri": "https://localhost:8080/",
          "height": 35
        },
        "id": "qD6pbpKv3T94",
        "outputId": "3026e093-0e0c-4236-f757-cfad33478fea"
      },
      "outputs": [
        {
          "data": {
            "application/vnd.google.colaboratory.intrinsic+json": {
              "type": "string"
            },
            "text/plain": [
              "'U->Vv->Www->Xxxx->Yyyyy->Zzzzzz'"
            ]
          },
          "execution_count": 43,
          "metadata": {},
          "output_type": "execute_result"
        }
      ],
      "source": [
        "repeat_sequence(\"UVWXYZ\")"
      ]
    },
    {
      "cell_type": "markdown",
      "metadata": {
        "id": "C17na0qe361U"
      },
      "source": []
    },
    {
      "cell_type": "code",
      "execution_count": null,
      "metadata": {
        "colab": {
          "base_uri": "https://localhost:8080/",
          "height": 35
        },
        "id": "ysVTshZd3ZGE",
        "outputId": "a73c1bea-cb8e-49c6-f1a2-1bd0be7ae640"
      },
      "outputs": [
        {
          "data": {
            "application/vnd.google.colaboratory.intrinsic+json": {
              "type": "string"
            },
            "text/plain": [
              "'U->Vv->U->Vv->U->Vv'"
            ]
          },
          "execution_count": 44,
          "metadata": {},
          "output_type": "execute_result"
        }
      ],
      "source": [
        "repeat_sequence(\"UVUVUV\")"
      ]
    },
    {
      "cell_type": "code",
      "execution_count": null,
      "metadata": {
        "id": "JXVAEteB4Cw-"
      },
      "outputs": [],
      "source": [
        "l = [1,2,3]"
      ]
    },
    {
      "cell_type": "code",
      "execution_count": null,
      "metadata": {
        "id": "XSDL42xX4WX0"
      },
      "outputs": [],
      "source": [
        "l.index?"
      ]
    },
    {
      "cell_type": "code",
      "execution_count": null,
      "metadata": {
        "id": "zzNv8N-g45pX"
      },
      "outputs": [],
      "source": [
        "help(enumerate)"
      ]
    },
    {
      "cell_type": "code",
      "execution_count": null,
      "metadata": {
        "id": "Q_GWbxJL4dwU"
      },
      "outputs": [],
      "source": [
        "list.index?"
      ]
    },
    {
      "cell_type": "code",
      "execution_count": null,
      "metadata": {
        "id": "PHM9m2Lh4jkU"
      },
      "outputs": [],
      "source": [
        "def repeat_sequence2(s: str)-> str:\n",
        "    accum = []\n",
        "    for index, char in enumerate(s):\n",
        "        accum.append(char.upper() + char.lower() * index)\n",
        "    return \"->\".join(accum)\n"
      ]
    },
    {
      "cell_type": "code",
      "execution_count": null,
      "metadata": {
        "colab": {
          "base_uri": "https://localhost:8080/",
          "height": 35
        },
        "id": "uAUYt8ee5OHu",
        "outputId": "8b326207-26fa-40ca-e255-b8622e389ff9"
      },
      "outputs": [
        {
          "data": {
            "application/vnd.google.colaboratory.intrinsic+json": {
              "type": "string"
            },
            "text/plain": [
              "'U->Vv->Www->Xxxx->Yyyyy->Zzzzzz'"
            ]
          },
          "execution_count": 57,
          "metadata": {},
          "output_type": "execute_result"
        }
      ],
      "source": [
        "repeat_sequence2(\"UVWXYZ\")"
      ]
    },
    {
      "cell_type": "code",
      "execution_count": null,
      "metadata": {
        "colab": {
          "base_uri": "https://localhost:8080/",
          "height": 35
        },
        "id": "FEu_Mo985QBo",
        "outputId": "8ed2dbf2-4a51-4cfc-8d20-41b576891f18"
      },
      "outputs": [
        {
          "data": {
            "application/vnd.google.colaboratory.intrinsic+json": {
              "type": "string"
            },
            "text/plain": [
              "'U->Vv->Uuu->Vvvv->Uuuuu->Vvvvvv'"
            ]
          },
          "execution_count": 59,
          "metadata": {},
          "output_type": "execute_result"
        }
      ],
      "source": [
        "repeat_sequence2(\"UVUVUV\")"
      ]
    },
    {
      "cell_type": "code",
      "execution_count": null,
      "metadata": {
        "id": "PxD2hec-5SAN"
      },
      "outputs": [],
      "source": [
        "def repeat_sequence3(s: str)-> str:\n",
        "    return \"->\".join(map(make_sequence , enumerate(s)))\n",
        "\n",
        "def make_sequence(t: tuple[int,str])->str:\n",
        "    return t[1].upper() + t[1].lower() * t[0]\n"
      ]
    },
    {
      "cell_type": "code",
      "execution_count": null,
      "metadata": {
        "colab": {
          "base_uri": "https://localhost:8080/",
          "height": 35
        },
        "id": "qnM4Dokw6mnY",
        "outputId": "7a5c1b83-cc3b-4548-e27a-93d85c41e159"
      },
      "outputs": [
        {
          "data": {
            "application/vnd.google.colaboratory.intrinsic+json": {
              "type": "string"
            },
            "text/plain": [
              "'A->Bb->Ccc->Dddd->Eeeee->Ffffff'"
            ]
          },
          "execution_count": 63,
          "metadata": {},
          "output_type": "execute_result"
        }
      ],
      "source": [
        "repeat_sequence3(\"ABCDEF\")"
      ]
    },
    {
      "cell_type": "code",
      "execution_count": null,
      "metadata": {
        "colab": {
          "base_uri": "https://localhost:8080/",
          "height": 35
        },
        "id": "d8roKDiV6pqL",
        "outputId": "d8a87558-da92-495c-d202-c6d72e4e4304"
      },
      "outputs": [
        {
          "data": {
            "application/vnd.google.colaboratory.intrinsic+json": {
              "type": "string"
            },
            "text/plain": [
              "'A->Bb->Aaa->Bbbb->Aaaaa->Bbbbbb->Aaaaaaa->Bbbbbbbb->Aaaaaaaaa->Bbbbbbbbbb'"
            ]
          },
          "execution_count": 64,
          "metadata": {},
          "output_type": "execute_result"
        }
      ],
      "source": [
        "repeat_sequence3(\"ABABABABab\")"
      ]
    },
    {
      "cell_type": "code",
      "execution_count": null,
      "metadata": {
        "id": "hy9PHIQi6raB"
      },
      "outputs": [],
      "source": [
        "def repeat_sequence4(s: str)->str:\n",
        "    return \"->\".join([(char.upper() + char.lower() * index) for index, char in enumerate(s)])"
      ]
    },
    {
      "cell_type": "code",
      "execution_count": null,
      "metadata": {
        "colab": {
          "base_uri": "https://localhost:8080/",
          "height": 35
        },
        "id": "G5YmnOA57sk9",
        "outputId": "b18fa9da-45e5-4bac-cd69-7ce0f4fa5082"
      },
      "outputs": [
        {
          "data": {
            "application/vnd.google.colaboratory.intrinsic+json": {
              "type": "string"
            },
            "text/plain": [
              "'A->Bb->Ccc'"
            ]
          },
          "execution_count": 70,
          "metadata": {},
          "output_type": "execute_result"
        }
      ],
      "source": [
        "repeat_sequence4(\"ABC\")"
      ]
    },
    {
      "cell_type": "code",
      "execution_count": null,
      "metadata": {
        "id": "OzV6iajq7ujD"
      },
      "outputs": [],
      "source": [
        "def repeat_sequence5(s: str)->str:\n",
        "    return [(char.upper() + char.lower() * index) for index, char in enumerate(s)]"
      ]
    },
    {
      "cell_type": "code",
      "execution_count": null,
      "metadata": {
        "colab": {
          "base_uri": "https://localhost:8080/"
        },
        "id": "pUYwRoEy8kvz",
        "outputId": "e9003cc0-977f-41d5-97d9-4c461fa80e00"
      },
      "outputs": [
        {
          "data": {
            "text/plain": [
              "['D', 'Ee', 'Fff', 'Gggg']"
            ]
          },
          "execution_count": 73,
          "metadata": {},
          "output_type": "execute_result"
        }
      ],
      "source": [
        "repeat_sequence5(\"DEFG\")"
      ]
    },
    {
      "cell_type": "code",
      "execution_count": null,
      "metadata": {
        "colab": {
          "base_uri": "https://localhost:8080/"
        },
        "id": "YjIIRuBC8m9Z",
        "outputId": "10d94137-2024-4efc-8f25-27c8eb7e9885"
      },
      "outputs": [
        {
          "data": {
            "text/plain": [
              "list"
            ]
          },
          "execution_count": 74,
          "metadata": {},
          "output_type": "execute_result"
        }
      ],
      "source": [
        "type(repeat_sequence5(\"DEFG\"))"
      ]
    },
    {
      "cell_type": "code",
      "execution_count": null,
      "metadata": {
        "colab": {
          "base_uri": "https://localhost:8080/"
        },
        "id": "OkXMwe9L8vo5",
        "outputId": "d7f214f7-22de-4e71-8327-53c4044ec975"
      },
      "outputs": [
        {
          "data": {
            "text/plain": [
              "str"
            ]
          },
          "execution_count": 75,
          "metadata": {},
          "output_type": "execute_result"
        }
      ],
      "source": [
        "type(repeat_sequence4(\"ABC\"))"
      ]
    },
    {
      "cell_type": "code",
      "execution_count": null,
      "metadata": {
        "id": "Ts2tdiSs8xja"
      },
      "outputs": [],
      "source": []
    },
    {
      "cell_type": "markdown",
      "metadata": {
        "id": "PYxZEutU-DAx"
      },
      "source": [
        "#bio break until 8:15pmEST"
      ]
    },
    {
      "cell_type": "markdown",
      "metadata": {
        "id": "VmAt6HYTERPG"
      },
      "source": [
        "# git review\n",
        "- git status\n",
        "- git add\n",
        "- git commit\n",
        "- git push\n",
        "- $ git config —global core.editor nano\n",
        "- git clone\n",
        "- git remote -v\n",
        "- git log\n",
        "\n",
        "branching workflow\n",
        "- git checkout -b < new_feature_branch >\n",
        "- hack, add, commit\n",
        "- git push\n",
        "- create merge request\n",
        "\n"
      ]
    },
    {
      "cell_type": "code",
      "execution_count": null,
      "metadata": {
        "id": "OhIFq_GP-GQ1"
      },
      "outputs": [],
      "source": []
    },
    {
      "cell_type": "code",
      "execution_count": null,
      "metadata": {},
      "outputs": [],
      "source": []
    },
    {
      "cell_type": "code",
      "execution_count": null,
      "metadata": {},
      "outputs": [],
      "source": []
    }
  ],
  "metadata": {
    "colab": {
      "provenance": []
    },
    "kernelspec": {
      "display_name": "Python 3",
      "name": "python3"
    },
    "language_info": {
      "name": "python"
    }
  },
  "nbformat": 4,
  "nbformat_minor": 0
}
