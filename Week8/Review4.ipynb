{
  "nbformat": 4,
  "nbformat_minor": 0,
  "metadata": {
    "colab": {
      "provenance": []
    },
    "kernelspec": {
      "name": "python3",
      "display_name": "Python 3"
    },
    "language_info": {
      "name": "python"
    }
  },
  "cells": [
    {
      "cell_type": "markdown",
      "source": [
        "#Assignment 09-01:\n",
        "\n",
        "## Russian Multiplication\n",
        "  \n",
        "https://www.wikihow.com/Multiply-Using-the-Russian-Peasant-Method\n",
        "\n",
        "\n",
        "https://www.youtube.com/watch?v=HJ_PP5rqLg0\n",
        "\n",
        "Write a program that produces a tableau like this\n",
        "\n",
        "\n",
        "$~13~~17~+$\n",
        "\n",
        "$~~6~~34~\\times$\n",
        "\n",
        "$~~3~~68~+$\n",
        "\n",
        "$~~1~136~+$\n",
        "\n",
        "$=221$\n",
        "\n",
        "\n",
        "Remember that the algorithm is : Halve and double; Add the $+$s, skip the $\\times$s. The purpose is to also do a bit of output formatting"
      ],
      "metadata": {
        "id": "nOJvNQPEZxKA"
      }
    },
    {
      "cell_type": "code",
      "source": [
        "def rus_mult_print(a: int, b: int) -> None:\n",
        "    running_product = 0\n",
        "    while a > 0:\n",
        "        if a % 2 == 0:\n",
        "            sign = 'X'\n",
        "        else:\n",
        "            sign = '+'\n",
        "            running_product += b\n",
        "        print(f'{a:4d} {b:4d} {sign}')\n",
        "        a //= 2\n",
        "        b *= 2\n",
        "    print(f'= {str(running_product).rjust(7)}')"
      ],
      "metadata": {
        "id": "uvog2HsCES3b"
      },
      "execution_count": null,
      "outputs": []
    },
    {
      "cell_type": "code",
      "source": [
        "rus_mult_print(13, 17)"
      ],
      "metadata": {
        "colab": {
          "base_uri": "https://localhost:8080/"
        },
        "id": "cDuq7mjEOnVM",
        "outputId": "76e10550-ff2e-49cf-9de5-7b0fcab29dab"
      },
      "execution_count": null,
      "outputs": [
        {
          "output_type": "stream",
          "name": "stdout",
          "text": [
            "  13   17 +\n",
            "   6   34 X\n",
            "   3   68 +\n",
            "   1  136 +\n",
            "=     221\n"
          ]
        }
      ]
    },
    {
      "cell_type": "code",
      "source": [
        "# MORE PYTHONIC\n",
        "\n",
        "def rus_mult_print(a: int, b: int) -> None:\n",
        "    running_product = 0\n",
        "    while a > 0:\n",
        "        if a % 2 == 0:\n",
        "            sign = 'X'\n",
        "        else:\n",
        "            sign = '+'\n",
        "            running_product += b\n",
        "        print(f'{a:4d} {b:4d} {sign}')\n",
        "        a //= 2\n",
        "        b *= 2\n",
        "    print(f'= {running_product:7d}')"
      ],
      "metadata": {
        "id": "rZFlUNNhQAFL"
      },
      "execution_count": null,
      "outputs": []
    },
    {
      "cell_type": "code",
      "source": [
        "rus_mult_print(13, 17)"
      ],
      "metadata": {
        "colab": {
          "base_uri": "https://localhost:8080/"
        },
        "id": "dWuZxz7rQRqa",
        "outputId": "a66d9402-0304-40b9-e0e8-03dcb36193b1"
      },
      "execution_count": null,
      "outputs": [
        {
          "output_type": "stream",
          "name": "stdout",
          "text": [
            "  13   17 +\n",
            "   6   34 X\n",
            "   3   68 +\n",
            "   1  136 +\n",
            "=     221\n"
          ]
        }
      ]
    },
    {
      "cell_type": "code",
      "source": [
        "# MORE PYTHONIC, MORE BETTER\n",
        "\n",
        "def rus_mult_print(a: int, b: int) -> None:\n",
        "    running_product = 0\n",
        "    while a > 0:\n",
        "        if a % 2 == 0:\n",
        "            sign = 'X'\n",
        "        else:\n",
        "            sign = '+'\n",
        "            running_product += b\n",
        "        print(f'{a:4d} {b:4d} {sign}')\n",
        "        a //= 2\n",
        "        b *= 2\n",
        "    print(f'{\"=\":>4} {running_product:4d}')"
      ],
      "metadata": {
        "id": "PPmhCfwqQljv"
      },
      "execution_count": null,
      "outputs": []
    },
    {
      "cell_type": "code",
      "source": [
        "rus_mult_print(13, 17)"
      ],
      "metadata": {
        "colab": {
          "base_uri": "https://localhost:8080/"
        },
        "id": "rsiqF82GQr46",
        "outputId": "c31b101e-467f-4b93-e1ba-affb27e8bd42"
      },
      "execution_count": null,
      "outputs": [
        {
          "output_type": "stream",
          "name": "stdout",
          "text": [
            "  13   17 +\n",
            "   6   34 X\n",
            "   3   68 +\n",
            "   1  136 +\n",
            "   =  221\n"
          ]
        }
      ]
    },
    {
      "cell_type": "markdown",
      "source": [
        "\n",
        "##Assignment_10 - 02\n",
        "\n",
        "\n",
        "Given a string s, find the length of the longest substring without repeating characters.\n",
        "\n",
        "\n",
        "\n",
        "Example 1:\n",
        "\n",
        "Input: s = \"abcabcbb\"\n",
        "\n",
        "Output: 3\n",
        "Explanation: The answer is \"abc\", with the length of 3.\n",
        "\n",
        "Example 2:\n",
        "\n",
        "Input: s = \"bbbbb\"\n",
        "\n",
        "Output: 1\n",
        "\n",
        "Explanation: The answer is \"b\", with the length of 1.\n",
        "\n",
        "Example 3:\n",
        "\n",
        "Input: s = \"pwwkew\"\n",
        "\n",
        "Output: 3\n",
        "\n",
        "Explanation: The answer is \"wke\", with the length of 3.\n",
        "Notice that the answer must be a substring, \"pwke\" is not a substring.\n"
      ],
      "metadata": {
        "id": "41clF_52IHjX"
      }
    },
    {
      "cell_type": "code",
      "source": [
        "def is_allunique(s: str) -> bool:\n",
        "    uniqueset = set()\n",
        "\n",
        "    for ch in s:\n",
        "        if ch in uniqueset:\n",
        "            return False\n",
        "        uniqueset.add(ch)\n",
        "    return True\n"
      ],
      "metadata": {
        "id": "U-Pt-zlQIfkv"
      },
      "execution_count": null,
      "outputs": []
    },
    {
      "cell_type": "code",
      "source": [
        "def length_longest_substring(s: str) -> int:\n",
        "    length = 0\n",
        "    for i in range(len(s)):\n",
        "        for j in range(i, len(s)):\n",
        "            if is_allunique(s[i:j+1]):\n",
        "                length = max(length, j - i + 1)\n",
        "    return length\n",
        "\n",
        "print(length_longest_substring(\"thisisastring\"))\n",
        "print(length_longest_substring(\"abcabcbb\"))\n",
        "print(length_longest_substring(\"bbbbb\"))\n",
        "print(length_longest_substring(\"pwwkew\"))\n"
      ],
      "metadata": {
        "colab": {
          "base_uri": "https://localhost:8080/"
        },
        "id": "BtwVN8ekd4eG",
        "outputId": "ea4f0507-6397-4fa5-ff8f-33aacb7fb409"
      },
      "execution_count": null,
      "outputs": [
        {
          "output_type": "stream",
          "name": "stdout",
          "text": [
            "7\n",
            "3\n",
            "1\n",
            "3\n"
          ]
        }
      ]
    },
    {
      "cell_type": "code",
      "source": [
        "def length_longest_substring(s: str) -> int:\n",
        "    max_length = 0\n",
        "    char_set = set()\n",
        "    left_ind = 0\n",
        "\n",
        "    for right_ind in range(len(s)):\n",
        "        if s[right_ind] not in char_set:\n",
        "            char_set.add(s[right_ind])\n",
        "            max_length = max(max_length, right_ind - left_ind + 1)\n",
        "\n",
        "        else:\n",
        "            while s[right_ind] in char_set:\n",
        "                char_set.remove(s[left_ind])\n",
        "                left_ind += 1\n",
        "            char_set.add(s[right_ind])\n",
        "\n",
        "    return max_length\n",
        "\n",
        "print(length_longest_substring(\"thisisastring\"))\n",
        "print(length_longest_substring(\"abcabcbb\"))\n",
        "print(length_longest_substring(\"bbbbb\"))\n",
        "print(length_longest_substring(\"pwwkew\"))"
      ],
      "metadata": {
        "colab": {
          "base_uri": "https://localhost:8080/"
        },
        "id": "ayJmLzUnf1_H",
        "outputId": "050b48dd-add6-45f1-db63-e0a4b768d4a4"
      },
      "execution_count": null,
      "outputs": [
        {
          "output_type": "stream",
          "name": "stdout",
          "text": [
            "7\n",
            "3\n",
            "1\n",
            "3\n"
          ]
        }
      ]
    },
    {
      "cell_type": "markdown",
      "source": [
        "## Assignment_11-01\n",
        "\n",
        "Implement a function that converts roman number to arabic number\n",
        "\n",
        "Example:\n",
        "\n",
        " > roman2arabic(\"V\") --> 5\n",
        "\n",
        " > roman2arabic(\"IX\") --> 9\n",
        "\n",
        "\n",
        "\n"
      ],
      "metadata": {
        "id": "fQwF0dsZIgJE"
      }
    },
    {
      "cell_type": "code",
      "source": [
        "def roman_to_arabic(r: str) -> int:\n",
        "    arabics = {'M':1000,'D':500,'C':100,'L':50,'X':10,'V':5,'I':1}\n",
        "    run_sum = 0\n",
        "    for i, char in enumerate(r.upper()):\n",
        "        if arabics[char] < arabics[r.upper()[i]]:\n",
        "            run_sum -= arabics[char]\n",
        "        else:\n",
        "            run_sum += arabics[char]\n",
        "    return run_sum"
      ],
      "metadata": {
        "id": "175FElkrizxX"
      },
      "execution_count": 8,
      "outputs": []
    },
    {
      "cell_type": "code",
      "source": [
        "print(roman_to_arabic(\"V\")) # --> 5\n",
        "\n",
        "print(roman_to_arabic(\"IX\")) # --> 9"
      ],
      "metadata": {
        "colab": {
          "base_uri": "https://localhost:8080/"
        },
        "id": "X57shTtPlCG-",
        "outputId": "d70b364f-96cc-4a93-b96f-58a9fe2f6e70"
      },
      "execution_count": 9,
      "outputs": [
        {
          "output_type": "stream",
          "name": "stdout",
          "text": [
            "5\n",
            "11\n"
          ]
        }
      ]
    },
    {
      "cell_type": "code",
      "source": [],
      "metadata": {
        "id": "HbZ7p7fIlJZX"
      },
      "execution_count": null,
      "outputs": []
    }
  ]
}