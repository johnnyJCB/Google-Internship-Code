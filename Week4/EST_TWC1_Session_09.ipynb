{
  "cells": [
    {
      "cell_type": "markdown",
      "metadata": {
        "id": "xKaYjHr0Ii1m"
      },
      "source": [
        "Coverage\n",
        "\n",
        "    * Printing number pyramids\n",
        "\n",
        "Print\n",
        "\n",
        "    1\n",
        "    2  2\n",
        "    3  3  3\n",
        "    4  4  4  4\n",
        "the number of lines aka last line value is a parameter"
      ]
    },
    {
      "cell_type": "code",
      "execution_count": null,
      "metadata": {
        "colab": {
          "base_uri": "https://localhost:8080/"
        },
        "id": "4y1ejgeDuf1C",
        "outputId": "670b7ae2-5443-433f-8280-2bfe5eb821fb"
      },
      "outputs": [
        {
          "name": "stdout",
          "output_type": "stream",
          "text": [
            "1  \n",
            "2  2  \n",
            "3  3  3  \n",
            "4  4  4  4  \n"
          ]
        }
      ],
      "source": [
        "LIMIT = 4\n",
        "def print_pyramid(n: int) -> None:\n",
        "    for i in range(1, n + 1):\n",
        "        for x in range(i):\n",
        "            print(i, \"  \", sep=\"\", end=\"\")\n",
        "        print(\"\", sep=\"\")\n",
        "\n",
        "print_pyramid(LIMIT)"
      ]
    },
    {
      "cell_type": "code",
      "execution_count": null,
      "metadata": {
        "colab": {
          "base_uri": "https://localhost:8080/"
        },
        "id": "jFsVxIkpJDAS",
        "outputId": "dd15cc42-bb71-40c5-c632-83e42c65a344"
      },
      "outputs": [
        {
          "name": "stdout",
          "output_type": "stream",
          "text": [
            "  1\n",
            "  2  2\n",
            "  3  3  3\n",
            "  4  4  4  4\n",
            "  5  5  5  5  5\n",
            "  6  6  6  6  6  6\n",
            "  7  7  7  7  7  7  7\n",
            "  8  8  8  8  8  8  8  8\n",
            "  9  9  9  9  9  9  9  9  9\n",
            " 10 10 10 10 10 10 10 10 10 10\n",
            " 11 11 11 11 11 11 11 11 11 11 11\n"
          ]
        }
      ],
      "source": [
        "size = 11\n",
        "def print_pyramid(n: int) -> None:\n",
        "    for i in range(1, n + 1):\n",
        "        print(f'{i:3d}' * i)\n",
        "print_pyramid(size)"
      ]
    },
    {
      "cell_type": "markdown",
      "metadata": {
        "id": "wEDcucPfCA4w"
      },
      "source": [
        "     1\n",
        "     2  2\n",
        "     3  3  3\n",
        "     4  4  4  4\n",
        "     5  5  5  5  5\n",
        "     6  6  6  6  6  6\n",
        "     7  7  7  7  7  7  7\n",
        "     8  8  8  8  8  8  8  8\n",
        "     9  9  9  9  9  9  9  9  9\n",
        "    10 10 10 10 10 10 10 10 10 10\n",
        "    11 11 11 11 11 11 11 11 11 11 11\n",
        "\n",
        "---\n",
        "\n"
      ]
    },
    {
      "cell_type": "markdown",
      "metadata": {
        "id": "jiHUoOCGugMx"
      },
      "source": []
    },
    {
      "cell_type": "code",
      "execution_count": null,
      "metadata": {
        "colab": {
          "base_uri": "https://localhost:8080/"
        },
        "id": "NtkpKZu3ugey",
        "outputId": "72a57917-a942-498e-e67b-ca770cb05790"
      },
      "outputs": [
        {
          "name": "stdout",
          "output_type": "stream",
          "text": [
            "  1\n",
            "  2  2\n",
            "  3  3  3\n",
            "  4  4  4  4\n",
            "  5  5  5  5  5\n",
            "  6  6  6  6  6  6\n",
            "  7  7  7  7  7  7  7\n",
            "  8  8  8  8  8  8  8  8\n",
            "  9  9  9  9  9  9  9  9  9\n",
            " 10 10 10 10 10 10 10 10 10 10\n",
            " 11 11 11 11 11 11 11 11 11 11 11\n"
          ]
        }
      ],
      "source": [
        "import os\n",
        "size = 11\n",
        "CRLF = os.linesep\n",
        "def make_pyramid(n: int) -> str:\n",
        "    pyramid = []\n",
        "    for i in range(1, n + 1):\n",
        "        pyramid.append(f'{i:3d}' * i)\n",
        "    return CRLF.join(pyramid)\n",
        "\n",
        "print(make_pyramid(size))"
      ]
    },
    {
      "cell_type": "code",
      "execution_count": null,
      "metadata": {
        "id": "KGPPnZR8Nh7m"
      },
      "outputs": [],
      "source": [
        "def line(line_num: int) -> str:\n",
        "    return f'{line_num:3d}' * line_num\n",
        "\n",
        "def make_pyramid(n: int) -> list[str]:\n",
        "    pyramid = []\n",
        "    for i in range(1, n + 1):\n",
        "        pyramid.append(f'{i:3d}' * i)\n",
        "    return pyramid\n",
        "\n",
        "def format_pyramid(pyramid: list[str]) -> str:\n",
        "    return CRLF.join(pyramid)"
      ]
    },
    {
      "cell_type": "code",
      "execution_count": null,
      "metadata": {
        "colab": {
          "base_uri": "https://localhost:8080/"
        },
        "id": "uy1m9aV8N09g",
        "outputId": "fce54bb2-3f44-4b35-e90f-6a75eea9bbed"
      },
      "outputs": [
        {
          "name": "stdout",
          "output_type": "stream",
          "text": [
            "  1\n",
            "  2  2\n",
            "  3  3  3\n",
            "  4  4  4  4\n",
            "  5  5  5  5  5\n",
            "  6  6  6  6  6  6\n",
            "  7  7  7  7  7  7  7\n",
            "  8  8  8  8  8  8  8  8\n",
            "  9  9  9  9  9  9  9  9  9\n",
            " 10 10 10 10 10 10 10 10 10 10\n",
            " 11 11 11 11 11 11 11 11 11 11 11\n"
          ]
        }
      ],
      "source": [
        "print(format_pyramid(make_pyramid(11)))"
      ]
    },
    {
      "cell_type": "markdown",
      "metadata": {
        "id": "pHqNxCL6BOSe"
      },
      "source": [
        "## Problem 2\n",
        "print the pyramid\n",
        "\n",
        "  1\n",
        "\n",
        "  2  4\n",
        "\n",
        "  3  6  9\n",
        "\n",
        "  4  8 12 16\n",
        "\n",
        "  5 10 15 20 25\n",
        "\n"
      ]
    },
    {
      "cell_type": "code",
      "execution_count": null,
      "metadata": {
        "id": "veTidkQ9uhMN"
      },
      "outputs": [],
      "source": [
        "def item(a: int, b: int) -> str:\n",
        "    return f'{a * b: 4d}'\n",
        "\n",
        "'''def line(line_num: int) -> [str]:\n",
        "    return [item(i, line_num ) for i in range(1, line_num + 1)]'''\n",
        "\n",
        "\n",
        "def line(line_num: int) -> list[str]:\n",
        "    line_seq = []\n",
        "    for i in range(1, line_num + 1):\n",
        "        line_seq += [item(i, line_num)]\n",
        "    return line_seq\n",
        "\n",
        "def formatted_line(line_num: int) -> str:\n",
        "    return ''.join(line(line_num))\n",
        "\n",
        "def make_pyramid(lines: int) -> list[str]:\n",
        "    pyramid = []\n",
        "    for i in range(1, lines + 1):\n",
        "        pyramid.append(formatted_line(i))\n",
        "    return pyramid\n",
        "\n",
        "def formatted_pyramid(lines: int) -> str:\n",
        "    return CRLF.join(make_pyramid(lines))\n"
      ]
    },
    {
      "cell_type": "code",
      "execution_count": null,
      "metadata": {
        "colab": {
          "base_uri": "https://localhost:8080/"
        },
        "id": "ihf98E16Tbaf",
        "outputId": "1acf3603-1ab8-4765-f192-f85e6dc5e519"
      },
      "outputs": [
        {
          "data": {
            "text/plain": [
              "['   7', '  14', '  21', '  28', '  35', '  42', '  49']"
            ]
          },
          "execution_count": 27,
          "metadata": {},
          "output_type": "execute_result"
        }
      ],
      "source": [
        "line(7)"
      ]
    },
    {
      "cell_type": "code",
      "execution_count": null,
      "metadata": {
        "colab": {
          "base_uri": "https://localhost:8080/",
          "height": 35
        },
        "id": "LHydy-sjTcv4",
        "outputId": "23e04352-5a23-44f3-ba99-f28c248a054c"
      },
      "outputs": [
        {
          "data": {
            "application/vnd.google.colaboratory.intrinsic+json": {
              "type": "string"
            },
            "text/plain": [
              "'   7  14  21  28  35  42  49'"
            ]
          },
          "execution_count": 29,
          "metadata": {},
          "output_type": "execute_result"
        }
      ],
      "source": [
        "formatted_line(7)"
      ]
    },
    {
      "cell_type": "code",
      "execution_count": null,
      "metadata": {
        "colab": {
          "base_uri": "https://localhost:8080/"
        },
        "id": "_CliHxwFTiXx",
        "outputId": "e17c388a-fc09-4d04-b0e3-c12e45077615"
      },
      "outputs": [
        {
          "data": {
            "text/plain": [
              "['   1',\n",
              " '   2   4',\n",
              " '   3   6   9',\n",
              " '   4   8  12  16',\n",
              " '   5  10  15  20  25',\n",
              " '   6  12  18  24  30  36',\n",
              " '   7  14  21  28  35  42  49']"
            ]
          },
          "execution_count": 30,
          "metadata": {},
          "output_type": "execute_result"
        }
      ],
      "source": [
        "make_pyramid(7)"
      ]
    },
    {
      "cell_type": "code",
      "execution_count": null,
      "metadata": {
        "colab": {
          "base_uri": "https://localhost:8080/"
        },
        "id": "lQRpwPjQTmav",
        "outputId": "9d231962-2f2c-4206-cd8d-406cfe251755"
      },
      "outputs": [
        {
          "name": "stdout",
          "output_type": "stream",
          "text": [
            "   1\n",
            "   2   4\n",
            "   3   6   9\n",
            "   4   8  12  16\n",
            "   5  10  15  20  25\n",
            "   6  12  18  24  30  36\n",
            "   7  14  21  28  35  42  49\n"
          ]
        }
      ],
      "source": [
        "print(formatted_pyramid(7))"
      ]
    },
    {
      "cell_type": "code",
      "execution_count": null,
      "metadata": {
        "id": "EyDEfcKgTqPk"
      },
      "outputs": [],
      "source": []
    }
  ],
  "metadata": {
    "colab": {
      "provenance": []
    },
    "kernelspec": {
      "display_name": "Python 3",
      "name": "python3"
    },
    "language_info": {
      "name": "python",
      "version": "3.12.1"
    }
  },
  "nbformat": 4,
  "nbformat_minor": 0
}
