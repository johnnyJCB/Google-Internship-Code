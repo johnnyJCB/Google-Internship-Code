{
  "nbformat": 4,
  "nbformat_minor": 0,
  "metadata": {
    "colab": {
      "provenance": []
    },
    "kernelspec": {
      "name": "python3",
      "display_name": "Python 3"
    }
  },
  "cells": [
    {
      "cell_type": "markdown",
      "metadata": {
        "id": "Na0j6cv7D83_"
      },
      "source": [
        "# This is Assignment_08-02 workbook for TechWise Program"
      ]
    },
    {
      "cell_type": "markdown",
      "metadata": {
        "id": "BNLA8HiKxQhc"
      },
      "source": [
        "### Setup Steps:"
      ]
    },
    {
      "cell_type": "code",
      "metadata": {
        "id": "2YzfoPvJDiTX"
      },
      "source": [
        "#@title Please enter your registration id to start: { run: \"auto\", display-mode: \"form\" }\n",
        "Id = \"2304983\" #@param {type:\"string\"}"
      ],
      "execution_count": 3,
      "outputs": []
    },
    {
      "cell_type": "code",
      "metadata": {
        "id": "WBPPuGmBlDIN",
        "colab": {
          "base_uri": "https://localhost:8080/",
          "height": 34
        },
        "outputId": "0f4f2b54-dd6c-40e2-bc63-3d28e44f319e"
      },
      "source": [
        "#@title Run this cell to complete the setup for this Notebook\n",
        "from IPython import get_ipython\n",
        "\n",
        "ipython = get_ipython()\n",
        "\n",
        "notebook= \"TWC3_Assignment_08-02\" #name of the notebook\n",
        "\n",
        "def setup():\n",
        "#  ipython.magic(\"sx pip3 install torch\")\n",
        "    from IPython.display import HTML, display\n",
        "    display(HTML('<script src=\"https://dashboard.talentsprint.com/aiml/record_ip.html?traineeId={0}&recordId={1}\"></script>'.format(getId(),submission_id)))\n",
        "    print(\"Setup completed successfully\")\n",
        "    return\n",
        "\n",
        "def submit_notebook():\n",
        "    ipython.magic(\"notebook -e \"+ notebook + \".ipynb\")\n",
        "\n",
        "    import requests, json, base64, datetime\n",
        "\n",
        "    url = \"https://dashboard.talentsprint.com/xp/app/save_notebook_attempts\"\n",
        "    if not submission_id:\n",
        "      data = {\"id\" : getId(), \"notebook\" : notebook}\n",
        "      r = requests.post(url, data = data)\n",
        "      r = json.loads(r.text)\n",
        "\n",
        "      if r[\"status\"] == \"Success\":\n",
        "\n",
        "          return r[\"record_id\"]\n",
        "      elif \"err\" in r:\n",
        "        print(r[\"err\"])\n",
        "        return None\n",
        "      else:\n",
        "        print (\"Something is wrong, the notebook will not be submitted for grading\")\n",
        "        return None\n",
        "\n",
        "    elif getComplexity() and getTimeTaken() and getStatus():\n",
        "      f = open(notebook + \".ipynb\", \"rb\")\n",
        "      file_hash = base64.b64encode(f.read())\n",
        "      data = {\"complexity\" : Complexity,\n",
        "              \"record_id\" : submission_id,\n",
        "              \"id\" : Id, \"file_hash\" : file_hash,\n",
        "              \"notebook\" : notebook, \"timetaken\" : TimeTaken, \"experiment_status\" : Status}\n",
        "      r = requests.post(url, data = data)\n",
        "      r = json.loads(r.text)\n",
        "      if \"err\" in r:\n",
        "        print(r[\"err\"])\n",
        "        return None\n",
        "      else:\n",
        "        print(\"Your submission is successful.\")\n",
        "        print(\"Ref Id:\", submission_id)\n",
        "        print(\"Date of submission: \", r[\"date\"])\n",
        "        print(\"Time of submission: \", r[\"time\"])\n",
        "        print(\"View your submissions: https://learn-techwise.talentsprint.com/notebook_submissions\")\n",
        "        #print(\"For any queries/discrepancies, please connect with mentors through the chat icon in LMS dashboard.\")\n",
        "        return submission_id\n",
        "    else: submission_id\n",
        "\n",
        "\n",
        "def getStatus():\n",
        "  try:\n",
        "    if not Status:\n",
        "      raise NameError\n",
        "    else:\n",
        "      return Status\n",
        "  except NameError:\n",
        "    print (\"Please answer Status Question\")\n",
        "    return None\n",
        "\n",
        "def getTimeTaken():\n",
        "  try:\n",
        "    if not TimeTaken:\n",
        "      raise NameError\n",
        "    else:\n",
        "      return TimeTaken\n",
        "  except NameError:\n",
        "    print (\"Please answer TimeTaken Question\")\n",
        "    return None\n",
        "\n",
        "def getComplexity():\n",
        "  try:\n",
        "    if not Complexity:\n",
        "      raise NameError\n",
        "    else:\n",
        "      return Complexity\n",
        "  except NameError:\n",
        "    print (\"Please answer Complexity Question\")\n",
        "    return None\n",
        "\n",
        "\n",
        "def getId():\n",
        "  try:\n",
        "    return Id if Id else None\n",
        "  except NameError:\n",
        "    return None\n",
        "\n",
        "\n",
        "submission_id = None\n",
        "### Setup\n",
        "if  getId():\n",
        "  submission_id = submit_notebook()\n",
        "  if submission_id:\n",
        "    setup()\n",
        "else:\n",
        "  print (\"Please complete Id cell before running setup\")\n",
        "\n"
      ],
      "execution_count": 4,
      "outputs": [
        {
          "output_type": "display_data",
          "data": {
            "text/plain": [
              "<IPython.core.display.HTML object>"
            ],
            "text/html": [
              "<script src=\"https://dashboard.talentsprint.com/aiml/record_ip.html?traineeId=2304983&recordId=8274\"></script>"
            ]
          },
          "metadata": {}
        },
        {
          "output_type": "stream",
          "name": "stdout",
          "text": [
            "Setup completed successfully\n"
          ]
        }
      ]
    },
    {
      "cell_type": "markdown",
      "source": [
        "# Assignment 08-02\n",
        "\n",
        "## Printing patterns\n",
        "\n",
        "Given a number $n$ generate the following pattern\n",
        "\n",
        "   1\n",
        "\n",
        "   2  3\n",
        "   \n",
        "   4  5  6\n",
        "   \n",
        "   7  8  9 10\n",
        "  \n",
        "  11 12 13 14 15\n",
        "  \n",
        "  ... n\n",
        "  \n",
        "  **\n",
        "\n",
        "where $n$ is the last number. Note that this means\n",
        "  * the last line has just two stars\n",
        "  * the penultimate line may not be longer than the previous line.\n"
      ],
      "metadata": {
        "id": "8kU1SMdbaGPP"
      }
    },
    {
      "cell_type": "markdown",
      "source": [],
      "metadata": {
        "id": "70d_nbftZGtK"
      }
    },
    {
      "cell_type": "markdown",
      "source": [
        "\n",
        "> Example:\n",
        "\n",
        "\n",
        "![Screenshot from 2022-03-30 20-51-18.png](data:image/png;base64,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)"
      ],
      "metadata": {
        "id": "bueMcXQabKGb"
      }
    },
    {
      "cell_type": "code",
      "source": [
        "def upto_n(n: int) -> str:\n",
        "    pattern = ''\n",
        "    num = 1\n",
        "    for i in range(1, n+1):\n",
        "        for j in range(1, i+1):\n",
        "            pattern += str(num) + ' '\n",
        "            num += 1\n",
        "        pattern += '\\n'\n",
        "    pattern += '**'\n",
        "    return pattern"
      ],
      "metadata": {
        "id": "-kgm-uzFaF01"
      },
      "execution_count": 5,
      "outputs": []
    },
    {
      "cell_type": "markdown",
      "metadata": {
        "id": "VHfHdGCP_n6Y"
      },
      "source": [
        "### Please answer the questions below to complete the experiment:\n",
        "\n",
        "\n"
      ]
    },
    {
      "cell_type": "code",
      "metadata": {
        "id": "NMzKSbLIgFzQ"
      },
      "source": [
        "#@title How was the experiment? { run: \"auto\", form-width: \"500px\", display-mode: \"form\" }\n",
        "Complexity = \"Too Difficult for me\" #@param [\"\",\"Too Simple, I am wasting time\", \"Good, But Not Challenging for me\", \"Good and Challenging for me\", \"Was Tough, but I did it\", \"Too Difficult for me\"]\n"
      ],
      "execution_count": 6,
      "outputs": []
    },
    {
      "cell_type": "code",
      "metadata": {
        "id": "ukxderAFFkAy"
      },
      "source": [
        "#@title How much time did you take? { run: \"auto\", form-width: \"500px\", display-mode: \"form\" }\n",
        "TimeTaken = \"More Than 2 Hour\" #@param [\"\",\"Below 1 Hour\", \"1 Hour\", \"2 Hour\", \"More Than 2 Hour\"]\n"
      ],
      "execution_count": 7,
      "outputs": []
    },
    {
      "cell_type": "code",
      "metadata": {
        "id": "O2eotYAjGiKh"
      },
      "source": [
        "#@title Could you complete the experiment without seeing the Video? { run: \"auto\", form-width: \"500px\", display-mode: \"form\" }\n",
        "Status = \"No\" #@param [\"\",\"Yes\", \"No\"]\n"
      ],
      "execution_count": 8,
      "outputs": []
    },
    {
      "cell_type": "code",
      "metadata": {
        "id": "FzAZHt1zw-Y-",
        "colab": {
          "base_uri": "https://localhost:8080/"
        },
        "outputId": "52a50c8e-8829-4545-b99e-d82800406faf",
        "cellView": "form"
      },
      "source": [
        "#@title Run this cell to submit your notebook for grading { vertical-output: true }\n",
        "try:\n",
        "  if submission_id:\n",
        "      return_id = submit_notebook()\n",
        "      if return_id : submission_id = return_id\n",
        "  else:\n",
        "      print(\"Please complete the setup first.\")\n",
        "except NameError as err:\n",
        "  print(err)\n",
        "  print (\"Please complete the setup first.\")"
      ],
      "execution_count": 9,
      "outputs": [
        {
          "output_type": "stream",
          "name": "stdout",
          "text": [
            "Your submission is successful.\n",
            "Ref Id: 8274\n",
            "Date of submission:  11 Apr 2024 (UTC)\n",
            "Time of submission:  18:56:18 (UTC)\n",
            "View your submissions: https://learn-techwise.talentsprint.com/notebook_submissions\n"
          ]
        }
      ]
    }
  ]
}