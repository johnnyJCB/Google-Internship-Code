{
  "cells": [
    {
      "cell_type": "markdown",
      "metadata": {
        "id": "vD4BQryiJDwn"
      },
      "source": [
        "# Coverage\n",
        "\n",
        "    * Printing patterns\n",
        "\n",
        "    * Composing patterns\n",
        "\n",
        "### Pattern A\n",
        "\n",
        "           *\n",
        "          ***\n",
        "         *****\n",
        "        *******\n",
        "       *********\n",
        "\n",
        "Number of lines is the parameter"
      ]
    },
    {
      "cell_type": "code",
      "execution_count": null,
      "metadata": {
        "colab": {
          "base_uri": "https://localhost:8080/"
        },
        "id": "4Yz9icpTSBhz",
        "outputId": "edfa43f3-b351-45d5-f750-8ae5a29aef00"
      },
      "outputs": [
        {
          "name": "stdout",
          "output_type": "stream",
          "text": [
            "*\n",
            "***\n",
            "*****\n",
            "*******\n",
            "*********\n"
          ]
        }
      ],
      "source": [
        "def pyramid_a1(size: int) -> :\n",
        "    for line_num in range(1, size + 1):\n",
        "        print('*' * ((line_num * 2) - 1))\n",
        "\n",
        "pyramid_a1(5)"
      ]
    },
    {
      "cell_type": "code",
      "execution_count": null,
      "metadata": {
        "colab": {
          "base_uri": "https://localhost:8080/"
        },
        "id": "dKnDguixcIcL",
        "outputId": "7c562b01-e74f-4e5a-85da-4864c1495a66"
      },
      "outputs": [
        {
          "name": "stdout",
          "output_type": "stream",
          "text": [
            "\n",
            "    *     \n",
            "   ***    \n",
            "  *****   \n",
            " *******  \n",
            "********* \n"
          ]
        }
      ],
      "source": [
        "def pyramid_a1(size: int) -> str:\n",
        "  result = \"\"\n",
        "  for line_num in range(1, size + 1):\n",
        "      result += f'\\n{\"*\" * ((line_num * 2) - 1):^{size * 2}}'\n",
        "  return result\n",
        "\n",
        "print(pyramid_a1(5))"
      ]
    },
    {
      "cell_type": "code",
      "execution_count": null,
      "metadata": {
        "colab": {
          "base_uri": "https://localhost:8080/"
        },
        "id": "JMVbEFk4d-WG",
        "outputId": "c4fc4250-7eca-4ed9-f918-3a270f56571a"
      },
      "outputs": [
        {
          "name": "stdout",
          "output_type": "stream",
          "text": [
            "['*', '**', '***', '****', '*****', '******', '*******']\n"
          ]
        }
      ],
      "source": [
        "STAR = '*'\n",
        "def pyramid_a2(size: int) -> list[str]:\n",
        "    pyramid = []\n",
        "    for line_num in range(1, size + 1):\n",
        "        line = line_num * STAR\n",
        "        pyramid.append(line)\n",
        "    return pyramid\n",
        "\n",
        "print(pyramid_a2(7))\n"
      ]
    },
    {
      "cell_type": "code",
      "execution_count": null,
      "metadata": {
        "colab": {
          "base_uri": "https://localhost:8080/"
        },
        "id": "US4l_yTUeItu",
        "outputId": "d499486e-1b94-49fc-de9c-df7b5683c54a"
      },
      "outputs": [
        {
          "name": "stdout",
          "output_type": "stream",
          "text": [
            "                             *                              \n",
            "                             **                             \n",
            "                            ***                             \n",
            "                            ****                            \n",
            "                           *****                            \n",
            "                           ******                           \n",
            "                          *******                           \n"
          ]
        }
      ],
      "source": [
        "WIDTH = 60\n",
        "CRLF = '\\n'\n",
        "def format_pyramid(ps: list[str]) -> str:\n",
        "    pyramid = []\n",
        "    for p in ps:\n",
        "        pyramid.append(p.center(WIDTH))\n",
        "    return CRLF.join(pyramid)\n",
        "\n",
        "print(format_pyramid(pyramid_a2(7)))"
      ]
    },
    {
      "cell_type": "code",
      "execution_count": null,
      "metadata": {
        "id": "Upd_i_-eekIf"
      },
      "outputs": [],
      "source": [
        "STAR = '*'\n",
        "WIDTH = 30\n",
        "CRLF = '\\n'\n",
        "def pyramid_a3(size: int) -> [str]:\n",
        "    pyramid = []\n",
        "    for line_num in range(size):\n",
        "        line = (2 * line_num + 1) * STAR\n",
        "        pyramid.append(line)\n",
        "    return pyramid\n",
        "\n",
        "\n",
        "def format_pyramid(ps: list[str]) -> str:\n",
        "    pyramid = []\n",
        "    for p in ps:\n",
        "        pyramid.append(p.center(WIDTH))\n",
        "    return CRLF.join(pyramid)"
      ]
    },
    {
      "cell_type": "code",
      "execution_count": null,
      "metadata": {
        "colab": {
          "base_uri": "https://localhost:8080/"
        },
        "id": "zaYl2gEqeyWK",
        "outputId": "897f5a69-d79d-453d-ffda-da068c2938d6"
      },
      "outputs": [
        {
          "name": "stdout",
          "output_type": "stream",
          "text": [
            "              *               \n",
            "             ***              \n",
            "            *****             \n",
            "           *******            \n",
            "          *********           \n",
            "         ***********          \n",
            "        *************         \n",
            "       ***************        \n"
          ]
        }
      ],
      "source": [
        "print(format_pyramid(pyramid_a3(8)))"
      ]
    },
    {
      "cell_type": "markdown",
      "metadata": {
        "id": "eljqs0spY6iJ"
      },
      "source": [
        "### Pattern B\n",
        "\n",
        "           *\n",
        "          * *\n",
        "         * * *\n",
        "        * * * *\n",
        "       * * * * *\n",
        "\n",
        "\n"
      ]
    },
    {
      "cell_type": "code",
      "execution_count": 8,
      "metadata": {
        "id": "oV-Rt5oxhdZ-"
      },
      "outputs": [],
      "source": [
        "\n",
        "WIDTH = 30\n",
        "CRLF = '\\n'\n",
        "\n",
        "def line(line_num:int) -> str:\n",
        "    return start_line() + repeat_middle(line_num) + end_line()\n",
        "\n",
        "def start_line() -> str:\n",
        "    return '@'\n",
        "\n",
        "def end_line() -> str:\n",
        "    return ''\n",
        "\n",
        "def repeat_middle(line_num: int) -> str:\n",
        "    return ' -' * line_num\n",
        "\n",
        "def pyramid_a4(size: int) -> list[str]:\n",
        "    pyramid = []\n",
        "    for line_num in range(size):\n",
        "        pyramid.append(line(line_num))\n",
        "    return pyramid\n",
        "\n",
        "def format_pyramid(pyramid: list[str]) -> str:\n",
        "    WIDTH = 30\n",
        "    CRLF = '\\n'\n",
        "    result = []\n",
        "    for line in pyramid:\n",
        "        result.append(line.center(WIDTH))\n",
        "    return CRLF.join(result)"
      ]
    },
    {
      "cell_type": "code",
      "execution_count": 9,
      "metadata": {
        "colab": {
          "base_uri": "https://localhost:8080/"
        },
        "id": "rG0KPkPDhe-s",
        "outputId": "02812a9d-c451-4f2a-9f55-2a06ce6af92b"
      },
      "outputs": [
        {
          "name": "stdout",
          "output_type": "stream",
          "text": [
            "              @               \n",
            "             @ -              \n",
            "            @ - -             \n",
            "           @ - - -            \n",
            "          @ - - - -           \n"
          ]
        }
      ],
      "source": [
        "print(format_pyramid(pyramid_a4(5)))"
      ]
    },
    {
      "cell_type": "code",
      "execution_count": 14,
      "metadata": {},
      "outputs": [
        {
          "name": "stdout",
          "output_type": "stream",
          "text": [
            "              @               \n",
            "             @-@              \n",
            "            @---@             \n",
            "           @-----@            \n",
            "          @-------@           \n"
          ]
        }
      ],
      "source": [
        "WIDTH = 30\n",
        "CRLF = '\\n'\n",
        "\n",
        "def line(line_num: int) -> str:\n",
        "    if line_num == 1:\n",
        "        return start_line(line_num)\n",
        "    else:\n",
        "        return start_line(line_num) + repeat_middle(line_num) + end_line(line_num)\n",
        "\n",
        "def start_line(line_num: int) -> str:\n",
        "    return '@'\n",
        "\n",
        "def repeat_middle(line_num: int) -> str:\n",
        "    if line_num > 1:\n",
        "        num_hyphens = (2 * (line_num - 1)) - 1\n",
        "        return '-' * num_hyphens\n",
        "    return ''\n",
        "\n",
        "def end_line(line_num: int) -> str:\n",
        "    if line_num > 1:\n",
        "        return '@'\n",
        "    return ''\n",
        "\n",
        "def pyramid_b1(size: int) -> list[str]:\n",
        "    pyramid = []\n",
        "    for line_num in range(1, size + 1):\n",
        "        pyramid.append(line(line_num))\n",
        "    return pyramid\n",
        "\n",
        "def format_pyramid(ps: list[str]) -> str:\n",
        "    pyramid = []\n",
        "    for p in ps:\n",
        "        # Center align each line in the pyramid\n",
        "        pyramid.append(p.center(WIDTH))\n",
        "    return CRLF.join(pyramid)\n",
        "\n",
        "print(format_pyramid(pyramid_b1(5)))\n"
      ]
    },
    {
      "cell_type": "code",
      "execution_count": 13,
      "metadata": {},
      "outputs": [
        {
          "name": "stdout",
          "output_type": "stream",
          "text": [
            "              @               \n"
          ]
        }
      ],
      "source": [
        "def line(line_num: int) -> str:\n",
        "  return start_line(line_num) + repeat_middle(line_num) + end_line(line_num)\n",
        "\n",
        "def start_line(line_num: int) -> str:\n",
        "    return '@'\n",
        "\n",
        "def repeat_middle(line_num: int) -> str:\n",
        "    return line_num * '-'\n",
        "\n",
        "def end_line(line_num: int) -> str:\n",
        "  if line_num != 0:\n",
        "    return '@'\n",
        "  else:\n",
        "    return ''\n",
        "\n",
        "def pyramid_b1(size: int) -> list[str]:\n",
        "    pyramid = []\n",
        "    for line_num in range(2*size - 1):\n",
        "      if line_num%2 != 0 or line_num == 0:\n",
        "        pyramid.append(line(line_num))\n",
        "    return pyramid\n",
        "\n",
        "def format_pyramid(ps: list[str]) -> str:\n",
        "    pyramid = []\n",
        "    for p in ps:\n",
        "        pyramid.append(p.center(WIDTH))\n",
        "    return CRLF.join(pyramid)\n",
        "\n",
        "\n",
        "print(format_pyramid(pyramid_b1(1)))"
      ]
    },
    {
      "cell_type": "markdown",
      "metadata": {
        "id": "MEIWfWgLZ6EB"
      },
      "source": []
    },
    {
      "cell_type": "markdown",
      "metadata": {
        "id": "jmg8Gg3CcekO"
      },
      "source": [
        "Now it is obvious what and where needs to be changed to produce different patterns\n",
        "\n",
        "\n",
        "**Brain Teaser**\n",
        "\n",
        "Produce the following pyramid\n",
        "\n",
        "        @\n",
        "       @-@\n",
        "      @---@\n",
        "     @-----@\n",
        "    @-------@\n"
      ]
    },
    {
      "cell_type": "code",
      "execution_count": 17,
      "metadata": {},
      "outputs": [
        {
          "name": "stdout",
          "output_type": "stream",
          "text": [
            "              *               \n",
            "             ***              \n",
            "            *****             \n",
            "           *******            \n",
            "          *********           \n",
            "\n",
            "              @               \n",
            "             @-@              \n",
            "            @---@             \n",
            "           @-----@            \n",
            "          @-------@           \n"
          ]
        }
      ],
      "source": [
        "WIDTH = 30\n",
        "CRLF = '\\n'\n",
        "\n",
        "def line(line_num: int, start_char: str = '*', mid_char: str = None) -> str:\n",
        "    if mid_char is None:  # For the asterisk pattern\n",
        "        # We adjust the pattern here for asterisks, increasing by 2 each time, starting from 1\n",
        "        return (start_char * (1 + (line_num - 1) * 2)).center(WIDTH)\n",
        "    else:  # For the '@' and '-' pattern\n",
        "        if line_num == 1:\n",
        "            return start_char.center(WIDTH)\n",
        "        else:\n",
        "            # Calculate number of mid_chars needed\n",
        "            num_mid_chars = (2 * (line_num - 1)) - 1\n",
        "            return (start_char + mid_char * num_mid_chars + start_char).center(WIDTH)\n",
        "\n",
        "def pyramid(size: int, start_char: str = '*', mid_char: str = None) -> list[str]:\n",
        "    return [line(line_num, start_char, mid_char) for line_num in range(1, size + 1)]\n",
        "\n",
        "def format_pyramid(ps: list[str]) -> str:\n",
        "    return CRLF.join(ps)\n",
        "\n",
        "# Example usage:\n",
        "# For a pyramid using asterisks\n",
        "print(format_pyramid(pyramid(5)))\n",
        "print()  # Print a newline for separation\n",
        "# For a pyramid with '@' and '-' as specified\n",
        "print(format_pyramid(pyramid(5, '@', '-')))\n",
        "\n"
      ]
    },
    {
      "cell_type": "markdown",
      "metadata": {
        "id": "QFZBIQI7dlil"
      },
      "source": [
        " ## Problems to ponder\n",
        " * How to produce an upside down triangle?\n",
        " * How to produce a right_angled triangle?\n",
        " * How to produce a right_angled triangle, facing the other way?\n",
        " * How to produce a diamond?\n",
        " * How to produce a triforce?\n"
      ]
    },
    {
      "cell_type": "code",
      "execution_count": 25,
      "metadata": {},
      "outputs": [
        {
          "name": "stdout",
          "output_type": "stream",
          "text": [
            "A A \n",
            "B B B \n",
            "C C C C \n",
            "D D D D D \n",
            "E E E E E E \n"
          ]
        }
      ],
      "source": [
        "def print_pattern():\n",
        "    for i in range(65, 70):\n",
        "        print(chr(i), end=\" \")\n",
        "        print((chr(i) + \" \") * (i - 64))\n",
        "\n",
        "\n",
        "print_pattern()"
      ]
    },
    {
      "cell_type": "code",
      "execution_count": 23,
      "metadata": {
        "id": "x6ZPDTe1ccOW"
      },
      "outputs": [
        {
          "name": "stdout",
          "output_type": "stream",
          "text": [
            "                         A \n",
            "                        A B \n",
            "                       A B C \n",
            "                      A B C D \n",
            "                     A B C D E \n",
            "                    A B C D E F \n",
            "                   A B C D E F G \n",
            "                  A B C D E F G H \n",
            "                 A B C D E F G H I \n",
            "                A B C D E F G H I J \n",
            "               A B C D E F G H I J K \n",
            "              A B C D E F G H I J K L \n",
            "             A B C D E F G H I J K L M \n",
            "            A B C D E F G H I J K L M N \n",
            "           A B C D E F G H I J K L M N O \n",
            "          A B C D E F G H I J K L M N O P \n",
            "         A B C D E F G H I J K L M N O P Q \n",
            "        A B C D E F G H I J K L M N O P Q R \n",
            "       A B C D E F G H I J K L M N O P Q R S \n",
            "      A B C D E F G H I J K L M N O P Q R S T \n",
            "     A B C D E F G H I J K L M N O P Q R S T U \n",
            "    A B C D E F G H I J K L M N O P Q R S T U V \n",
            "   A B C D E F G H I J K L M N O P Q R S T U V W \n",
            "  A B C D E F G H I J K L M N O P Q R S T U V W X \n",
            " A B C D E F G H I J K L M N O P Q R S T U V W X Y \n",
            "A B C D E F G H I J K L M N O P Q R S T U V W X Y Z \n"
          ]
        }
      ],
      "source": [
        "def print_pattern(num_rows):\n",
        "    for i in range(1, num_rows + 1):\n",
        "        print(\" \" * (num_rows - i), end=\"\")\n",
        "        for j in range(i):\n",
        "            print(chr(65 + j), end=\" \")\n",
        "        print()\n",
        "\n",
        "print_pattern(26)\n"
      ]
    }
  ],
  "metadata": {
    "colab": {
      "provenance": []
    },
    "kernelspec": {
      "display_name": "Python 3",
      "name": "python3"
    },
    "language_info": {
      "codemirror_mode": {
        "name": "ipython",
        "version": 3
      },
      "file_extension": ".py",
      "mimetype": "text/x-python",
      "name": "python",
      "nbconvert_exporter": "python",
      "pygments_lexer": "ipython3",
      "version": "3.12.1"
    }
  },
  "nbformat": 4,
  "nbformat_minor": 0
}
