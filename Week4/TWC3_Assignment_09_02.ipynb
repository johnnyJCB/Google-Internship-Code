{
  "cells": [
    {
      "cell_type": "markdown",
      "metadata": {
        "id": "Na0j6cv7D83_"
      },
      "source": [
        "# This is Assignment 09-02 workbook for TechWise Program"
      ]
    },
    {
      "cell_type": "markdown",
      "metadata": {
        "id": "BNLA8HiKxQhc"
      },
      "source": [
        "### Setup Steps:"
      ]
    },
    {
      "cell_type": "code",
      "execution_count": 7,
      "metadata": {
        "id": "2YzfoPvJDiTX"
      },
      "outputs": [],
      "source": [
        "#@title Please enter your registration id to start: { run: \"auto\", display-mode: \"form\" }\n",
        "Id = \"2304983\" #@param {type:\"string\"}"
      ]
    },
    {
      "cell_type": "code",
      "execution_count": 8,
      "metadata": {
        "colab": {
          "base_uri": "https://localhost:8080/",
          "height": 34
        },
        "id": "WBPPuGmBlDIN",
        "outputId": "23372dce-c645-4b9e-9bf0-5b85277110be"
      },
      "outputs": [
        {
          "data": {
            "text/html": [
              "<script src=\"https://dashboard.talentsprint.com/aiml/record_ip.html?traineeId=2304983&recordId=8278\"></script>"
            ],
            "text/plain": [
              "<IPython.core.display.HTML object>"
            ]
          },
          "metadata": {},
          "output_type": "display_data"
        },
        {
          "name": "stdout",
          "output_type": "stream",
          "text": [
            "Setup completed successfully\n"
          ]
        }
      ],
      "source": [
        "#@title Run this cell to complete the setup for this Notebook\n",
        "from IPython import get_ipython\n",
        "\n",
        "ipython = get_ipython()\n",
        "\n",
        "notebook= \"TWC3_Assignment_09-02\" #name of the notebook\n",
        "\n",
        "def setup():\n",
        "#  ipython.magic(\"sx pip3 install torch\")\n",
        "    from IPython.display import HTML, display\n",
        "    display(HTML('<script src=\"https://dashboard.talentsprint.com/aiml/record_ip.html?traineeId={0}&recordId={1}\"></script>'.format(getId(),submission_id)))\n",
        "    print(\"Setup completed successfully\")\n",
        "    return\n",
        "\n",
        "def submit_notebook():\n",
        "    ipython.magic(\"notebook -e \"+ notebook + \".ipynb\")\n",
        "\n",
        "    import requests, json, base64, datetime\n",
        "\n",
        "    url = \"https://dashboard.talentsprint.com/xp/app/save_notebook_attempts\"\n",
        "    if not submission_id:\n",
        "      data = {\"id\" : getId(), \"notebook\" : notebook}\n",
        "      r = requests.post(url, data = data)\n",
        "      r = json.loads(r.text)\n",
        "\n",
        "      if r[\"status\"] == \"Success\":\n",
        "\n",
        "          return r[\"record_id\"]\n",
        "      elif \"err\" in r:\n",
        "        print(r[\"err\"])\n",
        "        return None\n",
        "      else:\n",
        "        print (\"Something is wrong, the notebook will not be submitted for grading\")\n",
        "        return None\n",
        "\n",
        "    elif getComplexity() and getTimeTaken() and getStatus():\n",
        "      f = open(notebook + \".ipynb\", \"rb\")\n",
        "      file_hash = base64.b64encode(f.read())\n",
        "      data = {\"complexity\" : Complexity,\n",
        "              \"record_id\" : submission_id,\n",
        "              \"id\" : Id, \"file_hash\" : file_hash,\n",
        "              \"notebook\" : notebook, \"timetaken\" : TimeTaken, \"experiment_status\" : Status}\n",
        "      r = requests.post(url, data = data)\n",
        "      r = json.loads(r.text)\n",
        "      if \"err\" in r:\n",
        "        print(r[\"err\"])\n",
        "        return None\n",
        "      else:\n",
        "        print(\"Your submission is successful.\")\n",
        "        print(\"Ref Id:\", submission_id)\n",
        "        print(\"Date of submission: \", r[\"date\"])\n",
        "        print(\"Time of submission: \", r[\"time\"])\n",
        "        print(\"View your submissions: https://learn-techwise.talentsprint.com/notebook_submissions\")\n",
        "        #print(\"For any queries/discrepancies, please connect with mentors through the chat icon in LMS dashboard.\")\n",
        "        return submission_id\n",
        "    else: submission_id\n",
        "\n",
        "\n",
        "def getStatus():\n",
        "  try:\n",
        "    if not Status:\n",
        "      raise NameError\n",
        "    else:\n",
        "      return Status\n",
        "  except NameError:\n",
        "    print (\"Please answer Status Question\")\n",
        "    return None\n",
        "\n",
        "def getTimeTaken():\n",
        "  try:\n",
        "    if not TimeTaken:\n",
        "      raise NameError\n",
        "    else:\n",
        "      return TimeTaken\n",
        "  except NameError:\n",
        "    print (\"Please answer TimeTaken Question\")\n",
        "    return None\n",
        "\n",
        "def getComplexity():\n",
        "  try:\n",
        "    if not Complexity:\n",
        "      raise NameError\n",
        "    else:\n",
        "      return Complexity\n",
        "  except NameError:\n",
        "    print (\"Please answer Complexity Question\")\n",
        "    return None\n",
        "\n",
        "\n",
        "def getId():\n",
        "  try:\n",
        "    return Id if Id else None\n",
        "  except NameError:\n",
        "    return None\n",
        "\n",
        "\n",
        "submission_id = None\n",
        "### Setup\n",
        "if  getId():\n",
        "  submission_id = submit_notebook()\n",
        "  if submission_id:\n",
        "    setup()\n",
        "else:\n",
        "  print (\"Please complete Id cell before running setup\")\n",
        "\n"
      ]
    },
    {
      "cell_type": "markdown",
      "metadata": {
        "id": "8kU1SMdbaGPP"
      },
      "source": [
        "# Assignment 09-02\n",
        "\n",
        "* How to produce an upside down triangle?\n",
        "\n",
        "                       * * * * * * *                        \n",
        "                        * * * * * *                         \n",
        "                         * * * * *                          \n",
        "                          * * * *                           \n",
        "                           * * *                            \n",
        "                            * *                             \n",
        "                             *                              \n",
        "\n"
      ]
    },
    {
      "cell_type": "code",
      "execution_count": 2,
      "metadata": {
        "colab": {
          "base_uri": "https://localhost:8080/"
        },
        "id": "NbCC7yMiClZ2",
        "outputId": "96e065bc-e2b9-4ce3-87c3-fe2a58498646"
      },
      "outputs": [
        {
          "name": "stdout",
          "output_type": "stream",
          "text": [
            "_* * * * * * * \n",
            " * * * * * * \n",
            "  * * * * * \n",
            "   * * * * \n",
            "    * * * \n",
            "     * * \n",
            "      *\n"
          ]
        }
      ],
      "source": [
        "def upside_down_triangle(length: int) -> str:\n",
        "    triangle_str = \"\"  # Initialize an empty string to accumulate the triangle lines\n",
        "    for i in range(length, 0, -1):\n",
        "        leading_spaces = length - i\n",
        "        # Add the constructed line to triangle_str with a newline at the end\n",
        "        triangle_str += ' ' * leading_spaces + '* ' * i + '\\n'\n",
        "    return triangle_str.strip()\n",
        "\n",
        "print(upside_down_triangle(7))"
      ]
    },
    {
      "cell_type": "markdown",
      "metadata": {
        "id": "Syk5R_gxBIkF"
      },
      "source": [
        "* How to produce a right_angled triangle?\n",
        "\n",
        "      *\n",
        "      * *\n",
        "      * * *\n",
        "      * * * *\n",
        "      * * * * *\n",
        "      * * * * * *\n",
        "      * * * * * * *\n",
        "\n"
      ]
    },
    {
      "cell_type": "code",
      "execution_count": 10,
      "metadata": {
        "colab": {
          "base_uri": "https://localhost:8080/"
        },
        "id": "Gh43ejTDCkQd",
        "outputId": "73d01b0d-e8c4-4145-bc80-d71f84b76fd8"
      },
      "outputs": [
        {
          "name": "stdout",
          "output_type": "stream",
          "text": [
            "* \n",
            "* * \n",
            "* * * \n",
            "* * * * \n",
            "* * * * * \n",
            "* * * * * * \n",
            "* * * * * * * \n",
            "None\n"
          ]
        }
      ],
      "source": [
        "def right_angle(length: int) -> None:\n",
        "    for i in range(1, length + 1):\n",
        "        print('* ' * i)\n",
        "\n",
        "print(right_angle(7))"
      ]
    },
    {
      "cell_type": "markdown",
      "metadata": {
        "id": "cPwv5RGUBuR-"
      },
      "source": [
        "\n",
        "* How to produce a right_angled triangle, facing the other way?\n",
        "                             *\n",
        "                           * *\n",
        "                         * * *\n",
        "                       * * * *\n",
        "                     * * * * *\n",
        "                   * * * * * *\n",
        "                 * * * * * * *\n"
      ]
    },
    {
      "cell_type": "code",
      "execution_count": 11,
      "metadata": {
        "colab": {
          "base_uri": "https://localhost:8080/"
        },
        "id": "ugXTaDf6Ca8j",
        "outputId": "8171be61-522c-4888-dca4-59f9598ce9ea"
      },
      "outputs": [
        {
          "name": "stdout",
          "output_type": "stream",
          "text": [
            "            * \n",
            "          * * \n",
            "        * * * \n",
            "      * * * * \n",
            "    * * * * * \n",
            "  * * * * * * \n",
            "* * * * * * * \n"
          ]
        }
      ],
      "source": [
        "def right_angle_opp(length: int) -> str:\n",
        "    result = []\n",
        "    for i in range(1, length + 1):\n",
        "        spaces = length - i\n",
        "        result.append('  ' * spaces + '* ' * i)\n",
        "    return '\\n'.join(result)\n",
        "\n",
        "print(right_angle_opp(7))"
      ]
    },
    {
      "cell_type": "markdown",
      "metadata": {
        "id": "xhEqPnKPCJ8K"
      },
      "source": [
        "\n",
        "* How to produce a diamond?\n",
        "\n",
        "                             *                              \n",
        "                            * *                             \n",
        "                           * * *                            \n",
        "                          * * * *                           \n",
        "                         * * * * *                          \n",
        "                        * * * * * *                         \n",
        "                       * * * * * * *                        \n",
        "                        * * * * * *                         \n",
        "                         * * * * *                          \n",
        "                          * * * *                           \n",
        "                           * * *                            \n",
        "                            * *                             \n",
        "                             *                 "
      ]
    },
    {
      "cell_type": "code",
      "execution_count": 12,
      "metadata": {
        "colab": {
          "base_uri": "https://localhost:8080/"
        },
        "id": "-kgm-uzFaF01",
        "outputId": "3be025e9-1f6e-496e-d999-b33e0072fccd"
      },
      "outputs": [
        {
          "name": "stdout",
          "output_type": "stream",
          "text": [
            "            * \n",
            "           * * \n",
            "          * * * \n",
            "         * * * * \n",
            "        * * * * * \n",
            "       * * * * * * \n",
            "      * * * * * * * \n",
            "     * * * * * * * * \n",
            "    * * * * * * * * * \n",
            "   * * * * * * * * * * \n",
            "  * * * * * * * * * * * \n",
            " * * * * * * * * * * * * \n",
            "* * * * * * * * * * * * * \n",
            " * * * * * * * * * * * * \n",
            "  * * * * * * * * * * * \n",
            "   * * * * * * * * * * \n",
            "    * * * * * * * * * \n",
            "     * * * * * * * * \n",
            "      * * * * * * * \n",
            "       * * * * * * \n",
            "        * * * * * \n",
            "         * * * * \n",
            "          * * * \n",
            "           * * \n",
            "            * \n"
          ]
        }
      ],
      "source": [
        "def diamond(length: int) -> str:\n",
        "    result = []\n",
        "\n",
        "    # Generate the upper part including the middle row\n",
        "    for i in range(1, length + 1):\n",
        "        spaces = length - i\n",
        "        result.append(' ' * spaces + '* ' * i)\n",
        "\n",
        "    # Generate the lower part excluding the middle row\n",
        "    for i in range(length - 1, 0, -1):\n",
        "        spaces = length - i\n",
        "        result.append(' ' * spaces + '* ' * i)\n",
        "\n",
        "    return '\\n'.join(result)\n",
        "\n",
        "# You would use it like this to get the pattern7)\n",
        "\n",
        "\n",
        "print(diamond(13))"
      ]
    },
    {
      "cell_type": "markdown",
      "metadata": {
        "id": "VHfHdGCP_n6Y"
      },
      "source": [
        "### Please answer the questions below to complete the experiment:\n",
        "\n",
        "\n"
      ]
    },
    {
      "cell_type": "code",
      "execution_count": 13,
      "metadata": {
        "id": "NMzKSbLIgFzQ"
      },
      "outputs": [],
      "source": [
        "#@title How was the experiment? { run: \"auto\", form-width: \"500px\", display-mode: \"form\" }\n",
        "Complexity = \"Was Tough, but I did it\" #@param [\"\",\"Too Simple, I am wasting time\", \"Good, But Not Challenging for me\", \"Good and Challenging for me\", \"Was Tough, but I did it\", \"Too Difficult for me\"]\n"
      ]
    },
    {
      "cell_type": "code",
      "execution_count": 14,
      "metadata": {
        "id": "ukxderAFFkAy"
      },
      "outputs": [],
      "source": [
        "#@title How much time did you take? { run: \"auto\", form-width: \"500px\", display-mode: \"form\" }\n",
        "TimeTaken = \"More Than 2 Hour\" #@param [\"\",\"Below 1 Hour\", \"1 Hour\", \"2 Hour\", \"More Than 2 Hour\"]\n"
      ]
    },
    {
      "cell_type": "code",
      "execution_count": 15,
      "metadata": {
        "id": "O2eotYAjGiKh"
      },
      "outputs": [],
      "source": [
        "#@title Could you complete the experiment without seeing the Video? { run: \"auto\", form-width: \"500px\", display-mode: \"form\" }\n",
        "Status = \"No\" #@param [\"\",\"Yes\", \"No\"]\n"
      ]
    },
    {
      "cell_type": "code",
      "execution_count": 16,
      "metadata": {
        "cellView": "form",
        "colab": {
          "base_uri": "https://localhost:8080/"
        },
        "id": "FzAZHt1zw-Y-",
        "outputId": "3cac7722-4a95-4c2a-e04f-d063dc5b524a"
      },
      "outputs": [
        {
          "name": "stdout",
          "output_type": "stream",
          "text": [
            "Your submission is successful.\n",
            "Ref Id: 8278\n",
            "Date of submission:  11 Apr 2024 (UTC)\n",
            "Time of submission:  20:11:31 (UTC)\n",
            "View your submissions: https://learn-techwise.talentsprint.com/notebook_submissions\n"
          ]
        }
      ],
      "source": [
        "#@title Run this cell to submit your notebook for grading { vertical-output: true }\n",
        "try:\n",
        "  if submission_id:\n",
        "      return_id = submit_notebook()\n",
        "      if return_id : submission_id = return_id\n",
        "  else:\n",
        "      print(\"Please complete the setup first.\")\n",
        "except NameError as err:\n",
        "  print(err)\n",
        "  print (\"Please complete the setup first.\")"
      ]
    }
  ],
  "metadata": {
    "colab": {
      "provenance": []
    },
    "kernelspec": {
      "display_name": "Python 3",
      "name": "python3"
    },
    "language_info": {
      "codemirror_mode": {
        "name": "ipython",
        "version": 3
      },
      "file_extension": ".py",
      "mimetype": "text/x-python",
      "name": "python",
      "nbconvert_exporter": "python",
      "pygments_lexer": "ipython3",
      "version": "3.12.1"
    }
  },
  "nbformat": 4,
  "nbformat_minor": 0
}
