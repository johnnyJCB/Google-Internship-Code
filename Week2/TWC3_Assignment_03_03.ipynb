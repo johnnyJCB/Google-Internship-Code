{
  "nbformat": 4,
  "nbformat_minor": 0,
  "metadata": {
    "colab": {
      "provenance": []
    },
    "kernelspec": {
      "name": "python3",
      "display_name": "Python 3"
    }
  },
  "cells": [
    {
      "cell_type": "markdown",
      "metadata": {
        "id": "Na0j6cv7D83_"
      },
      "source": [
        "# This is Assignment_03-03 workbook for TechWise Program"
      ]
    },
    {
      "cell_type": "markdown",
      "metadata": {
        "id": "BNLA8HiKxQhc"
      },
      "source": [
        "### Setup Steps:"
      ]
    },
    {
      "cell_type": "code",
      "metadata": {
        "id": "2YzfoPvJDiTX"
      },
      "source": [
        "#@title Please enter your registration id to start: { run: \"auto\", display-mode: \"form\" }\n",
        "Id = \"2304983\" #@param {type:\"string\"}"
      ],
      "execution_count": 3,
      "outputs": []
    },
    {
      "cell_type": "code",
      "metadata": {
        "id": "WBPPuGmBlDIN",
        "colab": {
          "base_uri": "https://localhost:8080/",
          "height": 34
        },
        "outputId": "50623ddd-6417-4844-9be2-5a639d06d363"
      },
      "source": [
        "#@title Run this cell to complete the setup for this Notebook\n",
        "from IPython import get_ipython\n",
        "\n",
        "ipython = get_ipython()\n",
        "\n",
        "notebook= \"TWC3_Assignment_03-03\" #name of the notebook\n",
        "\n",
        "def setup():\n",
        "#  ipython.magic(\"sx pip3 install torch\")\n",
        "    from IPython.display import HTML, display\n",
        "    display(HTML('<script src=\"https://dashboard.talentsprint.com/aiml/record_ip.html?traineeId={0}&recordId={1}\"></script>'.format(getId(),submission_id)))\n",
        "    print(\"Setup completed successfully\")\n",
        "    return\n",
        "\n",
        "def submit_notebook():\n",
        "    ipython.magic(\"notebook -e \"+ notebook + \".ipynb\")\n",
        "\n",
        "    import requests, json, base64, datetime\n",
        "\n",
        "    url = \"https://dashboard.talentsprint.com/xp/app/save_notebook_attempts\"\n",
        "    if not submission_id:\n",
        "      data = {\"id\" : getId(), \"notebook\" : notebook}\n",
        "      r = requests.post(url, data = data)\n",
        "      r = json.loads(r.text)\n",
        "\n",
        "      if r[\"status\"] == \"Success\":\n",
        "\n",
        "          return r[\"record_id\"]\n",
        "      elif \"err\" in r:\n",
        "        print(r[\"err\"])\n",
        "        return None\n",
        "      else:\n",
        "        print (\"Something is wrong, the notebook will not be submitted for grading\")\n",
        "        return None\n",
        "\n",
        "    elif getComplexity() and getTimeTaken() and getStatus():\n",
        "      f = open(notebook + \".ipynb\", \"rb\")\n",
        "      file_hash = base64.b64encode(f.read())\n",
        "      data = {\"complexity\" : Complexity,\n",
        "              \"record_id\" : submission_id,\n",
        "              \"id\" : Id, \"file_hash\" : file_hash,\n",
        "              \"notebook\" : notebook, \"timetaken\" : TimeTaken, \"experiment_status\" : Status}\n",
        "      r = requests.post(url, data = data)\n",
        "      r = json.loads(r.text)\n",
        "      if \"err\" in r:\n",
        "        print(r[\"err\"])\n",
        "        return None\n",
        "      else:\n",
        "        print(\"Your submission is successful.\")\n",
        "        print(\"Ref Id:\", submission_id)\n",
        "        print(\"Date of submission: \", r[\"date\"])\n",
        "        print(\"Time of submission: \", r[\"time\"])\n",
        "        print(\"View your submissions: https://learn-techwise.talentsprint.com/notebook_submissions\")\n",
        "        #print(\"For any queries/discrepancies, please connect with mentors through the chat icon in LMS dashboard.\")\n",
        "        return submission_id\n",
        "    else: submission_id\n",
        "\n",
        "\n",
        "def getStatus():\n",
        "  try:\n",
        "    if not Status:\n",
        "      raise NameError\n",
        "    else:\n",
        "      return Status\n",
        "  except NameError:\n",
        "    print (\"Please answer Status Question\")\n",
        "    return None\n",
        "\n",
        "def getTimeTaken():\n",
        "  try:\n",
        "    if not TimeTaken:\n",
        "      raise NameError\n",
        "    else:\n",
        "      return TimeTaken\n",
        "  except NameError:\n",
        "    print (\"Please answer TimeTaken Question\")\n",
        "    return None\n",
        "\n",
        "def getComplexity():\n",
        "  try:\n",
        "    if not Complexity:\n",
        "      raise NameError\n",
        "    else:\n",
        "      return Complexity\n",
        "  except NameError:\n",
        "    print (\"Please answer Complexity Question\")\n",
        "    return None\n",
        "\n",
        "\n",
        "def getId():\n",
        "  try:\n",
        "    return Id if Id else None\n",
        "  except NameError:\n",
        "    return None\n",
        "\n",
        "\n",
        "submission_id = None\n",
        "### Setup\n",
        "if  getId():\n",
        "  submission_id = submit_notebook()\n",
        "  if submission_id:\n",
        "    setup()\n",
        "else:\n",
        "  print (\"Please complete Id cell before running setup\")\n",
        "\n"
      ],
      "execution_count": 4,
      "outputs": [
        {
          "output_type": "display_data",
          "data": {
            "text/plain": [
              "<IPython.core.display.HTML object>"
            ],
            "text/html": [
              "<script src=\"https://dashboard.talentsprint.com/aiml/record_ip.html?traineeId=2304983&recordId=8260\"></script>"
            ]
          },
          "metadata": {}
        },
        {
          "output_type": "stream",
          "name": "stdout",
          "text": [
            "Setup completed successfully\n"
          ]
        }
      ]
    },
    {
      "cell_type": "markdown",
      "source": [
        "# Assignment-03-03\n",
        "## Triangle Inequality Theorem\n",
        "\n",
        "\n",
        "The sum of the lengths of any two sides of a triangle is greater than the length of the third side.\n",
        "\n",
        "![triangle-inequality-theorem-image001.gif](data:image/gif;base64,R0lGODdhkQBkAIQAAP///z8/P5+fn39/fwAAAO/v78/Pz7+/vy8vL19fXx8fH9/f329vb6+vr4+Pj09PT////wAAAAAAAAAAAAAAAAAAAAAAAAAAAAAAAAAAAAAAAAAAAAAAAAAAAAAAAAAAACH5BAUIABAALAAAAACRAGQAQAX+ICCOZGmeaKqubOu+cCzPdG3feD4ixHIuvIFuSCzGGgRhbUBQ+IzQ6EyhkI4OCoLDyp0JEItFtcRsdF0JQuB5IhxECPMZulDPdUiC/G58EAx8ZwsBBAmBMAcEDIeMJw5Nb4c8bI2VLQZZSkOPW5aeOgwEYJ+kpaY1BwECAAirp6+wsY1UAFgErrK5M6F7Kwt+D5S6uQYED0UCkMOefsKCPIsvqsskDggiDpEiSNGxjwqA1DC04iiYWuUAnOk1oWukddfsUra9UWnh842/hTbFx/qGJVOgTd8DM3UCKlzIsCGsOsacOVxGbgSTURNz+cmHYmDBjJbWxbCFC+SdRN3+bABRZNJKPClpgrXUMekOE3AxFgwYkxGfJSQEWSRj0ACBJl1YUog0ZasTiQQBRCT4OO/fskEsQVZkl+ZdwJoOv3HUxWvmNgJ6YiE5apbEOaeVrLZtgdVQoK1zY4TCGKVZXh3fqC5J+xcKSRrcCs8Rk8QFAwSQI0ueTLmy5cuYM2vezLnz5pT6GgxoIFhxJQSL6rA1zbq169ewY8ueDWNASdqHQqXBiZuPyLq9zyQukcde8CHF7KLoKvE4jToAV7x1jkNUjMDUp/DMSUh5dhZgUaE1/p3ExiHumlMPVdpfpvLYblnBTj0ZXCn8vNMefjILeRUO6NeQXIzspV4JejDaANoyDTRwGwAveXLOaiU80ImC4rghAlV4eeLRCUiIIIY4Awi4AwGx8BPdhgo6cCAsCSCQgDCEvOjJYS2dR42BGZWVzkoUsrPUPB+GltVCKtp4SnIg4TgMdGZdpGQl1s210oKkdNhWkaSEZxowU0qh42tOBsIebjeNxcUjD8p25Rn2fQdUezjwV15MYbpAIHwbZnFfDRHyaUKaN2gp6AhYYdkCD4e2kAedJtTY6AvMseCHAp5lqummnHaaaRboTCrqqDfMWAykpLbgwBgORJXqDQHEwSaqr9ZqawgAOw==)\n",
        "\n",
        "In the figure, the following inequalities hold.\n",
        "\n",
        "a + b > c\n",
        "\n",
        "a + c > b\n",
        "\n",
        "b + c > a\n",
        "\n",
        "\n",
        "* Example 01:\n",
        "\n",
        "Check whether it is possible to have a triangle with the given side lengths.\n",
        "\n",
        "7,9,13\n",
        "\n",
        "\n",
        "* Explanation:\n",
        "\n",
        "Add any two sides and see if it is greater than the other side.\n",
        "\n",
        "The sum of 7 and 9 is 16 and 16 is greater than 13 .\n",
        "\n",
        "The sum of 9 and 13 is 21 and 21 is greater than 7 .\n",
        "\n",
        "The sum of 7 and 13 is 20 and 20 is greater than 9 .\n",
        "\n",
        "This set of side lengths satisfies the Triangle Inequality Theorem.\n",
        "\n",
        "These lengths do form a triangle.\n",
        "\n",
        "\n",
        "* Example 02:\n",
        "\n",
        "Check whether the given side lengths form a triangle.\n",
        "\n",
        "4,8,15\n",
        "\n",
        "* Explanation:\n",
        "\n",
        "Add any two sides and see if it is greater than the other side.\n",
        "\n",
        "The sum of 4 and 8 is 12 and 12 is less than 15 .\n",
        "\n",
        "This set of side lengths does not satisfy Triangle Inequality Theorem.\n",
        "\n",
        "These lengths do not form a triangle\n",
        "\n",
        "#Problem Statement\n",
        "Given three integers *side1*, *side2* and *side3*, implement a function that returns True - if given three sides forms a valid triangle, False otherwise.\n",
        "\n",
        "* Example:\n",
        "\n",
        "> is_valid_triangle(7, 9, 13) ➞ True\n",
        "\n",
        "> > is_valid_triangle(5, 7, 10) ➞ True\n",
        "\n",
        "> is_valid_triangle(4, 8, 15) ➞ False\n",
        "\n",
        "> is_valid_triangle(2, 4, 15) ➞ False\n",
        "\n"
      ],
      "metadata": {
        "id": "8kU1SMdbaGPP"
      }
    },
    {
      "cell_type": "code",
      "source": [
        "def is_valid_triangle(side1: int, side2: int, side3: int) -> bool:\n",
        "    return side1 + side2 > side3 and side1 + side3 > side2 and side2 + side3 > side1"
      ],
      "metadata": {
        "id": "-kgm-uzFaF01"
      },
      "execution_count": 5,
      "outputs": []
    },
    {
      "cell_type": "markdown",
      "metadata": {
        "id": "VHfHdGCP_n6Y"
      },
      "source": [
        "### Please answer the questions below to complete the experiment:\n",
        "\n",
        "\n"
      ]
    },
    {
      "cell_type": "code",
      "metadata": {
        "id": "NMzKSbLIgFzQ"
      },
      "source": [
        "#@title How was the experiment? { run: \"auto\", form-width: \"500px\", display-mode: \"form\" }\n",
        "Complexity = \"Good and Challenging for me\" #@param [\"\",\"Too Simple, I am wasting time\", \"Good, But Not Challenging for me\", \"Good and Challenging for me\", \"Was Tough, but I did it\", \"Too Difficult for me\"]\n"
      ],
      "execution_count": 6,
      "outputs": []
    },
    {
      "cell_type": "code",
      "metadata": {
        "id": "ukxderAFFkAy"
      },
      "source": [
        "#@title How much time did you take? { run: \"auto\", form-width: \"500px\", display-mode: \"form\" }\n",
        "TimeTaken = \"More Than 2 Hour\" #@param [\"\",\"Below 1 Hour\", \"1 Hour\", \"2 Hour\", \"More Than 2 Hour\"]\n"
      ],
      "execution_count": 7,
      "outputs": []
    },
    {
      "cell_type": "code",
      "metadata": {
        "id": "O2eotYAjGiKh"
      },
      "source": [
        "#@title Could you complete the experiment without seeing the Video? { run: \"auto\", form-width: \"500px\", display-mode: \"form\" }\n",
        "Status = \"No\" #@param [\"\",\"Yes\", \"No\"]\n"
      ],
      "execution_count": 8,
      "outputs": []
    },
    {
      "cell_type": "code",
      "metadata": {
        "id": "FzAZHt1zw-Y-",
        "cellView": "form",
        "outputId": "5c2269de-ec64-4a88-b2bc-19fe7671160a",
        "colab": {
          "base_uri": "https://localhost:8080/"
        }
      },
      "source": [
        "#@title Run this cell to submit your notebook for grading { vertical-output: true }\n",
        "try:\n",
        "  if submission_id:\n",
        "      return_id = submit_notebook()\n",
        "      if return_id : submission_id = return_id\n",
        "  else:\n",
        "      print(\"Please complete the setup first.\")\n",
        "except NameError as err:\n",
        "  print(err)\n",
        "  print (\"Please complete the setup first.\")"
      ],
      "execution_count": 9,
      "outputs": [
        {
          "output_type": "stream",
          "name": "stdout",
          "text": [
            "Your submission is successful.\n",
            "Ref Id: 8260\n",
            "Date of submission:  11 Apr 2024 (UTC)\n",
            "Time of submission:  17:25:23 (UTC)\n",
            "View your submissions: https://learn-techwise.talentsprint.com/notebook_submissions\n"
          ]
        }
      ]
    }
  ]
}