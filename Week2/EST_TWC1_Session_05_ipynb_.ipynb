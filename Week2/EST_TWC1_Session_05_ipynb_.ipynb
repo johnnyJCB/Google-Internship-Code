{
  "nbformat": 4,
  "nbformat_minor": 0,
  "metadata": {
    "colab": {
      "provenance": []
    },
    "kernelspec": {
      "name": "python3",
      "display_name": "Python 3"
    },
    "language_info": {
      "name": "python"
    }
  },
  "cells": [
    {
      "cell_type": "markdown",
      "source": [
        "#Session 05\n",
        "\n",
        "\n",
        "##**strings**\n",
        "##Problem set\n",
        "\n",
        "* Counting vowels\n",
        "* Counting character classes\n",
        "* ROT13\n",
        "* is_palindrome() word, sentence, with  whitespace\n",
        "* Assignment:\n",
        "     - FizzBuzz\n",
        "     - vowels to upper, consonants to lower\n",
        "     - distribute even numbers and odd numbers to sublists\n",
        "\n",
        "\n",
        "\n",
        "\n"
      ],
      "metadata": {
        "id": "age6Y7DdHbu9"
      }
    },
    {
      "cell_type": "markdown",
      "source": [
        "#Problem 1\n",
        "\n",
        "##Counting vowels\n",
        "\n",
        "Implement a function that takes a string as an argument and returns the count of vowels contained within it.\n",
        "\n",
        "Note:\n",
        "- a, e, i, o, u are considered as vowels\n",
        "\n",
        "**Examples**\n",
        "\n",
        "vowel_count(\"Celebration\") ➞ 5\n",
        "\n",
        "vowel_count(\"Prediction\") ➞ 4"
      ],
      "metadata": {
        "id": "g3ITdAJ2Ii6G"
      }
    },
    {
      "cell_type": "code",
      "source": [
        "def is_vowel(char: str) -> bool:\n",
        "    return char in \"aeiouAEIOU\"\n",
        "\n",
        "def vowel_count(txt: str) -> int:\n",
        "    count = 0\n",
        "    txt = txt.lower()\n",
        "    for ch in txt:\n",
        "        if is_vowel(ch):\n",
        "            count += 1\n",
        "    return count\n"
      ],
      "metadata": {
        "id": "kYlberbIIwgK"
      },
      "execution_count": null,
      "outputs": []
    },
    {
      "cell_type": "code",
      "source": [
        "print(vowel_count(\"Celebration\"))\n",
        "print(vowel_count(\"PREDICTION\")) # -> \"prediction\" -> 4"
      ],
      "metadata": {
        "colab": {
          "base_uri": "https://localhost:8080/"
        },
        "id": "TnoSEcjLiPL3",
        "outputId": "d608d1f4-4855-41ec-a931-040e46a2fad2"
      },
      "execution_count": null,
      "outputs": [
        {
          "output_type": "stream",
          "name": "stdout",
          "text": [
            "5\n",
            "4\n"
          ]
        }
      ]
    },
    {
      "cell_type": "markdown",
      "source": [
        "#Problem 2\n",
        "## Counting characters\n",
        "\n",
        "* Implement a function to count vowels, consonants, digits and special characters in a given string"
      ],
      "metadata": {
        "id": "ayq8AbrPgeW_"
      }
    },
    {
      "cell_type": "code",
      "source": [
        "def is_vowel(char: str) -> bool:\n",
        "    return char in \"aeiouAEIOU\"\n",
        "\n",
        "def count_characters(text: str) -> (int):\n",
        "    vowel_count = 0\n",
        "    consonant_count = 0\n",
        "    digit_count = 0\n",
        "    special_count = 0\n",
        "\n",
        "    for char in text:\n",
        "        if char.isalpha():\n",
        "            if is_vowel(char):\n",
        "                vowel_count += 1\n",
        "            else:\n",
        "                consonant_count += 1\n",
        "        elif char.isdigit():\n",
        "            digit_count += 1\n",
        "        elif not char.isspace():\n",
        "            special_count += 1\n",
        "    return vowel_count, consonant_count, digit_count, special_count\n"
      ],
      "metadata": {
        "id": "lpWd8F4EIzuR"
      },
      "execution_count": null,
      "outputs": []
    },
    {
      "cell_type": "code",
      "source": [
        "count_characters(\"which accepts1 a stri.ng as an ar2gument an!d generates\")"
      ],
      "metadata": {
        "colab": {
          "base_uri": "https://localhost:8080/"
        },
        "id": "Y4MtJfEnc0tn",
        "outputId": "2181ed30-b933-4b69-be8c-4962b4355ac1"
      },
      "execution_count": null,
      "outputs": [
        {
          "output_type": "execute_result",
          "data": {
            "text/plain": [
              "(15, 28, 2, 2)"
            ]
          },
          "metadata": {},
          "execution_count": 20
        }
      ]
    },
    {
      "cell_type": "code",
      "source": [
        "int('e')"
      ],
      "metadata": {
        "colab": {
          "base_uri": "https://localhost:8080/",
          "height": 141
        },
        "id": "2XKYwJ2znlNn",
        "outputId": "029d700f-7f60-4ea3-f2b4-2880d784bb66"
      },
      "execution_count": null,
      "outputs": [
        {
          "output_type": "error",
          "ename": "ValueError",
          "evalue": "invalid literal for int() with base 10: 'e'",
          "traceback": [
            "\u001b[0;31m---------------------------------------------------------------------------\u001b[0m",
            "\u001b[0;31mValueError\u001b[0m                                Traceback (most recent call last)",
            "\u001b[0;32m<ipython-input-15-2fc4476e06ee>\u001b[0m in \u001b[0;36m<cell line: 1>\u001b[0;34m()\u001b[0m\n\u001b[0;32m----> 1\u001b[0;31m \u001b[0mint\u001b[0m\u001b[0;34m(\u001b[0m\u001b[0;34m'e'\u001b[0m\u001b[0;34m)\u001b[0m\u001b[0;34m\u001b[0m\u001b[0;34m\u001b[0m\u001b[0m\n\u001b[0m",
            "\u001b[0;31mValueError\u001b[0m: invalid literal for int() with base 10: 'e'"
          ]
        }
      ]
    },
    {
      "cell_type": "markdown",
      "source": [
        "##Problem 3\n",
        "#ROT13\n",
        "\n",
        "Implement a function which accepts a string as an argument and generates the ROT13 Caesar Cipher\n",
        "\n",
        "The ROT-13 (i.e. rotate by 13 places) method is a very simple encryption method, in which one replaces each letter of the alphabet with the 13th letter after it. So, ‘A’ becomes ‘N’, ‘B’ becomes ‘M’ and so on. This method is a special case of the Caesar Cipher, with which Caesar encoded his letters in the ancient Rome.\n",
        "\n",
        "Here is our approach for encoding a given string:\n",
        "\n",
        "* check if given input has all valid characters, i.e every character is an  alphabet [a - z or A - Z] - fucntion is_string() returns \"True\" if the char is an alphabet.\n",
        "\n",
        "* as the next step we need to add 13 to  character and encode the character- rot13() returns the encoded character of the input character\n",
        "\n",
        "* and now we generate the encoded string using the function - generate_encrypted_string() which returns encoded string\n",
        "\n",
        "\n",
        "\n"
      ],
      "metadata": {
        "id": "lTy6yffNwHdP"
      }
    },
    {
      "cell_type": "code",
      "source": [
        "ord(\"b\")"
      ],
      "metadata": {
        "id": "7e5Lc4BVJF90",
        "colab": {
          "base_uri": "https://localhost:8080/"
        },
        "outputId": "6af639fa-a4aa-4b3a-9870-054a6cc03d40"
      },
      "execution_count": null,
      "outputs": [
        {
          "output_type": "execute_result",
          "data": {
            "text/plain": [
              "98"
            ]
          },
          "metadata": {},
          "execution_count": 25
        }
      ]
    },
    {
      "cell_type": "code",
      "source": [
        "ord(\"B\")"
      ],
      "metadata": {
        "colab": {
          "base_uri": "https://localhost:8080/"
        },
        "id": "2G_eavwTsB3W",
        "outputId": "d4b2ef45-4fc5-44a5-ec98-0a900a4f9f86"
      },
      "execution_count": null,
      "outputs": [
        {
          "output_type": "execute_result",
          "data": {
            "text/plain": [
              "66"
            ]
          },
          "metadata": {},
          "execution_count": 26
        }
      ]
    },
    {
      "cell_type": "code",
      "source": [
        "chr(65)"
      ],
      "metadata": {
        "colab": {
          "base_uri": "https://localhost:8080/",
          "height": 35
        },
        "id": "YAQe43yFsKBw",
        "outputId": "1b794c56-bc51-4330-a9d9-be3e0c521ed2"
      },
      "execution_count": null,
      "outputs": [
        {
          "output_type": "execute_result",
          "data": {
            "text/plain": [
              "'A'"
            ],
            "application/vnd.google.colaboratory.intrinsic+json": {
              "type": "string"
            }
          },
          "metadata": {},
          "execution_count": 24
        }
      ]
    },
    {
      "cell_type": "code",
      "source": [
        "chr(ord('c'))"
      ],
      "metadata": {
        "colab": {
          "base_uri": "https://localhost:8080/",
          "height": 35
        },
        "id": "xoR0sOYlse33",
        "outputId": "637e31d5-1580-4643-c679-50d0263baa35"
      },
      "execution_count": null,
      "outputs": [
        {
          "output_type": "execute_result",
          "data": {
            "text/plain": [
              "'c'"
            ],
            "application/vnd.google.colaboratory.intrinsic+json": {
              "type": "string"
            }
          },
          "metadata": {},
          "execution_count": 27
        }
      ]
    },
    {
      "cell_type": "code",
      "source": [
        "ord(\"α\")"
      ],
      "metadata": {
        "colab": {
          "base_uri": "https://localhost:8080/"
        },
        "id": "12QSKuD_slXI",
        "outputId": "e65f0411-d4a1-4c3e-a0f8-70637597bd0c"
      },
      "execution_count": null,
      "outputs": [
        {
          "output_type": "execute_result",
          "data": {
            "text/plain": [
              "945"
            ]
          },
          "metadata": {},
          "execution_count": 28
        }
      ]
    },
    {
      "cell_type": "code",
      "source": [
        "f\"f-strings are the {chr(128169)}\""
      ],
      "metadata": {
        "colab": {
          "base_uri": "https://localhost:8080/",
          "height": 35
        },
        "id": "pDQf6lhtssRz",
        "outputId": "493f2bb5-5657-49aa-922f-1571939b41f3"
      },
      "execution_count": null,
      "outputs": [
        {
          "output_type": "execute_result",
          "data": {
            "text/plain": [
              "'f-strings are the 💩'"
            ],
            "application/vnd.google.colaboratory.intrinsic+json": {
              "type": "string"
            }
          },
          "metadata": {},
          "execution_count": 29
        }
      ]
    },
    {
      "cell_type": "code",
      "source": [
        "f\"f-strings make python go {chr(128640)}\""
      ],
      "metadata": {
        "colab": {
          "base_uri": "https://localhost:8080/",
          "height": 35
        },
        "id": "aL7lHZbQsvLg",
        "outputId": "dd17f0db-dfc2-4349-94df-107fb2a0d68c"
      },
      "execution_count": null,
      "outputs": [
        {
          "output_type": "execute_result",
          "data": {
            "text/plain": [
              "'f-strings make python go 🚀'"
            ],
            "application/vnd.google.colaboratory.intrinsic+json": {
              "type": "string"
            }
          },
          "metadata": {},
          "execution_count": 31
        }
      ]
    },
    {
      "cell_type": "code",
      "source": [
        "def rot13(text: str) -> str:\n",
        "    encoded_text = \"\"\n",
        "    locase = \"abcdefghijklmnopqrstuvwxyz\"\n",
        "    upcase = locase.upper()\n",
        "    letters = locase + upcase\n",
        "\n",
        "    for char in text:\n",
        "        encoded_text += letters[(letters.find(char) + 13) % 25]\n",
        "\n",
        "    return encoded_text"
      ],
      "metadata": {
        "id": "Jsn5_rxPtCsp"
      },
      "execution_count": null,
      "outputs": []
    },
    {
      "cell_type": "code",
      "source": [
        "ord('h') - ord('a')"
      ],
      "metadata": {
        "colab": {
          "base_uri": "https://localhost:8080/"
        },
        "id": "oVLc0BWFvitl",
        "outputId": "89263fd8-daab-4124-b707-edbff0b0adfa"
      },
      "execution_count": null,
      "outputs": [
        {
          "output_type": "execute_result",
          "data": {
            "text/plain": [
              "7"
            ]
          },
          "metadata": {},
          "execution_count": 39
        }
      ]
    },
    {
      "cell_type": "code",
      "source": [
        "rot13(\"Hello\")"
      ],
      "metadata": {
        "colab": {
          "base_uri": "https://localhost:8080/",
          "height": 35
        },
        "id": "lHBOorrguCoJ",
        "outputId": "4fe16b51-2ce8-41bc-c9ba-a91c5d371214"
      },
      "execution_count": null,
      "outputs": [
        {
          "output_type": "execute_result",
          "data": {
            "text/plain": [
              "'Uryyb'"
            ],
            "application/vnd.google.colaboratory.intrinsic+json": {
              "type": "string"
            }
          },
          "metadata": {},
          "execution_count": 42
        }
      ]
    },
    {
      "cell_type": "markdown",
      "source": [
        "#Problem 4\n",
        "\n",
        "## Check if a Sentence is Palindrome\n",
        "\n",
        "Implement a fumction to check if a sentence is a palindrome or not.\n",
        "\n",
        "Note: ignore white spaces and other characters to consider sentences as palindrome.\n",
        "\n",
        "Example:\n",
        "\n",
        "is_palindrome(\"A man, a plan, a canal: Panama\") ➞ True\n",
        "\n"
      ],
      "metadata": {
        "id": "JSdhjwGMTr7n"
      }
    },
    {
      "cell_type": "code",
      "source": [
        "def is_palindrome(text: str) -> bool:\n",
        "    text = text.lower()\n",
        "    cleaned_text = ''\n",
        "\n",
        "    for char in text:\n",
        "        if 'a' <= char <= 'z':\n",
        "            cleaned_text += char\n",
        "    return cleaned_text == cleaned_text[::-1]\n",
        "\n"
      ],
      "metadata": {
        "id": "GGF49mWMJYYW"
      },
      "execution_count": null,
      "outputs": []
    },
    {
      "cell_type": "code",
      "source": [
        "is_palindrome('Was it a car or a cat I saw?????')"
      ],
      "metadata": {
        "colab": {
          "base_uri": "https://localhost:8080/"
        },
        "id": "tIvSWAUMySlN",
        "outputId": "19b3a327-f66b-464c-e8ee-85446dbcdd1f"
      },
      "execution_count": null,
      "outputs": [
        {
          "output_type": "execute_result",
          "data": {
            "text/plain": [
              "True"
            ]
          },
          "metadata": {},
          "execution_count": 51
        }
      ]
    },
    {
      "cell_type": "code",
      "source": [
        "is_palindrome(\"Mr. Owl ate my metal worm\")"
      ],
      "metadata": {
        "colab": {
          "base_uri": "https://localhost:8080/"
        },
        "id": "2xFURAv2yUeT",
        "outputId": "ca9f0694-8c58-4959-eab4-24eba6acff5a"
      },
      "execution_count": null,
      "outputs": [
        {
          "output_type": "execute_result",
          "data": {
            "text/plain": [
              "True"
            ]
          },
          "metadata": {},
          "execution_count": 50
        }
      ]
    }
  ]
}