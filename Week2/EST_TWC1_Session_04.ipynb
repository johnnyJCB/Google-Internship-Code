{
  "cells": [
    {
      "cell_type": "markdown",
      "id": "99669caa",
      "metadata": {
        "id": "99669caa"
      },
      "source": [
        "# Session 04\n",
        "\n",
        "\n",
        "* Discuss\n",
        "    - for\n",
        "    - lists\n",
        "      + indexing\n",
        "      + slicing\n",
        "      + striding\n",
        "    - range()\n",
        "    - sets\n",
        "\n",
        "## Problems\n",
        "\n",
        " * Euler Problem 4\n",
        " * Euler Problem 1\n",
        " * mm/dd/yyyy -> yyyyddd\n",
        " * Assignments:\n",
        "   - Kaprekar Sequence\n",
        "   - Collatz Sequence\n",
        "\n"
      ]
    },
    {
      "cell_type": "markdown",
      "id": "4d0ce86c",
      "metadata": {
        "id": "4d0ce86c"
      },
      "source": [
        "# for, lists, range\n",
        "* The python **for** is better thought of as an iterator rather than a loop\n",
        "    - **for** *item* **in** *collection* starts a block\n",
        "        + in which item takes the value of the items in the collection in order.\n",
        "        + Order is defined by the nature of the collection. We will say more about it\n",
        "* lists are the simplest collection\n",
        "    - items separated by a comma inside brackets\n",
        "    - examples [1, 3, 6, -2]\n",
        "    - heterogenous: [1.2, -7, True, \"Hello\", [1, 2, 3]]\n",
        "* lists and for often go together\n",
        "    - discuss append() method\n",
        "* range is pre-defined collection\n",
        "    - range(a) = $[0, 1, .. a - 1]$\n",
        "    - range(a, b) = $[a, a + 1, .. b - 1]$\n",
        "    - range(a, b, c) = $[a, a+c, a+2c, .. (<b)]$\n",
        "    - Explain the upper limit is **NEVER** included\n",
        "       + This is a general idea in python\n",
        "       + strong 'computer sciency' reasons (read https://www.cs.utexas.edu/users/EWD/transcriptions/EWD08xx/EWD831.html\n",
        "    - to see 'inside' a range we have to print(list(range())) -- explanations will be given later\n",
        "    "
      ]
    },
    {
      "cell_type": "code",
      "source": [
        "words = [\"hello\", \"world\"]\n",
        "words.append(\"!\")\n",
        "words.extend([\"how\", \"are\", \"you\"])\n",
        "print(words)"
      ],
      "metadata": {
        "colab": {
          "base_uri": "https://localhost:8080/"
        },
        "id": "oLh1-7eL8jhw",
        "outputId": "62f2b485-92eb-4d42-a76f-8a7d1d6e9da9"
      },
      "id": "oLh1-7eL8jhw",
      "execution_count": null,
      "outputs": [
        {
          "output_type": "stream",
          "name": "stdout",
          "text": [
            "['hello', 'world', '!', 'how', 'are', 'you']\n"
          ]
        }
      ]
    },
    {
      "cell_type": "code",
      "source": [
        "print(list(range(10)))"
      ],
      "metadata": {
        "colab": {
          "base_uri": "https://localhost:8080/"
        },
        "id": "eTH6FrhFAk3z",
        "outputId": "b1a542ed-06ef-47b4-df4e-8635c49d38d4"
      },
      "id": "eTH6FrhFAk3z",
      "execution_count": null,
      "outputs": [
        {
          "output_type": "stream",
          "name": "stdout",
          "text": [
            "[0, 1, 2, 3, 4, 5, 6, 7, 8, 9]\n"
          ]
        }
      ]
    },
    {
      "cell_type": "code",
      "source": [
        "for i in range(10):\n",
        "    print(i)"
      ],
      "metadata": {
        "colab": {
          "base_uri": "https://localhost:8080/"
        },
        "id": "ELphYqM99nak",
        "outputId": "275b86be-ad78-4e16-91c1-caf87e482e0f"
      },
      "id": "ELphYqM99nak",
      "execution_count": null,
      "outputs": [
        {
          "output_type": "stream",
          "name": "stdout",
          "text": [
            "0\n",
            "1\n",
            "2\n",
            "3\n",
            "4\n",
            "5\n",
            "6\n",
            "7\n",
            "8\n",
            "9\n"
          ]
        }
      ]
    },
    {
      "cell_type": "markdown",
      "id": "09e9ad95",
      "metadata": {
        "id": "09e9ad95"
      },
      "source": [
        "## Problem 1\n",
        "### Euler Problem 4"
      ]
    },
    {
      "cell_type": "code",
      "source": [
        "def is_palindrome(n: int) -> bool:\n",
        "    s = str(n)\n",
        "    return s == s[::-1]\n",
        "def euler004(start: int, limit: int) -> int:\n",
        "    palindromes = []\n",
        "    for a in range(start, limit):\n",
        "        for b in range(a, limit):\n",
        "            prod = a * b\n",
        "            if is_palindrome(prod):\n",
        "                palindromes.append(prod)\n",
        "    return max(palindromes)"
      ],
      "metadata": {
        "id": "fS_Ik9vfBtHn"
      },
      "id": "fS_Ik9vfBtHn",
      "execution_count": null,
      "outputs": []
    },
    {
      "cell_type": "code",
      "source": [
        "def euler004(start: int, limit: int) -> int:\n",
        "    largest_palindrome = 0\n",
        "    a = start\n",
        "    while a < limit:\n",
        "        b = 1\n",
        "        while b < limit:\n",
        "            prod = a * b\n",
        "            if is_palindrome(prod):\n",
        "                if largest_palindrome < prod:\n",
        "                    largest_palindrome = prod\n",
        "            b += 1\n",
        "        a += 1\n",
        "    return largest_palindrome"
      ],
      "metadata": {
        "id": "DteAnq95C2fO"
      },
      "id": "DteAnq95C2fO",
      "execution_count": null,
      "outputs": []
    },
    {
      "cell_type": "code",
      "source": [
        "euler004(100, 1000)"
      ],
      "metadata": {
        "colab": {
          "base_uri": "https://localhost:8080/"
        },
        "id": "b5wP43vyCekU",
        "outputId": "1b9e59ca-4d20-4b76-caf7-98e8c323d231"
      },
      "id": "b5wP43vyCekU",
      "execution_count": null,
      "outputs": [
        {
          "output_type": "execute_result",
          "data": {
            "text/plain": [
              "906609"
            ]
          },
          "metadata": {},
          "execution_count": 20
        }
      ]
    },
    {
      "cell_type": "code",
      "source": [
        "max([], default=None)"
      ],
      "metadata": {
        "id": "VyKmtSEQF-Zn"
      },
      "id": "VyKmtSEQF-Zn",
      "execution_count": null,
      "outputs": []
    },
    {
      "cell_type": "markdown",
      "source": [],
      "metadata": {
        "id": "GFSqkWKwE5bT"
      },
      "id": "GFSqkWKwE5bT"
    },
    {
      "cell_type": "markdown",
      "id": "66388bdc",
      "metadata": {
        "id": "66388bdc"
      },
      "source": [
        "Discuss comparing with a maximum and retaining only the current maximum.\n",
        "\n",
        "Obviously the code above needs more space. Point out that if we can solve the space problem this is as good. Pointer for generators later"
      ]
    },
    {
      "cell_type": "markdown",
      "id": "867150c4",
      "metadata": {
        "id": "867150c4"
      },
      "source": [
        "## Problem 2\n",
        "### Euler Problem 1"
      ]
    },
    {
      "cell_type": "code",
      "source": [
        "def euler_001a():\n",
        "    LIMIT = 1000\n",
        "    n, total = 1, 0\n",
        "    while n < LIMIT:\n",
        "        if n % 3 == 0 or n % 5 == 0:\n",
        "            total += n\n",
        "        n += 1\n",
        "    return total"
      ],
      "metadata": {
        "id": "EGadZHzwOb6O"
      },
      "id": "EGadZHzwOb6O",
      "execution_count": null,
      "outputs": []
    },
    {
      "cell_type": "code",
      "source": [
        "def select(n: int) -> bool:\n",
        "    return (n % 5) * (n % 3) == 0\n",
        "\n",
        "def euler001a(limit: int) -> int:\n",
        "    run_sum = 0\n",
        "    for num in range(1, limit):\n",
        "        if select(num):\n",
        "            run_sum += num\n",
        "    return run_sum"
      ],
      "metadata": {
        "id": "aBJcc0usX332"
      },
      "id": "aBJcc0usX332",
      "execution_count": null,
      "outputs": []
    },
    {
      "cell_type": "code",
      "source": [
        "LIMIT = 1000\n",
        "euler001a(LIMIT)\n"
      ],
      "metadata": {
        "colab": {
          "base_uri": "https://localhost:8080/"
        },
        "id": "cP0--cUHYy4j",
        "outputId": "c7b04b0a-3733-4a56-ac02-8356d3a957ce"
      },
      "id": "cP0--cUHYy4j",
      "execution_count": null,
      "outputs": [
        {
          "output_type": "execute_result",
          "data": {
            "text/plain": [
              "233168"
            ]
          },
          "metadata": {},
          "execution_count": 35
        }
      ]
    },
    {
      "cell_type": "code",
      "source": [
        "def euler001c(limit: int) -> int:\n",
        "    return sum(range(3, limit, 3)) + sum(range(5, limit, 5)) - sum(range(15, limit, 15))"
      ],
      "metadata": {
        "id": "_ElgshbMbVmH"
      },
      "id": "_ElgshbMbVmH",
      "execution_count": null,
      "outputs": []
    },
    {
      "cell_type": "code",
      "source": [
        "def euler001d(limit: int) -> int:\n",
        "    return sum(set(range(3, limit, 3)) | set(range(5, limit, 5)))"
      ],
      "metadata": {
        "id": "MNevnRiacKH6"
      },
      "id": "MNevnRiacKH6",
      "execution_count": null,
      "outputs": []
    },
    {
      "cell_type": "code",
      "source": [
        "LIMIT = 1000\n",
        "print(euler001c(LIMIT))\n",
        "print(euler001d(LIMIT))"
      ],
      "metadata": {
        "colab": {
          "base_uri": "https://localhost:8080/"
        },
        "id": "EcyksarbbtKQ",
        "outputId": "90a8acd1-2ba7-4dd9-fcfe-8897131b0e47"
      },
      "id": "EcyksarbbtKQ",
      "execution_count": null,
      "outputs": [
        {
          "output_type": "stream",
          "name": "stdout",
          "text": [
            "233168\n",
            "233168\n"
          ]
        }
      ]
    },
    {
      "cell_type": "markdown",
      "id": "2d577b9e",
      "metadata": {
        "id": "2d577b9e"
      },
      "source": [
        "## Advanced question\n",
        "## Will be discussed in Saturday session only\n",
        "Implement version c or d as per the signature below"
      ]
    },
    {
      "cell_type": "code",
      "source": [
        "def euler001_adv1(limit: int, a: int, b: int) -> int:\n",
        "    return sum(....)"
      ],
      "metadata": {
        "id": "QMMdrodTWAEa"
      },
      "id": "QMMdrodTWAEa",
      "execution_count": null,
      "outputs": []
    },
    {
      "cell_type": "markdown",
      "id": "45f77417",
      "metadata": {
        "id": "45f77417"
      },
      "source": [
        "## Problem 3\n",
        "\n",
        "Given a string of the form \"mmddyyyy\", (example: \"02072016\") compute the seven digit number yyyyddd, where ddd is the $n^{th}$ days of the year. For example  \"02072016\" is the $38^{th}$ day of the year and 2016038 is the expected result; similarly \"12201996\" -> 1996355\n",
        "\n"
      ]
    },
    {
      "cell_type": "markdown",
      "id": "3e3c1c22",
      "metadata": {
        "id": "3e3c1c22"
      },
      "source": [
        "The idea is to do with data what can be done in code\n",
        "\n",
        "But in both cases we are not accounting for leap years."
      ]
    },
    {
      "cell_type": "code",
      "source": [
        "DAYS_IN_MONTH = [0, 31, 28, 31, 30, 31, 30, 31, 31, 30, 31, 30, 31]\n",
        "\n",
        "def nthday(s: str) -> int:\n",
        "    mm = int(s[:2])\n",
        "    dd = int(s[2:4])\n",
        "    yyyy = int(s[4:])\n",
        "    ddd = 0\n",
        "    for i in range(mm):\n",
        "        ddd += DAYS_IN_MONTH[i]\n",
        "    return yyyy * 1000 + ddd + dd"
      ],
      "metadata": {
        "id": "nuKDx4mTenX3"
      },
      "id": "nuKDx4mTenX3",
      "execution_count": null,
      "outputs": []
    },
    {
      "cell_type": "code",
      "source": [
        "print(nthday(\"03202024\"))"
      ],
      "metadata": {
        "colab": {
          "base_uri": "https://localhost:8080/"
        },
        "id": "FYSk-Q0WgpyD",
        "outputId": "677f8280-d903-4784-be3f-194569f16c52"
      },
      "id": "FYSk-Q0WgpyD",
      "execution_count": null,
      "outputs": [
        {
          "output_type": "stream",
          "name": "stdout",
          "text": [
            "2024079\n"
          ]
        }
      ]
    },
    {
      "cell_type": "markdown",
      "id": "ca5bca30",
      "metadata": {
        "id": "ca5bca30"
      },
      "source": [
        "Once again we are using the \"DATA IS CODE\" principle :-)"
      ]
    },
    {
      "cell_type": "markdown",
      "id": "ea24fb97",
      "metadata": {
        "id": "ea24fb97"
      },
      "source": [
        "## Assignment 04-01\n",
        "\n",
        "1. Take any four-digit number, using at least two different digits (leading zeros are allowed).\n",
        "2. Arrange the digits in descending and then in ascending order to get two four-digit numbers, adding leading zeros if necessary.\n",
        "3. Subtract the smaller number from the bigger number.\n",
        "4. Go back to step 2 and repeat.\n",
        "\n",
        "This process stops after a few steps, that is step 3 produces the same number. DO this with paper and pen to understand the same\n",
        "Start with $1945$\n",
        "\n",
        "$9541 – 1459 = 8082$\n",
        "\n",
        "$8820 – 0288 = 8532$\n",
        "\n",
        "$8532 – 2358 = 6174$\n",
        "\n",
        "$7641 – 1467 = 6174$\n",
        "\n",
        "Given a suitable starting number generate the sequence. It should not repeat; that is it should stop before the repetition.\n",
        "\n",
        "For example if $1945$ is input it should return $[1945, 8082, 8532, 6174]$"
      ]
    },
    {
      "cell_type": "markdown",
      "id": "6a58d398",
      "metadata": {
        "id": "6a58d398"
      },
      "source": [
        "## Assignment 04-02\n",
        "\n",
        "1. Start with any number. (For practice try small numbers) say 7\n",
        "2. if it is even divide by 2, if it is odd multiply by 3 and add 1\n",
        "3. Repeat\n",
        "\n",
        "4. THis process reaches at ...4, 2, 1 and then starts repeating\n",
        "\n",
        "Write a function that generates the sequence ending in 4, 2, 1 for the given starting number\n",
        "\n",
        "For example $7$ should generate $[7, 22, 11, 34, 17, 52, 26, 13, 40, 20, 10, 5, 16, 8, 4, 2, 1]$"
      ]
    },
    {
      "cell_type": "code",
      "execution_count": null,
      "id": "d586bde9",
      "metadata": {
        "id": "d586bde9",
        "colab": {
          "base_uri": "https://localhost:8080/",
          "height": 190
        },
        "outputId": "f9e24ad8-76ca-43ab-80e5-9e7d985b3fe6"
      },
      "outputs": [
        {
          "output_type": "error",
          "ename": "TypeError",
          "evalue": "ignored",
          "traceback": [
            "\u001b[0;31m---------------------------------------------------------------------------\u001b[0m",
            "\u001b[0;31mTypeError\u001b[0m                                 Traceback (most recent call last)",
            "\u001b[0;32m<ipython-input-11-a3ddb3fa4a96>\u001b[0m in \u001b[0;36m<module>\u001b[0;34m\u001b[0m\n\u001b[1;32m      1\u001b[0m \u001b[0mshow_strings_are\u001b[0m \u001b[0;34m=\u001b[0m \u001b[0;34m\"immutable\"\u001b[0m\u001b[0;34m\u001b[0m\u001b[0;34m\u001b[0m\u001b[0m\n\u001b[0;32m----> 2\u001b[0;31m \u001b[0mshow_strings_are\u001b[0m\u001b[0;34m[\u001b[0m\u001b[0;36m0\u001b[0m\u001b[0;34m]\u001b[0m\u001b[0;34m=\u001b[0m\u001b[0;34m\"m\"\u001b[0m\u001b[0;34m\u001b[0m\u001b[0;34m\u001b[0m\u001b[0m\n\u001b[0m",
            "\u001b[0;31mTypeError\u001b[0m: 'str' object does not support item assignment"
          ]
        }
      ],
      "source": [
        "show_strings_are = \"immutable\"\n",
        "show_strings_are[0]=\"m\""
      ]
    },
    {
      "cell_type": "code",
      "source": [],
      "metadata": {
        "id": "fIo8xBpod5P9"
      },
      "id": "fIo8xBpod5P9",
      "execution_count": null,
      "outputs": []
    }
  ],
  "metadata": {
    "kernelspec": {
      "display_name": "Python 3 (ipykernel)",
      "language": "python",
      "name": "python3"
    },
    "language_info": {
      "codemirror_mode": {
        "name": "ipython",
        "version": 3
      },
      "file_extension": ".py",
      "mimetype": "text/x-python",
      "name": "python",
      "nbconvert_exporter": "python",
      "pygments_lexer": "ipython3",
      "version": "3.9.10"
    },
    "colab": {
      "provenance": []
    }
  },
  "nbformat": 4,
  "nbformat_minor": 5
}