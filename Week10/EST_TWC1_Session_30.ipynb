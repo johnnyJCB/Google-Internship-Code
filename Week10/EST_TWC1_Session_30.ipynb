{
  "nbformat": 4,
  "nbformat_minor": 0,
  "metadata": {
    "colab": {
      "provenance": []
    },
    "kernelspec": {
      "name": "python3",
      "display_name": "Python 3"
    },
    "language_info": {
      "name": "python"
    }
  },
  "cells": [
    {
      "cell_type": "code",
      "source": [
        "range(0, 10)"
      ],
      "metadata": {
        "colab": {
          "base_uri": "https://localhost:8080/"
        },
        "id": "gt3ZGBn6wt8x",
        "outputId": "0372dc58-b9e8-444b-ab98-5bb982e35fdd"
      },
      "execution_count": null,
      "outputs": [
        {
          "output_type": "execute_result",
          "data": {
            "text/plain": [
              "range(0, 10)"
            ]
          },
          "metadata": {},
          "execution_count": 1
        }
      ]
    },
    {
      "cell_type": "code",
      "source": [
        "list(range(0, 10))"
      ],
      "metadata": {
        "colab": {
          "base_uri": "https://localhost:8080/"
        },
        "id": "Yq6TizyzwzrS",
        "outputId": "1f509fea-496e-4a73-875f-251d4cc45674"
      },
      "execution_count": null,
      "outputs": [
        {
          "output_type": "execute_result",
          "data": {
            "text/plain": [
              "[0, 1, 2, 3, 4, 5, 6, 7, 8, 9]"
            ]
          },
          "metadata": {},
          "execution_count": 2
        }
      ]
    },
    {
      "cell_type": "code",
      "source": [
        "nums = [0, 1, 2, 3, 4, 5, 6, 7, 8, 9]"
      ],
      "metadata": {
        "id": "pe25cC0Qw4NN"
      },
      "execution_count": null,
      "outputs": []
    },
    {
      "cell_type": "code",
      "source": [
        "# IS LAZY\n",
        "# does make a copy of the list, just returns an object to go through the list backwards\n",
        "\n",
        "reversed(nums)"
      ],
      "metadata": {
        "colab": {
          "base_uri": "https://localhost:8080/"
        },
        "id": "PdYF044RxDgL",
        "outputId": "2bebb840-c423-406e-cb57-47b896f5cbd5"
      },
      "execution_count": null,
      "outputs": [
        {
          "output_type": "execute_result",
          "data": {
            "text/plain": [
              "<list_reverseiterator at 0x7e0c98bcb700>"
            ]
          },
          "metadata": {},
          "execution_count": 4
        }
      ]
    },
    {
      "cell_type": "code",
      "source": [
        "# NOT LAZY\n",
        "# making a fully copy of the list and returning a new list that is reversed\n",
        "nums[::-1]"
      ],
      "metadata": {
        "colab": {
          "base_uri": "https://localhost:8080/"
        },
        "id": "BySrAlZFxJeA",
        "outputId": "1592d69f-bf6e-4bd0-8c77-e34600d5d228"
      },
      "execution_count": null,
      "outputs": [
        {
          "output_type": "execute_result",
          "data": {
            "text/plain": [
              "[9, 8, 7, 6, 5, 4, 3, 2, 1, 0]"
            ]
          },
          "metadata": {},
          "execution_count": 5
        }
      ]
    },
    {
      "cell_type": "code",
      "source": [
        "# LAZY\n",
        "\n",
        "filter(lambda x: x % 2 == 0, nums)"
      ],
      "metadata": {
        "colab": {
          "base_uri": "https://localhost:8080/"
        },
        "id": "Y4OoMdhFxxJP",
        "outputId": "c97afde4-51df-4d32-f652-7f6e994f2ba8"
      },
      "execution_count": null,
      "outputs": [
        {
          "output_type": "execute_result",
          "data": {
            "text/plain": [
              "<filter at 0x7e0c98a45c30>"
            ]
          },
          "metadata": {},
          "execution_count": 6
        }
      ]
    },
    {
      "cell_type": "code",
      "source": [
        "# NOT LAZY\n",
        "\n",
        "list(filter(lambda x: x % 2 == 0, nums))"
      ],
      "metadata": {
        "colab": {
          "base_uri": "https://localhost:8080/"
        },
        "id": "G2qR2gyVx6ye",
        "outputId": "c8a66f2b-14c8-4b65-dead-c92f85679f0b"
      },
      "execution_count": null,
      "outputs": [
        {
          "output_type": "execute_result",
          "data": {
            "text/plain": [
              "[0, 2, 4, 6, 8]"
            ]
          },
          "metadata": {},
          "execution_count": 7
        }
      ]
    },
    {
      "cell_type": "code",
      "source": [
        "# NOT LAZY\n",
        "\n",
        "[num for num in nums if num % 2 == 0]"
      ],
      "metadata": {
        "colab": {
          "base_uri": "https://localhost:8080/"
        },
        "id": "A2Dh96F2x__k",
        "outputId": "e7178eb1-9f2d-41a0-d699-d0d1a7b1b208"
      },
      "execution_count": null,
      "outputs": [
        {
          "output_type": "execute_result",
          "data": {
            "text/plain": [
              "[0, 2, 4, 6, 8]"
            ]
          },
          "metadata": {},
          "execution_count": 8
        }
      ]
    },
    {
      "cell_type": "code",
      "source": [
        "# LAZY\n",
        "\n",
        "map(lambda x: x * 2, nums)"
      ],
      "metadata": {
        "colab": {
          "base_uri": "https://localhost:8080/"
        },
        "id": "VwAem9YJyTN3",
        "outputId": "c6342fe4-dc58-4889-a012-b76484111afc"
      },
      "execution_count": null,
      "outputs": [
        {
          "output_type": "execute_result",
          "data": {
            "text/plain": [
              "<map at 0x7e0c98a45090>"
            ]
          },
          "metadata": {},
          "execution_count": 10
        }
      ]
    },
    {
      "cell_type": "code",
      "source": [
        "# NOT LAZY\n",
        "\n",
        "list(map(lambda x: x * 2, nums))"
      ],
      "metadata": {
        "colab": {
          "base_uri": "https://localhost:8080/"
        },
        "id": "UdJo_kXGybZF",
        "outputId": "f3e78b66-3149-42fa-f6e1-402f33c9dda6"
      },
      "execution_count": null,
      "outputs": [
        {
          "output_type": "execute_result",
          "data": {
            "text/plain": [
              "[0, 2, 4, 6, 8, 10, 12, 14, 16, 18]"
            ]
          },
          "metadata": {},
          "execution_count": 11
        }
      ]
    },
    {
      "cell_type": "code",
      "source": [
        "# LAZY\n",
        "\n",
        "range(0, 100000000000000000000000000000000000000000)"
      ],
      "metadata": {
        "colab": {
          "base_uri": "https://localhost:8080/"
        },
        "id": "mzT1QVpIyqRJ",
        "outputId": "46b50a35-e444-4212-924f-1e38a7a5da92"
      },
      "execution_count": null,
      "outputs": [
        {
          "output_type": "execute_result",
          "data": {
            "text/plain": [
              "range(0, 100000000000000000000000000000000000000000)"
            ]
          },
          "metadata": {},
          "execution_count": 13
        }
      ]
    },
    {
      "cell_type": "code",
      "source": [
        "# NOT LAZY\n",
        "\n",
        "list(range(0, 100000000000000000000000000000000000000000))"
      ],
      "metadata": {
        "colab": {
          "base_uri": "https://localhost:8080/",
          "height": 176
        },
        "id": "JYozUCVQyvlw",
        "outputId": "99f155a2-c248-4462-cc0b-b75b8194495b"
      },
      "execution_count": null,
      "outputs": [
        {
          "output_type": "error",
          "ename": "OverflowError",
          "evalue": "Python int too large to convert to C ssize_t",
          "traceback": [
            "\u001b[0;31m---------------------------------------------------------------------------\u001b[0m",
            "\u001b[0;31mOverflowError\u001b[0m                             Traceback (most recent call last)",
            "\u001b[0;32m<ipython-input-14-33c4e0a196b4>\u001b[0m in \u001b[0;36m<cell line: 3>\u001b[0;34m()\u001b[0m\n\u001b[1;32m      1\u001b[0m \u001b[0;31m# NOT LAZY\u001b[0m\u001b[0;34m\u001b[0m\u001b[0;34m\u001b[0m\u001b[0m\n\u001b[1;32m      2\u001b[0m \u001b[0;34m\u001b[0m\u001b[0m\n\u001b[0;32m----> 3\u001b[0;31m \u001b[0mlist\u001b[0m\u001b[0;34m(\u001b[0m\u001b[0mrange\u001b[0m\u001b[0;34m(\u001b[0m\u001b[0;36m0\u001b[0m\u001b[0;34m,\u001b[0m \u001b[0;36m100000000000000000000000000000000000000000\u001b[0m\u001b[0;34m)\u001b[0m\u001b[0;34m)\u001b[0m\u001b[0;34m\u001b[0m\u001b[0;34m\u001b[0m\u001b[0m\n\u001b[0m",
            "\u001b[0;31mOverflowError\u001b[0m: Python int too large to convert to C ssize_t"
          ]
        }
      ]
    },
    {
      "cell_type": "code",
      "source": [
        "# USE LAZY THINGS IN A FOR LOOP\n",
        "\n",
        "nums = [1, 2, 3, 4]\n",
        "\n",
        "nums_reversed = reversed(nums)\n",
        "\n",
        "print(nums_reversed)\n",
        "\n",
        "for num in nums_reversed:\n",
        "    print(num)"
      ],
      "metadata": {
        "colab": {
          "base_uri": "https://localhost:8080/"
        },
        "id": "5xm-jX9fzH6B",
        "outputId": "024e78f2-8667-4237-bd53-2d4dd9caf99b"
      },
      "execution_count": null,
      "outputs": [
        {
          "output_type": "stream",
          "name": "stdout",
          "text": [
            "<list_reverseiterator object at 0x7e0c98a46ad0>\n",
            "4\n",
            "3\n",
            "2\n",
            "1\n"
          ]
        }
      ]
    },
    {
      "cell_type": "code",
      "source": [
        "# NOT WORK BECAUSE NUMS_REVERSED IS NOT A LIST\n",
        "\n",
        "nums_reversed.append(0)"
      ],
      "metadata": {
        "id": "hJr9gkOMzpbx"
      },
      "execution_count": null,
      "outputs": []
    },
    {
      "cell_type": "code",
      "source": [
        "# DEEP COPY, nums_copy IS AN ENTIRELY NEW LIST\n",
        "\n",
        "nums_copy = nums[:]"
      ],
      "metadata": {
        "id": "gFisHLfp0Ecx"
      },
      "execution_count": null,
      "outputs": []
    },
    {
      "cell_type": "code",
      "source": [
        "# SHALLOW COPY, NOW IF YOU MODIFY NUMS YOU WILL ALSO MODIY nums_shallow\n",
        "\n",
        "nums_shallow = nums"
      ],
      "metadata": {
        "id": "o_UpBHSU0Q3l"
      },
      "execution_count": null,
      "outputs": []
    },
    {
      "cell_type": "markdown",
      "source": [
        "#Generators\n",
        "\n",
        "* Generators are lazy iterators created by **generator functions** (using yield ) or by **generator expressions** - (an_expression for x in an_iterator)\n",
        "\n",
        "* similar to list, dictionary and set comprehensions, but are enclosed with in the parentheses\n",
        "\n"
      ],
      "metadata": {
        "id": "VofLVGOemdGB"
      }
    },
    {
      "cell_type": "code",
      "execution_count": null,
      "metadata": {
        "id": "b3pY4-c6lsCu"
      },
      "outputs": [],
      "source": [
        "# LAZY, GENERATOR\n",
        "\n",
        "squares_generator = (number ** 2 for number in range(10))"
      ]
    },
    {
      "cell_type": "code",
      "source": [
        "# NOT LAZY, LIST COMPREHENSION\n",
        "\n",
        "squares_comp = [number ** 2 for number in range(10)]"
      ],
      "metadata": {
        "id": "KLXa3XHO2NuB"
      },
      "execution_count": null,
      "outputs": []
    },
    {
      "cell_type": "code",
      "source": [
        "print(squares_generator)"
      ],
      "metadata": {
        "colab": {
          "base_uri": "https://localhost:8080/"
        },
        "id": "sdVsOj1s10Vb",
        "outputId": "a8f9149a-aa46-497a-bd3c-d4ba83a0cd5b"
      },
      "execution_count": null,
      "outputs": [
        {
          "output_type": "stream",
          "name": "stdout",
          "text": [
            "<generator object <genexpr> at 0x7e0c988f7840>\n"
          ]
        }
      ]
    },
    {
      "cell_type": "code",
      "source": [
        "print(squares_comp)"
      ],
      "metadata": {
        "colab": {
          "base_uri": "https://localhost:8080/"
        },
        "id": "NiPTg06H2XPY",
        "outputId": "de4100b2-f233-47b3-da97-1a918ffec73e"
      },
      "execution_count": null,
      "outputs": [
        {
          "output_type": "stream",
          "name": "stdout",
          "text": [
            "[0, 1, 4, 9, 16, 25, 36, 49, 64, 81]\n"
          ]
        }
      ]
    },
    {
      "cell_type": "code",
      "source": [
        "# GENERATOR TURNED INTO A TUPLE\n",
        "print(tuple(squares_generator))"
      ],
      "metadata": {
        "colab": {
          "base_uri": "https://localhost:8080/"
        },
        "id": "BUHN4MMA12ki",
        "outputId": "0f93325f-c8a1-46af-c97b-33c4d0715b6b"
      },
      "execution_count": null,
      "outputs": [
        {
          "output_type": "stream",
          "name": "stdout",
          "text": [
            "(0, 1, 4, 9, 16, 25, 36, 49, 64, 81)\n"
          ]
        }
      ]
    },
    {
      "cell_type": "markdown",
      "source": [
        "the above example generates the first 10 perfect squares, including 0"
      ],
      "metadata": {
        "id": "nCdrzJpimnUd"
      }
    },
    {
      "cell_type": "markdown",
      "source": [
        "**Generator functions** are similar to regular functions, except that they have one or more yield statements in their\n",
        "body"
      ],
      "metadata": {
        "id": "tZhpjtB4mnvv"
      }
    },
    {
      "cell_type": "code",
      "source": [
        "def perfect_square():\n",
        "    for number in range(10):\n",
        "        yield number ** 2"
      ],
      "metadata": {
        "id": "G0zWNnqgmqiC"
      },
      "execution_count": null,
      "outputs": []
    },
    {
      "cell_type": "code",
      "source": [
        "perfect_squares = perfect_square()\n",
        "print(perfect_squares)"
      ],
      "metadata": {
        "colab": {
          "base_uri": "https://localhost:8080/"
        },
        "id": "Gg9Mykvv28eZ",
        "outputId": "8e70d5e6-b87a-4233-f9a2-520ad151efad"
      },
      "execution_count": null,
      "outputs": [
        {
          "output_type": "stream",
          "name": "stdout",
          "text": [
            "<generator object perfect_square at 0x7e0c9891d070>\n"
          ]
        }
      ]
    },
    {
      "cell_type": "code",
      "source": [
        "print('First run through', list(perfect_squares))\n",
        "# IF I TRY TO MAKE A LIST OF perfect_squares AGAIN IT WILL BE EMPTY, IT ALREADY WENT THROUGH THE GENERATOR ONCE\n",
        "print('Second run through', list(perfect_squares))"
      ],
      "metadata": {
        "colab": {
          "base_uri": "https://localhost:8080/"
        },
        "id": "KqjrPOiU3Cec",
        "outputId": "2cfa1241-11d1-45b0-fa8d-9a4d2c236751"
      },
      "execution_count": null,
      "outputs": [
        {
          "output_type": "stream",
          "name": "stdout",
          "text": [
            "First run through [0, 1, 4, 9, 16, 25, 36, 49, 64, 81]\n",
            "Second run through []\n"
          ]
        }
      ]
    },
    {
      "cell_type": "code",
      "source": [
        "next(perfect_squares)"
      ],
      "metadata": {
        "colab": {
          "base_uri": "https://localhost:8080/",
          "height": 141
        },
        "id": "FoFVJ2Hs6P6g",
        "outputId": "23273f3a-5702-43f2-949e-487d675e9330"
      },
      "execution_count": null,
      "outputs": [
        {
          "output_type": "error",
          "ename": "StopIteration",
          "evalue": "",
          "traceback": [
            "\u001b[0;31m---------------------------------------------------------------------------\u001b[0m",
            "\u001b[0;31mStopIteration\u001b[0m                             Traceback (most recent call last)",
            "\u001b[0;32m<ipython-input-45-688eba54d560>\u001b[0m in \u001b[0;36m<cell line: 1>\u001b[0;34m()\u001b[0m\n\u001b[0;32m----> 1\u001b[0;31m \u001b[0mnext\u001b[0m\u001b[0;34m(\u001b[0m\u001b[0mperfect_squares\u001b[0m\u001b[0;34m)\u001b[0m\u001b[0;34m\u001b[0m\u001b[0;34m\u001b[0m\u001b[0m\n\u001b[0m",
            "\u001b[0;31mStopIteration\u001b[0m: "
          ]
        }
      ]
    },
    {
      "cell_type": "markdown",
      "source": [
        "second list is empty, because perfect_squares is already used"
      ],
      "metadata": {
        "id": "FPfb_Zfjmxi6"
      }
    },
    {
      "cell_type": "markdown",
      "source": [
        "when perfect_square() is called in the example above, it\n",
        "immediately returns a generator object. This allows generators to\n",
        "consume less memory than functions that return a list, and it allows creating generators that produce infinitely long\n",
        "sequences. Another advantage is that other code can immediately use the values yielded by a generator, without waiting for\n",
        "the complete sequence to be produced."
      ],
      "metadata": {
        "id": "wtLh1XIMmtij"
      }
    },
    {
      "cell_type": "markdown",
      "source": [
        "#Fibonacci Sequence"
      ],
      "metadata": {
        "id": "YkKwpNi7m6rf"
      }
    },
    {
      "cell_type": "code",
      "source": [
        "def fib(a: int = 0, b: int = 1):\n",
        "    while True:\n",
        "        yield a\n",
        "        a, b = b, a + b"
      ],
      "metadata": {
        "id": "TdDxprtJm8Sg"
      },
      "execution_count": null,
      "outputs": []
    },
    {
      "cell_type": "code",
      "source": [
        "# CREATE OUR GENERATOR\n",
        "f = fib()\n",
        "\n",
        "# GENERATOR OBJECT\n",
        "print(f)\n",
        "\n",
        "# USE A FOR LOOP TO GET THE \"next\" 20 fibonacci nubmers (first 20 numbers)\n",
        "for _ in range(20):\n",
        "    print(str(next(f)), end=', ')\n",
        "\n",
        "# PRINT BLANK LINE\n",
        "print()\n",
        "\n",
        "# USE A GENERATOR TO GET THE next 5 fibonacci numbers (fib numbers 21-25)\n",
        "print(', '.join(str(next(f)) for _ in range(5)))"
      ],
      "metadata": {
        "colab": {
          "base_uri": "https://localhost:8080/"
        },
        "id": "K5_lIjqq676P",
        "outputId": "6c85df32-2d58-49f3-e0be-e1bd42216318"
      },
      "execution_count": null,
      "outputs": [
        {
          "output_type": "stream",
          "name": "stdout",
          "text": [
            "<generator object fib at 0x7e0c9891dc40>\n",
            "0, 1, 1, 2, 3, 5, 8, 13, 21, 34, 55, 89, 144, 233, 377, 610, 987, 1597, 2584, 4181, \n",
            "6765, 10946, 17711, 28657, 46368\n"
          ]
        }
      ]
    },
    {
      "cell_type": "markdown",
      "source": [
        "#Problem - 1\n",
        "\n",
        "## Generate Sequence\n",
        "\n",
        "Write a Function to generate a sequence in a given limit.\n",
        "\n",
        "**Example :**\n",
        "\n",
        "generate_sequence(10) -> [1, 2, 3, 4, 5, 6, 7, 8, 9, 10]\n",
        "\n",
        "generate_sequence(7)  -> [1, 2, 3, 4, 5, 6, 7]"
      ],
      "metadata": {
        "id": "68M9cL9om82C"
      }
    },
    {
      "cell_type": "code",
      "source": [
        "def generate_sequence(limit: int):\n",
        "    for i in range(1, limit + 1):\n",
        "        yield i"
      ],
      "metadata": {
        "id": "h0BuBRfUnDTL"
      },
      "execution_count": null,
      "outputs": []
    },
    {
      "cell_type": "code",
      "source": [
        "generate_sequence(10)"
      ],
      "metadata": {
        "colab": {
          "base_uri": "https://localhost:8080/"
        },
        "id": "LrWfDYmB9F9F",
        "outputId": "286cab83-c796-4811-8237-594b8d6b0e3c"
      },
      "execution_count": null,
      "outputs": [
        {
          "output_type": "execute_result",
          "data": {
            "text/plain": [
              "<generator object generate_sequence at 0x7e0c9891d1c0>"
            ]
          },
          "metadata": {},
          "execution_count": 59
        }
      ]
    },
    {
      "cell_type": "code",
      "source": [
        "tuple(generate_sequence(10))"
      ],
      "metadata": {
        "colab": {
          "base_uri": "https://localhost:8080/"
        },
        "id": "IiywTgg99IkD",
        "outputId": "b1e3ba9e-a354-492a-e99a-fb0fd409112c"
      },
      "execution_count": null,
      "outputs": [
        {
          "output_type": "execute_result",
          "data": {
            "text/plain": [
              "(1, 2, 3, 4, 5, 6, 7, 8, 9, 10)"
            ]
          },
          "metadata": {},
          "execution_count": 60
        }
      ]
    },
    {
      "cell_type": "code",
      "source": [
        "tuple(generate_sequence(7))"
      ],
      "metadata": {
        "colab": {
          "base_uri": "https://localhost:8080/"
        },
        "id": "3VVVas6q9L5z",
        "outputId": "4b8067e5-22cd-4062-f743-e76cf6c70c32"
      },
      "execution_count": null,
      "outputs": [
        {
          "output_type": "execute_result",
          "data": {
            "text/plain": [
              "(1, 2, 3, 4, 5, 6, 7)"
            ]
          },
          "metadata": {},
          "execution_count": 61
        }
      ]
    },
    {
      "cell_type": "code",
      "source": [
        "(i for i in range(1, 8+1))"
      ],
      "metadata": {
        "colab": {
          "base_uri": "https://localhost:8080/"
        },
        "id": "rHGVBAPt9ago",
        "outputId": "ac901a48-64d5-472c-b4f6-e654ff190359"
      },
      "execution_count": null,
      "outputs": [
        {
          "output_type": "execute_result",
          "data": {
            "text/plain": [
              "<generator object <genexpr> at 0x7e0c9891cf20>"
            ]
          },
          "metadata": {},
          "execution_count": 63
        }
      ]
    },
    {
      "cell_type": "code",
      "source": [
        "tuple(i for i in range(1, 8+1))"
      ],
      "metadata": {
        "colab": {
          "base_uri": "https://localhost:8080/"
        },
        "id": "PKypGUtH9iX6",
        "outputId": "7ac1fa6c-0bae-4fd3-8497-f8fb244b5937"
      },
      "execution_count": null,
      "outputs": [
        {
          "output_type": "execute_result",
          "data": {
            "text/plain": [
              "(1, 2, 3, 4, 5, 6, 7, 8)"
            ]
          },
          "metadata": {},
          "execution_count": 64
        }
      ]
    },
    {
      "cell_type": "markdown",
      "source": [
        "#Problem - 2\n",
        "\n",
        "##Euler Problem - 2\n",
        "\n",
        "Each new term in the Fibonacci sequence is generated by adding the previous two terms. By starting with 1 and 2, the first 10 terms will be:\n",
        "\n",
        "1, 2, 3, 5, 8, 13, 21, 34, 55, 89, ...\n",
        "\n",
        "By considering the terms in the Fibonacci sequence whose values do not exceed four million, find the sum of the even-valued terms."
      ],
      "metadata": {
        "id": "famgergnnDg2"
      }
    },
    {
      "cell_type": "code",
      "source": [
        "def fib_lazy(limit: int):\n",
        "    a, b = 0, 1\n",
        "    while a < limit:\n",
        "        yield a\n",
        "        a, b = b, a + b\n",
        "\n",
        "def euler2_lazy(limit: int) -> int:\n",
        "    return sum(x for x in fib_lazy(limit) if x % 2 == 0)\n",
        "\n",
        "%timeit euler2_lazy(4000000)"
      ],
      "metadata": {
        "colab": {
          "base_uri": "https://localhost:8080/"
        },
        "id": "VZmig2KUnHst",
        "outputId": "d5e80227-86ad-47c0-de08-21cb7d289a8c"
      },
      "execution_count": null,
      "outputs": [
        {
          "output_type": "stream",
          "name": "stdout",
          "text": [
            "3.78 µs ± 90.7 ns per loop (mean ± std. dev. of 7 runs, 100000 loops each)\n"
          ]
        }
      ]
    },
    {
      "cell_type": "code",
      "source": [
        "def fib_not_lazy(n):\n",
        "    a, b = 0, 1\n",
        "    fibs = []\n",
        "    while a < n:\n",
        "        fibs.append(a)\n",
        "        a, b = b, a+b\n",
        "\n",
        "    return fibs\n",
        "\n",
        "def euler2_lc(limit: int)-> int:\n",
        "    return sum([x for x in fib_not_lazy(limit) if x % 2 == 0])\n",
        "\n",
        "def euler2_ge(limit: int)-> int:\n",
        "    return sum(x for x in fib_not_lazy(limit) if x % 2 == 0)\n",
        "\n",
        "%timeit euler2_lc(4000000)\n",
        "%timeit euler2_ge(4000000)"
      ],
      "metadata": {
        "colab": {
          "base_uri": "https://localhost:8080/"
        },
        "id": "zceIikv0-iWR",
        "outputId": "74d5aaa4-599d-42dc-abb3-d4b2d2a038b6"
      },
      "execution_count": null,
      "outputs": [
        {
          "output_type": "stream",
          "name": "stdout",
          "text": [
            "4.93 µs ± 1.01 µs per loop (mean ± std. dev. of 7 runs, 100000 loops each)\n",
            "4.51 µs ± 139 ns per loop (mean ± std. dev. of 7 runs, 100000 loops each)\n"
          ]
        }
      ]
    },
    {
      "cell_type": "markdown",
      "source": [
        "#Problem - 3\n",
        "\n",
        "##Fizz-Buzz Problem\n",
        "\n",
        "Write a program that prints the numbers below a given LIMIT. If it's a multiple of 3, it should print \"Fizz\". If it's a multiple of 5, it should print \"Buzz\". If it's a multiple of 3 and 5, it should print \"Fizz Buzz\". If it's not multiple of 3 or 5 it should print the number itself.\n",
        "\n",
        "Sample Input\n",
        "\n",
        "15\n",
        "\n",
        "Sample Output\n",
        "\n",
        "['1', '2', 'FIZZ', '4', 'BUZZ', 'FIZZ', '7', '8', 'FIZZ', 'BUZZ', '11', 'FIZZ', '13', '14']"
      ],
      "metadata": {
        "id": "vhSAJGxAnH7J"
      }
    },
    {
      "cell_type": "code",
      "source": [],
      "metadata": {
        "id": "s2DLW4SznOvb"
      },
      "execution_count": null,
      "outputs": []
    },
    {
      "cell_type": "markdown",
      "source": [
        "#Problem 4\n",
        "\n",
        "## Collatz sequence\n",
        "\n",
        "Suppose there is a positive integer n. Then the next term of the collatz sequence will be as follows:\n",
        "\n",
        "   * If the previous term is even, the next term is half of the previous term, i.e., n/2\n",
        "   * If the previous term is odd, the next term is 3 times the previous term plus 1, i.e., 3n+1\n",
        "   * The sequence will always end at 1.\n",
        "\n",
        "Solve the above problem using Generators.\n",
        "\n",
        "**Example**\n",
        "\n",
        "Input : 3\n",
        "\n",
        "Output : 3, 10, 5, 16, 8, 4, 2, 1       \n",
        "\n",
        "Input : 6\n",
        "\n",
        "Output : 6, 3, 10, 5, 16, 8, 4, 2, 1"
      ],
      "metadata": {
        "id": "J4AG3x44nPJI"
      }
    }
  ]
}