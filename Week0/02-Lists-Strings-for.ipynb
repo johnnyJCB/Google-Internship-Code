{
 "cells": [
  {
   "cell_type": "markdown",
   "metadata": {
    "id": "PjerStuq6R2n"
   },
   "source": [
    "# Python Quickstart\n",
    "#### Lists and strings\n",
    "#### for\n",
    "Lists are the simplest containers that are an integral part of the Python language. **for** loops are the standard way to iterate over all types of containers; so we will look at both of them together."
   ]
  },
  {
   "cell_type": "markdown",
   "metadata": {
    "id": "TcAdxy7dW6Wc"
   },
   "source": [
    "#### strings\n",
    "Python strings can be enlosed in single quotes or double quotes or triple quotes! Let us look at each of them"
   ]
  },
  {
   "cell_type": "code",
   "execution_count": 1,
   "metadata": {
    "id": "Sw7fMNEOW9bi"
   },
   "outputs": [
    {
     "name": "stdout",
     "output_type": "stream",
     "text": [
      "Tests, Quizzes, Individual Labs, Group Labs and Hackathons\n"
     ]
    }
   ],
   "source": [
    "grading = \"Tests, Quizzes, Individual Labs, Group Labs and Hackathons\"\n",
    "print(grading)"
   ]
  },
  {
   "cell_type": "code",
   "execution_count": 2,
   "metadata": {
    "id": "so4ipaxUXMPS"
   },
   "outputs": [
    {
     "name": "stdout",
     "output_type": "stream",
     "text": [
      "CFU's, Analytical, References and Comprehension\n"
     ]
    }
   ],
   "source": [
    "tests = \"CFU's, Analytical, References and Comprehension\"\n",
    "print(tests)"
   ]
  },
  {
   "cell_type": "markdown",
   "metadata": {
    "id": "3gTJCEKqXox4"
   },
   "source": [
    "Note how in the string *tests* the single quote is accepted as part of the string without any special escpae mechanism. Similarly we can create and use strings with double quotes inside by enclosing the whole string in single quotes. Here is an example."
   ]
  },
  {
   "cell_type": "code",
   "execution_count": 3,
   "metadata": {
    "id": "28eCGUkJXoY2"
   },
   "outputs": [
    {
     "name": "stdout",
     "output_type": "stream",
     "text": [
      "Almost all ask \"What is the best programming language?\" when doing CS\n"
     ]
    }
   ],
   "source": [
    "faq = 'Almost all ask \"What is the best programming language?\" when doing CS'\n",
    "print(faq)"
   ]
  },
  {
   "cell_type": "markdown",
   "metadata": {
    "id": "T9e3wDov6R3M"
   },
   "source": [
    "Triple quoted strings are best used for documentation. They are also useful for storing long strings.\n",
    " * We can use single or double quotes\n",
    " * We can also use single quotes or double quotes within\n",
    " * The line breaks etc are captured; that is there is no need for \\n"
   ]
  },
  {
   "cell_type": "code",
   "execution_count": 4,
   "metadata": {
    "id": "gHz79V3G6R3P"
   },
   "outputs": [
    {
     "name": "stdout",
     "output_type": "stream",
     "text": [
      "A long time ago, in a galaxy far far away ...\n",
      "\n",
      "It is a period of civil war. Rebel spaceships, striking \n",
      "from a hidden base, have won their first victory against \n",
      "the evil Galactic Empire.\n",
      "\n",
      "During the battle, Rebel spies managed to steal secret \n",
      "plans to the Empire's ultimate weapon, the DEATH STAR, \n",
      "an armored space station with enough power to destroy an entire planet.\n",
      "\n",
      "Pursued by the Empire's sinister agents, Princess Leia \n",
      "races home aboard her starship, custodian of the stolen \n",
      "plans that can save her people and restore freedom to the galaxy....\n"
     ]
    }
   ],
   "source": [
    "story = \"\"\"A long time ago, in a galaxy far far away ...\n",
    "\n",
    "It is a period of civil war. Rebel spaceships, striking \n",
    "from a hidden base, have won their first victory against \n",
    "the evil Galactic Empire.\n",
    "\n",
    "During the battle, Rebel spies managed to steal secret \n",
    "plans to the Empire's ultimate weapon, the DEATH STAR, \n",
    "an armored space station with enough power to destroy an entire planet.\n",
    "\n",
    "Pursued by the Empire's sinister agents, Princess Leia \n",
    "races home aboard her starship, custodian of the stolen \n",
    "plans that can save her people and restore freedom to the galaxy....\"\"\"\n",
    "print(story)"
   ]
  },
  {
   "cell_type": "markdown",
   "metadata": {
    "id": "YEXtThZIX0SA"
   },
   "source": [
    "##### Simple string operations\n",
    " * Concatnate by +, \n",
    " * multiple concatenation by * \n",
    " * check for substring with **in**\n",
    " * determine the size (number of characters) using *len*"
   ]
  },
  {
   "cell_type": "code",
   "execution_count": 5,
   "metadata": {
    "id": "Bin4e9DD6R3Y"
   },
   "outputs": [
    {
     "name": "stdout",
     "output_type": "stream",
     "text": [
      "Helloworld!\n",
      "Hello world!\n",
      "HelloHelloHelloHello   world!world!\n",
      "True\n",
      "False\n",
      "35\n"
     ]
    }
   ],
   "source": [
    "h = \"Hello\"\n",
    "w = \"world!\"\n",
    "hw = h + w\n",
    "print(hw)\n",
    "hsw = h + ' ' + w\n",
    "print(hsw)\n",
    "h4s3w2 = 4 * h + \" \" * 3 + w * 2\n",
    "print(h4s3w2)\n",
    "print(h in hsw)\n",
    "print(' ' in hw)\n",
    "print(len(h4s3w2))"
   ]
  },
  {
   "cell_type": "markdown",
   "metadata": {
    "id": "o1YBOu2v6R3f"
   },
   "source": [
    "#### Lists\n",
    "Let us take a look at lists. A list is a collection of things, enclosed in [] and separated by commas. A list is heterogenous; that is the data types of the things need not be the same."
   ]
  },
  {
   "cell_type": "code",
   "execution_count": 6,
   "metadata": {
    "id": "RKbOr8eM6R3h"
   },
   "outputs": [],
   "source": [
    "f = [1, 1, 2, 3, 5, 8]\n",
    "p = [2, 3, 5, 7]\n",
    "grading = [\"Tests\", \"Quizzes\", \"Individual Labs\", \"Group Labs\", \"Hackathons\"]\n",
    "grades = [300, 60, 120, 60, 120]\n",
    "oddjob = [1, 5.6, True, 4-7j, \"Hello\", [1, 2], [3.9, \"World\"]]"
   ]
  },
  {
   "cell_type": "code",
   "execution_count": 7,
   "metadata": {
    "id": "qO7TKDYUXz_I"
   },
   "outputs": [
    {
     "name": "stdout",
     "output_type": "stream",
     "text": [
      "5\n"
     ]
    }
   ],
   "source": [
    "print(len(grading))"
   ]
  },
  {
   "cell_type": "code",
   "execution_count": 8,
   "metadata": {
    "id": "KY34LciJ6R3y"
   },
   "outputs": [
    {
     "name": "stdout",
     "output_type": "stream",
     "text": [
      "60 Hello\n",
      "Hackathons Individual Labs\n"
     ]
    }
   ],
   "source": [
    "# We access individual elements using the index\n",
    "# The first element is at index 0\n",
    "print(grades[1], oddjob[4])\n",
    "# We access the elements from the back using negative indices\n",
    "# -1 is the last, -2 is the last but one and so on\n",
    "print(grading[-1], grading[-3])"
   ]
  },
  {
   "cell_type": "code",
   "execution_count": 9,
   "metadata": {
    "id": "nvc_UX5DXUvS"
   },
   "outputs": [
    {
     "name": "stdout",
     "output_type": "stream",
     "text": [
      "20 17\n"
     ]
    }
   ],
   "source": [
    "print(sum(f), sum(p))"
   ]
  },
  {
   "cell_type": "code",
   "execution_count": 10,
   "metadata": {
    "id": "c1CQj0qfX9rS"
   },
   "outputs": [
    {
     "name": "stdout",
     "output_type": "stream",
     "text": [
      "300 60\n"
     ]
    }
   ],
   "source": [
    "print(max(grades), min(grades))"
   ]
  },
  {
   "cell_type": "markdown",
   "metadata": {
    "id": "rp56AiOF6R4I"
   },
   "source": [
    "#### For\n",
    "We can step through the items in a collection, such as a list or string (and many others) using **for**"
   ]
  },
  {
   "cell_type": "code",
   "execution_count": 11,
   "metadata": {
    "id": "KXEwDe6eYAyK"
   },
   "outputs": [
    {
     "name": "stdout",
     "output_type": "stream",
     "text": [
      "1\n",
      "1\n",
      "2\n",
      "3\n",
      "5\n",
      "8\n"
     ]
    }
   ],
   "source": [
    "for num in f:\n",
    "    print(num)"
   ]
  },
  {
   "cell_type": "code",
   "execution_count": 12,
   "metadata": {
    "id": "YhLhMcQjYKlo"
   },
   "outputs": [
    {
     "name": "stdout",
     "output_type": "stream",
     "text": [
      "Tests\n",
      "Quizzes\n",
      "Individual Labs\n",
      "Group Labs\n",
      "Hackathons\n"
     ]
    }
   ],
   "source": [
    "for test in grading:\n",
    "    print(test)"
   ]
  },
  {
   "cell_type": "markdown",
   "metadata": {
    "id": "jJQ3_fHt6R4W"
   },
   "source": [
    "Note the absence of the usual *index* variable etc. We can step through the characters in a string the same way"
   ]
  },
  {
   "cell_type": "code",
   "execution_count": 13,
   "metadata": {
    "id": "OjHy3Lej6R4Z"
   },
   "outputs": [
    {
     "name": "stdout",
     "output_type": "stream",
     "text": [
      "H\n",
      "e\n",
      "l\n",
      "l\n",
      "o\n"
     ]
    }
   ],
   "source": [
    "for ch in \"Hello\":\n",
    "    print(ch)"
   ]
  },
  {
   "cell_type": "markdown",
   "metadata": {
    "id": "rrfZ6AHJYGUq"
   },
   "source": [
    "#### List methods"
   ]
  },
  {
   "cell_type": "code",
   "execution_count": 14,
   "metadata": {
    "id": "g0NYrdIcYSnS"
   },
   "outputs": [
    {
     "name": "stdout",
     "output_type": "stream",
     "text": [
      "[1, 1, 2, 3, 5, 8]\n"
     ]
    }
   ],
   "source": [
    "print(f)"
   ]
  },
  {
   "cell_type": "code",
   "execution_count": 15,
   "metadata": {
    "id": "etnU-RY7Y35i"
   },
   "outputs": [
    {
     "name": "stdout",
     "output_type": "stream",
     "text": [
      "[1, 1, 2, 3, 5, 8, 13]\n"
     ]
    }
   ],
   "source": [
    "f.append(13)\n",
    "print(f)"
   ]
  },
  {
   "cell_type": "code",
   "execution_count": 16,
   "metadata": {
    "id": "-GffS_CxZ27-"
   },
   "outputs": [
    {
     "name": "stdout",
     "output_type": "stream",
     "text": [
      "[1, 1, 2, 3, 5, 8, 13, 21, 34, 55, 89]\n"
     ]
    }
   ],
   "source": [
    "f.extend([21, 34, 55, 89])\n",
    "print(f)"
   ]
  },
  {
   "cell_type": "code",
   "execution_count": 17,
   "metadata": {
    "id": "aPuIEVEQZC2k"
   },
   "outputs": [
    {
     "name": "stdout",
     "output_type": "stream",
     "text": [
      "[2, 3, 5, 7, 11, 13, 17, 19]\n"
     ]
    }
   ],
   "source": [
    "p = p + [11, 13, 17, 19]\n",
    "print(p)"
   ]
  },
  {
   "cell_type": "markdown",
   "metadata": {
    "id": "wVSIgk_mZjli"
   },
   "source": [
    "#### Slicing\n",
    "We can get substrings and sublists using a slice"
   ]
  },
  {
   "cell_type": "code",
   "execution_count": 18,
   "metadata": {
    "id": "_24F0GauZf4s"
   },
   "outputs": [
    {
     "name": "stdout",
     "output_type": "stream",
     "text": [
      "[1, 1, 2, 3, 5, 8, 13, 21, 34, 55, 89]\n",
      "[2, 3, 5, 8, 13]\n",
      "[2, 8, 34]\n",
      "[19, 17, 13, 11, 7, 5, 3, 2]\n"
     ]
    }
   ],
   "source": [
    "print(f)\n",
    "print(f[2:7])\n",
    "print(f[2:11:3])\n",
    "print(p[::-1])"
   ]
  },
  {
   "cell_type": "code",
   "execution_count": 19,
   "metadata": {
    "id": "joopNHQdZpX8"
   },
   "outputs": [
    {
     "name": "stdout",
     "output_type": "stream",
     "text": [
      "elloHello   wor\n",
      "l r!\n",
      "!dlrowolleH\n"
     ]
    }
   ],
   "source": [
    "# We can slice strings too\n",
    "print(h4s3w2[11:26])\n",
    "print(hsw[2::3])\n",
    "print(hw[::-1])"
   ]
  }
 ],
 "metadata": {
  "colab": {
   "collapsed_sections": [],
   "name": "02-Lists-Strings-for.ipynb",
   "provenance": []
  },
  "kernelspec": {
   "display_name": "Python 3 (ipykernel)",
   "language": "python",
   "name": "python3"
  },
  "language_info": {
   "codemirror_mode": {
    "name": "ipython",
    "version": 3
   },
   "file_extension": ".py",
   "mimetype": "text/x-python",
   "name": "python",
   "nbconvert_exporter": "python",
   "pygments_lexer": "ipython3",
   "version": "3.12.1"
  }
 },
 "nbformat": 4,
 "nbformat_minor": 1
}
