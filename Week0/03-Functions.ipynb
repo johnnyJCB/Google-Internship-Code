{
 "cells": [
  {
   "cell_type": "markdown",
   "metadata": {
    "id": "AVmSvfoZPFq3"
   },
   "source": [
    "# Python Quickstart\n",
    "## Functions\n",
    "Functions are very easy to write in python and all non-trivial programs will have functions. Function names have the same rules as variable names."
   ]
  },
  {
   "cell_type": "markdown",
   "metadata": {
    "id": "ng1QMogVPFq8"
   },
   "source": [
    "#### def keyword"
   ]
  },
  {
   "cell_type": "code",
   "execution_count": null,
   "metadata": {
    "id": "udbV5nIOPFq8"
   },
   "outputs": [],
   "source": [
    "# A simple function, almost trivial \n",
    "def square(n):\n",
    "    return n * n"
   ]
  },
  {
   "cell_type": "code",
   "execution_count": null,
   "metadata": {
    "id": "UkwpYPJgPFq-"
   },
   "outputs": [],
   "source": [
    "print(square(7))"
   ]
  },
  {
   "cell_type": "code",
   "execution_count": null,
   "metadata": {
    "id": "svvDiWIxPFq-"
   },
   "outputs": [],
   "source": [
    "print(square(7.1))\n"
   ]
  },
  {
   "cell_type": "code",
   "execution_count": null,
   "metadata": {
    "id": "nyUhS6A4PFq_"
   },
   "outputs": [],
   "source": [
    "print(square(7j))"
   ]
  },
  {
   "cell_type": "markdown",
   "metadata": {
    "id": "ZZjimds4PFrA"
   },
   "source": [
    "Note the absence of type declarations and that the return type is determined by the input type."
   ]
  },
  {
   "cell_type": "code",
   "execution_count": null,
   "metadata": {
    "id": "eawNO_zaPFrA"
   },
   "outputs": [],
   "source": [
    "print(square(\"Hello\"))"
   ]
  },
  {
   "cell_type": "code",
   "execution_count": null,
   "metadata": {
    "id": "oocUWP6nPFrB"
   },
   "outputs": [],
   "source": [
    "# some more functions\n",
    "def is_prime(n):\n",
    "    if n in [2, 3]:\n",
    "        return True\n",
    "    if n % 2 == 0:\n",
    "        return False\n",
    "    r = 3\n",
    "    while r * r <= n:\n",
    "        if n % r == 0:\n",
    "            return False\n",
    "        r += 2\n",
    "    return True"
   ]
  },
  {
   "cell_type": "code",
   "execution_count": null,
   "metadata": {
    "id": "zABFCwpxPFrB"
   },
   "outputs": [],
   "source": [
    "print(is_prime(78), is_prime(79))"
   ]
  },
  {
   "cell_type": "code",
   "execution_count": null,
   "metadata": {
    "id": "O02_1vWBPFrC"
   },
   "outputs": [],
   "source": [
    "def vowel_count(s):\n",
    "    \"\"\"Counts the number of vowels in s and returns the same\n",
    "    Ignores case of letters\"\"\"\n",
    "    VOWELS = \"aeiouAEIOU\"\n",
    "    vc = 0\n",
    "    for ch in s:\n",
    "        if ch in VOWELS:\n",
    "            vc += 1\n",
    "    return vc"
   ]
  },
  {
   "cell_type": "code",
   "execution_count": null,
   "metadata": {
    "id": "LIDyd6Q-PFrC"
   },
   "outputs": [],
   "source": [
    "print(vowel_count(\"The quick brown fox jumps over the lazy dog\"))"
   ]
  },
  {
   "cell_type": "markdown",
   "metadata": {
    "id": "_nksZMjKPFrD"
   },
   "source": [
    "#### Recursion\n",
    "Recursion is also pretty simple."
   ]
  },
  {
   "cell_type": "code",
   "execution_count": null,
   "metadata": {
    "id": "JZsJtWNDPFrD"
   },
   "outputs": [],
   "source": [
    "def is_power_of2(n):\n",
    "    \"\"\"Checks if a number is a power of 2. \n",
    "    That is, verifies if an integer p exists such that n == 2 ** p\n",
    "    Remember 1 is 2 ** 0    \"\"\"\n",
    "    if n == 1:\n",
    "        return True\n",
    "    if n % 2 == 1:\n",
    "        return False\n",
    "    return is_power_of2(n // 2)"
   ]
  },
  {
   "cell_type": "code",
   "execution_count": null,
   "metadata": {
    "id": "F9bW7rdGPFrE"
   },
   "outputs": [],
   "source": [
    "def is_palindrome(s):\n",
    "    \"\"\"Checks if a given string is a palindrome\"\"\"\n",
    "    \n",
    "    # Empty strings and 1 character strings are palindromes\n",
    "    if len(s) <= 1:\n",
    "        return True\n",
    "    # if first character is different from last it is not\n",
    "    if s[0] != s[-1]:\n",
    "        return False\n",
    "    #Now first == last, so we can throw those out!  \n",
    "    return is_palindrome(s[1:-1])"
   ]
  },
  {
   "cell_type": "markdown",
   "metadata": {
    "id": "AuQ71fubPFrE"
   },
   "source": [
    "Python functions can return multiple values. The simplest example is the built-in function divmod"
   ]
  },
  {
   "cell_type": "code",
   "execution_count": null,
   "metadata": {
    "id": "VGkYMpBCPFrF"
   },
   "outputs": [],
   "source": [
    "divmod(17, 5)"
   ]
  },
  {
   "cell_type": "code",
   "execution_count": null,
   "metadata": {
    "id": "GHlRuFVRPFrG"
   },
   "outputs": [],
   "source": [
    "quotient, remainder = divmod(17, 5)\n",
    "print(quotient, remainder)"
   ]
  },
  {
   "cell_type": "code",
   "execution_count": null,
   "metadata": {
    "id": "zCW20OT6PFrG"
   },
   "outputs": [],
   "source": [
    "# Our own implementation of divmod\n",
    "def quotrem(n, d):\n",
    "    return n // d, n % d"
   ]
  },
  {
   "cell_type": "code",
   "execution_count": null,
   "metadata": {
    "id": "qu3Je6DVPFrG"
   },
   "outputs": [],
   "source": [
    "quotrem(17, 5)"
   ]
  },
  {
   "cell_type": "markdown",
   "metadata": {
    "id": "wkaaxssPPFrG"
   },
   "source": [
    "#### New style functions\n",
    "After version 3.5, the idea of type hints was added. This is **NOT** enforced by the language/interpreter/runtime. \n",
    "\n",
    "This helps to\n",
    " * document the function\n",
    " * eneble external tools (such as IDEs) to offer warnings\n",
    " \n",
    " All the functions used above are shown below in the new style"
   ]
  },
  {
   "cell_type": "code",
   "execution_count": null,
   "metadata": {
    "id": "NE__H_F9PFrH"
   },
   "outputs": [],
   "source": [
    "def square(n: int) -> int:\n",
    "    return n * n\n",
    "    # Note that this in way stops us from calling square(4.7)\n",
    "\n",
    "\n",
    "def isPrime(n: int) -> bool:\n",
    "    if n in [2, 3]:\n",
    "        return True\n",
    "    if n % 2 == 0:\n",
    "        return False\n",
    "    r = 3\n",
    "    while r * r <= n:\n",
    "        if n % r == 0:\n",
    "            return False\n",
    "        r += 2\n",
    "    return True\n",
    "\n",
    "def vowelCount(s: str) -> int:\n",
    "    \"\"\"Counts the number of vowels in s and returns the same\n",
    "    Ignores case of letters\"\"\"\n",
    "    VOWELS = \"aeiouAEIOU\"\n",
    "    vc = 0\n",
    "    for ch in s:\n",
    "        if ch in VOWELS:\n",
    "            vc += 1\n",
    "    return vc\n",
    "\n",
    "def isPowerOf2(n: int) -> bool:\n",
    "    \"\"\"Checks if a number is a power of 2. \n",
    "    That is, verifies if an integer p exists such that n == 2 ** p\n",
    "    Remember 1 is 2 ** 0    \"\"\"\n",
    "    if n == 1:\n",
    "        return True\n",
    "    if n % 2 == 1:\n",
    "        return False\n",
    "    return isPowerOf2(n // 2)\n",
    "\n",
    "def isPalindrome(s: str) -> bool:\n",
    "    \"\"\"Checks if a given string is a palindrome\"\"\"\n",
    "    \n",
    "    # Empty strings and 1 character strings are palindromes\n",
    "    if len(s) <= 1:\n",
    "        return True\n",
    "    # if first character is different from last it is not\n",
    "    if s[0] != s[-1]:\n",
    "        return False\n",
    "    #Now first == last, so we can throw those out!  \n",
    "    return isPalindrome(s[1:-1])\n",
    "\n",
    "def quotrem(n: int, d: int) -> (int, int):\n",
    "    return n // d, n % d"
   ]
  },
  {
   "cell_type": "markdown",
   "metadata": {
    "id": "temCv4T9PFrH"
   },
   "source": [
    "#### Higher Order Functions\n",
    "Python functions are first class objects. They can be assigned to variables, passed to functions as parameters and returned from functions!\n",
    "\n",
    "We will discuss more when covering functional programming"
   ]
  },
  {
   "cell_type": "code",
   "execution_count": null,
   "metadata": {
    "id": "P1jzF27pPsVn"
   },
   "outputs": [],
   "source": []
  }
 ],
 "metadata": {
  "colab": {
   "collapsed_sections": [],
   "name": "03-Functions.ipynb",
   "provenance": []
  },
  "kernelspec": {
   "display_name": "Python 3 (ipykernel)",
   "language": "python",
   "name": "python3"
  },
  "language_info": {
   "codemirror_mode": {
    "name": "ipython",
    "version": 3
   },
   "file_extension": ".py",
   "mimetype": "text/x-python",
   "name": "python",
   "nbconvert_exporter": "python",
   "pygments_lexer": "ipython3",
   "version": "3.9.10"
  }
 },
 "nbformat": 4,
 "nbformat_minor": 1
}
