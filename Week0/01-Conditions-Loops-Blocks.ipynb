{
 "cells": [
  {
   "cell_type": "markdown",
   "metadata": {
    "id": "amoo2jS81XNa"
   },
   "source": [
    "# Python Quickstart\n",
    "## Conditions, Loops and Blocks\n",
    "In this notebook we will look at Python's conditional, looping and block constructs. We will also look at some output formatting"
   ]
  },
  {
   "cell_type": "markdown",
   "metadata": {
    "id": "TGshp3nJTOBi"
   },
   "source": [
    "#### Simple Conditions and blocks"
   ]
  },
  {
   "cell_type": "code",
   "execution_count": null,
   "metadata": {
    "id": "4Wyz-IUXTdps"
   },
   "outputs": [],
   "source": [
    "attendance_percentage = 70\n",
    "# In the code below the two print statements are one block. \n",
    "# They are indented by 4-spaces to convey that\n",
    "if attendance_percentage < 80:\n",
    "    print(\"Attendance requirement for TechWise not met\")\n",
    "    print(\"Please discuss with the Dean\")"
   ]
  },
  {
   "cell_type": "code",
   "execution_count": null,
   "metadata": {
    "id": "eiofx0fDTiLa"
   },
   "outputs": [],
   "source": [
    "attendance_percentage = 82\n",
    "# In the code below the two print statements are one block. \n",
    "# They are indented by 4-spaces to convey that\n",
    "\n",
    "if attendance_percentage < 80:\n",
    "    print(\"Attendance requirement for TechWise not met\")\n",
    "    print(\"Please discuss with the Dean\")"
   ]
  },
  {
   "cell_type": "markdown",
   "metadata": {
    "id": "Emr6kqok1XNy"
   },
   "source": [
    "As you can see there is no output if the condition is not met"
   ]
  },
  {
   "cell_type": "markdown",
   "metadata": {
    "id": "EtNcuPAETN46"
   },
   "source": [
    "##### Else Statement"
   ]
  },
  {
   "cell_type": "code",
   "execution_count": null,
   "metadata": {
    "id": "OyfbCbhxTvYa"
   },
   "outputs": [],
   "source": [
    "attendance_percentage = 82\n",
    "\n",
    "if attendance_percentage < 80:\n",
    "    print(\"Attendance requirement for TechWise not met\")\n",
    "    print(\"Please discuss with the Dean\")\n",
    "else:\n",
    "    print(\"Attendance requirement for TechWise met\")\n",
    "    print(\"Congratulations\")"
   ]
  },
  {
   "cell_type": "markdown",
   "metadata": {
    "id": "WVIq0Gc-TN1W"
   },
   "source": [
    "##### Else if ladder"
   ]
  },
  {
   "cell_type": "code",
   "execution_count": null,
   "metadata": {
    "id": "DJU1Gs8GT2vy"
   },
   "outputs": [],
   "source": [
    "attendance_percentage = 80\n",
    "assignments_submitted = 75\n",
    "if attendancePercentage < 80:\n",
    "    print(\"Attendance requirement for TechWise not met\")\n",
    "    print(\"Please discuss with the Dean\")\n",
    "elif assignments_submitted < 80:\n",
    "    print(\"Attendance requirement for TechWise met\")\n",
    "    print(\"But insufficient assignemnets submitted\")\n",
    "    print(\"Please discuss with the Dean\")\n",
    "else:\n",
    "    print(\"Attendance requirement for TechWise met\")\n",
    "    print(\"Congratulations\")"
   ]
  },
  {
   "cell_type": "markdown",
   "metadata": {
    "id": "vN9prcUzSGbQ"
   },
   "source": [
    "#### Simple While loop"
   ]
  },
  {
   "cell_type": "code",
   "execution_count": null,
   "metadata": {
    "id": "6o82u9jgSrt4"
   },
   "outputs": [],
   "source": [
    "#Lets write a while loop to print numbers from 0 to 4 \n",
    "x = 0\n",
    "while x < 5:\n",
    "     print(x)\n",
    "     x += 1"
   ]
  },
  {
   "cell_type": "markdown",
   "metadata": {
    "id": "NgawHbBOK65m"
   },
   "source": [
    "#### Blocks are indicated by indent"
   ]
  },
  {
   "cell_type": "code",
   "execution_count": null,
   "metadata": {
    "id": "K4PAp6g1bZO9",
    "scrolled": true
   },
   "outputs": [],
   "source": [
    "if True:\n",
    "    print(\"True\")\n",
    "   print(\"Less indent\")"
   ]
  },
  {
   "cell_type": "code",
   "execution_count": null,
   "metadata": {
    "id": "vHYRQHH8K65n"
   },
   "outputs": [],
   "source": [
    "if True:\n",
    "    print(\"True\")\n",
    "     print(\"More indent\")"
   ]
  },
  {
   "cell_type": "markdown",
   "metadata": {
    "id": "4j0AnUtbS9jq"
   },
   "source": [
    "#### Combining conditions\n",
    "We can combine conditions using **and**, **or** and **not** operators"
   ]
  },
  {
   "cell_type": "code",
   "execution_count": null,
   "metadata": {
    "id": "7Q8SaGDP1XOY"
   },
   "outputs": [],
   "source": [
    "attendance_percentage = 80\n",
    "assignments_submitted = 75\n",
    "if attendance_percentage >= 80 and assignments_submitted >= 80:\n",
    "    print(\"Attendance and assignments submissions requirement met\")\n",
    "else: \n",
    "    print(\"Either attendance or assignment submission (or both) insufficient\")\n",
    "    print(\"Please improve\")"
   ]
  },
  {
   "cell_type": "markdown",
   "metadata": {
    "id": "CifE3XpO1XOf"
   },
   "source": [
    "##### More on blocks\n",
    "* blocks start below a line ending in :\n",
    "* all lines in a block are indented (by 4 spaces)\n",
    "* Nested blocks --> nested indenting\n",
    "* End of block --> unindent\n"
   ]
  },
  {
   "cell_type": "code",
   "execution_count": null,
   "metadata": {
    "id": "ojFY-NQH1XOh"
   },
   "outputs": [],
   "source": [
    "mark = 76\n",
    "if mark < 40:\n",
    "    status = \"Retake\"\n",
    "    letterGrade = \"F\"\n",
    "else:\n",
    "    status = \"Pass\"\n",
    "    if mark < 50:\n",
    "        letterGrade = \"D\"\n",
    "    elif mark < 60:\n",
    "        letterGrade = \"C\"\n",
    "    elif mark < 75:\n",
    "        letterGrade = \"B\"\n",
    "    elif mark < 90:\n",
    "        letterGrade = \"A\"\n",
    "    else:\n",
    "        letterGrade = \"A+\""
   ]
  },
  {
   "cell_type": "markdown",
   "metadata": {
    "id": "3CO8nFOq1XOp"
   },
   "source": [
    "#### Python Special\n",
    "Often we have to compare if a value is between two limits; say if a number is between 17 and 21. Or if a string is lexicographically between \"Alpha\" and \"Omega\" \n",
    "\n",
    "In almost all languages this needs a compound condition with **and**\n",
    "The pythonic way is:"
   ]
  },
  {
   "cell_type": "code",
   "execution_count": null,
   "metadata": {
    "id": "NDoWLKL61XOv"
   },
   "outputs": [],
   "source": [
    "x = 19\n",
    "17 < x < 21"
   ]
  },
  {
   "cell_type": "code",
   "execution_count": null,
   "metadata": {
    "id": "FyeYMKc4K65r"
   },
   "outputs": [],
   "source": [
    "s =\"Gamma\"\n",
    "\"Alpha\" < s < \"Omega\""
   ]
  },
  {
   "cell_type": "code",
   "execution_count": null,
   "metadata": {
    "id": "GxMPHVbJK65s"
   },
   "outputs": [],
   "source": [
    "s = \"Theta\"\n",
    "\"Alpha\" < s < \"Omega\""
   ]
  },
  {
   "cell_type": "markdown",
   "metadata": {
    "id": "6kJMq7fhK65s"
   },
   "source": [
    "We can also do\n",
    "\n",
    "a < b < c < d, a > b > c > e etc "
   ]
  },
  {
   "cell_type": "markdown",
   "metadata": {
    "id": "klMp0qEVK65t"
   },
   "source": [
    "#### More loop examples\n",
    "With some print options"
   ]
  },
  {
   "cell_type": "code",
   "execution_count": null,
   "metadata": {
    "id": "Mxlrp8LhK65t"
   },
   "outputs": [],
   "source": [
    "n = 10\n",
    "while n > 0:\n",
    "    print(n, end=\" \")\n",
    "    n -= 2"
   ]
  },
  {
   "cell_type": "code",
   "execution_count": null,
   "metadata": {
    "id": "XjNc2Y35K65t"
   },
   "outputs": [],
   "source": [
    "a, b = 17, 20\n",
    "while a > 5 and b > 7:\n",
    "    print(a, b, sep=\"::\")\n",
    "    if a % 2 == 0:\n",
    "        a -= 1\n",
    "        b += 2\n",
    "    else:\n",
    "        a -= 3\n",
    "        b -= 4\n",
    "    "
   ]
  },
  {
   "cell_type": "markdown",
   "metadata": {
    "id": "OSJiQvHqK65u"
   },
   "source": [
    "Python has **break** and **continue** statements"
   ]
  }
 ],
 "metadata": {
  "colab": {
   "collapsed_sections": [],
   "name": "01-Conditions-Loops-Blocks.ipynb",
   "provenance": []
  },
  "kernelspec": {
   "display_name": "Python 3 (ipykernel)",
   "language": "python",
   "name": "python3"
  },
  "language_info": {
   "codemirror_mode": {
    "name": "ipython",
    "version": 3
   },
   "file_extension": ".py",
   "mimetype": "text/x-python",
   "name": "python",
   "nbconvert_exporter": "python",
   "pygments_lexer": "ipython3",
   "version": "3.9.10"
  }
 },
 "nbformat": 4,
 "nbformat_minor": 1
}
