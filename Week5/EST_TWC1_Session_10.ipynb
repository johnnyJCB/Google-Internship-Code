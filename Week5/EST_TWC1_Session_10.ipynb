{
  "cells": [
    {
      "cell_type": "markdown",
      "metadata": {
        "id": "R7W3W-BJZEEu"
      },
      "source": [
        "# Tuples\n",
        "\n",
        " * are collections\n",
        "\n",
        "   - stored inside parentheses, separated by commas\n",
        "   - accessed using indices\n",
        "   - immutable"
      ]
    },
    {
      "cell_type": "code",
      "execution_count": null,
      "metadata": {
        "id": "FLQ_jZBz2_Nm"
      },
      "outputs": [],
      "source": [
        "point = (7, 12)\n",
        "point3d = (-2, 4.5, 12)\n",
        "scores = ('A', 'A+', 'B-', 'C+')"
      ]
    },
    {
      "cell_type": "code",
      "execution_count": null,
      "metadata": {
        "colab": {
          "base_uri": "https://localhost:8080/"
        },
        "id": "zcM2bDn1-AvH",
        "outputId": "4e47d1e3-b783-4624-d7eb-0627c1d07472"
      },
      "outputs": [
        {
          "name": "stdout",
          "output_type": "stream",
          "text": [
            "12\n"
          ]
        }
      ],
      "source": [
        "print(point[1])"
      ]
    },
    {
      "cell_type": "code",
      "execution_count": null,
      "metadata": {
        "colab": {
          "base_uri": "https://localhost:8080/"
        },
        "id": "Tv6m7P2I-Pey",
        "outputId": "0338f2ee-dbdc-4d48-be48-0d3efe98572c"
      },
      "outputs": [
        {
          "name": "stdout",
          "output_type": "stream",
          "text": [
            "B-\n"
          ]
        }
      ],
      "source": [
        "print(scores[2])"
      ]
    },
    {
      "cell_type": "markdown",
      "metadata": {
        "id": "-a__1Pm6ZWUO"
      },
      "source": [
        "  * a tuple is an iterable"
      ]
    },
    {
      "cell_type": "code",
      "execution_count": null,
      "metadata": {
        "colab": {
          "base_uri": "https://localhost:8080/"
        },
        "id": "phwzZgeU-maK",
        "outputId": "a6de3011-46ee-447c-dd28-7ee170ca3f5d"
      },
      "outputs": [
        {
          "data": {
            "text/plain": [
              "19"
            ]
          },
          "execution_count": 7,
          "metadata": {},
          "output_type": "execute_result"
        }
      ],
      "source": [
        "sum(point)"
      ]
    },
    {
      "cell_type": "code",
      "execution_count": null,
      "metadata": {
        "colab": {
          "base_uri": "https://localhost:8080/"
        },
        "id": "r_5rSgg6-q0O",
        "outputId": "8e97c048-d9e0-4d34-ebb1-873ffa1ccdbb"
      },
      "outputs": [
        {
          "data": {
            "text/plain": [
              "3"
            ]
          },
          "execution_count": 8,
          "metadata": {},
          "output_type": "execute_result"
        }
      ],
      "source": [
        "len(point3d)"
      ]
    },
    {
      "cell_type": "code",
      "execution_count": null,
      "metadata": {
        "colab": {
          "base_uri": "https://localhost:8080/"
        },
        "id": "4FWHVX5Y-tby",
        "outputId": "08df8635-a3b4-44a5-d63b-125ea958202f"
      },
      "outputs": [
        {
          "name": "stdout",
          "output_type": "stream",
          "text": [
            "A\n",
            "A+\n",
            "B-\n",
            "C+\n"
          ]
        }
      ],
      "source": [
        "for score in scores:\n",
        "    print(score)"
      ]
    },
    {
      "cell_type": "markdown",
      "metadata": {
        "id": "H3Doyd_Grtr7"
      },
      "source": [
        " * technically the parentheses are not required\n",
        " * we can say that a tuple is just a collection separated by commas"
      ]
    },
    {
      "cell_type": "code",
      "execution_count": null,
      "metadata": {
        "id": "L2y0D9Lu3CMt"
      },
      "outputs": [],
      "source": [
        "point: list = 7, 12\n",
        "point3d: list = -2, 4.5, 12\n",
        "scores: list = 'A', 'A+', 'B-', 'C+'"
      ]
    },
    {
      "cell_type": "code",
      "execution_count": null,
      "metadata": {
        "colab": {
          "base_uri": "https://localhost:8080/"
        },
        "id": "JZuP_Ile_BFV",
        "outputId": "db5c5152-d228-4189-80e2-1264fbc3cac0"
      },
      "outputs": [
        {
          "name": "stdout",
          "output_type": "stream",
          "text": [
            "4\n",
            "14.5\n"
          ]
        }
      ],
      "source": [
        "print(len(scores))\n",
        "print(sum(point3d))"
      ]
    },
    {
      "cell_type": "code",
      "execution_count": null,
      "metadata": {
        "colab": {
          "base_uri": "https://localhost:8080/"
        },
        "id": "Z78t_K3g_o6u",
        "outputId": "3badbabf-12b6-4643-e470-ff745966e6c1"
      },
      "outputs": [
        {
          "data": {
            "text/plain": [
              "tuple"
            ]
          },
          "execution_count": 18,
          "metadata": {},
          "output_type": "execute_result"
        }
      ],
      "source": [
        "type(point)"
      ]
    },
    {
      "cell_type": "markdown",
      "metadata": {
        "id": "PFrU59SdsWTH"
      },
      "source": [
        "Functions can return multiple values as tuples"
      ]
    },
    {
      "cell_type": "code",
      "execution_count": null,
      "metadata": {
        "id": "CHMznX-l3D4D"
      },
      "outputs": [],
      "source": [
        "def lo_hi(a: list[int]) -> tuple[int, int]:\n",
        "    return min(a), max(a)"
      ]
    },
    {
      "cell_type": "markdown",
      "metadata": {
        "id": "a-vXt5QessgP"
      },
      "source": [
        "This can be accessed in two ways:\n",
        "  * by indexing the resulting tuple\n",
        "  * by using a tuple of the same size on thge LHS"
      ]
    },
    {
      "cell_type": "code",
      "execution_count": null,
      "metadata": {
        "colab": {
          "base_uri": "https://localhost:8080/"
        },
        "id": "x2q2GK0i3IJn",
        "outputId": "f183760a-ef5c-4617-bf76-70f558fe681d"
      },
      "outputs": [
        {
          "name": "stdout",
          "output_type": "stream",
          "text": [
            "(-2, 12)\n",
            "-2\n",
            "12\n"
          ]
        }
      ],
      "source": [
        "lh = lo_hi([1, 8, -2, 7, 12, 4])\n",
        "print(lh)\n",
        "print(lh[0])\n",
        "print(lh[1])"
      ]
    },
    {
      "cell_type": "code",
      "execution_count": null,
      "metadata": {
        "colab": {
          "base_uri": "https://localhost:8080/"
        },
        "id": "VH7FxR2qAly7",
        "outputId": "1eb6157e-f83f-40bd-9aed-4aadd930f82b"
      },
      "outputs": [
        {
          "name": "stdout",
          "output_type": "stream",
          "text": [
            "-6\n",
            "15\n"
          ]
        }
      ],
      "source": [
        "x, y = lo_hi([1, 3, 7, 8, 12, -6, 15, 2, 5])\n",
        "print(x)\n",
        "print(y)"
      ]
    },
    {
      "cell_type": "markdown",
      "metadata": {
        "id": "VhsiBKzQtK2J"
      },
      "source": [
        "We return tuples by the simple expedient of returning comma separated values\n",
        "\n",
        "Bonus: What does the function *amma* do"
      ]
    },
    {
      "cell_type": "code",
      "execution_count": null,
      "metadata": {
        "id": "-S_X9137tSkJ"
      },
      "outputs": [],
      "source": [
        "def amma(a: int):\n",
        "    b = 0\n",
        "    while b * b < a:\n",
        "        b += 1\n",
        "    return b * b == a, b"
      ]
    },
    {
      "cell_type": "code",
      "execution_count": null,
      "metadata": {
        "colab": {
          "base_uri": "https://localhost:8080/"
        },
        "id": "glJxpiwstfE6",
        "outputId": "64caec47-9d09-481b-b232-92f8988478fd"
      },
      "outputs": [
        {
          "name": "stdout",
          "output_type": "stream",
          "text": [
            "(True, 4)\n",
            "(False, 6)\n"
          ]
        }
      ],
      "source": [
        "print(amma(16))\n",
        "print(amma(29))"
      ]
    },
    {
      "cell_type": "markdown",
      "metadata": {
        "id": "qOkiOCllv2E6"
      },
      "source": []
    },
    {
      "cell_type": "markdown",
      "metadata": {
        "id": "Pv9fRLyOFOik"
      },
      "source": [
        "## Problem 01\n",
        "\n",
        "Create a function that takes a list of 3 tuples. Each tuple consists of two numbers representing the x coordinate and y coordinate of a point on the Cartesian plane. Return True if these 3 points form a triangle.\n",
        "\n",
        "\n",
        "Notes\n",
        "\n",
        "We did a related problem; where we were given the lengths of the three sides.\n"
      ]
    },
    {
      "cell_type": "markdown",
      "metadata": {
        "id": "BVbwjo_xIz-c"
      },
      "source": [
        "According to the Triangle Inequality theorem:\n",
        "\n",
        "AB + BC must be greater than AC, or AB + BC > AC\n",
        "\n",
        "AB + AC must be greater than BC, or AB + AC > BC\n",
        "\n",
        "BC + AC must be greater than AB, or BC + AC > AB"
      ]
    },
    {
      "cell_type": "code",
      "execution_count": null,
      "metadata": {
        "colab": {
          "base_uri": "https://localhost:8080/"
        },
        "id": "rHgql_kTMo0z",
        "outputId": "b6ec4af1-9edc-4315-ddb5-f7e48790a4c5"
      },
      "outputs": [
        {
          "data": {
            "text/plain": [
              "-7.0"
            ]
          },
          "execution_count": 34,
          "metadata": {},
          "output_type": "execute_result"
        }
      ],
      "source": [
        "-49 ** 0.5"
      ]
    },
    {
      "cell_type": "code",
      "execution_count": null,
      "metadata": {
        "colab": {
          "base_uri": "https://localhost:8080/"
        },
        "id": "y-dj5lQQMyRC",
        "outputId": "182fdccb-93d0-4df0-9d6f-0969e0c5e5f0"
      },
      "outputs": [
        {
          "data": {
            "text/plain": [
              "(4.286263797015736e-16+7j)"
            ]
          },
          "execution_count": 33,
          "metadata": {},
          "output_type": "execute_result"
        }
      ],
      "source": [
        "pow(-49, 0.5)"
      ]
    },
    {
      "cell_type": "code",
      "execution_count": null,
      "metadata": {
        "colab": {
          "base_uri": "https://localhost:8080/",
          "height": 159
        },
        "id": "-X92hJxAM3dX",
        "outputId": "59f2eeb0-b6e9-4f4d-8aa1-65de5f8c89e7"
      },
      "outputs": [
        {
          "ename": "ValueError",
          "evalue": "math domain error",
          "output_type": "error",
          "traceback": [
            "\u001b[0;31m---------------------------------------------------------------------------\u001b[0m",
            "\u001b[0;31mValueError\u001b[0m                                Traceback (most recent call last)",
            "\u001b[0;32m<ipython-input-32-86af307227e9>\u001b[0m in \u001b[0;36m<cell line: 2>\u001b[0;34m()\u001b[0m\n\u001b[1;32m      1\u001b[0m \u001b[0;32mimport\u001b[0m \u001b[0mmath\u001b[0m\u001b[0;34m\u001b[0m\u001b[0;34m\u001b[0m\u001b[0m\n\u001b[0;32m----> 2\u001b[0;31m \u001b[0mmath\u001b[0m\u001b[0;34m.\u001b[0m\u001b[0msqrt\u001b[0m\u001b[0;34m(\u001b[0m\u001b[0;34m-\u001b[0m\u001b[0;36m49\u001b[0m\u001b[0;34m)\u001b[0m\u001b[0;34m\u001b[0m\u001b[0;34m\u001b[0m\u001b[0m\n\u001b[0m",
            "\u001b[0;31mValueError\u001b[0m: math domain error"
          ]
        }
      ],
      "source": [
        "import math\n",
        "math.sqrt(49)"
      ]
    },
    {
      "cell_type": "code",
      "execution_count": null,
      "metadata": {
        "colab": {
          "base_uri": "https://localhost:8080/"
        },
        "id": "j1zTXF7RNKSA",
        "outputId": "63c43be6-22b0-4a0b-a0e4-b09a9f1b51e3"
      },
      "outputs": [
        {
          "name": "stdout",
          "output_type": "stream",
          "text": [
            "True\n",
            "True\n"
          ]
        }
      ],
      "source": [
        "vertices = [(3,2), (-2,-3), (2,3)]\n",
        "vertices1 = [(3,8),(-4,2), (5,-1)]\n",
        "\n",
        "def is_valid_triangle(vertices: list[tuple[int, int]]) -> bool:\n",
        "    ab = abs((((vertices[1][0] - vertices[0][0]) ** 2) + ((vertices[1][1] - vertices[0][1]) ** 2)) ** 0.5)\n",
        "    bc = abs((((vertices[2][0] - vertices[1][0]) ** 2) + ((vertices[2][1] - vertices[1][1]) ** 2)) ** 0.5)\n",
        "    ca = abs((((vertices[2][0] - vertices[0][0]) ** 2) + ((vertices[2][1] - vertices[0][1]) ** 2)) ** 0.5)\n",
        "    return ab + bc  > ca  and ab  + ca  > bc and bc  + ca  > ab\n",
        "\n",
        "print(is_valid_triangle(vertices))\n",
        "\n",
        "print(is_valid_triangle(vertices1))"
      ]
    },
    {
      "cell_type": "code",
      "execution_count": null,
      "metadata": {
        "colab": {
          "base_uri": "https://localhost:8080/"
        },
        "id": "7T48cSPwOhw8",
        "outputId": "1350ecad-c06a-4e97-b365-ebc14defe380"
      },
      "outputs": [
        {
          "name": "stdout",
          "output_type": "stream",
          "text": [
            "True\n"
          ]
        }
      ],
      "source": [
        "import math\n",
        "\n",
        "def is_triangle(a, b, c):\n",
        "    return a + b > c and b + c > a and c + a > b\n",
        "\n",
        "def is_triangle_validation(vertices: list[tuple[int, int]]) -> bool:\n",
        "    ab = math.sqrt((((vertices[1][0] - vertices[0][0]) ** 2) + ((vertices[1][1] - vertices[0][1]) ** 2)))\n",
        "    bc = math.sqrt((((vertices[2][0] - vertices[1][0]) ** 2) + ((vertices[2][1] - vertices[1][1]) ** 2)))\n",
        "    ca = math.sqrt((((vertices[2][0] - vertices[0][0]) ** 2) + ((vertices[2][1] - vertices[0][1]) ** 2)))\n",
        "    return is_triangle(ab, bc, ca)\n",
        "\n",
        "\n",
        "\n",
        "\n",
        "vertices = [(3,2), (-2,-3), (2,3)]\n",
        "vertices1 = [(3,8),(-4,2), (5,-1)]\n",
        "print(is_triangle_validation(vertices))"
      ]
    },
    {
      "cell_type": "code",
      "execution_count": null,
      "metadata": {
        "colab": {
          "base_uri": "https://localhost:8080/"
        },
        "id": "uS2cy9FmOm0z",
        "outputId": "1f61d340-1be6-4e48-915d-98a8ac60c24c"
      },
      "outputs": [
        {
          "name": "stdout",
          "output_type": "stream",
          "text": [
            "True\n",
            "False\n"
          ]
        }
      ],
      "source": [
        "import math\n",
        "\n",
        "def is_triangle(a, b, c):\n",
        "    return a + b > c and b + c > a and c + a > b\n",
        "\n",
        "def distance(a, b):\n",
        "    ax, ay = a\n",
        "    bx, by = b\n",
        "    return math.sqrt(((ax - bx) ** 2)+((ay - by) ** 2))\n",
        "\n",
        "def is_triangle_validation(vertices: list[tuple[int,int]]) -> bool:\n",
        "    ab = distance(vertices[0],vertices[1])\n",
        "    bc = distance(vertices[1],vertices[2])\n",
        "    ca = distance(vertices[2],vertices[0])\n",
        "    return is_triangle(ab, bc, ca)\n",
        "\n",
        "vertices = [(3,2), (-2,-3), (2,3)]\n",
        "vertices1 = [(3,8),(-4,2), (5,-1)]\n",
        "print(is_triangle_validation(vertices))\n",
        "print(is_triangle_validation([(0,0),(5,0),(50,0)]))"
      ]
    },
    {
      "cell_type": "code",
      "execution_count": null,
      "metadata": {
        "colab": {
          "base_uri": "https://localhost:8080/"
        },
        "id": "foipvUSrOro2",
        "outputId": "44d17e1f-4518-4159-a1ea-6c257ebb0716"
      },
      "outputs": [
        {
          "name": "stdout",
          "output_type": "stream",
          "text": [
            "True\n",
            "True\n",
            "False\n"
          ]
        }
      ],
      "source": [
        "import math\n",
        "\n",
        "def is_triangle(a, b, c):\n",
        "    return a + b > c and b + c > a and c + a > b\n",
        "\n",
        "def is_valid_triangle(vertices: list[tuple[int, int]]) -> bool:\n",
        "    ab = math.dist(vertices[0], vertices[1])\n",
        "    bc = math.dist(vertices[1], vertices[2])\n",
        "    ca = math.dist(vertices[2], vertices[0])\n",
        "    return is_triangle(ab, bc, ca)\n",
        "\n",
        "vertices = [(3,2), (-2,-3), (2,3)]\n",
        "vertices1 = [(3,8),(-4,2), (5,-1)]\n",
        "print(is_valid_triangle(vertices))\n",
        "print(is_valid_triangle(vertices1))\n",
        "print(is_valid_triangle([(0,0),(5,0),(50,0)]))"
      ]
    },
    {
      "cell_type": "code",
      "execution_count": null,
      "metadata": {
        "colab": {
          "base_uri": "https://localhost:8080/"
        },
        "id": "-t1lD2l2Ni9M",
        "outputId": "df6d6236-1281-4084-e0fa-d59902f58059"
      },
      "outputs": [
        {
          "name": "stdout",
          "output_type": "stream",
          "text": [
            "[4, 2, 3, 4]\n"
          ]
        }
      ],
      "source": [
        "l = [1, 2, 3]\n",
        "l[0] = 4\n",
        "l.append(4)\n",
        "print(l)"
      ]
    },
    {
      "cell_type": "code",
      "execution_count": null,
      "metadata": {
        "colab": {
          "base_uri": "https://localhost:8080/"
        },
        "id": "nYDLmqsXNqK7",
        "outputId": "03c2d97a-3d34-48f2-b42b-3f7e0e79fec2"
      },
      "outputs": [
        {
          "name": "stdout",
          "output_type": "stream",
          "text": [
            "(1, 3, 2, 4, 5)\n",
            "[1, 2, 3]\n",
            "(1, 3, 2)\n"
          ]
        }
      ],
      "source": [
        "t = (1, 3, 2)\n",
        "#t[0] = 5\n",
        "print(t + (4, 5))\n",
        "print(sorted(t))\n",
        "print(t)"
      ]
    },
    {
      "cell_type": "markdown",
      "metadata": {
        "id": "357l8uCMrkNq"
      },
      "source": [
        "# Sets\n",
        "\n",
        "* are another collection\n",
        "* unordered -- we cannot rely on the contents being in any specific order\n",
        "* do not allow duplicates -- by definition\n",
        "* method names differe from list\n",
        "* enclosed in braces, separated by commas\n",
        "* sets are mutable"
      ]
    },
    {
      "cell_type": "code",
      "execution_count": null,
      "metadata": {
        "id": "0tVdSJWUNpm7"
      },
      "outputs": [],
      "source": [
        "marks = {7, 12, 8, 13}"
      ]
    },
    {
      "cell_type": "code",
      "execution_count": null,
      "metadata": {
        "id": "EPdLr3gQQzNA"
      },
      "outputs": [],
      "source": [
        "set_diff_types = {'hello', 'world', 2}"
      ]
    },
    {
      "cell_type": "code",
      "execution_count": null,
      "metadata": {
        "colab": {
          "base_uri": "https://localhost:8080/"
        },
        "id": "iJ2hV4SV4Ee9",
        "outputId": "0943e79e-0b65-476b-dcdd-6f53c041358f"
      },
      "outputs": [
        {
          "name": "stdout",
          "output_type": "stream",
          "text": [
            "{8, 12, 13, 7}\n"
          ]
        }
      ],
      "source": [
        "print(marks)"
      ]
    },
    {
      "cell_type": "code",
      "execution_count": null,
      "metadata": {
        "id": "i5CdbzweQbdg"
      },
      "outputs": [],
      "source": [
        "marks.add(16)\n",
        "marks.add(1)\n",
        "marks.add(16)"
      ]
    },
    {
      "cell_type": "code",
      "execution_count": null,
      "metadata": {
        "colab": {
          "base_uri": "https://localhost:8080/"
        },
        "id": "XXJLH4mQQerd",
        "outputId": "2237823f-35fc-4f44-c63b-2f716176f92b"
      },
      "outputs": [
        {
          "name": "stdout",
          "output_type": "stream",
          "text": [
            "{1, 7, 8, 12, 13, 16}\n"
          ]
        }
      ],
      "source": [
        "print(marks)"
      ]
    },
    {
      "cell_type": "markdown",
      "metadata": {
        "id": "fjr2vR4Kwqs4"
      },
      "source": [
        "We can iterate through them but remember we are only guaranteed to step through all ements but in no specific order"
      ]
    },
    {
      "cell_type": "code",
      "execution_count": 1,
      "metadata": {
        "colab": {
          "base_uri": "https://localhost:8080/",
          "height": 193
        },
        "id": "AzO8w9ZE4INg",
        "outputId": "9585e1ac-f93b-4660-bde4-3af68ca8ade8"
      },
      "outputs": [
        {
          "ename": "NameError",
          "evalue": "name 'set_diff_types' is not defined",
          "output_type": "error",
          "traceback": [
            "\u001b[0;31m---------------------------------------------------------------------------\u001b[0m",
            "\u001b[0;31mNameError\u001b[0m                                 Traceback (most recent call last)",
            "\u001b[0;32m<ipython-input-1-4acb7e135a7b>\u001b[0m in \u001b[0;36m<cell line: 1>\u001b[0;34m()\u001b[0m\n\u001b[0;32m----> 1\u001b[0;31m \u001b[0mprint\u001b[0m\u001b[0;34m(\u001b[0m\u001b[0mlen\u001b[0m\u001b[0;34m(\u001b[0m\u001b[0mset_diff_types\u001b[0m\u001b[0;34m)\u001b[0m\u001b[0;34m)\u001b[0m\u001b[0;34m\u001b[0m\u001b[0;34m\u001b[0m\u001b[0m\n\u001b[0m\u001b[1;32m      2\u001b[0m \u001b[0mprint\u001b[0m\u001b[0;34m(\u001b[0m\u001b[0msum\u001b[0m\u001b[0;34m(\u001b[0m\u001b[0mset_diff_types\u001b[0m\u001b[0;34m)\u001b[0m\u001b[0;34m)\u001b[0m\u001b[0;34m\u001b[0m\u001b[0;34m\u001b[0m\u001b[0m\n\u001b[1;32m      3\u001b[0m \u001b[0;32mfor\u001b[0m \u001b[0melem\u001b[0m \u001b[0;32min\u001b[0m \u001b[0mset_diff_types\u001b[0m\u001b[0;34m:\u001b[0m\u001b[0;34m\u001b[0m\u001b[0;34m\u001b[0m\u001b[0m\n\u001b[1;32m      4\u001b[0m     \u001b[0mprint\u001b[0m\u001b[0;34m(\u001b[0m\u001b[0melem\u001b[0m\u001b[0;34m)\u001b[0m\u001b[0;34m\u001b[0m\u001b[0;34m\u001b[0m\u001b[0m\n",
            "\u001b[0;31mNameError\u001b[0m: name 'set_diff_types' is not defined"
          ]
        }
      ],
      "source": [
        "print(len(set_diff_types))\n",
        "print(sum(set_diff_types))\n",
        "for elem in set_diff_types:\n",
        "    print(elem)"
      ]
    },
    {
      "cell_type": "code",
      "execution_count": null,
      "metadata": {
        "colab": {
          "base_uri": "https://localhost:8080/"
        },
        "id": "dDIv5xjrSBGG",
        "outputId": "844431d4-6cdd-4d06-a7bb-6b08f3d774c7"
      },
      "outputs": [
        {
          "name": "stdout",
          "output_type": "stream",
          "text": [
            "{1, 7, 8, 12, 13, 16}\n"
          ]
        }
      ],
      "source": [
        "mm = marks | {12, 17}\n",
        "print(mm & marks)"
      ]
    },
    {
      "cell_type": "code",
      "execution_count": null,
      "metadata": {
        "colab": {
          "base_uri": "https://localhost:8080/"
        },
        "id": "88TZ1UGiS50H",
        "outputId": "0d0715d9-6594-47e6-da99-657c9734f1a2"
      },
      "outputs": [
        {
          "data": {
            "text/plain": [
              "True"
            ]
          },
          "execution_count": 69,
          "metadata": {},
          "output_type": "execute_result"
        }
      ],
      "source": [
        "8 in marks"
      ]
    },
    {
      "cell_type": "code",
      "execution_count": null,
      "metadata": {
        "colab": {
          "base_uri": "https://localhost:8080/"
        },
        "id": "hGWyWPzRS-2P",
        "outputId": "16a64140-e4c4-4f88-c9c7-74e1b0d7b8f5"
      },
      "outputs": [
        {
          "data": {
            "text/plain": [
              "False"
            ]
          },
          "execution_count": 70,
          "metadata": {},
          "output_type": "execute_result"
        }
      ],
      "source": [
        "20 in marks"
      ]
    },
    {
      "cell_type": "markdown",
      "metadata": {
        "id": "17BiV9ve1T2Y"
      },
      "source": [
        "Compared to lists (which do a linear search) sets are much faster\n",
        "\n",
        "*   List item\n",
        "*   List item\n",
        "\n",
        "to check membership"
      ]
    },
    {
      "cell_type": "code",
      "execution_count": null,
      "metadata": {
        "id": "E2O8icnQTGkY"
      },
      "outputs": [],
      "source": [
        "'q' in 'abcdefghijklmnopqrstuvwxyz'"
      ]
    },
    {
      "cell_type": "code",
      "execution_count": null,
      "metadata": {
        "id": "rtACjXRW4Nqt"
      },
      "outputs": [],
      "source": [
        "import random\n",
        "\n",
        "evenList = [2 * x for x in range(1,51)]\n",
        "evenSet = {2 * x for x in range(1,51)}\n",
        "\n",
        "bigList = [2 * x for x in range(1,501)]\n",
        "bigSet = {2 * x for x in range(1,501)}\n",
        "\n",
        "def hundred_sided_die()->int:\n",
        "    return random.randint(1,100)\n",
        "\n",
        "def thousand_sided_die()->int:\n",
        "    return random.randint(1,1000)"
      ]
    },
    {
      "cell_type": "code",
      "execution_count": null,
      "metadata": {
        "colab": {
          "base_uri": "https://localhost:8080/"
        },
        "id": "-7rAU9BUTu2f",
        "outputId": "82efb98d-7237-469c-e7d6-8cbed4bbc05b"
      },
      "outputs": [
        {
          "name": "stdout",
          "output_type": "stream",
          "text": [
            "1.09 µs ± 267 ns per loop (mean ± std. dev. of 7 runs, 1000000 loops each)\n"
          ]
        }
      ],
      "source": [
        "%timeit hundred_sided_die() in evenSet"
      ]
    },
    {
      "cell_type": "code",
      "execution_count": null,
      "metadata": {
        "colab": {
          "base_uri": "https://localhost:8080/"
        },
        "id": "nc1pcqRQTzLV",
        "outputId": "662dea0e-03e0-46e1-bf1d-829654210461"
      },
      "outputs": [
        {
          "name": "stdout",
          "output_type": "stream",
          "text": [
            "1.41 µs ± 389 ns per loop (mean ± std. dev. of 7 runs, 1000000 loops each)\n"
          ]
        }
      ],
      "source": [
        "%timeit hundred_sided_die() in evenList"
      ]
    },
    {
      "cell_type": "code",
      "execution_count": null,
      "metadata": {
        "colab": {
          "base_uri": "https://localhost:8080/"
        },
        "id": "ug00_dOOUF7k",
        "outputId": "f61c9270-507a-44f6-c542-a3467c3d4d15"
      },
      "outputs": [
        {
          "name": "stdout",
          "output_type": "stream",
          "text": [
            "1.09 µs ± 317 ns per loop (mean ± std. dev. of 7 runs, 1000000 loops each)\n"
          ]
        }
      ],
      "source": [
        "%timeit thousand_sided_die() in bigSet"
      ]
    },
    {
      "cell_type": "code",
      "execution_count": null,
      "metadata": {
        "colab": {
          "base_uri": "https://localhost:8080/"
        },
        "id": "u9qMrUUVUNFM",
        "outputId": "eebe4c01-2cb7-4a26-e267-ec9f3a7686df"
      },
      "outputs": [
        {
          "name": "stdout",
          "output_type": "stream",
          "text": [
            "6.39 µs ± 1.9 µs per loop (mean ± std. dev. of 7 runs, 100000 loops each)\n"
          ]
        }
      ],
      "source": [
        "%timeit thousand_sided_die() in bigList"
      ]
    },
    {
      "cell_type": "markdown",
      "metadata": {
        "id": "FjLD3aTQ7LNB"
      },
      "source": [
        "# Dice throwing\n",
        "Let us write a function that simulates the throwing of the dice\n",
        "that is a function that returns a number between 1, 2, 3, 4, 5, 6 with equal probability.\n"
      ]
    },
    {
      "cell_type": "code",
      "execution_count": null,
      "metadata": {
        "id": "v49AsIfU4SFi"
      },
      "outputs": [],
      "source": [
        "import random\n",
        "def dice()-> int:\n",
        "    return random.randint(1, 6)"
      ]
    },
    {
      "cell_type": "code",
      "execution_count": null,
      "metadata": {
        "colab": {
          "base_uri": "https://localhost:8080/"
        },
        "id": "vjWUAqgeUxgT",
        "outputId": "b3ebf551-6e17-41da-8edd-4d6eec96ff86"
      },
      "outputs": [
        {
          "name": "stdout",
          "output_type": "stream",
          "text": [
            "4\n",
            "4\n",
            "6\n",
            "5\n"
          ]
        }
      ],
      "source": [
        "print(dice())\n",
        "print(dice())\n",
        "print(dice())\n",
        "print(dice())"
      ]
    },
    {
      "cell_type": "markdown",
      "metadata": {
        "id": "VUc32yIH8b1n"
      },
      "source": [
        "As can be seen the six numbers occur nearly equally"
      ]
    },
    {
      "cell_type": "code",
      "execution_count": null,
      "metadata": {
        "colab": {
          "base_uri": "https://localhost:8080/"
        },
        "id": "U8tRQDYG4SWN",
        "outputId": "b9b6f52c-587a-4d2e-ce05-e89b54e0b81a"
      },
      "outputs": [
        {
          "name": "stdout",
          "output_type": "stream",
          "text": [
            "[1, 2, 0, 0, 2, 1]\n"
          ]
        }
      ],
      "source": [
        "throws = [0, 0, 0, 0, 0, 0, 0]\n",
        "for i in range(6):\n",
        "    throws[dice()] += 1\n",
        "print(throws[1:])"
      ]
    },
    {
      "cell_type": "code",
      "execution_count": null,
      "metadata": {
        "colab": {
          "base_uri": "https://localhost:8080/"
        },
        "id": "dtY7t4p8VJQR",
        "outputId": "3511aad9-99ae-4206-81de-45f756080ab2"
      },
      "outputs": [
        {
          "name": "stdout",
          "output_type": "stream",
          "text": [
            "[9980, 10005, 9968, 9911, 10113, 10023]\n"
          ]
        }
      ],
      "source": [
        "throws = [0, 0, 0, 0, 0, 0, 0]\n",
        "for i in range(60000):\n",
        "    throws[dice()] += 1\n",
        "print(throws[1:])"
      ]
    },
    {
      "cell_type": "markdown",
      "metadata": {
        "id": "d807BoiSDuQg"
      },
      "source": [
        "##Assignment_10 - 01\n",
        "\n",
        "##rock, paper and scissors\n",
        "\n",
        "The traditional Rock-Paper-Scissors is a two-player game, in which each player simultaneously chooses, either rock, paper or scissors, given that, rock crushes scissors, scissors cuts paper, and paper covers rock. Based on the rules, the winner is decided.\n",
        "\n",
        "\n",
        "Implement a function which accepts two strings (player_one and player_two)⁠ as arguments and returns an integer stating the winner of the game - Rock, Paper, Scissors.\n",
        "\n",
        "Each argument will contain a single string: \"Rock\", \"Paper\", or \"Scissors\". Return the winner according to the following rules:\n",
        "\n",
        "* Rock beats Scissors\n",
        "* Scissors beats Paper\n",
        "* Paper beats Rock\n",
        "\n",
        "    > If player_one wins, return 1\n",
        "\n",
        "    > If player_two wins, return -1 and\n",
        "\n",
        "    > If both player_one and player_two are the same, return 0\n",
        "\n"
      ]
    },
    {
      "cell_type": "markdown",
      "metadata": {
        "id": "4IZVt5W9T47U"
      },
      "source": [
        "## Assignment_10 - 02\n",
        "\n",
        "**Longest Substring**\n",
        "\n",
        "Given a string s, find the length of the longest substring without repeating characters.\n",
        "\n",
        "\n",
        "\n",
        "Example 1:\n",
        "\n",
        "Input: s = \"abcabcbb\"\n",
        "\n",
        "Output: 3\n",
        "Explanation: The answer is \"abc\", with the length of 3.\n",
        "\n",
        "Example 2:\n",
        "\n",
        "Input: s = \"bbbbb\"\n",
        "\n",
        "Output: 1\n",
        "\n",
        "Explanation: The answer is \"b\", with the length of 1.\n",
        "\n",
        "Example 3:\n",
        "\n",
        "Input: s = \"pwwkew\"\n",
        "\n",
        "Output: 3\n",
        "\n",
        "Explanation: The answer is \"wke\", with the length of 3.\n",
        "Notice that the answer must be a substring, \"pwke\" is not a substring.\n"
      ]
    },
    {
      "cell_type": "code",
      "execution_count": null,
      "metadata": {
        "id": "XQ2b-zAj9Y5V"
      },
      "outputs": [],
      "source": []
    }
  ],
  "metadata": {
    "colab": {
      "provenance": []
    },
    "kernelspec": {
      "display_name": "Python 3",
      "name": "python3"
    },
    "language_info": {
      "name": "python",
      "version": "3.12.1"
    }
  },
  "nbformat": 4,
  "nbformat_minor": 0
}
