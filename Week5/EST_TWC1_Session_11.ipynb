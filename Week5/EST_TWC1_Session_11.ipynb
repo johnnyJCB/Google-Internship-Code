{
  "nbformat": 4,
  "nbformat_minor": 0,
  "metadata": {
    "colab": {
      "provenance": []
    },
    "kernelspec": {
      "name": "python3",
      "display_name": "Python 3"
    },
    "language_info": {
      "name": "python"
    }
  },
  "cells": [
    {
      "cell_type": "markdown",
      "source": [
        "# Session 11\n",
        "\n",
        "Coverage\n",
        "\n",
        "    * **dictionaries**\n",
        "    * FizzBuzz\n",
        "    * mon(th)-dd-yyyy -> yyyyddd\n",
        "    * Assignments:\n",
        "\t   - Roman to Arabic\n",
        "       - Arabic to Roman\n",
        "\n",
        "## Problem set\n",
        "\n",
        "* FizzBuzz\n",
        "* dd mm yyyy -> yyyyddd"
      ],
      "metadata": {
        "id": "sOvXudjQI-OR"
      }
    },
    {
      "cell_type": "markdown",
      "source": [
        "# Dictionaries\n",
        "\n",
        "* are collections of objects\n",
        "* unordered -- pre python version 3.7*\n",
        "* do not allow duplicate keys -- by definition\n",
        "* stored inside curly braces, separated by commas\n",
        "* access values using keys\n",
        "* mutable"
      ],
      "metadata": {
        "id": "sxBl4hLJOeCm"
      }
    },
    {
      "cell_type": "code",
      "source": [
        "strings_to_values = {\"one\": 1, \"two\": 2, \"three\": 3}\n",
        "print(strings_to_values)"
      ],
      "metadata": {
        "colab": {
          "base_uri": "https://localhost:8080/"
        },
        "id": "Yih8QCB4OLl5",
        "outputId": "59a1e1ef-8517-42d0-fa85-973e3c75b196"
      },
      "execution_count": null,
      "outputs": [
        {
          "output_type": "stream",
          "name": "stdout",
          "text": [
            "{'one': 2, 'two': 2, 'three': 3}\n"
          ]
        }
      ]
    },
    {
      "cell_type": "code",
      "source": [
        "strings_to_values = {\"one\": 1, \"two\": 2, \"three\": 3}\n",
        "nums_to_strings = {1: \"one\", 2: \"two\", 3: \"three\"}\n",
        "print(strings_to_values)\n",
        "print(nums_to_strings)"
      ],
      "metadata": {
        "colab": {
          "base_uri": "https://localhost:8080/"
        },
        "id": "_0NAm9Y6YZfS",
        "outputId": "b9a6d900-ac14-4826-c405-b4764d3ac21f"
      },
      "execution_count": null,
      "outputs": [
        {
          "output_type": "stream",
          "name": "stdout",
          "text": [
            "{'one': 1, 'two': 2, 'three': 3}\n",
            "{1: 'one', 2: 'two', 3: 'three'}\n"
          ]
        }
      ]
    },
    {
      "cell_type": "code",
      "source": [
        "#invalid_dict = {[1,2,3]: \"123\"}  # => Yield a TypeError: unhashable type: 'list'\n",
        "valid_dict = {(1,2,3):[1,2,3]}   # Values can be of any type, however."
      ],
      "metadata": {
        "id": "7evnPr5bYQoH"
      },
      "execution_count": null,
      "outputs": []
    },
    {
      "cell_type": "code",
      "source": [
        "strings_to_values = {\"one\": 1, \"two\": 2, \"three\": 3}\n",
        "print(strings_to_values[\"three\"])"
      ],
      "metadata": {
        "colab": {
          "base_uri": "https://localhost:8080/"
        },
        "id": "6CGvqrW3ZAVW",
        "outputId": "3885de53-ebf8-42b2-8811-b8dff58694b0"
      },
      "execution_count": null,
      "outputs": [
        {
          "output_type": "stream",
          "name": "stdout",
          "text": [
            "3\n"
          ]
        }
      ]
    },
    {
      "cell_type": "code",
      "source": [
        "for key in strings_to_values.keys():\n",
        "    print(key)"
      ],
      "metadata": {
        "colab": {
          "base_uri": "https://localhost:8080/"
        },
        "id": "Fi8qyqb-ZPaz",
        "outputId": "0d1bf33a-7545-45f3-8ebe-44cd2380cfdb"
      },
      "execution_count": null,
      "outputs": [
        {
          "output_type": "stream",
          "name": "stdout",
          "text": [
            "one\n",
            "two\n",
            "three\n"
          ]
        }
      ]
    },
    {
      "cell_type": "code",
      "source": [
        "for key in strings_to_values.keys():\n",
        "    print(strings_to_values[key])"
      ],
      "metadata": {
        "colab": {
          "base_uri": "https://localhost:8080/"
        },
        "id": "wuxtjSkeZ4Vo",
        "outputId": "2f0c9830-73cb-4f23-d844-c230d8c2eab1"
      },
      "execution_count": null,
      "outputs": [
        {
          "output_type": "stream",
          "name": "stdout",
          "text": [
            "1\n",
            "2\n",
            "3\n"
          ]
        }
      ]
    },
    {
      "cell_type": "code",
      "source": [
        "for value in strings_to_values.values():\n",
        "    print(value)"
      ],
      "metadata": {
        "colab": {
          "base_uri": "https://localhost:8080/"
        },
        "id": "noOBgOQfZ7Kc",
        "outputId": "cc6c8a96-bdca-48e9-80e1-e30682dbc167"
      },
      "execution_count": null,
      "outputs": [
        {
          "output_type": "stream",
          "name": "stdout",
          "text": [
            "1\n",
            "2\n",
            "3\n"
          ]
        }
      ]
    },
    {
      "cell_type": "code",
      "source": [
        "for key, value in strings_to_values.items():\n",
        "    print(key, value)"
      ],
      "metadata": {
        "colab": {
          "base_uri": "https://localhost:8080/"
        },
        "id": "lt6veBE7Z_Ks",
        "outputId": "868797a5-a809-468c-fa06-558a912edb68"
      },
      "execution_count": null,
      "outputs": [
        {
          "output_type": "stream",
          "name": "stdout",
          "text": [
            "one 1\n",
            "two 2\n",
            "three 3\n"
          ]
        }
      ]
    },
    {
      "cell_type": "code",
      "source": [
        "for item in strings_to_values.items():\n",
        "    print(item)"
      ],
      "metadata": {
        "colab": {
          "base_uri": "https://localhost:8080/"
        },
        "id": "26w6LIzOaQNY",
        "outputId": "56df86e0-b1d0-48d2-ddef-d792764f0994"
      },
      "execution_count": null,
      "outputs": [
        {
          "output_type": "stream",
          "name": "stdout",
          "text": [
            "('one', 1)\n",
            "('two', 2)\n",
            "('three', 3)\n"
          ]
        }
      ]
    },
    {
      "cell_type": "code",
      "source": [
        "print(strings_to_values)\n",
        "print(\"four\" in strings_to_values)\n",
        "print(strings_to_values.get(\"four\"))\n",
        "print(\"three\" in strings_to_values)\n",
        "print(strings_to_values.get(\"three\"))"
      ],
      "metadata": {
        "colab": {
          "base_uri": "https://localhost:8080/"
        },
        "id": "cJOKqsABaV_O",
        "outputId": "dca207ea-a996-49ca-e0c1-82037ee18993"
      },
      "execution_count": null,
      "outputs": [
        {
          "output_type": "stream",
          "name": "stdout",
          "text": [
            "{'one': 1, 'two': 2, 'three': 3}\n",
            "False\n",
            "None\n",
            "True\n",
            "3\n"
          ]
        }
      ]
    },
    {
      "cell_type": "code",
      "source": [
        "strings_to_values[\"one\"] = 11\n",
        "print(strings_to_values)\n",
        "strings_to_values[\"one\"] = 1\n",
        "print(strings_to_values)\n",
        "\n",
        "del strings_to_values[\"one\"]\n",
        "print(strings_to_values)\n",
        "strings_to_values[\"one\"] = 1\n",
        "print(strings_to_values)"
      ],
      "metadata": {
        "colab": {
          "base_uri": "https://localhost:8080/"
        },
        "id": "gkeggKX7b8cR",
        "outputId": "588d2160-e861-41e8-81e3-4e159aa6e7de"
      },
      "execution_count": null,
      "outputs": [
        {
          "output_type": "stream",
          "name": "stdout",
          "text": [
            "{'two': 2, 'three': 3, 'one': 11}\n",
            "{'two': 2, 'three': 3, 'one': 1}\n",
            "{'two': 2, 'three': 3}\n",
            "{'two': 2, 'three': 3, 'one': 1}\n"
          ]
        }
      ]
    },
    {
      "cell_type": "code",
      "source": [
        "strings_to_values.update({\"one\": 2, \"two\": 3})\n",
        "print(strings_to_values)"
      ],
      "metadata": {
        "colab": {
          "base_uri": "https://localhost:8080/"
        },
        "id": "peRSfcWrcaGT",
        "outputId": "cee0f65c-6db2-45fb-a782-b20885a939c4"
      },
      "execution_count": null,
      "outputs": [
        {
          "output_type": "stream",
          "name": "stdout",
          "text": [
            "{'two': 3, 'three': 3, 'one': 2}\n"
          ]
        }
      ]
    },
    {
      "cell_type": "code",
      "source": [
        "strings_to_values.update({\"four\": 4, \"five\": 5})\n",
        "print(strings_to_values)"
      ],
      "metadata": {
        "colab": {
          "base_uri": "https://localhost:8080/"
        },
        "id": "Wfq7vfQCcnP3",
        "outputId": "890aec0c-2bd2-4e64-fa7e-b6b3392cecf6"
      },
      "execution_count": null,
      "outputs": [
        {
          "output_type": "stream",
          "name": "stdout",
          "text": [
            "{'two': 3, 'three': 3, 'one': 2, 'four': 4, 'five': 5}\n"
          ]
        }
      ]
    },
    {
      "cell_type": "markdown",
      "source": [
        "#Problem 01\n",
        "\n",
        "FIZZBUZZ using dictionary"
      ],
      "metadata": {
        "id": "uLsHay70entt"
      }
    },
    {
      "cell_type": "code",
      "source": [
        "def fbn(n: int) -> str:\n",
        "    fizzbuzzer = {(True, True): \"FIZZBUZZ\",\n",
        "                  (True, False): \"FIZZ\",\n",
        "                  (False, True): \"BUZZ\",\n",
        "                  (False, False): str(n)}\n",
        "    return fizzbuzzer[(n % 3 == 0, n % 5 == 0)]\n",
        "\n",
        "def fizzbuzz(limit: int) -> list[str]:\n",
        "    fb = []\n",
        "    for n in range(1, limit):\n",
        "        fb.append(fbn(n))\n",
        "    return fb\n",
        "\n",
        "print(fizzbuzz(16))"
      ],
      "metadata": {
        "colab": {
          "base_uri": "https://localhost:8080/"
        },
        "id": "DOxXQ2i9Z-jF",
        "outputId": "98b6f6f7-fe7a-4979-bd9c-50419cba5fdf"
      },
      "execution_count": null,
      "outputs": [
        {
          "output_type": "stream",
          "name": "stdout",
          "text": [
            "['1', '2', 'FIZZ', '4', 'BUZZ', 'FIZZ', '7', '8', 'FIZZ', 'BUZZ', '11', 'FIZZ', '13', '14', 'FIZZBUZZ']\n"
          ]
        }
      ]
    },
    {
      "cell_type": "markdown",
      "source": [],
      "metadata": {
        "id": "bGdQGbv8mbAa"
      }
    },
    {
      "cell_type": "code",
      "source": [
        "print(fizzbuzz(16))"
      ],
      "metadata": {
        "colab": {
          "base_uri": "https://localhost:8080/"
        },
        "id": "ujSYzjdh0eVJ",
        "outputId": "43dba501-d50d-4b3c-c9b0-b6439a52a798"
      },
      "execution_count": null,
      "outputs": [
        {
          "output_type": "stream",
          "name": "stdout",
          "text": [
            "['1', '2', 'FIZZ', '4', 'BUZZ', 'FIZZ', '7', '8', 'FIZZ', 'BUZZ', '11', 'FIZZ', '13', '14', 'FIZZBUZZ']\n"
          ]
        }
      ]
    },
    {
      "cell_type": "code",
      "source": [
        "def fizzbuzz_2(n: int) -> list[str]:\n",
        "  dict1 = {3: \"FIZZ\", 5: \"BUZZ\", 15: \"FIZZBUZZ\"}\n",
        "  l1 = []\n",
        "  for item in range(1, n):\n",
        "    item2 = str(item)\n",
        "    for key in dict1.keys():\n",
        "      if item % key == 0:\n",
        "        item2 = dict1.get(key)\n",
        "    l1.append(item2)\n",
        "  return l1\n",
        "print(fizzbuzz_2(31))"
      ],
      "metadata": {
        "colab": {
          "base_uri": "https://localhost:8080/"
        },
        "id": "NFt3RHA3mkH-",
        "outputId": "983f4d86-d3f9-4b29-b24b-99ff1f19a7cb"
      },
      "execution_count": null,
      "outputs": [
        {
          "output_type": "stream",
          "name": "stdout",
          "text": [
            "['1', '2', 'FIZZ', '4', 'BUZZ', 'FIZZ', '7', '8', 'FIZZ', 'BUZZ', '11', 'FIZZ', '13', '14', 'FIZZBUZZ', '16', '17', 'FIZZ', '19', 'BUZZ', 'FIZZ', '22', '23', 'FIZZ', 'BUZZ', '26', 'FIZZ', '28', '29', 'FIZZBUZZ']\n"
          ]
        }
      ]
    },
    {
      "cell_type": "code",
      "source": [
        "def FizzBuzz(limit: int) -> list[str]:\n",
        "    result = []\n",
        "    for i in range(1, limit):\n",
        "        result.append({\n",
        "            3: \"Fizz\",\n",
        "            5: \"Buzz\",\n",
        "            15: \"FizzBuzz\"\n",
        "        }.get(15 * (not i % 15) or\n",
        "              5 * (not i % 5) or\n",
        "              3 * (not i % 3), '{}'.format(i)))\n",
        "    return result\n",
        "\n",
        "print(FizzBuzz(16))"
      ],
      "metadata": {
        "colab": {
          "base_uri": "https://localhost:8080/"
        },
        "id": "d6SZ2zRtm9Yo",
        "outputId": "8c0feca7-ce28-4f2b-f109-13b752df4589"
      },
      "execution_count": null,
      "outputs": [
        {
          "output_type": "stream",
          "name": "stdout",
          "text": [
            "['1', '2', 'Fizz', '4', 'Buzz', 'Fizz', '7', '8', 'Fizz', 'Buzz', '11', 'Fizz', '13', '14', 'FizzBuzz']\n"
          ]
        }
      ]
    },
    {
      "cell_type": "markdown",
      "source": [
        "##Problem 2\n",
        "### mon(th) dd yyyy -> yyyyddd\n",
        "We are given data strings of the form\n",
        "\n",
        "\"mon(th) dd, yyyy\"\n",
        "\n",
        "Examples:\n",
        "\n",
        "Jan 4,2012\n",
        "\n",
        "February 07 1987\n",
        "\n",
        "may 30, 1999\n",
        "\n",
        " * The month name may or may not be capitalised\n",
        " * The month name may be spelt out in full or just the first three letters\n",
        "    - (Minimum three is guaranteed)\n",
        " * The day may or may not have a leading zero\n",
        " * The day and year will be separated by either\n",
        "    - Comma or\n",
        "    - Space or\n",
        "    - Comma and a space\n",
        "\n",
        "The task is convert such strings to the seven digit number yyyyddd, where ddd is the ddd$^{th}$ day of the year\n",
        "\n",
        "Jan 4, 2012 $\\Rightarrow 2012004$\n",
        "\n",
        "February 07 1987 $\\Rightarrow 1987038$\n",
        "\n",
        "may 30, 1999 $\\Rightarrow 1999150$"
      ],
      "metadata": {
        "id": "GrKcA0k7N2f8"
      }
    },
    {
      "cell_type": "code",
      "source": [
        "def convert_to_yyyyddd(s: str) -> int:\n",
        "\n",
        "    CUMULATIVE_DAYS = {\"JAN\":  0,  \"FEB\":  31,  \"MAR\": 59,  \"APR\": 90, \"MAY\": 120, \"JUN\": 151,\n",
        "                \"JUL\": 181, \"AUG\": 212, \"SEP\": 243, \"OCT\": 273, \"NOV\": 304, \"DEC\": 334}\n",
        "\n",
        "    mm, dd, yyyy = clean_up(s)\n",
        "    if yyyy == 0:\n",
        "        return -1\n",
        "    return yyyy * 1000 + CUMULATIVE_DAYS[mm] + dd"
      ],
      "metadata": {
        "id": "IOwBBdeNAAnR"
      },
      "execution_count": null,
      "outputs": []
    },
    {
      "cell_type": "code",
      "source": [
        "def is_leap_year(yyyy: int) -> bool:\n",
        "    if yyyy % 100 == 0:\n",
        "        return yyyy % 400 == 0\n",
        "    else:\n",
        "        return yyyy % 4 == 0\n",
        "\n",
        "def clean_up(s: str) -> tuple[str, int, int]:\n",
        "    COMMA, SPACE = \",\", \" \"\n",
        "    months = {\"JAN\", \"FEB\", \"MAR\", \"APR\", \"MAY\", \"JUN\", \"JUL\", \"AUG\", \"SEP\", \"OCT\", \"NOV\", \"DEC\"}\n",
        "    d31s = {\"JAN\", \"MAR\", \"MAY\", \"JUL\", \"AUG\", \"OCT\", \"DEC\"}\n",
        "\n",
        "    month, sdd, syyyy = s.replace(COMMA, SPACE).split()\n",
        "    mon = month.upper()[:3]\n",
        "    yyyy = int(syyyy)\n",
        "    dd = int(sdd)\n",
        "    leap_year_adj = int(is_leap_year(yyyy))\n",
        "\n",
        "    if mon not in months:\n",
        "        return \"\", 0, 0\n",
        "\n",
        "    if dd < 1:\n",
        "        return \"\", -1, 0\n",
        "\n",
        "    if mon == \"FEB\":\n",
        "        if dd > 28 + leap_year_adj:\n",
        "            return \"FEB\", -1, 0\n",
        "    if mon in d31s:\n",
        "        if dd > 31:\n",
        "            return mon, -1, 0\n",
        "    elif dd > 30:\n",
        "        return mon, -1, 0\n",
        "\n",
        "\n",
        "    return mon, dd, yyyy"
      ],
      "metadata": {
        "id": "sFjWDqo5omuv"
      },
      "execution_count": null,
      "outputs": []
    },
    {
      "cell_type": "code",
      "source": [
        "print(convert_to_yyyyddd(\"JAN 4, 2012\"))"
      ],
      "metadata": {
        "colab": {
          "base_uri": "https://localhost:8080/"
        },
        "id": "Mgo3i7oqpADu",
        "outputId": "75a0b232-8574-4ee1-9fc6-72cfbb491a4c"
      },
      "execution_count": null,
      "outputs": [
        {
          "output_type": "stream",
          "name": "stdout",
          "text": [
            "2012004\n"
          ]
        }
      ]
    },
    {
      "cell_type": "code",
      "source": [
        "print(convert_to_yyyyddd(\"Jan 4, 2012\"))"
      ],
      "metadata": {
        "id": "dlgMuq9Rp7yq",
        "outputId": "96013c13-7da2-433d-ff23-75502cb38cff",
        "colab": {
          "base_uri": "https://localhost:8080/"
        }
      },
      "execution_count": null,
      "outputs": [
        {
          "output_type": "stream",
          "name": "stdout",
          "text": [
            "2012004\n"
          ]
        }
      ]
    },
    {
      "cell_type": "code",
      "source": [
        "print(convert_to_yyyyddd(\"January 4, 2012\"))"
      ],
      "metadata": {
        "colab": {
          "base_uri": "https://localhost:8080/"
        },
        "id": "aLtUuOTCpGkg",
        "outputId": "0ebb403d-38fe-42e9-874f-4098a51ec7b2"
      },
      "execution_count": null,
      "outputs": [
        {
          "output_type": "stream",
          "name": "stdout",
          "text": [
            "2012004\n"
          ]
        }
      ]
    },
    {
      "cell_type": "code",
      "source": [],
      "metadata": {
        "id": "Y50IeQT8p_ZE"
      },
      "execution_count": null,
      "outputs": []
    }
  ]
}