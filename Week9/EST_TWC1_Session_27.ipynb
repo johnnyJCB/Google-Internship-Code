{
  "nbformat": 4,
  "nbformat_minor": 0,
  "metadata": {
    "colab": {
      "provenance": []
    },
    "kernelspec": {
      "name": "python3",
      "display_name": "Python 3"
    },
    "language_info": {
      "name": "python"
    }
  },
  "cells": [
    {
      "cell_type": "markdown",
      "source": [
        "Office Hours Discussion"
      ],
      "metadata": {
        "id": "ncDqOTwHOAtK"
      }
    },
    {
      "cell_type": "code",
      "source": [
        "a = [1, 2, 3, 4, 5, 6, 7, 8, 9, 10, 11]"
      ],
      "metadata": {
        "id": "eVc17eepHMf_"
      },
      "execution_count": null,
      "outputs": []
    },
    {
      "cell_type": "code",
      "execution_count": null,
      "metadata": {
        "colab": {
          "base_uri": "https://localhost:8080/"
        },
        "id": "V3-OX4Y2HGik",
        "outputId": "2e3044d3-0315-4881-b37d-d53085767106"
      },
      "outputs": [
        {
          "output_type": "stream",
          "name": "stdout",
          "text": [
            "List is too long (11 elements, expected <= 10)\n"
          ]
        }
      ],
      "source": [
        "if (n := len(a)) > 10:\n",
        "    print(f\"List is too long ({n} elements, expected <= 10)\")"
      ]
    },
    {
      "cell_type": "code",
      "source": [
        "n = len(a)\n",
        "if n > 10:\n",
        "    print(f\"List is too long ({n} elements, expected <= 10)\")"
      ],
      "metadata": {
        "colab": {
          "base_uri": "https://localhost:8080/"
        },
        "id": "gV9JBSEcHIin",
        "outputId": "01135d98-1cbe-4e4e-85d5-9797457b928c"
      },
      "execution_count": null,
      "outputs": [
        {
          "output_type": "stream",
          "name": "stdout",
          "text": [
            "List is too long (11 elements, expected <= 10)\n"
          ]
        }
      ]
    },
    {
      "cell_type": "markdown",
      "source": [
        "# Odometer V1234\n",
        "\n",
        "### An odometer with only ascending digits\n",
        "\n",
        "- Look at Odometer.pdf"
      ],
      "metadata": {
        "id": "OMFX30XeCdGg"
      }
    },
    {
      "cell_type": "markdown",
      "source": [
        "# Helper Functions\n",
        "\n",
        "### For building odometer functionality"
      ],
      "metadata": {
        "id": "ngICZfaUCixU"
      }
    },
    {
      "cell_type": "code",
      "source": [
        "# NOT STRICTLY ASCENDING\n",
        "\n",
        "def is_ascending(n: int) -> bool:\n",
        "    return list(str(n)) == sorted(str(n))"
      ],
      "metadata": {
        "id": "tv2phye7CsoI"
      },
      "execution_count": null,
      "outputs": []
    },
    {
      "cell_type": "code",
      "source": [
        "# YES CHECKS IF NUMBERS ARE STRICTLY ASCENDING\n",
        "\n",
        "def is_ascending(n: int) -> bool:\n",
        "    while n > 9:\n",
        "        if last_digit(n) <= last_digit(n // 10):\n",
        "            return False\n",
        "        n //= 10\n",
        "    return True"
      ],
      "metadata": {
        "id": "0t7pMgnWYnFU"
      },
      "execution_count": null,
      "outputs": []
    },
    {
      "cell_type": "code",
      "source": [
        "def last_digit(n: int) -> int:\n",
        "    return n % 10"
      ],
      "metadata": {
        "id": "gKTz4-KYY9ix"
      },
      "execution_count": null,
      "outputs": []
    },
    {
      "cell_type": "code",
      "source": [
        "sorted(str(321))"
      ],
      "metadata": {
        "colab": {
          "base_uri": "https://localhost:8080/"
        },
        "id": "1Ry9vqmdVCWe",
        "outputId": "9acd835e-8dc6-4bbc-bc49-fe11ba69a327"
      },
      "execution_count": null,
      "outputs": [
        {
          "output_type": "execute_result",
          "data": {
            "text/plain": [
              "['1', '2', '3']"
            ]
          },
          "metadata": {},
          "execution_count": 4
        }
      ]
    },
    {
      "cell_type": "code",
      "source": [
        "str(321).sort()"
      ],
      "metadata": {
        "colab": {
          "base_uri": "https://localhost:8080/",
          "height": 141
        },
        "id": "5b29Llo4VLXn",
        "outputId": "816aefcd-b95f-4bac-9ff4-e59a7ec510f4"
      },
      "execution_count": null,
      "outputs": [
        {
          "output_type": "error",
          "ename": "AttributeError",
          "evalue": "'str' object has no attribute 'sort'",
          "traceback": [
            "\u001b[0;31m---------------------------------------------------------------------------\u001b[0m",
            "\u001b[0;31mAttributeError\u001b[0m                            Traceback (most recent call last)",
            "\u001b[0;32m<ipython-input-5-c4cc925430c2>\u001b[0m in \u001b[0;36m<cell line: 1>\u001b[0;34m()\u001b[0m\n\u001b[0;32m----> 1\u001b[0;31m \u001b[0mstr\u001b[0m\u001b[0;34m(\u001b[0m\u001b[0;36m321\u001b[0m\u001b[0;34m)\u001b[0m\u001b[0;34m.\u001b[0m\u001b[0msort\u001b[0m\u001b[0;34m(\u001b[0m\u001b[0;34m)\u001b[0m\u001b[0;34m\u001b[0m\u001b[0;34m\u001b[0m\u001b[0m\n\u001b[0m",
            "\u001b[0;31mAttributeError\u001b[0m: 'str' object has no attribute 'sort'"
          ]
        }
      ]
    },
    {
      "cell_type": "code",
      "source": [
        "print(is_ascending(123))\n",
        "print(is_ascending(321))\n",
        "print(is_ascending(999))"
      ],
      "metadata": {
        "colab": {
          "base_uri": "https://localhost:8080/"
        },
        "id": "BIzL0jpNU5f6",
        "outputId": "da1ef46c-94e2-45b0-9ea5-9884b63c4fee"
      },
      "execution_count": null,
      "outputs": [
        {
          "output_type": "stream",
          "name": "stdout",
          "text": [
            "True\n",
            "False\n",
            "False\n"
          ]
        }
      ]
    },
    {
      "cell_type": "code",
      "source": [
        "# MIGHT NOT BE NECESSARY\n",
        "\n",
        "def has_zero_digit(n: int) -> bool:\n",
        "    return '0' in str(n)\n",
        "\n",
        "print(has_zero_digit(120))\n",
        "print(has_zero_digit(123))"
      ],
      "metadata": {
        "colab": {
          "base_uri": "https://localhost:8080/"
        },
        "id": "2YQ0JvhnZeMp",
        "outputId": "0b0609e8-77b8-46f5-9514-91aaee521a2f"
      },
      "execution_count": null,
      "outputs": [
        {
          "output_type": "stream",
          "name": "stdout",
          "text": [
            "True\n",
            "False\n"
          ]
        }
      ]
    },
    {
      "cell_type": "code",
      "source": [
        "def digit_count(n: int) -> int:\n",
        "    return len(str(n))"
      ],
      "metadata": {
        "id": "e6yYlk9MV1Qb"
      },
      "execution_count": null,
      "outputs": []
    },
    {
      "cell_type": "code",
      "source": [
        "digit_count(346) # -> 3"
      ],
      "metadata": {
        "colab": {
          "base_uri": "https://localhost:8080/"
        },
        "id": "g4BI_Q7sV-kU",
        "outputId": "3e7db840-9077-4d73-d6ba-fb1f3b8370f5"
      },
      "execution_count": null,
      "outputs": [
        {
          "output_type": "execute_result",
          "data": {
            "text/plain": [
              "3"
            ]
          },
          "metadata": {},
          "execution_count": 9
        }
      ]
    },
    {
      "cell_type": "code",
      "source": [
        "# FASTER MORE PERFORMANT SOLUTION\n",
        "\n",
        "def get_limits(n: int) -> tuple[int, int]:\n",
        "    DIGITS = '123456789'\n",
        "    num_digits = digit_count(n)\n",
        "    return int(DIGITS[:num_digits]), int(DIGITS[-num_digits:])\n",
        "\n",
        "get_limits(346)"
      ],
      "metadata": {
        "colab": {
          "base_uri": "https://localhost:8080/"
        },
        "id": "M06UUF9kUu5W",
        "outputId": "fe637f9e-1c87-46b9-a4c3-b75e0d2a61ba"
      },
      "execution_count": null,
      "outputs": [
        {
          "output_type": "execute_result",
          "data": {
            "text/plain": [
              "(123, 789)"
            ]
          },
          "metadata": {},
          "execution_count": 27
        }
      ]
    },
    {
      "cell_type": "code",
      "source": [
        "# STILL WORKS, NOT AS PERFORMANT\n",
        "\n",
        "def get_limits(n: int) -> tuple[int, int]:\n",
        "    num_digits = digit_count(n)\n",
        "    return (min(filter(is_ascending, range(10 ** (num_digits - 1), 10 ** num_digits))),\n",
        "        max(filter(is_ascending, range(10 ** (num_digits - 1), 10 ** num_digits))))\n",
        "\n",
        "get_limits(346)"
      ],
      "metadata": {
        "colab": {
          "base_uri": "https://localhost:8080/"
        },
        "id": "oXLyoFFNX6LN",
        "outputId": "1519a835-f5ce-4ad7-c5cc-5aa239249367"
      },
      "execution_count": null,
      "outputs": [
        {
          "output_type": "execute_result",
          "data": {
            "text/plain": [
              "(123, 789)"
            ]
          },
          "metadata": {},
          "execution_count": 30
        }
      ]
    },
    {
      "cell_type": "code",
      "source": [
        "get_limits(346)"
      ],
      "metadata": {
        "colab": {
          "base_uri": "https://localhost:8080/"
        },
        "id": "Loy6LHC-XWPr",
        "outputId": "ef744d83-2cc9-4c63-f702-e8c5087250d7"
      },
      "execution_count": null,
      "outputs": [
        {
          "output_type": "execute_result",
          "data": {
            "text/plain": [
              "('123', '789')"
            ]
          },
          "metadata": {},
          "execution_count": 11
        }
      ]
    },
    {
      "cell_type": "markdown",
      "source": [
        "# Odometer :: Version 1\n",
        "\n",
        "### Now we implement the actual odometer functionality"
      ],
      "metadata": {
        "id": "5LSRitfLCtA2"
      }
    },
    {
      "cell_type": "code",
      "source": [
        "def next_reading(r: int) -> int:\n",
        "    if not is_ascending(r):\n",
        "        return -1\n",
        "    START, LIMIT = get_limits(r)\n",
        "    if r == LIMIT:\n",
        "        return START\n",
        "    else:\n",
        "        r += 1\n",
        "        while not is_ascending(r):\n",
        "            r += 1\n",
        "        return r"
      ],
      "metadata": {
        "id": "1qT3KpHdCwlQ"
      },
      "execution_count": null,
      "outputs": []
    },
    {
      "cell_type": "code",
      "source": [
        "next_reading(127)"
      ],
      "metadata": {
        "colab": {
          "base_uri": "https://localhost:8080/"
        },
        "id": "_JKQhFExco6y",
        "outputId": "5a8430b7-52e7-48f2-cd3e-77f3b4c464e5"
      },
      "execution_count": null,
      "outputs": [
        {
          "output_type": "execute_result",
          "data": {
            "text/plain": [
              "128"
            ]
          },
          "metadata": {},
          "execution_count": 33
        }
      ]
    },
    {
      "cell_type": "code",
      "source": [
        "next_reading(128)"
      ],
      "metadata": {
        "colab": {
          "base_uri": "https://localhost:8080/"
        },
        "id": "0EgACl7Wcr-v",
        "outputId": "64b6f4b2-037b-4394-cb80-6f745f47a4d8"
      },
      "execution_count": null,
      "outputs": [
        {
          "output_type": "execute_result",
          "data": {
            "text/plain": [
              "129"
            ]
          },
          "metadata": {},
          "execution_count": 34
        }
      ]
    },
    {
      "cell_type": "code",
      "source": [
        "next_reading(129) # -> 134"
      ],
      "metadata": {
        "colab": {
          "base_uri": "https://localhost:8080/"
        },
        "id": "7kFzycdOc9mI",
        "outputId": "4d8d96fc-c9e8-4b1c-d005-c133b459b87a"
      },
      "execution_count": null,
      "outputs": [
        {
          "output_type": "execute_result",
          "data": {
            "text/plain": [
              "134"
            ]
          },
          "metadata": {},
          "execution_count": 35
        }
      ]
    },
    {
      "cell_type": "code",
      "source": [
        "next_reading(689) # -> 789"
      ],
      "metadata": {
        "colab": {
          "base_uri": "https://localhost:8080/"
        },
        "id": "A9F21FTzdEOK",
        "outputId": "e737e829-59c0-4fcb-fefc-2d26d8f6978e"
      },
      "execution_count": null,
      "outputs": [
        {
          "output_type": "execute_result",
          "data": {
            "text/plain": [
              "789"
            ]
          },
          "metadata": {},
          "execution_count": 36
        }
      ]
    },
    {
      "cell_type": "code",
      "source": [
        "next_reading(789) # -> 123"
      ],
      "metadata": {
        "colab": {
          "base_uri": "https://localhost:8080/"
        },
        "id": "KU9EFIN-dLLD",
        "outputId": "62baa280-377f-4d80-9787-c663a10df6a3"
      },
      "execution_count": null,
      "outputs": [
        {
          "output_type": "execute_result",
          "data": {
            "text/plain": [
              "123"
            ]
          },
          "metadata": {},
          "execution_count": 37
        }
      ]
    },
    {
      "cell_type": "code",
      "source": [
        "def prev_reading(r: int) -> int:\n",
        "    if not is_ascending(r):\n",
        "        return -1\n",
        "    START, LIMIT = get_limits(r)\n",
        "    if r == START:\n",
        "        return LIMIT\n",
        "    else:\n",
        "        r -= 1\n",
        "        while not is_ascending(r):\n",
        "            r -= 1\n",
        "        return r"
      ],
      "metadata": {
        "id": "NurjjMsdbFf6"
      },
      "execution_count": null,
      "outputs": []
    },
    {
      "cell_type": "code",
      "source": [
        "prev_reading(267)"
      ],
      "metadata": {
        "colab": {
          "base_uri": "https://localhost:8080/"
        },
        "id": "FUBHpGw7du24",
        "outputId": "b327d6bc-42e4-4681-c2ab-0b91efd293cb"
      },
      "execution_count": null,
      "outputs": [
        {
          "output_type": "execute_result",
          "data": {
            "text/plain": [
              "259"
            ]
          },
          "metadata": {},
          "execution_count": 40
        }
      ]
    },
    {
      "cell_type": "code",
      "source": [
        "x = 347\n",
        "# Using `_` does not prevent python storing anything, this is just convention\n",
        "# to show that we don't intend to use the variable\n",
        "for _ in range(10):\n",
        "    x = prev_reading(x)\n",
        "    print(x, end=\" \")"
      ],
      "metadata": {
        "colab": {
          "base_uri": "https://localhost:8080/"
        },
        "id": "HQ7jwjDkd0-J",
        "outputId": "f46edfc5-9e2f-401a-90a9-c722cef4f193"
      },
      "execution_count": null,
      "outputs": [
        {
          "output_type": "stream",
          "name": "stdout",
          "text": [
            "0 346 1 345 2 289 3 279 4 278 5 269 6 268 7 267 8 259 9 258 "
          ]
        }
      ]
    },
    {
      "cell_type": "code",
      "source": [
        "def next_nth_reading(r: int, n: int) -> int:\n",
        "    for _ in range(n):\n",
        "        r = next_reading(r)\n",
        "    return r"
      ],
      "metadata": {
        "id": "I24Ui2i5bIBo"
      },
      "execution_count": null,
      "outputs": []
    },
    {
      "cell_type": "code",
      "source": [
        "next_nth_reading(128, 1) # -> 129"
      ],
      "metadata": {
        "colab": {
          "base_uri": "https://localhost:8080/"
        },
        "id": "YMnN7yqpfPs1",
        "outputId": "6376c8f6-0a7e-453b-ba2f-ee1c9078f320"
      },
      "execution_count": null,
      "outputs": [
        {
          "output_type": "execute_result",
          "data": {
            "text/plain": [
              "129"
            ]
          },
          "metadata": {},
          "execution_count": 44
        }
      ]
    },
    {
      "cell_type": "code",
      "source": [
        "next_nth_reading(128, 2) # -> 134"
      ],
      "metadata": {
        "colab": {
          "base_uri": "https://localhost:8080/"
        },
        "id": "g3848lFTfUgY",
        "outputId": "a1352ff2-e913-49e1-f63c-e1cac3f5fde9"
      },
      "execution_count": null,
      "outputs": [
        {
          "output_type": "execute_result",
          "data": {
            "text/plain": [
              "134"
            ]
          },
          "metadata": {},
          "execution_count": 45
        }
      ]
    },
    {
      "cell_type": "code",
      "source": [
        "def prev_nth_reading(r: int, n: int) -> int:\n",
        "    for _ in range(n):\n",
        "        r = prev_reading(r)\n",
        "    return r"
      ],
      "metadata": {
        "id": "10nCVICxbPKk"
      },
      "execution_count": null,
      "outputs": []
    },
    {
      "cell_type": "code",
      "source": [
        "prev_nth_reading(347, 1) # -> 246"
      ],
      "metadata": {
        "colab": {
          "base_uri": "https://localhost:8080/"
        },
        "id": "BJN64wmZj0wg",
        "outputId": "33f2bc40-7970-4a77-c483-cd03192aed10"
      },
      "execution_count": null,
      "outputs": [
        {
          "output_type": "execute_result",
          "data": {
            "text/plain": [
              "346"
            ]
          },
          "metadata": {},
          "execution_count": 47
        }
      ]
    },
    {
      "cell_type": "code",
      "source": [
        "prev_nth_reading(347, 7)"
      ],
      "metadata": {
        "colab": {
          "base_uri": "https://localhost:8080/"
        },
        "id": "4YHHMd96j7zK",
        "outputId": "b7e3b4bb-42f3-465b-8f73-cf859502e62d"
      },
      "execution_count": null,
      "outputs": [
        {
          "output_type": "execute_result",
          "data": {
            "text/plain": [
              "268"
            ]
          },
          "metadata": {},
          "execution_count": 48
        }
      ]
    },
    {
      "cell_type": "code",
      "source": [
        "def distance(r1: int, r2: int) -> int:\n",
        "    if not is_ascending(r1) or not is_ascending(r2):\n",
        "        return -1\n",
        "    if digit_count(r1) != digit_count(r2):\n",
        "        return -1\n",
        "    dist = 0\n",
        "    while r1 != r2:\n",
        "        r1 = next_reading(r1)\n",
        "        dist += 1\n",
        "    return dist"
      ],
      "metadata": {
        "id": "rFPAa3lBbTLb"
      },
      "execution_count": null,
      "outputs": []
    },
    {
      "cell_type": "code",
      "source": [
        "distance(123, 789)"
      ],
      "metadata": {
        "colab": {
          "base_uri": "https://localhost:8080/"
        },
        "id": "JWK1L8nwkjYZ",
        "outputId": "3540ebe9-8362-4ac3-d37b-cebfd2df61b1"
      },
      "execution_count": null,
      "outputs": [
        {
          "output_type": "execute_result",
          "data": {
            "text/plain": [
              "83"
            ]
          },
          "metadata": {},
          "execution_count": 51
        }
      ]
    },
    {
      "cell_type": "code",
      "source": [
        "distance(789, 123)"
      ],
      "metadata": {
        "colab": {
          "base_uri": "https://localhost:8080/"
        },
        "id": "-0ZBAbZMksh4",
        "outputId": "a3fcb7ee-b4a6-439b-f390-1cb8b098df12"
      },
      "execution_count": null,
      "outputs": [
        {
          "output_type": "execute_result",
          "data": {
            "text/plain": [
              "1"
            ]
          },
          "metadata": {},
          "execution_count": 52
        }
      ]
    },
    {
      "cell_type": "markdown",
      "source": [
        "# Odometer :: Version 2\n",
        "\n",
        "### Now we use default arguments"
      ],
      "metadata": {
        "id": "XLmFF8VyC7Cg"
      }
    },
    {
      "cell_type": "code",
      "source": [
        "def next_reading_ver2(r: int, n: int=1) -> int:\n",
        "    if not is_ascending(r):\n",
        "        return -1\n",
        "    START, LIMIT = get_limits(r)\n",
        "    for _ in range(n):\n",
        "        if r == LIMIT:\n",
        "            r = START\n",
        "        else:\n",
        "            r += 1\n",
        "            while not is_ascending(r):\n",
        "                r += 1\n",
        "    return r"
      ],
      "metadata": {
        "id": "ELpJhr0WDAwh"
      },
      "execution_count": null,
      "outputs": []
    },
    {
      "cell_type": "code",
      "source": [
        "next_reading_ver2(129)"
      ],
      "metadata": {
        "colab": {
          "base_uri": "https://localhost:8080/"
        },
        "id": "8UiMRuomlpGV",
        "outputId": "57691567-583e-4c39-b37c-9b3a72721228"
      },
      "execution_count": null,
      "outputs": [
        {
          "output_type": "execute_result",
          "data": {
            "text/plain": [
              "134"
            ]
          },
          "metadata": {},
          "execution_count": 54
        }
      ]
    },
    {
      "cell_type": "code",
      "source": [
        "next_reading_ver2(129, 4)"
      ],
      "metadata": {
        "colab": {
          "base_uri": "https://localhost:8080/"
        },
        "id": "vhXnp_sYlsDd",
        "outputId": "601705fb-4e33-4cd1-f954-d2605117c1ab"
      },
      "execution_count": null,
      "outputs": [
        {
          "output_type": "execute_result",
          "data": {
            "text/plain": [
              "137"
            ]
          },
          "metadata": {},
          "execution_count": 56
        }
      ]
    },
    {
      "cell_type": "code",
      "source": [
        "def prev_reading_ver2(r: int, n: int=1) -> int:\n",
        "    if not is_ascending(r):\n",
        "        return -1\n",
        "    START, LIMIT = get_limits(r)\n",
        "    for _ in range(n):\n",
        "        if r == START:\n",
        "            r = LIMIT\n",
        "        else:\n",
        "            r -= 1\n",
        "            while not is_ascending(r):\n",
        "                r -= 1\n",
        "    return r"
      ],
      "metadata": {
        "id": "7Fs4vnNJl2E2"
      },
      "execution_count": null,
      "outputs": []
    },
    {
      "cell_type": "code",
      "source": [
        "prev_reading_ver2(129)"
      ],
      "metadata": {
        "colab": {
          "base_uri": "https://localhost:8080/"
        },
        "id": "Qi0MvT4Hl9Hr",
        "outputId": "782d4100-b803-40b5-f24b-086aeeb93129"
      },
      "execution_count": null,
      "outputs": [
        {
          "output_type": "execute_result",
          "data": {
            "text/plain": [
              "128"
            ]
          },
          "metadata": {},
          "execution_count": 58
        }
      ]
    },
    {
      "cell_type": "code",
      "source": [
        "prev_reading_ver2(129, 4)"
      ],
      "metadata": {
        "colab": {
          "base_uri": "https://localhost:8080/"
        },
        "id": "rRxgi6Lul_1Z",
        "outputId": "7b044178-70c7-4541-d4a8-49c86e39e213"
      },
      "execution_count": null,
      "outputs": [
        {
          "output_type": "execute_result",
          "data": {
            "text/plain": [
              "125"
            ]
          },
          "metadata": {},
          "execution_count": 59
        }
      ]
    },
    {
      "cell_type": "markdown",
      "source": [
        "# Odometer :: Version 3\n",
        "\n",
        "### Now we pre-compute the limits and look them up rather than compute them on the fly"
      ],
      "metadata": {
        "id": "29FU4KHzDBFI"
      }
    },
    {
      "cell_type": "code",
      "source": [
        "def get_limits(n: int) -> tuple[int, int]:\n",
        "    LIMITS = [(), (), (12, 89), (123, 789), (1234, 6789),\n",
        "              (12345, 56789), (123456, 456789), (1234567, 3456789),\n",
        "              (12345678, 23456789)]\n",
        "    return LIMITS[len(str(n))]"
      ],
      "metadata": {
        "id": "7fkMwqgMDLVH"
      },
      "execution_count": null,
      "outputs": []
    },
    {
      "cell_type": "markdown",
      "source": [
        "# Odometer :: Version 4\n",
        "\n",
        "### Now we pre-compute the readings themselves"
      ],
      "metadata": {
        "id": "05vrg7deDMV4"
      }
    },
    {
      "cell_type": "code",
      "source": [
        "LIMITS = [(), (), (12, 89), (123, 789), (1234, 6789), (12345, 56789),\n",
        "          (123456, 456789), (1234567, 3456789), (12345678, 23456789)]\n",
        "READINGS = [(), ()]\n",
        "for size in range(2, 9):\n",
        "    a, b = LIMITS[size]\n",
        "    READINGS.append(tuple(i for i in range(a, b + 1) if is_ascending(i)))"
      ],
      "metadata": {
        "id": "pL37wfgIm4Hq"
      },
      "execution_count": null,
      "outputs": []
    },
    {
      "cell_type": "code",
      "source": [
        "READINGS[2]"
      ],
      "metadata": {
        "colab": {
          "base_uri": "https://localhost:8080/"
        },
        "id": "nvFmAws-m_-X",
        "outputId": "12b242a7-8132-471c-d3a3-304324d0a418"
      },
      "execution_count": null,
      "outputs": [
        {
          "output_type": "execute_result",
          "data": {
            "text/plain": [
              "(12,\n",
              " 13,\n",
              " 14,\n",
              " 15,\n",
              " 16,\n",
              " 17,\n",
              " 18,\n",
              " 19,\n",
              " 23,\n",
              " 24,\n",
              " 25,\n",
              " 26,\n",
              " 27,\n",
              " 28,\n",
              " 29,\n",
              " 34,\n",
              " 35,\n",
              " 36,\n",
              " 37,\n",
              " 38,\n",
              " 39,\n",
              " 45,\n",
              " 46,\n",
              " 47,\n",
              " 48,\n",
              " 49,\n",
              " 56,\n",
              " 57,\n",
              " 58,\n",
              " 59,\n",
              " 67,\n",
              " 68,\n",
              " 69,\n",
              " 78,\n",
              " 79,\n",
              " 89)"
            ]
          },
          "metadata": {},
          "execution_count": 63
        }
      ]
    },
    {
      "cell_type": "code",
      "source": [
        "def next_reading(r: int, n = 1):\n",
        "    if not is_ascending(r):\n",
        "        return -1\n",
        "    CURRENT = READINGS[len(str(r))]\n",
        "    position = (CURRENT.index(r) + n) % len(CURRENT)\n",
        "    return CURRENT[position]"
      ],
      "metadata": {
        "id": "Bt973Ob3nAs9"
      },
      "execution_count": null,
      "outputs": []
    },
    {
      "cell_type": "code",
      "source": [
        "def prev_reading(r: int, n = 1):\n",
        "    if not is_ascending(r):\n",
        "        return -1\n",
        "    CURRENT = READINGS[len(str(r))]\n",
        "    position = (CURRENT.index(r) - n)\n",
        "    while position < 0:\n",
        "        position += len(CURRENT)\n",
        "    return CURRENT[position]"
      ],
      "metadata": {
        "id": "EVAhnsMinHx8"
      },
      "execution_count": null,
      "outputs": []
    },
    {
      "cell_type": "code",
      "source": [
        "def distance(r1: int, r2: int) -> int:\n",
        "    if len(str(r1)) != len(str(r2)):\n",
        "        return -1\n",
        "    CURRENT = READINGS[len(str(r1))]\n",
        "    p1 = CURRENT.index(r1)\n",
        "    p2 = CURRENT.index(r2)\n",
        "    # Complete the remaining\n",
        "    return"
      ],
      "metadata": {
        "id": "1uU0V3rxnO-f"
      },
      "execution_count": null,
      "outputs": []
    },
    {
      "cell_type": "code",
      "source": [],
      "metadata": {
        "id": "HuBEYXqZnPvZ"
      },
      "execution_count": null,
      "outputs": []
    }
  ]
}