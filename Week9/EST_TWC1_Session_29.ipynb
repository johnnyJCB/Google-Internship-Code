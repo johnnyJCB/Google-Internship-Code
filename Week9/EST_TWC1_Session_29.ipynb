{
  "cells": [
    {
      "cell_type": "code",
      "execution_count": 1,
      "metadata": {
        "colab": {
          "base_uri": "https://localhost:8080/"
        },
        "id": "4Hmxb92j3Fba",
        "outputId": "a40dd79f-779d-47f9-ce3c-069695c12e09"
      },
      "outputs": [
        {
          "data": {
            "text/plain": [
              "['__add__',\n",
              " '__class__',\n",
              " '__contains__',\n",
              " '__delattr__',\n",
              " '__dir__',\n",
              " '__doc__',\n",
              " '__eq__',\n",
              " '__format__',\n",
              " '__ge__',\n",
              " '__getattribute__',\n",
              " '__getitem__',\n",
              " '__getnewargs__',\n",
              " '__getstate__',\n",
              " '__gt__',\n",
              " '__hash__',\n",
              " '__init__',\n",
              " '__init_subclass__',\n",
              " '__iter__',\n",
              " '__le__',\n",
              " '__len__',\n",
              " '__lt__',\n",
              " '__mod__',\n",
              " '__mul__',\n",
              " '__ne__',\n",
              " '__new__',\n",
              " '__reduce__',\n",
              " '__reduce_ex__',\n",
              " '__repr__',\n",
              " '__rmod__',\n",
              " '__rmul__',\n",
              " '__setattr__',\n",
              " '__sizeof__',\n",
              " '__str__',\n",
              " '__subclasshook__',\n",
              " 'capitalize',\n",
              " 'casefold',\n",
              " 'center',\n",
              " 'count',\n",
              " 'encode',\n",
              " 'endswith',\n",
              " 'expandtabs',\n",
              " 'find',\n",
              " 'format',\n",
              " 'format_map',\n",
              " 'index',\n",
              " 'isalnum',\n",
              " 'isalpha',\n",
              " 'isascii',\n",
              " 'isdecimal',\n",
              " 'isdigit',\n",
              " 'isidentifier',\n",
              " 'islower',\n",
              " 'isnumeric',\n",
              " 'isprintable',\n",
              " 'isspace',\n",
              " 'istitle',\n",
              " 'isupper',\n",
              " 'join',\n",
              " 'ljust',\n",
              " 'lower',\n",
              " 'lstrip',\n",
              " 'maketrans',\n",
              " 'partition',\n",
              " 'removeprefix',\n",
              " 'removesuffix',\n",
              " 'replace',\n",
              " 'rfind',\n",
              " 'rindex',\n",
              " 'rjust',\n",
              " 'rpartition',\n",
              " 'rsplit',\n",
              " 'rstrip',\n",
              " 'split',\n",
              " 'splitlines',\n",
              " 'startswith',\n",
              " 'strip',\n",
              " 'swapcase',\n",
              " 'title',\n",
              " 'translate',\n",
              " 'upper',\n",
              " 'zfill']"
            ]
          },
          "execution_count": 1,
          "metadata": {},
          "output_type": "execute_result"
        }
      ],
      "source": [
        "dir(\"hello\")"
      ]
    },
    {
      "cell_type": "code",
      "execution_count": 2,
      "metadata": {
        "colab": {
          "base_uri": "https://localhost:8080/"
        },
        "id": "cy4GOo3D3RWW",
        "outputId": "8c51558a-515b-483f-aa24-3a5144c95c2e"
      },
      "outputs": [
        {
          "data": {
            "text/plain": [
              "['__add__',\n",
              " '__class__',\n",
              " '__class_getitem__',\n",
              " '__contains__',\n",
              " '__delattr__',\n",
              " '__delitem__',\n",
              " '__dir__',\n",
              " '__doc__',\n",
              " '__eq__',\n",
              " '__format__',\n",
              " '__ge__',\n",
              " '__getattribute__',\n",
              " '__getitem__',\n",
              " '__getstate__',\n",
              " '__gt__',\n",
              " '__hash__',\n",
              " '__iadd__',\n",
              " '__imul__',\n",
              " '__init__',\n",
              " '__init_subclass__',\n",
              " '__iter__',\n",
              " '__le__',\n",
              " '__len__',\n",
              " '__lt__',\n",
              " '__mul__',\n",
              " '__ne__',\n",
              " '__new__',\n",
              " '__reduce__',\n",
              " '__reduce_ex__',\n",
              " '__repr__',\n",
              " '__reversed__',\n",
              " '__rmul__',\n",
              " '__setattr__',\n",
              " '__setitem__',\n",
              " '__sizeof__',\n",
              " '__str__',\n",
              " '__subclasshook__',\n",
              " 'append',\n",
              " 'clear',\n",
              " 'copy',\n",
              " 'count',\n",
              " 'extend',\n",
              " 'index',\n",
              " 'insert',\n",
              " 'pop',\n",
              " 'remove',\n",
              " 'reverse',\n",
              " 'sort']"
            ]
          },
          "execution_count": 2,
          "metadata": {},
          "output_type": "execute_result"
        }
      ],
      "source": [
        "dir([1, 2])"
      ]
    },
    {
      "cell_type": "markdown",
      "metadata": {
        "id": "cFuJ1jbRyVTA"
      },
      "source": [
        "## Object oriented odometer\n"
      ]
    },
    {
      "cell_type": "code",
      "execution_count": 3,
      "metadata": {
        "id": "ua0os8ASdtG0"
      },
      "outputs": [],
      "source": [
        "SIZE = 4\n",
        "\n",
        "class Odometer:\n",
        "    def __init__(self, size):\n",
        "        self.SIZE = size\n",
        "        self.START = int(\"123456789\"[:size])\n",
        "        self.LIMIT = int(\"123456789\"[-size:])\n",
        "        self.reading = self.START\n",
        "    def __str__(self):\n",
        "        return str(self.reading)\n",
        "    def __repr__(self):\n",
        "        return f'{self.START}<<{self.reading}>>{self.LIMIT}'\n",
        "\n",
        "    @staticmethod\n",
        "    def is_ascending(n: int) -> bool:\n",
        "        return all(a < b for a, b in zip(str(n), str(n)[1:]))\n",
        "\n",
        "    def after(self, rotations=1):\n",
        "        for _ in range(rotations):\n",
        "            if self.reading == self.LIMIT:\n",
        "                self.reading = self.START\n",
        "            else:\n",
        "                self.reading += 1\n",
        "                while not Odometer.is_ascending(self.reading):\n",
        "                    self.reading += 1\n",
        "            return self.reading\n",
        "\n",
        "    def before(self, rotations=1):\n",
        "        for _ in range(rotations):\n",
        "            if self.reading == self.START:\n",
        "                self.reading = self.LIMIT\n",
        "            else:\n",
        "                self.reading -= 1\n",
        "                while not Odometer.is_ascending(self.reading):\n",
        "                    self.reading -= 1\n",
        "            return self.reading\n",
        "\n",
        "    def distance(self, other):\n",
        "        if self.SIZE != other.SIZE:\n",
        "            return -1\n",
        "        self_copy = Odometer(self.SIZE)\n",
        "        self_copy.reading = self.reading\n",
        "        diff = 0\n",
        "        while self_copy.reading != other.reading:\n",
        "            diff += 1\n",
        "            self_copy.after()\n",
        "        return diff\n",
        "\n",
        "\n",
        "\n",
        "    # def distance(r1: int, r2: int) -> int:\n",
        "    #     if not is_ascending(r1) or not is_ascending(r2):\n",
        "    #         return -1\n",
        "    #     if digit_count(r1) != digit_count(r2):\n",
        "    #         return -1\n",
        "    #     dist = 0\n",
        "    #     while r1 != r2:\n",
        "    #         r1 = next_reading(r1)\n",
        "    #         dist += 1\n",
        "    #     return dist"
      ]
    },
    {
      "cell_type": "code",
      "execution_count": null,
      "metadata": {
        "id": "cNwUaPvq3El7"
      },
      "outputs": [],
      "source": []
    },
    {
      "cell_type": "code",
      "execution_count": 4,
      "metadata": {
        "colab": {
          "base_uri": "https://localhost:8080/"
        },
        "id": "yi0A5Y1G515r",
        "outputId": "718a8147-58b6-4b83-d3ae-785974a76fc9"
      },
      "outputs": [
        {
          "name": "stdout",
          "output_type": "stream",
          "text": [
            "1234\n",
            "1235\n",
            "1235\n",
            "1234\n",
            "6789\n",
            "6789\n"
          ]
        }
      ],
      "source": [
        "o = Odometer(4)\n",
        "print(o) # -> 1234\n",
        "print(o.after()) # -> 1235\n",
        "print(o) # -> 1235\n",
        "print(o.before()) # -> 1234\n",
        "print(o.before()) # -> 6789\n",
        "print(o) # -> 6789"
      ]
    },
    {
      "cell_type": "code",
      "execution_count": 5,
      "metadata": {
        "colab": {
          "base_uri": "https://localhost:8080/"
        },
        "id": "WleidGEs-D01",
        "outputId": "fed83c53-adca-49df-c834-0488b17bec3d"
      },
      "outputs": [
        {
          "name": "stdout",
          "output_type": "stream",
          "text": [
            "1234\n",
            "1234\n",
            "2\n",
            "124\n"
          ]
        }
      ],
      "source": [
        "l = Odometer(4)\n",
        "m = Odometer(4)\n",
        "\n",
        "print(l) # -> 1234\n",
        "print(m) # -> 1234\n",
        "\n",
        "l.after() # -> 1235\n",
        "l.after() # -> 1236\n",
        "\n",
        "print(m.distance(l)) # -> 2 because it takes 2 readings to go from m (self) to l (other)\n",
        "print(l.distance(m)) # -> 124 because l (self) has to go up 124 to wrap around to get back to m (other) 1234"
      ]
    },
    {
      "cell_type": "code",
      "execution_count": 6,
      "metadata": {
        "colab": {
          "base_uri": "https://localhost:8080/"
        },
        "id": "jLA1NThK_I1w",
        "outputId": "f7898b0d-53e6-4912-d3ed-55d05dba3149"
      },
      "outputs": [
        {
          "name": "stdout",
          "output_type": "stream",
          "text": [
            "123\n",
            "123\n",
            "1\n",
            "83\n"
          ]
        }
      ],
      "source": [
        "j = Odometer(3)\n",
        "k = Odometer(3)\n",
        "\n",
        "print(j) # -> 123\n",
        "print(k) # -> 123\n",
        "\n",
        "j.before() # -> 789\n",
        "\n",
        "print(j.distance(k)) # -> 1 because j (789) is self and k (123) is other\n",
        "print(k.distance(j)) # -> 83 because k is self and j is other"
      ]
    },
    {
      "cell_type": "code",
      "execution_count": 7,
      "metadata": {
        "colab": {
          "base_uri": "https://localhost:8080/",
          "height": 35
        },
        "id": "SloGQkEx87Zv",
        "outputId": "a9cec420-ce42-46e9-e1ec-a26a4888bebb"
      },
      "outputs": [
        {
          "data": {
            "text/plain": [
              "'HELLO'"
            ]
          },
          "execution_count": 7,
          "metadata": {},
          "output_type": "execute_result"
        }
      ],
      "source": [
        "# the string \"hello\" is an instantiaon of the string 'class' and is passing through `self` to the upper function\n",
        "\"hello\".upper()"
      ]
    },
    {
      "cell_type": "code",
      "execution_count": 8,
      "metadata": {
        "colab": {
          "base_uri": "https://localhost:8080/",
          "height": 35
        },
        "id": "CaWuN-3O9D48",
        "outputId": "f1e9e395-d9d9-46e1-cb45-48fcfe77d2b3"
      },
      "outputs": [
        {
          "data": {
            "text/plain": [
              "'HELLO'"
            ]
          },
          "execution_count": 8,
          "metadata": {},
          "output_type": "execute_result"
        }
      ],
      "source": [
        "str.upper('hello')"
      ]
    },
    {
      "cell_type": "markdown",
      "metadata": {
        "id": "rPdsZYKoeCJN"
      },
      "source": [
        "# Assignment - 28 - 01\n",
        "\n",
        "Write a Program to create a class by name **Students**, and initialize attributes like **name, age, score1, score2** and **score3** while creating an object. Define three methods **calculate_average()**,  **get_grade()** and **display_std_details()**. The **calculate_average()** is to calculate the average score. **get_grade()** will decide the grade as per the average score. The grade calculation table is given below.\n",
        "\n",
        "        Average Score       Grade\n",
        "\n",
        "            > = 80           S\n",
        "         < 80 and >=70       A\n",
        "         < 70 and >=60       B\n",
        "         < 60 and >=40       C\n",
        "           < 40              F\n",
        "\n",
        "Finally **display_std_details()** will return the **name, age, score1, score2,score3, average score** and **Grade** of student.\n",
        "\n",
        "Solve the given problem statement using **Object-Oriented Programming** and display the details of **three** different students.\n",
        "\n",
        "**Expected Output:**\n",
        "\n",
        "\n",
        "    Raj      16   80 75 88 81.00 S\n",
        "    John     21   62 77 51 63.33 A\n",
        "    Sofia    18   20 20 28 22.67 F"
      ]
    },
    {
      "cell_type": "code",
      "execution_count": 17,
      "metadata": {},
      "outputs": [],
      "source": [
        "class Students:\n",
        "    def __init__(self, name: str, age: int, score1: float, score2: float, score3: float) -> None:\n",
        "        self.name = name\n",
        "        self.age = age\n",
        "        self.score1 = score1\n",
        "        self.score2 = score2\n",
        "        self.score3 = score3\n",
        "        \n",
        "    def calculate_average(self) -> float:\n",
        "        return (self.score1 + self.score2 + self.score3) / 3\n",
        "    \n",
        "    def get_grade(self) -> str:\n",
        "        if self.calculate_average() >= 80:\n",
        "            return 'S'\n",
        "        elif self.calculate_average() >= 70:\n",
        "            return 'A'\n",
        "        elif self.calculate_average() >= 60:\n",
        "            return 'B'\n",
        "        elif self.calculate_average() >= 40:\n",
        "            return 'C'\n",
        "        else:\n",
        "            return 'F'\n",
        "        \n",
        "    def __str__(self):\n",
        "        # print(f\"{self.name}\\t\\t {self.age}\\t\\t {self.score1}\\t {self.score2}\\t {self.score3}\\t {self.calculate_average():.2f}\\t {self.get_grade()}\")\n",
        "        # print(f\"{self.name:<8} {self.age:<3} {self.score1:<4} {self.score2:<4} {self.score3:<4} {self.calculate_average():<6.2f} {self.get_grade()}\")\n",
        "        return f\"{self.name:<8} {self.age:<3} {self.score1:<4} {self.score2:<4} {self.score3:<4} {self.calculate_average():<6.2f} {self.get_grade()}\"\n",
        "        \n",
        "        "
      ]
    },
    {
      "cell_type": "code",
      "execution_count": 19,
      "metadata": {},
      "outputs": [
        {
          "name": "stdout",
          "output_type": "stream",
          "text": [
            "Raj      16  80   75   88   81.00  S\n"
          ]
        }
      ],
      "source": [
        "student1 = Students(\"Raj\", 16, 80, 75, 88)\n",
        "print(student1)"
      ]
    },
    {
      "cell_type": "markdown",
      "metadata": {
        "id": "zysxClfmkBBf"
      },
      "source": [
        "#Assignment - 28 - 02\n",
        "\n",
        "\n",
        "Write a Program to create a class by name **Rectangles**, and initialize attributes like **length** and **width** while creating an object. Define three methods **calculate_perimeter()**,  **calculate_area()** and **display_result()**.\n",
        "\n",
        "**calculate_perimeter()** - This method will calulate the perimeter of the rectangle.\n",
        "\n",
        "**calculate_area()** - This method will calulate the area of the rectangle.\n",
        "\n",
        "**display_result()** - This method will display the length, width, perimeter and area of the rectangle.\n",
        "\n",
        "**Expected Output**\n",
        "\n",
        "    14   9  46  126\n",
        "    20  10  60  200\n"
      ]
    },
    {
      "cell_type": "code",
      "execution_count": 23,
      "metadata": {
        "id": "HQ30Ukgsyia-"
      },
      "outputs": [],
      "source": [
        "class Rectangle:\n",
        "    def __init__(self, length: float, width: float, ) -> None:\n",
        "        self.length = length\n",
        "        self.width = width\n",
        "        \n",
        "    def calculate_perimeter(self) -> float:\n",
        "        return 2 * (self.length + self.width)\n",
        "    \n",
        "    def calculate_area(self) -> float:\n",
        "        return self.length * self.width\n",
        "    \n",
        "    def __str__(self) -> str:\n",
        "        return f\"{self.length:<4} {self.width:<3} {self.calculate_perimeter():<3} {self.calculate_area():<3}\"\n",
        "        \n",
        "\n",
        "        "
      ]
    },
    {
      "cell_type": "code",
      "execution_count": 24,
      "metadata": {},
      "outputs": [
        {
          "name": "stdout",
          "output_type": "stream",
          "text": [
            "5    4   18  20 \n"
          ]
        }
      ],
      "source": [
        "rectangle = Rectangle(5, 4)\n",
        "print(rectangle)"
      ]
    },
    {
      "cell_type": "code",
      "execution_count": 26,
      "metadata": {},
      "outputs": [],
      "source": [
        "class Square(Rectangle):\n",
        "    def __init__(self, side1: float):\n",
        "        super().__init__(side1, side1)\n",
        "        \n",
        "        "
      ]
    },
    {
      "cell_type": "code",
      "execution_count": 27,
      "metadata": {},
      "outputs": [
        {
          "name": "stdout",
          "output_type": "stream",
          "text": [
            "4    4   16  16 \n"
          ]
        }
      ],
      "source": [
        "square = Square(4)\n",
        "print(square)"
      ]
    }
  ],
  "metadata": {
    "colab": {
      "provenance": []
    },
    "kernelspec": {
      "display_name": "Python 3",
      "name": "python3"
    },
    "language_info": {
      "codemirror_mode": {
        "name": "ipython",
        "version": 3
      },
      "file_extension": ".py",
      "mimetype": "text/x-python",
      "name": "python",
      "nbconvert_exporter": "python",
      "pygments_lexer": "ipython3",
      "version": "3.12.1"
    }
  },
  "nbformat": 4,
  "nbformat_minor": 0
}
