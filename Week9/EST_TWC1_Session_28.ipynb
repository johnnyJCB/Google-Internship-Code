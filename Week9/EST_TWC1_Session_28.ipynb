{
  "nbformat": 4,
  "nbformat_minor": 0,
  "metadata": {
    "colab": {
      "provenance": []
    },
    "kernelspec": {
      "name": "python3",
      "display_name": "Python 3"
    },
    "language_info": {
      "name": "python"
    }
  },
  "cells": [
    {
      "cell_type": "markdown",
      "source": [
        "# OOP Basics"
      ],
      "metadata": {
        "id": "YhaabBV-dQcd"
      }
    },
    {
      "cell_type": "code",
      "execution_count": null,
      "metadata": {
        "colab": {
          "base_uri": "https://localhost:8080/",
          "height": 35
        },
        "id": "8k-gD_z0dB7e",
        "outputId": "25cbdcf8-a62b-453b-f2f6-a29ed928b21e"
      },
      "outputs": [
        {
          "output_type": "execute_result",
          "data": {
            "text/plain": [
              "'HELLO'"
            ],
            "application/vnd.google.colaboratory.intrinsic+json": {
              "type": "string"
            }
          },
          "metadata": {},
          "execution_count": 1
        }
      ],
      "source": [
        "\"hello\".upper()"
      ]
    },
    {
      "cell_type": "code",
      "source": [
        "\"hello\".__str__"
      ],
      "metadata": {
        "colab": {
          "base_uri": "https://localhost:8080/"
        },
        "id": "ONW91MWnrTIJ",
        "outputId": "8020d3e8-93f3-467e-b57b-4dae92d35db9"
      },
      "execution_count": null,
      "outputs": [
        {
          "output_type": "execute_result",
          "data": {
            "text/plain": [
              "<method-wrapper '__str__' of str object at 0x7a532d7320b0>"
            ]
          },
          "metadata": {},
          "execution_count": 3
        }
      ]
    },
    {
      "cell_type": "code",
      "source": [
        "dir(\"hello\")"
      ],
      "metadata": {
        "colab": {
          "base_uri": "https://localhost:8080/"
        },
        "id": "4IPNLtNurgtw",
        "outputId": "94a81586-6c47-4d63-fba6-cbef02f65448"
      },
      "execution_count": null,
      "outputs": [
        {
          "output_type": "execute_result",
          "data": {
            "text/plain": [
              "['__add__',\n",
              " '__class__',\n",
              " '__contains__',\n",
              " '__delattr__',\n",
              " '__dir__',\n",
              " '__doc__',\n",
              " '__eq__',\n",
              " '__format__',\n",
              " '__ge__',\n",
              " '__getattribute__',\n",
              " '__getitem__',\n",
              " '__getnewargs__',\n",
              " '__gt__',\n",
              " '__hash__',\n",
              " '__init__',\n",
              " '__init_subclass__',\n",
              " '__iter__',\n",
              " '__le__',\n",
              " '__len__',\n",
              " '__lt__',\n",
              " '__mod__',\n",
              " '__mul__',\n",
              " '__ne__',\n",
              " '__new__',\n",
              " '__reduce__',\n",
              " '__reduce_ex__',\n",
              " '__repr__',\n",
              " '__rmod__',\n",
              " '__rmul__',\n",
              " '__setattr__',\n",
              " '__sizeof__',\n",
              " '__str__',\n",
              " '__subclasshook__',\n",
              " 'capitalize',\n",
              " 'casefold',\n",
              " 'center',\n",
              " 'count',\n",
              " 'encode',\n",
              " 'endswith',\n",
              " 'expandtabs',\n",
              " 'find',\n",
              " 'format',\n",
              " 'format_map',\n",
              " 'index',\n",
              " 'isalnum',\n",
              " 'isalpha',\n",
              " 'isascii',\n",
              " 'isdecimal',\n",
              " 'isdigit',\n",
              " 'isidentifier',\n",
              " 'islower',\n",
              " 'isnumeric',\n",
              " 'isprintable',\n",
              " 'isspace',\n",
              " 'istitle',\n",
              " 'isupper',\n",
              " 'join',\n",
              " 'ljust',\n",
              " 'lower',\n",
              " 'lstrip',\n",
              " 'maketrans',\n",
              " 'partition',\n",
              " 'removeprefix',\n",
              " 'removesuffix',\n",
              " 'replace',\n",
              " 'rfind',\n",
              " 'rindex',\n",
              " 'rjust',\n",
              " 'rpartition',\n",
              " 'rsplit',\n",
              " 'rstrip',\n",
              " 'split',\n",
              " 'splitlines',\n",
              " 'startswith',\n",
              " 'strip',\n",
              " 'swapcase',\n",
              " 'title',\n",
              " 'translate',\n",
              " 'upper',\n",
              " 'zfill']"
            ]
          },
          "metadata": {},
          "execution_count": 4
        }
      ]
    },
    {
      "cell_type": "code",
      "source": [
        "class Complex:\n"
      ],
      "metadata": {
        "id": "xwlfx3KBrsYF"
      },
      "execution_count": null,
      "outputs": []
    },
    {
      "cell_type": "code",
      "source": [
        "class Dog:\n",
        "    legs = 4\n",
        "    fur = 'brown'\n",
        "    tricks = ['roll over', 'speak']\n",
        "    breed = ''\n",
        "    kind = 'canine'\n",
        "    name = 'Fido'"
      ],
      "metadata": {
        "id": "tV_t8bTsr0Mu"
      },
      "execution_count": null,
      "outputs": []
    },
    {
      "cell_type": "code",
      "source": [
        "d = Dog()\n",
        "d.name"
      ],
      "metadata": {
        "colab": {
          "base_uri": "https://localhost:8080/",
          "height": 35
        },
        "id": "W7X208lOsOhk",
        "outputId": "b1dfb6b4-8128-4e16-a955-13f5ebe50eeb"
      },
      "execution_count": null,
      "outputs": [
        {
          "output_type": "execute_result",
          "data": {
            "text/plain": [
              "'Fido'"
            ],
            "application/vnd.google.colaboratory.intrinsic+json": {
              "type": "string"
            }
          },
          "metadata": {},
          "execution_count": 7
        }
      ]
    },
    {
      "cell_type": "code",
      "source": [
        "d.kind"
      ],
      "metadata": {
        "colab": {
          "base_uri": "https://localhost:8080/",
          "height": 35
        },
        "id": "evveBF7UsTd9",
        "outputId": "687800d3-d9e0-4f14-c0fb-c223a809a178"
      },
      "execution_count": null,
      "outputs": [
        {
          "output_type": "execute_result",
          "data": {
            "text/plain": [
              "'canine'"
            ],
            "application/vnd.google.colaboratory.intrinsic+json": {
              "type": "string"
            }
          },
          "metadata": {},
          "execution_count": 8
        }
      ]
    },
    {
      "cell_type": "code",
      "source": [
        "d.tricks"
      ],
      "metadata": {
        "colab": {
          "base_uri": "https://localhost:8080/"
        },
        "id": "hGefmh2AsUnu",
        "outputId": "78123d5a-b471-42c0-ef34-be5b21a85844"
      },
      "execution_count": null,
      "outputs": [
        {
          "output_type": "execute_result",
          "data": {
            "text/plain": [
              "['roll over', 'speak']"
            ]
          },
          "metadata": {},
          "execution_count": 9
        }
      ]
    },
    {
      "cell_type": "code",
      "source": [
        "e = Dog()"
      ],
      "metadata": {
        "id": "RjS0GMXksW12"
      },
      "execution_count": null,
      "outputs": []
    },
    {
      "cell_type": "code",
      "source": [
        "e.name"
      ],
      "metadata": {
        "colab": {
          "base_uri": "https://localhost:8080/",
          "height": 35
        },
        "id": "HNw1ZoU9sYs6",
        "outputId": "fb47d077-e490-4add-dc0a-b5b079de7111"
      },
      "execution_count": null,
      "outputs": [
        {
          "output_type": "execute_result",
          "data": {
            "text/plain": [
              "'Fido'"
            ],
            "application/vnd.google.colaboratory.intrinsic+json": {
              "type": "string"
            }
          },
          "metadata": {},
          "execution_count": 11
        }
      ]
    },
    {
      "cell_type": "code",
      "source": [
        "class Dog:\n",
        "    legs = 4\n",
        "    fur = 'brown'\n",
        "    tricks = ['roll over', 'speak']\n",
        "    kind = 'canine'\n",
        "\n",
        "    def __init__(self, name):\n",
        "        self.name = name"
      ],
      "metadata": {
        "id": "DMCq0mBpskhg"
      },
      "execution_count": null,
      "outputs": []
    },
    {
      "cell_type": "code",
      "source": [
        "d = Dog('Fido')"
      ],
      "metadata": {
        "id": "R592tX8ms5A0"
      },
      "execution_count": null,
      "outputs": []
    },
    {
      "cell_type": "code",
      "source": [
        "# THERE'S AN ERROR HERE CAN YOU SPOT IT?\n",
        "\n",
        "class Dog:\n",
        "    legs = 4\n",
        "    fur = 'brown'\n",
        "    tricks = ['roll over', 'speak']\n",
        "    kind = 'canine'\n",
        "\n",
        "    def __init__(self, name):\n",
        "        self.name = name\n",
        "\n",
        "    def add_trick(self, trick):\n",
        "        self.tricks.append(trick)"
      ],
      "metadata": {
        "id": "VfMMIkGxtxs0"
      },
      "execution_count": null,
      "outputs": []
    },
    {
      "cell_type": "code",
      "source": [
        "d = Dog('Fido')\n",
        "d.add_trick('shake')\n",
        "d.tricks"
      ],
      "metadata": {
        "colab": {
          "base_uri": "https://localhost:8080/"
        },
        "id": "RyJMGe0ut8Ej",
        "outputId": "601cefcd-10fa-4bf4-e69f-6b114f9574e0"
      },
      "execution_count": null,
      "outputs": [
        {
          "output_type": "execute_result",
          "data": {
            "text/plain": [
              "['roll over', 'speak', 'shake']"
            ]
          },
          "metadata": {},
          "execution_count": 24
        }
      ]
    },
    {
      "cell_type": "code",
      "source": [
        "r = Dog('Rover')\n",
        "r.tricks"
      ],
      "metadata": {
        "colab": {
          "base_uri": "https://localhost:8080/"
        },
        "id": "MTPoNH6zuHuP",
        "outputId": "a3b0aa09-f73d-4daa-cb0c-19e96b2dbc03"
      },
      "execution_count": null,
      "outputs": [
        {
          "output_type": "execute_result",
          "data": {
            "text/plain": [
              "['roll over', 'speak', 'shake']"
            ]
          },
          "metadata": {},
          "execution_count": 25
        }
      ]
    },
    {
      "cell_type": "code",
      "source": [
        "# FIXED BUG!\n",
        "\n",
        "class Dog:\n",
        "    legs = 4\n",
        "    fur = 'brown'\n",
        "    kind = 'canine'\n",
        "\n",
        "    def __init__(self, name):\n",
        "        self.name = name\n",
        "        self.tricks = ['roll over', 'speak']\n",
        "\n",
        "\n",
        "    def add_trick(self, trick):\n",
        "        self.tricks.append(trick)"
      ],
      "metadata": {
        "id": "GQIrq7Lpubd0"
      },
      "execution_count": null,
      "outputs": []
    },
    {
      "cell_type": "code",
      "source": [
        "d = Dog('Fido')\n",
        "d.tricks"
      ],
      "metadata": {
        "colab": {
          "base_uri": "https://localhost:8080/"
        },
        "id": "18apDXX_up8p",
        "outputId": "16f96fe7-0b84-4a66-dfbf-3f7e03e9d86a"
      },
      "execution_count": null,
      "outputs": [
        {
          "output_type": "execute_result",
          "data": {
            "text/plain": [
              "['roll over', 'speak']"
            ]
          },
          "metadata": {},
          "execution_count": 28
        }
      ]
    },
    {
      "cell_type": "code",
      "source": [
        "d.add_trick('shake')"
      ],
      "metadata": {
        "id": "nPb2ptOGus_Z"
      },
      "execution_count": null,
      "outputs": []
    },
    {
      "cell_type": "code",
      "source": [
        "d.tricks"
      ],
      "metadata": {
        "colab": {
          "base_uri": "https://localhost:8080/"
        },
        "id": "tutUka2NuwL0",
        "outputId": "27606e56-b73e-4d5c-e270-2ecb2dfcf675"
      },
      "execution_count": null,
      "outputs": [
        {
          "output_type": "execute_result",
          "data": {
            "text/plain": [
              "['roll over', 'speak', 'shake']"
            ]
          },
          "metadata": {},
          "execution_count": 30
        }
      ]
    },
    {
      "cell_type": "code",
      "source": [
        "r = Dog('Rover')\n",
        "r.tricks"
      ],
      "metadata": {
        "colab": {
          "base_uri": "https://localhost:8080/"
        },
        "id": "H_irOAf6uxxw",
        "outputId": "f2843d56-8757-4ccf-f0d2-cbdde4968478"
      },
      "execution_count": null,
      "outputs": [
        {
          "output_type": "execute_result",
          "data": {
            "text/plain": [
              "['roll over', 'speak']"
            ]
          },
          "metadata": {},
          "execution_count": 31
        }
      ]
    },
    {
      "cell_type": "code",
      "source": [],
      "metadata": {
        "id": "rWVb-v3hu0TC"
      },
      "execution_count": null,
      "outputs": []
    },
    {
      "cell_type": "code",
      "source": [
        "d.kind"
      ],
      "metadata": {
        "colab": {
          "base_uri": "https://localhost:8080/",
          "height": 35
        },
        "id": "XAn_-NTHs82K",
        "outputId": "8fffd695-bb96-45ad-8fa5-cfd8eaf05786"
      },
      "execution_count": null,
      "outputs": [
        {
          "output_type": "execute_result",
          "data": {
            "text/plain": [
              "'canine'"
            ],
            "application/vnd.google.colaboratory.intrinsic+json": {
              "type": "string"
            }
          },
          "metadata": {},
          "execution_count": 15
        }
      ]
    },
    {
      "cell_type": "code",
      "source": [
        "d.legs"
      ],
      "metadata": {
        "colab": {
          "base_uri": "https://localhost:8080/"
        },
        "id": "7H7-jb2LdXPF",
        "outputId": "49faa690-2428-4840-9f06-f0c0ad8d5ade"
      },
      "execution_count": null,
      "outputs": [
        {
          "output_type": "execute_result",
          "data": {
            "text/plain": [
              "4"
            ]
          },
          "metadata": {},
          "execution_count": 16
        }
      ]
    },
    {
      "cell_type": "code",
      "source": [
        "d.name"
      ],
      "metadata": {
        "colab": {
          "base_uri": "https://localhost:8080/",
          "height": 35
        },
        "id": "Z05aHgBgs_xl",
        "outputId": "b4eadd67-4806-4780-fbbf-bda4fabe5cd9"
      },
      "execution_count": null,
      "outputs": [
        {
          "output_type": "execute_result",
          "data": {
            "text/plain": [
              "'Fido'"
            ],
            "application/vnd.google.colaboratory.intrinsic+json": {
              "type": "string"
            }
          },
          "metadata": {},
          "execution_count": 17
        }
      ]
    },
    {
      "cell_type": "code",
      "source": [
        "e = Dog('Buddy')"
      ],
      "metadata": {
        "id": "ighbLnhFtBJV"
      },
      "execution_count": null,
      "outputs": []
    },
    {
      "cell_type": "code",
      "source": [
        "e.name"
      ],
      "metadata": {
        "colab": {
          "base_uri": "https://localhost:8080/",
          "height": 35
        },
        "id": "z08HvaDYtEwN",
        "outputId": "22f0fc71-d12e-4009-b480-b5bb090c6a41"
      },
      "execution_count": null,
      "outputs": [
        {
          "output_type": "execute_result",
          "data": {
            "text/plain": [
              "'Buddy'"
            ],
            "application/vnd.google.colaboratory.intrinsic+json": {
              "type": "string"
            }
          },
          "metadata": {},
          "execution_count": 19
        }
      ]
    },
    {
      "cell_type": "code",
      "source": [
        "e.name = \"Daniel\""
      ],
      "metadata": {
        "id": "PsajFd3FtS2b"
      },
      "execution_count": null,
      "outputs": []
    },
    {
      "cell_type": "code",
      "source": [
        "e.name"
      ],
      "metadata": {
        "colab": {
          "base_uri": "https://localhost:8080/",
          "height": 35
        },
        "id": "0psSqJIxtV4K",
        "outputId": "1a3f08ae-10f7-4176-8510-7defdfef02a2"
      },
      "execution_count": null,
      "outputs": [
        {
          "output_type": "execute_result",
          "data": {
            "text/plain": [
              "'Daniel'"
            ],
            "application/vnd.google.colaboratory.intrinsic+json": {
              "type": "string"
            }
          },
          "metadata": {},
          "execution_count": 21
        }
      ]
    },
    {
      "cell_type": "markdown",
      "source": [
        "# Object oriented odometer"
      ],
      "metadata": {
        "id": "FrO9F9i-dXnv"
      }
    },
    {
      "cell_type": "code",
      "source": [
        "class Odometer:\n",
        "    def __init__(self, size):\n",
        "        self.SIZE = size\n",
        "        self.START = int(\"123456789\"[:size])\n",
        "        self.LIMIT = int(\"123456789\"[-size:])\n",
        "        self.reading = self.START"
      ],
      "metadata": {
        "id": "yhjJ-ZGRvZPf"
      },
      "execution_count": null,
      "outputs": []
    },
    {
      "cell_type": "code",
      "source": [
        "o = Odometer(3)\n",
        "print(o.SIZE, o.START, o.LIMIT)"
      ],
      "metadata": {
        "colab": {
          "base_uri": "https://localhost:8080/"
        },
        "id": "mb4Hu8Tiw3db",
        "outputId": "0f0ab0e9-0ed7-4bfc-949e-a16c2d5fc821"
      },
      "execution_count": null,
      "outputs": [
        {
          "output_type": "stream",
          "name": "stdout",
          "text": [
            "3 123 789\n"
          ]
        }
      ]
    },
    {
      "cell_type": "code",
      "source": [
        "print(o)"
      ],
      "metadata": {
        "colab": {
          "base_uri": "https://localhost:8080/"
        },
        "id": "iX4wlBR1xgIA",
        "outputId": "017b525d-b5ac-44ee-9a53-2316731250e2"
      },
      "execution_count": null,
      "outputs": [
        {
          "output_type": "stream",
          "name": "stdout",
          "text": [
            "<__main__.Odometer object at 0x7a52fa7ae110>\n"
          ]
        }
      ]
    },
    {
      "cell_type": "code",
      "source": [
        "print([1, 2, 3])"
      ],
      "metadata": {
        "colab": {
          "base_uri": "https://localhost:8080/"
        },
        "id": "dgRWxHLQxBbw",
        "outputId": "9fcbf89b-291c-4054-d3e0-01370883f048"
      },
      "execution_count": null,
      "outputs": [
        {
          "output_type": "stream",
          "name": "stdout",
          "text": [
            "[1, 2, 3]\n"
          ]
        }
      ]
    },
    {
      "cell_type": "code",
      "source": [
        "print(\"hello\\nworld\")"
      ],
      "metadata": {
        "colab": {
          "base_uri": "https://localhost:8080/"
        },
        "id": "2IIr19wVxF2X",
        "outputId": "89c93d54-b18a-4774-d362-e765a8fdc180"
      },
      "execution_count": null,
      "outputs": [
        {
          "output_type": "stream",
          "name": "stdout",
          "text": [
            "hello\n",
            "world\n"
          ]
        }
      ]
    },
    {
      "cell_type": "code",
      "source": [
        "print({1: \"Hello\", 2: \"World\"})"
      ],
      "metadata": {
        "colab": {
          "base_uri": "https://localhost:8080/"
        },
        "id": "MwE9dwnSxNlJ",
        "outputId": "ec4f5a85-a06f-4607-a70e-4a5fa6c48dbf"
      },
      "execution_count": null,
      "outputs": [
        {
          "output_type": "stream",
          "name": "stdout",
          "text": [
            "{1: 'Hello', 2: 'World'}\n"
          ]
        }
      ]
    },
    {
      "cell_type": "code",
      "source": [
        "class Odometer:\n",
        "    def __init__(self, size):\n",
        "        self.SIZE = size\n",
        "        self.START = int(\"123456789\"[:size])\n",
        "        self.LIMIT = int(\"123456789\"[-size:])\n",
        "        self.reading = self.START\n",
        "    def __str__(self):\n",
        "        return str(self.reading)"
      ],
      "metadata": {
        "id": "Z78b30dTxmCQ"
      },
      "execution_count": null,
      "outputs": []
    },
    {
      "cell_type": "code",
      "source": [
        "o = Odometer(3)\n",
        "print(o)"
      ],
      "metadata": {
        "colab": {
          "base_uri": "https://localhost:8080/"
        },
        "id": "OcJps6yGyCj6",
        "outputId": "e301fd8b-b9d3-4131-ad71-c8d802ca6d02"
      },
      "execution_count": null,
      "outputs": [
        {
          "output_type": "stream",
          "name": "stdout",
          "text": [
            "123\n"
          ]
        }
      ]
    },
    {
      "cell_type": "code",
      "source": [
        "o4 = Odometer(4)\n",
        "print(o4)"
      ],
      "metadata": {
        "colab": {
          "base_uri": "https://localhost:8080/"
        },
        "id": "cU4lzRxRyI82",
        "outputId": "abd6a9da-bae2-4311-830e-1b021e009c7c"
      },
      "execution_count": null,
      "outputs": [
        {
          "output_type": "stream",
          "name": "stdout",
          "text": [
            "1234\n"
          ]
        }
      ]
    },
    {
      "cell_type": "code",
      "source": [
        "repr(o4)"
      ],
      "metadata": {
        "colab": {
          "base_uri": "https://localhost:8080/",
          "height": 35
        },
        "id": "i3hefGF3y57x",
        "outputId": "8844b401-d0a5-475a-eb63-98427b1173b1"
      },
      "execution_count": null,
      "outputs": [
        {
          "output_type": "execute_result",
          "data": {
            "text/plain": [
              "'<__main__.Odometer object at 0x7a52fa7ac5e0>'"
            ],
            "application/vnd.google.colaboratory.intrinsic+json": {
              "type": "string"
            }
          },
          "metadata": {},
          "execution_count": 50
        }
      ]
    },
    {
      "cell_type": "markdown",
      "source": [
        "# Design Guideline\n",
        "## \\_\\_str__ is for users , \\_\\_repr__ is for programmers\n",
        "\n",
        "  * If you only implement \\_\\_str__ but not \\_\\_repr__, then \\_\\_repr__ will show up with object reference\n",
        "  * If you implement \\_\\_repr__ but not \\_\\_str__, then \\_\\_str__ will return \\_\\_repr__\n",
        "  * You will need separate implementations in some cases, in all others implementing \\_\\_repr__ should be enough"
      ],
      "metadata": {
        "id": "87xQYg9Edg3t"
      }
    },
    {
      "cell_type": "code",
      "source": [
        "hello = \"Hello\\nWorld\"\n",
        "print(hello)"
      ],
      "metadata": {
        "colab": {
          "base_uri": "https://localhost:8080/"
        },
        "id": "MoCkHohttVbz",
        "outputId": "18ac686c-5333-46d5-8666-ed92542c7ad7"
      },
      "execution_count": null,
      "outputs": [
        {
          "output_type": "stream",
          "name": "stdout",
          "text": [
            "Hello\n",
            "World\n"
          ]
        }
      ]
    },
    {
      "cell_type": "code",
      "source": [
        "repr(hello)"
      ],
      "metadata": {
        "colab": {
          "base_uri": "https://localhost:8080/",
          "height": 35
        },
        "id": "0m9enOORs_AO",
        "outputId": "5726d827-fb14-4f05-a4ae-79d78aafef6b"
      },
      "execution_count": null,
      "outputs": [
        {
          "output_type": "execute_result",
          "data": {
            "text/plain": [
              "\"'Hello\\\\nWorld'\""
            ],
            "application/vnd.google.colaboratory.intrinsic+json": {
              "type": "string"
            }
          },
          "metadata": {},
          "execution_count": 44
        }
      ]
    },
    {
      "cell_type": "code",
      "source": [
        "print(repr(hello))"
      ],
      "metadata": {
        "colab": {
          "base_uri": "https://localhost:8080/"
        },
        "id": "6oi-3jSUdhxd",
        "outputId": "652b466c-88ad-4cc8-b6bc-5f0866ff9049"
      },
      "execution_count": null,
      "outputs": [
        {
          "output_type": "stream",
          "name": "stdout",
          "text": [
            "'Hello\\nWorld'\n"
          ]
        }
      ]
    },
    {
      "cell_type": "code",
      "source": [
        "\"hello\\nworld\""
      ],
      "metadata": {
        "colab": {
          "base_uri": "https://localhost:8080/",
          "height": 35
        },
        "id": "MREcSbU60DNy",
        "outputId": "01e50459-3360-4e77-f42a-49963adbef23"
      },
      "execution_count": null,
      "outputs": [
        {
          "output_type": "execute_result",
          "data": {
            "text/plain": [
              "'hello\\nworld'"
            ],
            "application/vnd.google.colaboratory.intrinsic+json": {
              "type": "string"
            }
          },
          "metadata": {},
          "execution_count": 46
        }
      ]
    },
    {
      "cell_type": "code",
      "source": [
        "# A LITTLE TOO HUMAN READABLE FOR __repr__\n",
        "\n",
        "class Odometer:\n",
        "    def __init__(self, size):\n",
        "        self.SIZE = size\n",
        "        self.START = int(\"123456789\"[:size])\n",
        "        self.LIMIT = int(\"123456789\"[-size:])\n",
        "        self.reading = self.START\n",
        "    def __str__(self):\n",
        "        return str(self.reading)\n",
        "    def __repr__(self):\n",
        "        return f'Odometer of size {self.SIZE}, with reading {self.reading}'"
      ],
      "metadata": {
        "id": "-wa_RFYS0n9p"
      },
      "execution_count": null,
      "outputs": []
    },
    {
      "cell_type": "markdown",
      "source": [],
      "metadata": {
        "id": "MS3wsYMu1LKR"
      }
    },
    {
      "cell_type": "code",
      "source": [
        "class Odometer:\n",
        "    def __init__(self, size):\n",
        "        self.SIZE = size\n",
        "        self.START = int(\"123456789\"[:size])\n",
        "        self.LIMIT = int(\"123456789\"[-size:])\n",
        "        self.reading = self.START\n",
        "    def __str__(self):\n",
        "        return str(self.reading)\n",
        "    def __repr__(self):\n",
        "        return f'{self.START}<<{self.reading}>>{self.LIMIT}'"
      ],
      "metadata": {
        "id": "gdvlL2EG1Ihl"
      },
      "execution_count": null,
      "outputs": []
    },
    {
      "cell_type": "code",
      "source": [
        "o = Odometer(4)"
      ],
      "metadata": {
        "id": "iflc053F1WpQ"
      },
      "execution_count": null,
      "outputs": []
    },
    {
      "cell_type": "code",
      "source": [
        "print(o)"
      ],
      "metadata": {
        "colab": {
          "base_uri": "https://localhost:8080/"
        },
        "id": "cLZmNtvg1ZIv",
        "outputId": "70dfc444-a9a5-4a26-be7e-8bc69f36fc16"
      },
      "execution_count": null,
      "outputs": [
        {
          "output_type": "stream",
          "name": "stdout",
          "text": [
            "1234\n"
          ]
        }
      ]
    },
    {
      "cell_type": "code",
      "source": [
        "repr(o)"
      ],
      "metadata": {
        "colab": {
          "base_uri": "https://localhost:8080/",
          "height": 35
        },
        "id": "8WXMevEy1bM9",
        "outputId": "cb2c224d-686b-4349-d956-2da8e7096165"
      },
      "execution_count": null,
      "outputs": [
        {
          "output_type": "execute_result",
          "data": {
            "text/plain": [
              "'1234<<1234>>6789'"
            ],
            "application/vnd.google.colaboratory.intrinsic+json": {
              "type": "string"
            }
          },
          "metadata": {},
          "execution_count": 55
        }
      ]
    },
    {
      "cell_type": "code",
      "source": [
        "o"
      ],
      "metadata": {
        "colab": {
          "base_uri": "https://localhost:8080/"
        },
        "id": "QQtVQev71fqJ",
        "outputId": "00e427f0-6881-4355-c543-02c8d3980b02"
      },
      "execution_count": null,
      "outputs": [
        {
          "output_type": "execute_result",
          "data": {
            "text/plain": [
              "1234<<1234>>6789"
            ]
          },
          "metadata": {},
          "execution_count": 56
        }
      ]
    },
    {
      "cell_type": "code",
      "source": [
        "def is_ascending(n: int) -> bool:\n",
        "    return all(a < b for a, b in zip(str(n), str(n)[1:]))\n",
        "\n",
        "class Odometer:\n",
        "    def __init__(self, size):\n",
        "        self.SIZE = size\n",
        "        self.START = int(\"123456789\"[:size])\n",
        "        self.LIMIT = int(\"123456789\"[-size:])\n",
        "        self.reading = self.START\n",
        "    def __str__(self):\n",
        "        return str(self.reading)\n",
        "    def __repr__(self):\n",
        "        return f'{self.START}<<{self.reading}>>{self.LIMIT}'\n",
        "\n",
        "    def after(self, rotations=1):\n",
        "        for _ in range(rotations):\n",
        "            if self.reading == self.LIMIT:\n",
        "                self.reading = self.START\n",
        "            else:\n",
        "                self.reading += 1\n",
        "                while not is_ascending(self.reading):\n",
        "                    self.reading += 1\n",
        "            return self.reading\n",
        "\n",
        "    def before(self, rotations=1):\n",
        "        for _ in range(rotations):\n",
        "            if self.reading == self.START:\n",
        "                self.reading = self.LIMIT\n",
        "            else:\n",
        "                self.reading -= 1\n",
        "                while not is_ascending(self.reading):\n",
        "                    self.reading -= 1\n",
        "            return self.reading"
      ],
      "metadata": {
        "id": "FlNF2GxA1-vF"
      },
      "execution_count": null,
      "outputs": []
    },
    {
      "cell_type": "code",
      "source": [
        "print(is_ascending(1234))\n",
        "print(is_ascending(1134))\n",
        "print(is_ascending(4321))"
      ],
      "metadata": {
        "colab": {
          "base_uri": "https://localhost:8080/"
        },
        "id": "9MVxTiw_4VoO",
        "outputId": "b9f00f37-81f5-4e15-978d-fb83b88ce916"
      },
      "execution_count": null,
      "outputs": [
        {
          "output_type": "stream",
          "name": "stdout",
          "text": [
            "True\n",
            "False\n",
            "False\n"
          ]
        }
      ]
    },
    {
      "cell_type": "code",
      "source": [
        "o = Odometer(4)\n",
        "print(o) # -> 1234\n",
        "print(o.after()) # -> 1235\n",
        "print(o) # -> 1235\n",
        "print(o.before()) # -> 1234\n",
        "print(o.before()) # -> 6789\n",
        "print(o) # -> 6789"
      ],
      "metadata": {
        "colab": {
          "base_uri": "https://localhost:8080/"
        },
        "id": "UchJx2DP2jt_",
        "outputId": "242132e7-296a-4dac-f76f-a99539db9f19"
      },
      "execution_count": null,
      "outputs": [
        {
          "output_type": "stream",
          "name": "stdout",
          "text": [
            "1234\n",
            "1235\n",
            "1235\n",
            "1234\n",
            "6789\n",
            "6789\n"
          ]
        }
      ]
    },
    {
      "cell_type": "markdown",
      "source": [
        "* We have used *is_ascending()* as a function and not a method.\n",
        "* We wrote it outside the class\n",
        "* Python is eclectic in that way; not everything needs to be a class or inside a class. We can package classes and functions inside a *module*\n",
        "* Alternatively we could implement it as an instance method, or even as a class method but these are not good decisions, because this function *does not* change the state of the object\n",
        "* To keep the function encapsulated within the class (as opposed to making it a free function as above) we can use the **static method**\n",
        "    + The way to do this is by using a decorator\n",
        "    + Making it a static method ensures that the method does not get a instance or class argument (no self etc)\n",
        "    + But this method will not be available outside the class -- a design decision\n"
      ],
      "metadata": {
        "id": "6K0uOcHXdiCz"
      }
    },
    {
      "cell_type": "code",
      "source": [
        "SIZE = 4\n",
        "\n",
        "class Odometer:\n",
        "    def __init__(self, size):\n",
        "        self.SIZE = size\n",
        "        self.START = int(\"123456789\"[:size])\n",
        "        self.LIMIT = int(\"123456789\"[-size:])\n",
        "        self.reading = self.START\n",
        "    def __str__(self):\n",
        "        return str(self.reading)\n",
        "    def __repr__(self):\n",
        "        return f'{self.START}<<{self.reading}>>{self.LIMIT}'\n",
        "\n",
        "    @staticmethod\n",
        "    def is_ascending(n: int) -> bool:\n",
        "        return all(a < b for a, b in zip(str(n), str(n)[1:]))\n",
        "\n",
        "    def after(self, rotations=1):\n",
        "        for _ in range(rotations):\n",
        "            if self.reading == self.LIMIT:\n",
        "                self.reading = self.START\n",
        "            else:\n",
        "                self.reading += 1\n",
        "                while not Odometer.is_ascending(self.reading):\n",
        "                    self.reading += 1\n",
        "            return self.reading\n",
        "\n",
        "    def before(self, rotations=1):\n",
        "        for _ in range(rotations):\n",
        "            if self.reading == self.START:\n",
        "                self.reading = self.LIMIT\n",
        "            else:\n",
        "                self.reading -= 1\n",
        "                while not Odometer.is_ascending(self.reading):\n",
        "                    self.reading -= 1\n",
        "            return self.reading"
      ],
      "metadata": {
        "id": "ua0os8ASdtG0"
      },
      "execution_count": null,
      "outputs": []
    },
    {
      "cell_type": "markdown",
      "source": [],
      "metadata": {
        "id": "6S0Sn4e0dtXe"
      }
    },
    {
      "cell_type": "code",
      "source": [
        "o = Odometer(4)\n",
        "print(o) # -> 1234\n",
        "print(o.after()) # -> 1235\n",
        "print(o) # -> 1235\n",
        "print(o.before()) # -> 1234\n",
        "print(o.before()) # -> 6789\n",
        "print(o) # -> 6789"
      ],
      "metadata": {
        "colab": {
          "base_uri": "https://localhost:8080/"
        },
        "id": "yi0A5Y1G515r",
        "outputId": "718a8147-58b6-4b83-d3ae-785974a76fc9"
      },
      "execution_count": null,
      "outputs": [
        {
          "output_type": "stream",
          "name": "stdout",
          "text": [
            "1234\n",
            "1235\n",
            "1235\n",
            "1234\n",
            "6789\n",
            "6789\n"
          ]
        }
      ]
    },
    {
      "cell_type": "code",
      "source": [],
      "metadata": {
        "id": "-p8VbHY652PA"
      },
      "execution_count": null,
      "outputs": []
    }
  ]
}